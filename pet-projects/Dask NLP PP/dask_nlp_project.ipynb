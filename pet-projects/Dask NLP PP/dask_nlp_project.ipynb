{
  "cells": [
    {
      "cell_type": "markdown",
      "metadata": {
        "id": "BqGoUVXuD2ek"
      },
      "source": [
        "\n",
        "\n",
        "#   ПИ21-1В\n",
        "#   Сабиров А.А.\n",
        "\n"
      ]
    },
    {
      "cell_type": "markdown",
      "metadata": {
        "id": "V5lUXX34D8ZE"
      },
      "source": [
        "---\n",
        "# Импортируем необходимые библиотеки"
      ]
    },
    {
      "cell_type": "code",
      "source": [
        "%pip install pymorphy3"
      ],
      "metadata": {
        "colab": {
          "base_uri": "https://localhost:8080/"
        },
        "id": "ep3NdcRnbKlF",
        "outputId": "7cac5320-0aab-4e65-b586-38ea47abac2a"
      },
      "execution_count": null,
      "outputs": [
        {
          "output_type": "stream",
          "name": "stdout",
          "text": [
            "Requirement already satisfied: pymorphy3 in /usr/local/lib/python3.10/dist-packages (1.2.1)\n",
            "Requirement already satisfied: dawg-python>=0.7.1 in /usr/local/lib/python3.10/dist-packages (from pymorphy3) (0.7.2)\n",
            "Requirement already satisfied: docopt-ng>=0.6 in /usr/local/lib/python3.10/dist-packages (from pymorphy3) (0.9.0)\n",
            "Requirement already satisfied: pymorphy3-dicts-ru in /usr/local/lib/python3.10/dist-packages (from pymorphy3) (2.4.417150.4580142)\n"
          ]
        }
      ]
    },
    {
      "cell_type": "code",
      "source": [
        "%pip install rarfile"
      ],
      "metadata": {
        "colab": {
          "base_uri": "https://localhost:8080/"
        },
        "id": "rQDIVgz5Dno-",
        "outputId": "9f50da4c-7807-408f-ac22-24295ef112f2"
      },
      "execution_count": null,
      "outputs": [
        {
          "output_type": "stream",
          "name": "stdout",
          "text": [
            "Requirement already satisfied: rarfile in /usr/local/lib/python3.10/dist-packages (4.1)\n"
          ]
        }
      ]
    },
    {
      "cell_type": "code",
      "execution_count": null,
      "metadata": {
        "colab": {
          "base_uri": "https://localhost:8080/"
        },
        "id": "hfxo-IcUGzex",
        "outputId": "b2dacd3f-23d5-44e8-e1a9-9ef880e9de6c"
      },
      "outputs": [
        {
          "output_type": "stream",
          "name": "stderr",
          "text": [
            "[nltk_data] Downloading package wordnet to /root/nltk_data...\n",
            "[nltk_data]   Package wordnet is already up-to-date!\n",
            "[nltk_data] Downloading package stopwords to /root/nltk_data...\n",
            "[nltk_data]   Package stopwords is already up-to-date!\n",
            "[nltk_data] Downloading package punkt to /root/nltk_data...\n",
            "[nltk_data]   Package punkt is already up-to-date!\n"
          ]
        },
        {
          "output_type": "execute_result",
          "data": {
            "text/plain": [
              "True"
            ]
          },
          "metadata": {},
          "execution_count": 4
        }
      ],
      "source": [
        "import nltk\n",
        "nltk.download('wordnet')\n",
        "nltk.download('stopwords')\n",
        "nltk.download('punkt')"
      ]
    },
    {
      "cell_type": "code",
      "execution_count": null,
      "metadata": {
        "id": "-_fLAJmXHMIB"
      },
      "outputs": [],
      "source": [
        "import re\n",
        "\n",
        "import numpy as np\n",
        "import pandas as pd\n",
        "pd.set_option('display.max_colwidth', None)\n",
        "\n",
        "import matplotlib.pyplot as plt\n",
        "\n",
        "from collections import Counter, defaultdict\n",
        "from itertools import chain\n",
        "\n",
        "import multiprocessing\n",
        "from tqdm import tqdm\n",
        "from time import perf_counter\n",
        "\n",
        "from nltk.metrics.distance import edit_distance\n",
        "from nltk.stem import SnowballStemmer\n",
        "\n",
        "import pymorphy3\n",
        "\n",
        "\n",
        "from wordcloud import WordCloud\n",
        "\n",
        "import dask\n",
        "import dask.bag as db\n",
        "from dask.diagnostics import ProgressBar"
      ]
    },
    {
      "cell_type": "code",
      "execution_count": null,
      "metadata": {
        "colab": {
          "base_uri": "https://localhost:8080/",
          "height": 36
        },
        "id": "RFAc20Q7IXgA",
        "outputId": "31ce9a73-90ad-4857-a295-65b7bec9e22d"
      },
      "outputs": [
        {
          "output_type": "execute_result",
          "data": {
            "text/plain": [
              "'/content'"
            ],
            "application/vnd.google.colaboratory.intrinsic+json": {
              "type": "string"
            }
          },
          "metadata": {},
          "execution_count": 6
        }
      ],
      "source": [
        "import os\n",
        "import glob\n",
        "\n",
        "import subprocess\n",
        "\n",
        "import zipfile\n",
        "from rarfile import RarFile\n",
        "\n",
        "\n",
        "os.getcwd()"
      ]
    },
    {
      "cell_type": "markdown",
      "metadata": {
        "id": "CeY6Dl3aZQ1c"
      },
      "source": [
        "\n",
        "\n",
        "---\n",
        "## Смотрим csv-файл с книгами\n",
        "\n"
      ]
    },
    {
      "cell_type": "code",
      "execution_count": null,
      "metadata": {
        "colab": {
          "base_uri": "https://localhost:8080/",
          "height": 143
        },
        "id": "vnd8vWOd0RDv",
        "outputId": "b9da95f9-c172-4274-db12-c3b9c97d9a8d"
      },
      "outputs": [
        {
          "output_type": "execute_result",
          "data": {
            "text/plain": [
              "     Источник                                               Название  Жанр  \\\n",
              "0  Anekdot.ru                 Лучшие афоризмы и стишки 1997-1999 гг.  юмор   \n",
              "1  Anekdot.ru  Салон 1-67: Сборник любительских околоюморных текстов  юмор   \n",
              "2  Anekdot.ru                       Самые популярные истории XX века  юмор   \n",
              "\n",
              "   Артикль       Тег  1  0  \n",
              "0   464500   aforizm  1  0  \n",
              "1   569165     salon  1  0  \n",
              "2  2643776  story979  1  0  "
            ],
            "text/html": [
              "\n",
              "  <div id=\"df-b617ffc8-b25a-4eab-af82-17382d8f5c82\" class=\"colab-df-container\">\n",
              "    <div>\n",
              "<style scoped>\n",
              "    .dataframe tbody tr th:only-of-type {\n",
              "        vertical-align: middle;\n",
              "    }\n",
              "\n",
              "    .dataframe tbody tr th {\n",
              "        vertical-align: top;\n",
              "    }\n",
              "\n",
              "    .dataframe thead th {\n",
              "        text-align: right;\n",
              "    }\n",
              "</style>\n",
              "<table border=\"1\" class=\"dataframe\">\n",
              "  <thead>\n",
              "    <tr style=\"text-align: right;\">\n",
              "      <th></th>\n",
              "      <th>Источник</th>\n",
              "      <th>Название</th>\n",
              "      <th>Жанр</th>\n",
              "      <th>Артикль</th>\n",
              "      <th>Тег</th>\n",
              "      <th>1</th>\n",
              "      <th>0</th>\n",
              "    </tr>\n",
              "  </thead>\n",
              "  <tbody>\n",
              "    <tr>\n",
              "      <th>0</th>\n",
              "      <td>Anekdot.ru</td>\n",
              "      <td>Лучшие афоризмы и стишки 1997-1999 гг.</td>\n",
              "      <td>юмор</td>\n",
              "      <td>464500</td>\n",
              "      <td>aforizm</td>\n",
              "      <td>1</td>\n",
              "      <td>0</td>\n",
              "    </tr>\n",
              "    <tr>\n",
              "      <th>1</th>\n",
              "      <td>Anekdot.ru</td>\n",
              "      <td>Салон 1-67: Сборник любительских околоюморных текстов</td>\n",
              "      <td>юмор</td>\n",
              "      <td>569165</td>\n",
              "      <td>salon</td>\n",
              "      <td>1</td>\n",
              "      <td>0</td>\n",
              "    </tr>\n",
              "    <tr>\n",
              "      <th>2</th>\n",
              "      <td>Anekdot.ru</td>\n",
              "      <td>Самые популярные истории XX века</td>\n",
              "      <td>юмор</td>\n",
              "      <td>2643776</td>\n",
              "      <td>story979</td>\n",
              "      <td>1</td>\n",
              "      <td>0</td>\n",
              "    </tr>\n",
              "  </tbody>\n",
              "</table>\n",
              "</div>\n",
              "    <div class=\"colab-df-buttons\">\n",
              "\n",
              "  <div class=\"colab-df-container\">\n",
              "    <button class=\"colab-df-convert\" onclick=\"convertToInteractive('df-b617ffc8-b25a-4eab-af82-17382d8f5c82')\"\n",
              "            title=\"Convert this dataframe to an interactive table.\"\n",
              "            style=\"display:none;\">\n",
              "\n",
              "  <svg xmlns=\"http://www.w3.org/2000/svg\" height=\"24px\" viewBox=\"0 -960 960 960\">\n",
              "    <path d=\"M120-120v-720h720v720H120Zm60-500h600v-160H180v160Zm220 220h160v-160H400v160Zm0 220h160v-160H400v160ZM180-400h160v-160H180v160Zm440 0h160v-160H620v160ZM180-180h160v-160H180v160Zm440 0h160v-160H620v160Z\"/>\n",
              "  </svg>\n",
              "    </button>\n",
              "\n",
              "  <style>\n",
              "    .colab-df-container {\n",
              "      display:flex;\n",
              "      gap: 12px;\n",
              "    }\n",
              "\n",
              "    .colab-df-convert {\n",
              "      background-color: #E8F0FE;\n",
              "      border: none;\n",
              "      border-radius: 50%;\n",
              "      cursor: pointer;\n",
              "      display: none;\n",
              "      fill: #1967D2;\n",
              "      height: 32px;\n",
              "      padding: 0 0 0 0;\n",
              "      width: 32px;\n",
              "    }\n",
              "\n",
              "    .colab-df-convert:hover {\n",
              "      background-color: #E2EBFA;\n",
              "      box-shadow: 0px 1px 2px rgba(60, 64, 67, 0.3), 0px 1px 3px 1px rgba(60, 64, 67, 0.15);\n",
              "      fill: #174EA6;\n",
              "    }\n",
              "\n",
              "    .colab-df-buttons div {\n",
              "      margin-bottom: 4px;\n",
              "    }\n",
              "\n",
              "    [theme=dark] .colab-df-convert {\n",
              "      background-color: #3B4455;\n",
              "      fill: #D2E3FC;\n",
              "    }\n",
              "\n",
              "    [theme=dark] .colab-df-convert:hover {\n",
              "      background-color: #434B5C;\n",
              "      box-shadow: 0px 1px 3px 1px rgba(0, 0, 0, 0.15);\n",
              "      filter: drop-shadow(0px 1px 2px rgba(0, 0, 0, 0.3));\n",
              "      fill: #FFFFFF;\n",
              "    }\n",
              "  </style>\n",
              "\n",
              "    <script>\n",
              "      const buttonEl =\n",
              "        document.querySelector('#df-b617ffc8-b25a-4eab-af82-17382d8f5c82 button.colab-df-convert');\n",
              "      buttonEl.style.display =\n",
              "        google.colab.kernel.accessAllowed ? 'block' : 'none';\n",
              "\n",
              "      async function convertToInteractive(key) {\n",
              "        const element = document.querySelector('#df-b617ffc8-b25a-4eab-af82-17382d8f5c82');\n",
              "        const dataTable =\n",
              "          await google.colab.kernel.invokeFunction('convertToInteractive',\n",
              "                                                    [key], {});\n",
              "        if (!dataTable) return;\n",
              "\n",
              "        const docLinkHtml = 'Like what you see? Visit the ' +\n",
              "          '<a target=\"_blank\" href=https://colab.research.google.com/notebooks/data_table.ipynb>data table notebook</a>'\n",
              "          + ' to learn more about interactive tables.';\n",
              "        element.innerHTML = '';\n",
              "        dataTable['output_type'] = 'display_data';\n",
              "        await google.colab.output.renderOutput(dataTable, element);\n",
              "        const docLink = document.createElement('div');\n",
              "        docLink.innerHTML = docLinkHtml;\n",
              "        element.appendChild(docLink);\n",
              "      }\n",
              "    </script>\n",
              "  </div>\n",
              "\n",
              "\n",
              "<div id=\"df-2e61f920-e8b0-4f4e-a30b-1363559599e7\">\n",
              "  <button class=\"colab-df-quickchart\" onclick=\"quickchart('df-2e61f920-e8b0-4f4e-a30b-1363559599e7')\"\n",
              "            title=\"Suggest charts\"\n",
              "            style=\"display:none;\">\n",
              "\n",
              "<svg xmlns=\"http://www.w3.org/2000/svg\" height=\"24px\"viewBox=\"0 0 24 24\"\n",
              "     width=\"24px\">\n",
              "    <g>\n",
              "        <path d=\"M19 3H5c-1.1 0-2 .9-2 2v14c0 1.1.9 2 2 2h14c1.1 0 2-.9 2-2V5c0-1.1-.9-2-2-2zM9 17H7v-7h2v7zm4 0h-2V7h2v10zm4 0h-2v-4h2v4z\"/>\n",
              "    </g>\n",
              "</svg>\n",
              "  </button>\n",
              "\n",
              "<style>\n",
              "  .colab-df-quickchart {\n",
              "      --bg-color: #E8F0FE;\n",
              "      --fill-color: #1967D2;\n",
              "      --hover-bg-color: #E2EBFA;\n",
              "      --hover-fill-color: #174EA6;\n",
              "      --disabled-fill-color: #AAA;\n",
              "      --disabled-bg-color: #DDD;\n",
              "  }\n",
              "\n",
              "  [theme=dark] .colab-df-quickchart {\n",
              "      --bg-color: #3B4455;\n",
              "      --fill-color: #D2E3FC;\n",
              "      --hover-bg-color: #434B5C;\n",
              "      --hover-fill-color: #FFFFFF;\n",
              "      --disabled-bg-color: #3B4455;\n",
              "      --disabled-fill-color: #666;\n",
              "  }\n",
              "\n",
              "  .colab-df-quickchart {\n",
              "    background-color: var(--bg-color);\n",
              "    border: none;\n",
              "    border-radius: 50%;\n",
              "    cursor: pointer;\n",
              "    display: none;\n",
              "    fill: var(--fill-color);\n",
              "    height: 32px;\n",
              "    padding: 0;\n",
              "    width: 32px;\n",
              "  }\n",
              "\n",
              "  .colab-df-quickchart:hover {\n",
              "    background-color: var(--hover-bg-color);\n",
              "    box-shadow: 0 1px 2px rgba(60, 64, 67, 0.3), 0 1px 3px 1px rgba(60, 64, 67, 0.15);\n",
              "    fill: var(--button-hover-fill-color);\n",
              "  }\n",
              "\n",
              "  .colab-df-quickchart-complete:disabled,\n",
              "  .colab-df-quickchart-complete:disabled:hover {\n",
              "    background-color: var(--disabled-bg-color);\n",
              "    fill: var(--disabled-fill-color);\n",
              "    box-shadow: none;\n",
              "  }\n",
              "\n",
              "  .colab-df-spinner {\n",
              "    border: 2px solid var(--fill-color);\n",
              "    border-color: transparent;\n",
              "    border-bottom-color: var(--fill-color);\n",
              "    animation:\n",
              "      spin 1s steps(1) infinite;\n",
              "  }\n",
              "\n",
              "  @keyframes spin {\n",
              "    0% {\n",
              "      border-color: transparent;\n",
              "      border-bottom-color: var(--fill-color);\n",
              "      border-left-color: var(--fill-color);\n",
              "    }\n",
              "    20% {\n",
              "      border-color: transparent;\n",
              "      border-left-color: var(--fill-color);\n",
              "      border-top-color: var(--fill-color);\n",
              "    }\n",
              "    30% {\n",
              "      border-color: transparent;\n",
              "      border-left-color: var(--fill-color);\n",
              "      border-top-color: var(--fill-color);\n",
              "      border-right-color: var(--fill-color);\n",
              "    }\n",
              "    40% {\n",
              "      border-color: transparent;\n",
              "      border-right-color: var(--fill-color);\n",
              "      border-top-color: var(--fill-color);\n",
              "    }\n",
              "    60% {\n",
              "      border-color: transparent;\n",
              "      border-right-color: var(--fill-color);\n",
              "    }\n",
              "    80% {\n",
              "      border-color: transparent;\n",
              "      border-right-color: var(--fill-color);\n",
              "      border-bottom-color: var(--fill-color);\n",
              "    }\n",
              "    90% {\n",
              "      border-color: transparent;\n",
              "      border-bottom-color: var(--fill-color);\n",
              "    }\n",
              "  }\n",
              "</style>\n",
              "\n",
              "  <script>\n",
              "    async function quickchart(key) {\n",
              "      const quickchartButtonEl =\n",
              "        document.querySelector('#' + key + ' button');\n",
              "      quickchartButtonEl.disabled = true;  // To prevent multiple clicks.\n",
              "      quickchartButtonEl.classList.add('colab-df-spinner');\n",
              "      try {\n",
              "        const charts = await google.colab.kernel.invokeFunction(\n",
              "            'suggestCharts', [key], {});\n",
              "      } catch (error) {\n",
              "        console.error('Error during call to suggestCharts:', error);\n",
              "      }\n",
              "      quickchartButtonEl.classList.remove('colab-df-spinner');\n",
              "      quickchartButtonEl.classList.add('colab-df-quickchart-complete');\n",
              "    }\n",
              "    (() => {\n",
              "      let quickchartButtonEl =\n",
              "        document.querySelector('#df-2e61f920-e8b0-4f4e-a30b-1363559599e7 button');\n",
              "      quickchartButtonEl.style.display =\n",
              "        google.colab.kernel.accessAllowed ? 'block' : 'none';\n",
              "    })();\n",
              "  </script>\n",
              "</div>\n",
              "    </div>\n",
              "  </div>\n"
            ]
          },
          "metadata": {},
          "execution_count": 7
        }
      ],
      "source": [
        "books = pd.read_csv(\"https://raw.githubusercontent.com/ibbvs/jasa/main/TOBD-labs/data%20sources/libr.csv\", encoding=\"utf-8\", sep=\";\", on_bad_lines=\"skip\", names=[\"Источник\", \"Название\", \"Жанр\", \"Артикль\", \"Тег\", 1, 0])\n",
        "books[\"Тег\"] = books[\"Тег\"].apply(lambda x: x.lower())\n",
        "\n",
        "books.head(3)"
      ]
    },
    {
      "cell_type": "code",
      "execution_count": null,
      "metadata": {
        "colab": {
          "base_uri": "https://localhost:8080/",
          "height": 423
        },
        "id": "c-Ffsdwr3ft_",
        "outputId": "04fce8a7-8086-4ca8-80a2-93419b4eed9d"
      },
      "outputs": [
        {
          "output_type": "execute_result",
          "data": {
            "text/plain": [
              "                Источник  \\\n",
              "5           DLIFL Center   \n",
              "74          Акунин Борис   \n",
              "76          Акунин Борис   \n",
              "77    Аладырев Святослав   \n",
              "101      Алешкин Тимофей   \n",
              "...                  ...   \n",
              "3796                 NaN   \n",
              "3797                 NaN   \n",
              "3851                 NaN   \n",
              "3887                 NaN   \n",
              "3903                 NaN   \n",
              "\n",
              "                                                   Название     Жанр  Артикль  \\\n",
              "5         Краткая история России и СС (американский взгляд)  история   172601   \n",
              "74                                  Пелагея и белый бульдог  история   498131   \n",
              "76                                          Турецкий гамбит  история   359994   \n",
              "77                                                    Извек  история   808067   \n",
              "101                                                Рассказы  история   106591   \n",
              "...                                                     ...      ...      ...   \n",
              "3796             Мифы индейцев Южной Америки (для взрослых)  история   481162   \n",
              "3797                                                 Мрамор  история   120638   \n",
              "3851  Рапорты русских военачальников о Бородинском сражении  история   179239   \n",
              "3887                                  Слово о полку Игореве  история    56639   \n",
              "3903  Стенограмма протокола слушаний в сенате США (1919 г.)  история   256404   \n",
              "\n",
              "           Тег  1  0  \n",
              "5     rhistory  1  0  \n",
              "74     pelagya  1  0  \n",
              "76      gambit  1  0  \n",
              "77       izvek  1  0  \n",
              "101   aleshkin  1  0  \n",
              "...        ... .. ..  \n",
              "3796    indian  1  0  \n",
              "3797  br_marmr  1  0  \n",
              "3851    raport  1  0  \n",
              "3887      igor  1  0  \n",
              "3903   overman  1  0  \n",
              "\n",
              "[292 rows x 7 columns]"
            ],
            "text/html": [
              "\n",
              "  <div id=\"df-844b147e-5691-442a-be17-00c6d4b527f4\" class=\"colab-df-container\">\n",
              "    <div>\n",
              "<style scoped>\n",
              "    .dataframe tbody tr th:only-of-type {\n",
              "        vertical-align: middle;\n",
              "    }\n",
              "\n",
              "    .dataframe tbody tr th {\n",
              "        vertical-align: top;\n",
              "    }\n",
              "\n",
              "    .dataframe thead th {\n",
              "        text-align: right;\n",
              "    }\n",
              "</style>\n",
              "<table border=\"1\" class=\"dataframe\">\n",
              "  <thead>\n",
              "    <tr style=\"text-align: right;\">\n",
              "      <th></th>\n",
              "      <th>Источник</th>\n",
              "      <th>Название</th>\n",
              "      <th>Жанр</th>\n",
              "      <th>Артикль</th>\n",
              "      <th>Тег</th>\n",
              "      <th>1</th>\n",
              "      <th>0</th>\n",
              "    </tr>\n",
              "  </thead>\n",
              "  <tbody>\n",
              "    <tr>\n",
              "      <th>5</th>\n",
              "      <td>DLIFL Center</td>\n",
              "      <td>Краткая история России и СС (американский взгляд)</td>\n",
              "      <td>история</td>\n",
              "      <td>172601</td>\n",
              "      <td>rhistory</td>\n",
              "      <td>1</td>\n",
              "      <td>0</td>\n",
              "    </tr>\n",
              "    <tr>\n",
              "      <th>74</th>\n",
              "      <td>Акунин Борис</td>\n",
              "      <td>Пелагея и белый бульдог</td>\n",
              "      <td>история</td>\n",
              "      <td>498131</td>\n",
              "      <td>pelagya</td>\n",
              "      <td>1</td>\n",
              "      <td>0</td>\n",
              "    </tr>\n",
              "    <tr>\n",
              "      <th>76</th>\n",
              "      <td>Акунин Борис</td>\n",
              "      <td>Турецкий гамбит</td>\n",
              "      <td>история</td>\n",
              "      <td>359994</td>\n",
              "      <td>gambit</td>\n",
              "      <td>1</td>\n",
              "      <td>0</td>\n",
              "    </tr>\n",
              "    <tr>\n",
              "      <th>77</th>\n",
              "      <td>Аладырев Святослав</td>\n",
              "      <td>Извек</td>\n",
              "      <td>история</td>\n",
              "      <td>808067</td>\n",
              "      <td>izvek</td>\n",
              "      <td>1</td>\n",
              "      <td>0</td>\n",
              "    </tr>\n",
              "    <tr>\n",
              "      <th>101</th>\n",
              "      <td>Алешкин Тимофей</td>\n",
              "      <td>Рассказы</td>\n",
              "      <td>история</td>\n",
              "      <td>106591</td>\n",
              "      <td>aleshkin</td>\n",
              "      <td>1</td>\n",
              "      <td>0</td>\n",
              "    </tr>\n",
              "    <tr>\n",
              "      <th>...</th>\n",
              "      <td>...</td>\n",
              "      <td>...</td>\n",
              "      <td>...</td>\n",
              "      <td>...</td>\n",
              "      <td>...</td>\n",
              "      <td>...</td>\n",
              "      <td>...</td>\n",
              "    </tr>\n",
              "    <tr>\n",
              "      <th>3796</th>\n",
              "      <td>NaN</td>\n",
              "      <td>Мифы индейцев Южной Америки (для взрослых)</td>\n",
              "      <td>история</td>\n",
              "      <td>481162</td>\n",
              "      <td>indian</td>\n",
              "      <td>1</td>\n",
              "      <td>0</td>\n",
              "    </tr>\n",
              "    <tr>\n",
              "      <th>3797</th>\n",
              "      <td>NaN</td>\n",
              "      <td>Мрамор</td>\n",
              "      <td>история</td>\n",
              "      <td>120638</td>\n",
              "      <td>br_marmr</td>\n",
              "      <td>1</td>\n",
              "      <td>0</td>\n",
              "    </tr>\n",
              "    <tr>\n",
              "      <th>3851</th>\n",
              "      <td>NaN</td>\n",
              "      <td>Рапорты русских военачальников о Бородинском сражении</td>\n",
              "      <td>история</td>\n",
              "      <td>179239</td>\n",
              "      <td>raport</td>\n",
              "      <td>1</td>\n",
              "      <td>0</td>\n",
              "    </tr>\n",
              "    <tr>\n",
              "      <th>3887</th>\n",
              "      <td>NaN</td>\n",
              "      <td>Слово о полку Игореве</td>\n",
              "      <td>история</td>\n",
              "      <td>56639</td>\n",
              "      <td>igor</td>\n",
              "      <td>1</td>\n",
              "      <td>0</td>\n",
              "    </tr>\n",
              "    <tr>\n",
              "      <th>3903</th>\n",
              "      <td>NaN</td>\n",
              "      <td>Стенограмма протокола слушаний в сенате США (1919 г.)</td>\n",
              "      <td>история</td>\n",
              "      <td>256404</td>\n",
              "      <td>overman</td>\n",
              "      <td>1</td>\n",
              "      <td>0</td>\n",
              "    </tr>\n",
              "  </tbody>\n",
              "</table>\n",
              "<p>292 rows × 7 columns</p>\n",
              "</div>\n",
              "    <div class=\"colab-df-buttons\">\n",
              "\n",
              "  <div class=\"colab-df-container\">\n",
              "    <button class=\"colab-df-convert\" onclick=\"convertToInteractive('df-844b147e-5691-442a-be17-00c6d4b527f4')\"\n",
              "            title=\"Convert this dataframe to an interactive table.\"\n",
              "            style=\"display:none;\">\n",
              "\n",
              "  <svg xmlns=\"http://www.w3.org/2000/svg\" height=\"24px\" viewBox=\"0 -960 960 960\">\n",
              "    <path d=\"M120-120v-720h720v720H120Zm60-500h600v-160H180v160Zm220 220h160v-160H400v160Zm0 220h160v-160H400v160ZM180-400h160v-160H180v160Zm440 0h160v-160H620v160ZM180-180h160v-160H180v160Zm440 0h160v-160H620v160Z\"/>\n",
              "  </svg>\n",
              "    </button>\n",
              "\n",
              "  <style>\n",
              "    .colab-df-container {\n",
              "      display:flex;\n",
              "      gap: 12px;\n",
              "    }\n",
              "\n",
              "    .colab-df-convert {\n",
              "      background-color: #E8F0FE;\n",
              "      border: none;\n",
              "      border-radius: 50%;\n",
              "      cursor: pointer;\n",
              "      display: none;\n",
              "      fill: #1967D2;\n",
              "      height: 32px;\n",
              "      padding: 0 0 0 0;\n",
              "      width: 32px;\n",
              "    }\n",
              "\n",
              "    .colab-df-convert:hover {\n",
              "      background-color: #E2EBFA;\n",
              "      box-shadow: 0px 1px 2px rgba(60, 64, 67, 0.3), 0px 1px 3px 1px rgba(60, 64, 67, 0.15);\n",
              "      fill: #174EA6;\n",
              "    }\n",
              "\n",
              "    .colab-df-buttons div {\n",
              "      margin-bottom: 4px;\n",
              "    }\n",
              "\n",
              "    [theme=dark] .colab-df-convert {\n",
              "      background-color: #3B4455;\n",
              "      fill: #D2E3FC;\n",
              "    }\n",
              "\n",
              "    [theme=dark] .colab-df-convert:hover {\n",
              "      background-color: #434B5C;\n",
              "      box-shadow: 0px 1px 3px 1px rgba(0, 0, 0, 0.15);\n",
              "      filter: drop-shadow(0px 1px 2px rgba(0, 0, 0, 0.3));\n",
              "      fill: #FFFFFF;\n",
              "    }\n",
              "  </style>\n",
              "\n",
              "    <script>\n",
              "      const buttonEl =\n",
              "        document.querySelector('#df-844b147e-5691-442a-be17-00c6d4b527f4 button.colab-df-convert');\n",
              "      buttonEl.style.display =\n",
              "        google.colab.kernel.accessAllowed ? 'block' : 'none';\n",
              "\n",
              "      async function convertToInteractive(key) {\n",
              "        const element = document.querySelector('#df-844b147e-5691-442a-be17-00c6d4b527f4');\n",
              "        const dataTable =\n",
              "          await google.colab.kernel.invokeFunction('convertToInteractive',\n",
              "                                                    [key], {});\n",
              "        if (!dataTable) return;\n",
              "\n",
              "        const docLinkHtml = 'Like what you see? Visit the ' +\n",
              "          '<a target=\"_blank\" href=https://colab.research.google.com/notebooks/data_table.ipynb>data table notebook</a>'\n",
              "          + ' to learn more about interactive tables.';\n",
              "        element.innerHTML = '';\n",
              "        dataTable['output_type'] = 'display_data';\n",
              "        await google.colab.output.renderOutput(dataTable, element);\n",
              "        const docLink = document.createElement('div');\n",
              "        docLink.innerHTML = docLinkHtml;\n",
              "        element.appendChild(docLink);\n",
              "      }\n",
              "    </script>\n",
              "  </div>\n",
              "\n",
              "\n",
              "<div id=\"df-a13af6de-2411-49f7-8b1c-1681d8287f0e\">\n",
              "  <button class=\"colab-df-quickchart\" onclick=\"quickchart('df-a13af6de-2411-49f7-8b1c-1681d8287f0e')\"\n",
              "            title=\"Suggest charts\"\n",
              "            style=\"display:none;\">\n",
              "\n",
              "<svg xmlns=\"http://www.w3.org/2000/svg\" height=\"24px\"viewBox=\"0 0 24 24\"\n",
              "     width=\"24px\">\n",
              "    <g>\n",
              "        <path d=\"M19 3H5c-1.1 0-2 .9-2 2v14c0 1.1.9 2 2 2h14c1.1 0 2-.9 2-2V5c0-1.1-.9-2-2-2zM9 17H7v-7h2v7zm4 0h-2V7h2v10zm4 0h-2v-4h2v4z\"/>\n",
              "    </g>\n",
              "</svg>\n",
              "  </button>\n",
              "\n",
              "<style>\n",
              "  .colab-df-quickchart {\n",
              "      --bg-color: #E8F0FE;\n",
              "      --fill-color: #1967D2;\n",
              "      --hover-bg-color: #E2EBFA;\n",
              "      --hover-fill-color: #174EA6;\n",
              "      --disabled-fill-color: #AAA;\n",
              "      --disabled-bg-color: #DDD;\n",
              "  }\n",
              "\n",
              "  [theme=dark] .colab-df-quickchart {\n",
              "      --bg-color: #3B4455;\n",
              "      --fill-color: #D2E3FC;\n",
              "      --hover-bg-color: #434B5C;\n",
              "      --hover-fill-color: #FFFFFF;\n",
              "      --disabled-bg-color: #3B4455;\n",
              "      --disabled-fill-color: #666;\n",
              "  }\n",
              "\n",
              "  .colab-df-quickchart {\n",
              "    background-color: var(--bg-color);\n",
              "    border: none;\n",
              "    border-radius: 50%;\n",
              "    cursor: pointer;\n",
              "    display: none;\n",
              "    fill: var(--fill-color);\n",
              "    height: 32px;\n",
              "    padding: 0;\n",
              "    width: 32px;\n",
              "  }\n",
              "\n",
              "  .colab-df-quickchart:hover {\n",
              "    background-color: var(--hover-bg-color);\n",
              "    box-shadow: 0 1px 2px rgba(60, 64, 67, 0.3), 0 1px 3px 1px rgba(60, 64, 67, 0.15);\n",
              "    fill: var(--button-hover-fill-color);\n",
              "  }\n",
              "\n",
              "  .colab-df-quickchart-complete:disabled,\n",
              "  .colab-df-quickchart-complete:disabled:hover {\n",
              "    background-color: var(--disabled-bg-color);\n",
              "    fill: var(--disabled-fill-color);\n",
              "    box-shadow: none;\n",
              "  }\n",
              "\n",
              "  .colab-df-spinner {\n",
              "    border: 2px solid var(--fill-color);\n",
              "    border-color: transparent;\n",
              "    border-bottom-color: var(--fill-color);\n",
              "    animation:\n",
              "      spin 1s steps(1) infinite;\n",
              "  }\n",
              "\n",
              "  @keyframes spin {\n",
              "    0% {\n",
              "      border-color: transparent;\n",
              "      border-bottom-color: var(--fill-color);\n",
              "      border-left-color: var(--fill-color);\n",
              "    }\n",
              "    20% {\n",
              "      border-color: transparent;\n",
              "      border-left-color: var(--fill-color);\n",
              "      border-top-color: var(--fill-color);\n",
              "    }\n",
              "    30% {\n",
              "      border-color: transparent;\n",
              "      border-left-color: var(--fill-color);\n",
              "      border-top-color: var(--fill-color);\n",
              "      border-right-color: var(--fill-color);\n",
              "    }\n",
              "    40% {\n",
              "      border-color: transparent;\n",
              "      border-right-color: var(--fill-color);\n",
              "      border-top-color: var(--fill-color);\n",
              "    }\n",
              "    60% {\n",
              "      border-color: transparent;\n",
              "      border-right-color: var(--fill-color);\n",
              "    }\n",
              "    80% {\n",
              "      border-color: transparent;\n",
              "      border-right-color: var(--fill-color);\n",
              "      border-bottom-color: var(--fill-color);\n",
              "    }\n",
              "    90% {\n",
              "      border-color: transparent;\n",
              "      border-bottom-color: var(--fill-color);\n",
              "    }\n",
              "  }\n",
              "</style>\n",
              "\n",
              "  <script>\n",
              "    async function quickchart(key) {\n",
              "      const quickchartButtonEl =\n",
              "        document.querySelector('#' + key + ' button');\n",
              "      quickchartButtonEl.disabled = true;  // To prevent multiple clicks.\n",
              "      quickchartButtonEl.classList.add('colab-df-spinner');\n",
              "      try {\n",
              "        const charts = await google.colab.kernel.invokeFunction(\n",
              "            'suggestCharts', [key], {});\n",
              "      } catch (error) {\n",
              "        console.error('Error during call to suggestCharts:', error);\n",
              "      }\n",
              "      quickchartButtonEl.classList.remove('colab-df-spinner');\n",
              "      quickchartButtonEl.classList.add('colab-df-quickchart-complete');\n",
              "    }\n",
              "    (() => {\n",
              "      let quickchartButtonEl =\n",
              "        document.querySelector('#df-a13af6de-2411-49f7-8b1c-1681d8287f0e button');\n",
              "      quickchartButtonEl.style.display =\n",
              "        google.colab.kernel.accessAllowed ? 'block' : 'none';\n",
              "    })();\n",
              "  </script>\n",
              "</div>\n",
              "    </div>\n",
              "  </div>\n"
            ]
          },
          "metadata": {},
          "execution_count": 8
        }
      ],
      "source": [
        "books[books[\"Жанр\"] == \"история\"]"
      ]
    },
    {
      "cell_type": "code",
      "execution_count": null,
      "metadata": {
        "colab": {
          "base_uri": "https://localhost:8080/",
          "height": 331
        },
        "id": "X1j8z9cx3tUY",
        "outputId": "cb4a9379-b921-4a0f-dd03-7f54043596ab"
      },
      "outputs": [
        {
          "output_type": "execute_result",
          "data": {
            "text/plain": [
              "          Источник                 Название      Жанр  Артикль       Тег  1  0\n",
              "71    Акунин Борис                  Азазель     драма   398832    azazel  1  0\n",
              "72    Акунин Борис            Алтын-Толобас     драма   663917   akunin1  1  0\n",
              "73    Акунин Борис                Декоратор     драма   313515   dekorat  1  1\n",
              "74    Акунин Борис  Пелагея и белый бульдог   история   498131   pelagya  1  0\n",
              "75    Акунин Борис  Пелагия и белый бульдог     драма   495044  pelagiya  1  0\n",
              "76    Акунин Борис          Турецкий гамбит   история   359994    gambit  1  0\n",
              "4007  Акунин Борис                 Лефиафан  детектив   395527  leviafan  1  0\n",
              "4008  Акунин Борис         Любовница смерти  детектив   446932       lub  1  1\n",
              "4009  Акунин Борис            Пиковый валет  детектив   252148     valet  1  1"
            ],
            "text/html": [
              "\n",
              "  <div id=\"df-9fb74497-3198-4c5b-be7c-7d87b4f53d75\" class=\"colab-df-container\">\n",
              "    <div>\n",
              "<style scoped>\n",
              "    .dataframe tbody tr th:only-of-type {\n",
              "        vertical-align: middle;\n",
              "    }\n",
              "\n",
              "    .dataframe tbody tr th {\n",
              "        vertical-align: top;\n",
              "    }\n",
              "\n",
              "    .dataframe thead th {\n",
              "        text-align: right;\n",
              "    }\n",
              "</style>\n",
              "<table border=\"1\" class=\"dataframe\">\n",
              "  <thead>\n",
              "    <tr style=\"text-align: right;\">\n",
              "      <th></th>\n",
              "      <th>Источник</th>\n",
              "      <th>Название</th>\n",
              "      <th>Жанр</th>\n",
              "      <th>Артикль</th>\n",
              "      <th>Тег</th>\n",
              "      <th>1</th>\n",
              "      <th>0</th>\n",
              "    </tr>\n",
              "  </thead>\n",
              "  <tbody>\n",
              "    <tr>\n",
              "      <th>71</th>\n",
              "      <td>Акунин Борис</td>\n",
              "      <td>Азазель</td>\n",
              "      <td>драма</td>\n",
              "      <td>398832</td>\n",
              "      <td>azazel</td>\n",
              "      <td>1</td>\n",
              "      <td>0</td>\n",
              "    </tr>\n",
              "    <tr>\n",
              "      <th>72</th>\n",
              "      <td>Акунин Борис</td>\n",
              "      <td>Алтын-Толобас</td>\n",
              "      <td>драма</td>\n",
              "      <td>663917</td>\n",
              "      <td>akunin1</td>\n",
              "      <td>1</td>\n",
              "      <td>0</td>\n",
              "    </tr>\n",
              "    <tr>\n",
              "      <th>73</th>\n",
              "      <td>Акунин Борис</td>\n",
              "      <td>Декоратор</td>\n",
              "      <td>драма</td>\n",
              "      <td>313515</td>\n",
              "      <td>dekorat</td>\n",
              "      <td>1</td>\n",
              "      <td>1</td>\n",
              "    </tr>\n",
              "    <tr>\n",
              "      <th>74</th>\n",
              "      <td>Акунин Борис</td>\n",
              "      <td>Пелагея и белый бульдог</td>\n",
              "      <td>история</td>\n",
              "      <td>498131</td>\n",
              "      <td>pelagya</td>\n",
              "      <td>1</td>\n",
              "      <td>0</td>\n",
              "    </tr>\n",
              "    <tr>\n",
              "      <th>75</th>\n",
              "      <td>Акунин Борис</td>\n",
              "      <td>Пелагия и белый бульдог</td>\n",
              "      <td>драма</td>\n",
              "      <td>495044</td>\n",
              "      <td>pelagiya</td>\n",
              "      <td>1</td>\n",
              "      <td>0</td>\n",
              "    </tr>\n",
              "    <tr>\n",
              "      <th>76</th>\n",
              "      <td>Акунин Борис</td>\n",
              "      <td>Турецкий гамбит</td>\n",
              "      <td>история</td>\n",
              "      <td>359994</td>\n",
              "      <td>gambit</td>\n",
              "      <td>1</td>\n",
              "      <td>0</td>\n",
              "    </tr>\n",
              "    <tr>\n",
              "      <th>4007</th>\n",
              "      <td>Акунин Борис</td>\n",
              "      <td>Лефиафан</td>\n",
              "      <td>детектив</td>\n",
              "      <td>395527</td>\n",
              "      <td>leviafan</td>\n",
              "      <td>1</td>\n",
              "      <td>0</td>\n",
              "    </tr>\n",
              "    <tr>\n",
              "      <th>4008</th>\n",
              "      <td>Акунин Борис</td>\n",
              "      <td>Любовница смерти</td>\n",
              "      <td>детектив</td>\n",
              "      <td>446932</td>\n",
              "      <td>lub</td>\n",
              "      <td>1</td>\n",
              "      <td>1</td>\n",
              "    </tr>\n",
              "    <tr>\n",
              "      <th>4009</th>\n",
              "      <td>Акунин Борис</td>\n",
              "      <td>Пиковый валет</td>\n",
              "      <td>детектив</td>\n",
              "      <td>252148</td>\n",
              "      <td>valet</td>\n",
              "      <td>1</td>\n",
              "      <td>1</td>\n",
              "    </tr>\n",
              "  </tbody>\n",
              "</table>\n",
              "</div>\n",
              "    <div class=\"colab-df-buttons\">\n",
              "\n",
              "  <div class=\"colab-df-container\">\n",
              "    <button class=\"colab-df-convert\" onclick=\"convertToInteractive('df-9fb74497-3198-4c5b-be7c-7d87b4f53d75')\"\n",
              "            title=\"Convert this dataframe to an interactive table.\"\n",
              "            style=\"display:none;\">\n",
              "\n",
              "  <svg xmlns=\"http://www.w3.org/2000/svg\" height=\"24px\" viewBox=\"0 -960 960 960\">\n",
              "    <path d=\"M120-120v-720h720v720H120Zm60-500h600v-160H180v160Zm220 220h160v-160H400v160Zm0 220h160v-160H400v160ZM180-400h160v-160H180v160Zm440 0h160v-160H620v160ZM180-180h160v-160H180v160Zm440 0h160v-160H620v160Z\"/>\n",
              "  </svg>\n",
              "    </button>\n",
              "\n",
              "  <style>\n",
              "    .colab-df-container {\n",
              "      display:flex;\n",
              "      gap: 12px;\n",
              "    }\n",
              "\n",
              "    .colab-df-convert {\n",
              "      background-color: #E8F0FE;\n",
              "      border: none;\n",
              "      border-radius: 50%;\n",
              "      cursor: pointer;\n",
              "      display: none;\n",
              "      fill: #1967D2;\n",
              "      height: 32px;\n",
              "      padding: 0 0 0 0;\n",
              "      width: 32px;\n",
              "    }\n",
              "\n",
              "    .colab-df-convert:hover {\n",
              "      background-color: #E2EBFA;\n",
              "      box-shadow: 0px 1px 2px rgba(60, 64, 67, 0.3), 0px 1px 3px 1px rgba(60, 64, 67, 0.15);\n",
              "      fill: #174EA6;\n",
              "    }\n",
              "\n",
              "    .colab-df-buttons div {\n",
              "      margin-bottom: 4px;\n",
              "    }\n",
              "\n",
              "    [theme=dark] .colab-df-convert {\n",
              "      background-color: #3B4455;\n",
              "      fill: #D2E3FC;\n",
              "    }\n",
              "\n",
              "    [theme=dark] .colab-df-convert:hover {\n",
              "      background-color: #434B5C;\n",
              "      box-shadow: 0px 1px 3px 1px rgba(0, 0, 0, 0.15);\n",
              "      filter: drop-shadow(0px 1px 2px rgba(0, 0, 0, 0.3));\n",
              "      fill: #FFFFFF;\n",
              "    }\n",
              "  </style>\n",
              "\n",
              "    <script>\n",
              "      const buttonEl =\n",
              "        document.querySelector('#df-9fb74497-3198-4c5b-be7c-7d87b4f53d75 button.colab-df-convert');\n",
              "      buttonEl.style.display =\n",
              "        google.colab.kernel.accessAllowed ? 'block' : 'none';\n",
              "\n",
              "      async function convertToInteractive(key) {\n",
              "        const element = document.querySelector('#df-9fb74497-3198-4c5b-be7c-7d87b4f53d75');\n",
              "        const dataTable =\n",
              "          await google.colab.kernel.invokeFunction('convertToInteractive',\n",
              "                                                    [key], {});\n",
              "        if (!dataTable) return;\n",
              "\n",
              "        const docLinkHtml = 'Like what you see? Visit the ' +\n",
              "          '<a target=\"_blank\" href=https://colab.research.google.com/notebooks/data_table.ipynb>data table notebook</a>'\n",
              "          + ' to learn more about interactive tables.';\n",
              "        element.innerHTML = '';\n",
              "        dataTable['output_type'] = 'display_data';\n",
              "        await google.colab.output.renderOutput(dataTable, element);\n",
              "        const docLink = document.createElement('div');\n",
              "        docLink.innerHTML = docLinkHtml;\n",
              "        element.appendChild(docLink);\n",
              "      }\n",
              "    </script>\n",
              "  </div>\n",
              "\n",
              "\n",
              "<div id=\"df-b90120ee-9bd4-4fb2-8b9f-fb8055dca5ba\">\n",
              "  <button class=\"colab-df-quickchart\" onclick=\"quickchart('df-b90120ee-9bd4-4fb2-8b9f-fb8055dca5ba')\"\n",
              "            title=\"Suggest charts\"\n",
              "            style=\"display:none;\">\n",
              "\n",
              "<svg xmlns=\"http://www.w3.org/2000/svg\" height=\"24px\"viewBox=\"0 0 24 24\"\n",
              "     width=\"24px\">\n",
              "    <g>\n",
              "        <path d=\"M19 3H5c-1.1 0-2 .9-2 2v14c0 1.1.9 2 2 2h14c1.1 0 2-.9 2-2V5c0-1.1-.9-2-2-2zM9 17H7v-7h2v7zm4 0h-2V7h2v10zm4 0h-2v-4h2v4z\"/>\n",
              "    </g>\n",
              "</svg>\n",
              "  </button>\n",
              "\n",
              "<style>\n",
              "  .colab-df-quickchart {\n",
              "      --bg-color: #E8F0FE;\n",
              "      --fill-color: #1967D2;\n",
              "      --hover-bg-color: #E2EBFA;\n",
              "      --hover-fill-color: #174EA6;\n",
              "      --disabled-fill-color: #AAA;\n",
              "      --disabled-bg-color: #DDD;\n",
              "  }\n",
              "\n",
              "  [theme=dark] .colab-df-quickchart {\n",
              "      --bg-color: #3B4455;\n",
              "      --fill-color: #D2E3FC;\n",
              "      --hover-bg-color: #434B5C;\n",
              "      --hover-fill-color: #FFFFFF;\n",
              "      --disabled-bg-color: #3B4455;\n",
              "      --disabled-fill-color: #666;\n",
              "  }\n",
              "\n",
              "  .colab-df-quickchart {\n",
              "    background-color: var(--bg-color);\n",
              "    border: none;\n",
              "    border-radius: 50%;\n",
              "    cursor: pointer;\n",
              "    display: none;\n",
              "    fill: var(--fill-color);\n",
              "    height: 32px;\n",
              "    padding: 0;\n",
              "    width: 32px;\n",
              "  }\n",
              "\n",
              "  .colab-df-quickchart:hover {\n",
              "    background-color: var(--hover-bg-color);\n",
              "    box-shadow: 0 1px 2px rgba(60, 64, 67, 0.3), 0 1px 3px 1px rgba(60, 64, 67, 0.15);\n",
              "    fill: var(--button-hover-fill-color);\n",
              "  }\n",
              "\n",
              "  .colab-df-quickchart-complete:disabled,\n",
              "  .colab-df-quickchart-complete:disabled:hover {\n",
              "    background-color: var(--disabled-bg-color);\n",
              "    fill: var(--disabled-fill-color);\n",
              "    box-shadow: none;\n",
              "  }\n",
              "\n",
              "  .colab-df-spinner {\n",
              "    border: 2px solid var(--fill-color);\n",
              "    border-color: transparent;\n",
              "    border-bottom-color: var(--fill-color);\n",
              "    animation:\n",
              "      spin 1s steps(1) infinite;\n",
              "  }\n",
              "\n",
              "  @keyframes spin {\n",
              "    0% {\n",
              "      border-color: transparent;\n",
              "      border-bottom-color: var(--fill-color);\n",
              "      border-left-color: var(--fill-color);\n",
              "    }\n",
              "    20% {\n",
              "      border-color: transparent;\n",
              "      border-left-color: var(--fill-color);\n",
              "      border-top-color: var(--fill-color);\n",
              "    }\n",
              "    30% {\n",
              "      border-color: transparent;\n",
              "      border-left-color: var(--fill-color);\n",
              "      border-top-color: var(--fill-color);\n",
              "      border-right-color: var(--fill-color);\n",
              "    }\n",
              "    40% {\n",
              "      border-color: transparent;\n",
              "      border-right-color: var(--fill-color);\n",
              "      border-top-color: var(--fill-color);\n",
              "    }\n",
              "    60% {\n",
              "      border-color: transparent;\n",
              "      border-right-color: var(--fill-color);\n",
              "    }\n",
              "    80% {\n",
              "      border-color: transparent;\n",
              "      border-right-color: var(--fill-color);\n",
              "      border-bottom-color: var(--fill-color);\n",
              "    }\n",
              "    90% {\n",
              "      border-color: transparent;\n",
              "      border-bottom-color: var(--fill-color);\n",
              "    }\n",
              "  }\n",
              "</style>\n",
              "\n",
              "  <script>\n",
              "    async function quickchart(key) {\n",
              "      const quickchartButtonEl =\n",
              "        document.querySelector('#' + key + ' button');\n",
              "      quickchartButtonEl.disabled = true;  // To prevent multiple clicks.\n",
              "      quickchartButtonEl.classList.add('colab-df-spinner');\n",
              "      try {\n",
              "        const charts = await google.colab.kernel.invokeFunction(\n",
              "            'suggestCharts', [key], {});\n",
              "      } catch (error) {\n",
              "        console.error('Error during call to suggestCharts:', error);\n",
              "      }\n",
              "      quickchartButtonEl.classList.remove('colab-df-spinner');\n",
              "      quickchartButtonEl.classList.add('colab-df-quickchart-complete');\n",
              "    }\n",
              "    (() => {\n",
              "      let quickchartButtonEl =\n",
              "        document.querySelector('#df-b90120ee-9bd4-4fb2-8b9f-fb8055dca5ba button');\n",
              "      quickchartButtonEl.style.display =\n",
              "        google.colab.kernel.accessAllowed ? 'block' : 'none';\n",
              "    })();\n",
              "  </script>\n",
              "</div>\n",
              "    </div>\n",
              "  </div>\n"
            ]
          },
          "metadata": {},
          "execution_count": 9
        }
      ],
      "source": [
        "books[books[\"Источник\"] == \"Акунин Борис\"]"
      ]
    },
    {
      "cell_type": "markdown",
      "metadata": {
        "id": "Yh7gdRySZmNd"
      },
      "source": [
        "---\n",
        "## Работа с файловой системой\n",
        "*   Извлекаем файлы из zip-архива\n",
        "*   Приводим полученные файлы к txt-формату"
      ]
    },
    {
      "cell_type": "code",
      "execution_count": null,
      "metadata": {
        "id": "sBTT0pExKdsE"
      },
      "outputs": [],
      "source": [
        "# # Указываем путь к ZIP-файлу\n",
        "# zip_path = \"drive/MyDrive/HISTORY.zip\"\n",
        "\n",
        "# # Открываем ZIP-файл в режиме чтения\n",
        "# with zipfile.ZipFile(zip_path, \"r\") as zip_ref:\n",
        "#     # Проходим по всем файлам в архиве\n",
        "#     for file_name in zip_ref.namelist():\n",
        "#         # Извлекаем файл из архива\n",
        "#         zip_ref.extract(file_name, \"/content\")"
      ]
    },
    {
      "cell_type": "code",
      "execution_count": null,
      "metadata": {
        "id": "yG2Ld7AszbnX"
      },
      "outputs": [],
      "source": [
        "# input_folder = \"HISTORY\"\n",
        "# output_folder = \"drive/MyDrive/HISTORY-TXT\"\n",
        "# imp_exe = \"drive/MyDrive/imp.exe\"\n",
        "\n",
        "# # Получаем список файлов в папке HISTORY\n",
        "# imp_files = [f for f in os.listdir(input_folder) if f.endswith(\".imp\")]\n",
        "\n",
        "\n",
        "# for imp_file in imp_files:\n",
        "#     imp_path = os.path.join(input_folder, imp_file)\n",
        "\n",
        "\n",
        "\n",
        "#     # Выполняем команду imp.exe с использованием subprocess\n",
        "#     command = [imp_exe, \"e\", imp_path, \"-o\" + output_folder]\n",
        "#     subprocess.run(command, check=True)\n",
        "\n",
        "\n",
        "\n",
        "\n",
        "# rar_files = [f for f in os.listdir(input_folder) if f.endswith(\".rar\")]\n",
        "\n",
        "# for rar_file in rar_files:\n",
        "#     rar_path = os.path.join(input_folder, rar_file)\n",
        "\n",
        "#     with RarFile(rar_path, 'r') as rf:\n",
        "#         # Извлекаем все файлы из архива в тот же каталог\n",
        "#         rf.extractall(path=output_folder)"
      ]
    },
    {
      "cell_type": "markdown",
      "metadata": {
        "id": "EBoUxLVKaIjb"
      },
      "source": [
        "---\n",
        "# Получаем список с путями к файлам, для последующей передачи к dask.bag"
      ]
    },
    {
      "cell_type": "code",
      "execution_count": null,
      "metadata": {
        "colab": {
          "base_uri": "https://localhost:8080/"
        },
        "id": "QaMNhWVB_opL",
        "outputId": "ac726290-f2d3-4b3f-d01c-19630bf303e9"
      },
      "outputs": [
        {
          "output_type": "execute_result",
          "data": {
            "text/plain": [
              "(['drive/MyDrive/HISTORY-TXT/58.TXT',\n",
              "  'drive/MyDrive/HISTORY-TXT/ADID1R.TXT',\n",
              "  'drive/MyDrive/HISTORY-TXT/AFANEOR.TXT',\n",
              "  'drive/MyDrive/HISTORY-TXT/ALESHK01.TXT',\n",
              "  'drive/MyDrive/HISTORY-TXT/ALESHKIN.TXT'],\n",
              " 294)"
            ]
          },
          "metadata": {},
          "execution_count": 10
        }
      ],
      "source": [
        "directory_path = \"drive/MyDrive/HISTORY-TXT\"\n",
        "files = sorted(glob.glob(os.path.join(directory_path, \"*\")))\n",
        "\n",
        "\n",
        "files[:5], len(files)"
      ]
    },
    {
      "cell_type": "code",
      "source": [
        "file_names = list(map(lambda x: x.split(\"/\")[-1][:-4].lower(), files))\n",
        "\n",
        "print(file_names[:10])"
      ],
      "metadata": {
        "colab": {
          "base_uri": "https://localhost:8080/"
        },
        "id": "sS4wCiDBpJnk",
        "outputId": "eb60c9e9-70b7-4e51-fa05-495043fe70ac"
      },
      "execution_count": null,
      "outputs": [
        {
          "output_type": "stream",
          "name": "stdout",
          "text": [
            "['58', 'adid1r', 'afaneor', 'aleshk01', 'aleshkin', 'apian', 'arabsk', 'aspasia', 'augusts', 'a_gili1']\n"
          ]
        }
      ]
    },
    {
      "cell_type": "code",
      "source": [
        "a = set(books[books[\"Жанр\"] == \"история\"][\"Тег\"].values)\n",
        "b = set(file_names)\n",
        "\n",
        "\n",
        "unique = list(a ^ b)\n",
        "\n",
        "\n",
        "# igra3 - пустой файл, legend - белорусский рассказ \"Седая Легенда\", такого нет в csv-файле\n",
        "print(f\"Книг с такими тегами нет в csv-файле: {unique}\")"
      ],
      "metadata": {
        "id": "uY55kv3xpKxw",
        "colab": {
          "base_uri": "https://localhost:8080/"
        },
        "outputId": "433dd2f0-1210-4505-8f56-336f0a39e3c3"
      },
      "execution_count": null,
      "outputs": [
        {
          "output_type": "stream",
          "name": "stdout",
          "text": [
            "Книг с такими тегами нет в csv-файле: ['legend', 'igra3']\n"
          ]
        }
      ]
    },
    {
      "cell_type": "markdown",
      "source": [
        "---\n",
        "# Блок с функциями для работы по всему тексту:\n",
        "\n",
        "*   Очистка от знаков пунктуации, цифр, спец. символов\n",
        "*   Инициализация и дальнейшее удаление стоп-слов\n",
        "*   Стемминг, Лемматизация\n",
        "*   Функции для подсчета расстояния Левенштейна"
      ],
      "metadata": {
        "id": "_GcIcCL0I412"
      }
    },
    {
      "cell_type": "markdown",
      "source": [
        "---\n",
        "## Инициализация необходимых переменных"
      ],
      "metadata": {
        "id": "8DXbdwnGJCsu"
      }
    },
    {
      "cell_type": "code",
      "source": [
        "#ИНИЦИАЛИЗАЦИЯ СПИСКА РУССКИХ СТОП-СЛОВ\n",
        "SWrus = nltk.corpus.stopwords.words('russian')\n",
        "\n",
        "# Оставляю слова длиной больше 1\n",
        "SWrus = [word for word in SWrus if len(word) > 1]\n",
        "\n",
        "SWrus[:5], SWrus[-5:]"
      ],
      "metadata": {
        "colab": {
          "base_uri": "https://localhost:8080/"
        },
        "id": "v0vOhLxDJGwa",
        "outputId": "56797f45-8747-44b6-f6fb-73c0d57dfb1f"
      },
      "execution_count": null,
      "outputs": [
        {
          "output_type": "execute_result",
          "data": {
            "text/plain": [
              "(['во', 'не', 'что', 'он', 'на'],\n",
              " ['более', 'всегда', 'конечно', 'всю', 'между'])"
            ]
          },
          "metadata": {},
          "execution_count": 13
        }
      ]
    },
    {
      "cell_type": "code",
      "source": [
        "# ИНИЦИАЛИЗАЦИЯ ИНСТРУМЕНТОВ ДЛЯ СТЕММИНГА И ЛЕММАТИЗАЦИИ\n",
        "stemmer = SnowballStemmer(\"russian\")\n",
        "lemmer = pymorphy3.MorphAnalyzer()\n",
        "\n",
        "\n",
        "\n",
        "def lemmatize_word(word):\n",
        "    return lemmer.parse(word)[0].normal_form\n",
        "\n",
        "def stem_word(word):\n",
        "    return stemmer.stem(word)"
      ],
      "metadata": {
        "id": "ux-0H8ImJHtt"
      },
      "execution_count": null,
      "outputs": []
    },
    {
      "cell_type": "code",
      "source": [
        "# ФУНКЦИЯ КОТОРАЯ СОБИРАЕТ ВСЕ СТРОКИ В ОДНУ\n",
        "# Применять через map_partitions\n",
        "flatten_rows = lambda rows: ''.join(rows).strip()\n",
        "\n",
        "\n",
        "# ФУНКЦИЯ СОЕДИНЯЕТ СЛОВА МЕЖДУ КОТОРЫМИ ЕСТЬ ЗНАК \"-\", ТАК КАК ЭТО ОБЫЧНО ЗНАК ПЕРЕНОСА И ЕСЛИ ЕГО ПРОСТО УДАЛИТЬ, ТЕРЯЕТСЯ СЛОВО\n",
        "remove_dash = lambda rows: re.sub(r\"-\\n\", \"\", rows)\n",
        "\n",
        "\n",
        "#ФУНКЦИЯ ДЛЯ ОЧИСТКИ СТРОК ОТ ЗНАКОВ ПУНКТУАЦИИ, ЦИФР, СПЕЦ.СИМВОЛОВ И АНГЛИЙСКИХ СЛОВ\n",
        "remove_punct = lambda rows: re.sub(r\"[^а-яА-ЯёЁ]\", \" \", rows.lower()) # r\"[\\W+|\\d]+\"\n",
        "\n",
        "\n",
        "# ОТДЕЛЬНАЯ ФУНКЦИЯ - УДАЛЯЕТ ЛЮБЫЕ ОДИНОЧНЫЕ СИМВОЛЫ\n",
        "remove_alone = lambda rows: re.sub(r\"\\b[^я]\\b\", \" \", rows)\n",
        "\n",
        "\n",
        "# ФУНКЦИЯ ДЛЯ УДАЛЕНИЯ СТОП-СЛОВ ИЗ СТРОКИ\n",
        "remove_stopwords = lambda rows, stop_words: re.sub(r\"\\b(?:{})\\b|\\b\\w\\b\".format(\"|\".join(map(re.escape, stop_words))), \"\", rows)\n",
        "\n",
        "\n",
        "# ФУНКЦИЯ КОТОРАЯ РАЗБИВАЕТ ВЕСЬ ТЕКСТ НА СЛОВА\n",
        "def tokenize_word(rows):\n",
        "    if isinstance(rows, str):\n",
        "        return re.findall(r\"\\b\\w+\\b\", rows)\n",
        "    return rows"
      ],
      "metadata": {
        "id": "5qt2xs215Xd0"
      },
      "execution_count": null,
      "outputs": []
    },
    {
      "cell_type": "markdown",
      "metadata": {
        "id": "JHiKlhelcZHx"
      },
      "source": [
        "---\n",
        "# Применяем функции выше к нашему Bag-у\n",
        "### Перед этим сделаем копию у которой не будем удалять стоп-слова"
      ]
    },
    {
      "cell_type": "code",
      "execution_count": null,
      "metadata": {
        "colab": {
          "base_uri": "https://localhost:8080/"
        },
        "id": "o3EaQq13FTlV",
        "outputId": "50da4314-f4b4-44b4-c4b3-9c51cdef32de"
      },
      "outputs": [
        {
          "output_type": "execute_result",
          "data": {
            "text/plain": [
              "dask.bag<bag-from-delayed, npartitions=294>"
            ]
          },
          "metadata": {},
          "execution_count": 21
        }
      ],
      "source": [
        "# Взял 50 первых книг, если взять все, получается (из 234 книг) больше 20_000_000 миллионов слов с учетом стоп-слов и 15_000_000 очищенных от стоп-слов\n",
        "# По времени неплохо так обрабатывает\n",
        "\n",
        "\n",
        "b = db.read_text(files, encoding='windows-1251')\n",
        "\n",
        "b"
      ]
    },
    {
      "cell_type": "code",
      "execution_count": null,
      "metadata": {
        "colab": {
          "base_uri": "https://localhost:8080/"
        },
        "id": "TtxnnBJscz0u",
        "outputId": "bb565493-4d1d-4ef3-b873-dea70ea8233e"
      },
      "outputs": [
        {
          "output_type": "execute_result",
          "data": {
            "text/plain": [
              "dask.bag<lambda, npartitions=294>"
            ]
          },
          "metadata": {},
          "execution_count": 22
        }
      ],
      "source": [
        "# Сохраняем копию bag с стоп-словами для дальнейшего сравнения\n",
        "b_copy = b.map(lambda x: x)\n",
        "\n",
        "b_copy"
      ]
    },
    {
      "cell_type": "code",
      "execution_count": null,
      "metadata": {
        "id": "IVvxW5feLN4h"
      },
      "outputs": [],
      "source": [
        "# 1\n",
        "b = b.map_partitions(flatten_rows)\n",
        "b_copy = b_copy.map_partitions(flatten_rows)\n",
        "\n",
        "\n",
        "# 2\n",
        "b = b.map_partitions(remove_dash)\n",
        "b_copy = b_copy.map_partitions(remove_dash)\n",
        "\n",
        "\n",
        "# 3\n",
        "b = b.map_partitions(remove_punct)\n",
        "b_copy = b_copy.map_partitions(remove_punct)\n",
        "\n",
        "\n",
        "# 4\n",
        "b = b.map_partitions(remove_alone)\n",
        "b_copy = b_copy.map_partitions(remove_alone)\n",
        "\n",
        "\n",
        "# 5\n",
        "b = b.map_partitions(remove_stopwords, stop_words=SWrus)\n",
        "\n",
        "\n",
        "# # 6\n",
        "b = b.map_partitions(tokenize_word)\n",
        "b_copy = b_copy.map_partitions(tokenize_word)"
      ]
    },
    {
      "cell_type": "markdown",
      "metadata": {
        "id": "p7CRHfstpqcg"
      },
      "source": [
        "\n",
        "\n",
        "---\n",
        "## Немного отладки, смотрим первую партицию - что в ней находится после применения функций"
      ]
    },
    {
      "cell_type": "code",
      "execution_count": null,
      "metadata": {
        "colab": {
          "base_uri": "https://localhost:8080/"
        },
        "id": "9urx1GQBm3b3",
        "outputId": "f8361141-0e0b-41f4-d9c8-72701deaff18"
      },
      "outputs": [
        {
          "output_type": "stream",
          "name": "stdout",
          "text": [
            "['фрин', 'москва', 'подольск', 'москва', 'отличие', 'большинства', 'моих', 'близких', 'друзей', 'особенно', 'подруг', 'человек', 'толстокожий', 'малочувствительной', 'нервной']\n",
            "['фрин', 'москва', 'подольск', 'москва', 'отличие', 'от', 'большинства', 'моих', 'близких', 'друзей', 'особенно', 'подруг', 'я', 'человек', 'толстокожий']\n"
          ]
        }
      ],
      "source": [
        "# Получаем все элементы первой партиции - текст по файлу 58.TXT\n",
        "partition_data_without = dask.compute(b.to_delayed()[0])[0]\n",
        "partition_data_with = dask.compute(b_copy.to_delayed()[0])[0]\n",
        "\n",
        "\n",
        "print(partition_data_without[:15], partition_data_with[:15], sep=\"\\n\")"
      ]
    },
    {
      "cell_type": "markdown",
      "source": [
        "---\n",
        "# Получаем из dask.bag очищенный и неочищенный от стоп-слов список со словами"
      ],
      "metadata": {
        "id": "jNn3ax8oejbQ"
      }
    },
    {
      "cell_type": "code",
      "execution_count": null,
      "metadata": {
        "colab": {
          "base_uri": "https://localhost:8080/"
        },
        "id": "AtKbVLHpSjdI",
        "outputId": "18814210-4716-40d1-f2f4-983c56e94929"
      },
      "outputs": [
        {
          "output_type": "stream",
          "name": "stdout",
          "text": [
            "[########################################] | 100% Completed | 126.63 s\n",
            "[########################################] | 100% Completed | 105.68 s\n"
          ]
        }
      ],
      "source": [
        "with ProgressBar():\n",
        "    bank = b.compute()\n",
        "    bank_copy = b_copy.compute()"
      ]
    },
    {
      "cell_type": "code",
      "execution_count": null,
      "metadata": {
        "colab": {
          "base_uri": "https://localhost:8080/"
        },
        "id": "Z8y9YCQ0SmHq",
        "outputId": "1bb72ec4-1688-40cb-df7b-b8c836db9823"
      },
      "outputs": [
        {
          "output_type": "stream",
          "name": "stdout",
          "text": [
            "Количество слов без учета стоп-слов: 19_530_975\n",
            "Количество слов  с учетом стоп-слов: 26_634_916\n"
          ]
        }
      ],
      "source": [
        "print(f\"Количество слов без учета стоп-слов: {len(bank):_}\\nКоличество слов  с учетом стоп-слов: {len(bank_copy):_}\")"
      ]
    },
    {
      "cell_type": "markdown",
      "source": [
        "---\n",
        "# Сравнение полученных списков (без лемматизации)"
      ],
      "metadata": {
        "id": "gerv-d6pYy8l"
      }
    },
    {
      "cell_type": "code",
      "source": [
        "bankdict = Counter(bank)\n",
        "bank_copydict = Counter(bank_copy)\n",
        "\n",
        "print(f\"Самые популярные слова\\n{'-'*100}\\n|{'стоп-слова не учитываются:':^49}|{'стоп-слова учитываются:':^48}|\\n{'-'*100}\")\n",
        "\n",
        "prnt = [print(f\"|{v1[0]:^25}{v1[1]:^24}|{v2[0]:^24}{v2[1]:^24}|\\n{'-'*100}\") for v1, v2 in zip(bankdict.most_common(15), bank_copydict.most_common(15))]"
      ],
      "metadata": {
        "colab": {
          "base_uri": "https://localhost:8080/"
        },
        "id": "keIr8hEhYFbS",
        "outputId": "361bcd19-9b0e-4c49-91b9-0a2fc7df6428"
      },
      "execution_count": null,
      "outputs": [
        {
          "output_type": "stream",
          "name": "stdout",
          "text": [
            "Самые популярные слова\n",
            "----------------------------------------------------------------------------------------------------\n",
            "|           стоп-слова не учитываются:            |            стоп-слова учитываются:             |\n",
            "----------------------------------------------------------------------------------------------------\n",
            "|           это                    115299         |           не                    508815         |\n",
            "----------------------------------------------------------------------------------------------------\n",
            "|          время                   38249          |           на                    458373         |\n",
            "----------------------------------------------------------------------------------------------------\n",
            "|         сказал                   35970          |          что                    329424         |\n",
            "----------------------------------------------------------------------------------------------------\n",
            "|         который                  28646          |           он                    265652         |\n",
            "----------------------------------------------------------------------------------------------------\n",
            "|         которые                  28533          |          его                    201260         |\n",
            "----------------------------------------------------------------------------------------------------\n",
            "|          своих                   24058          |          как                    192725         |\n",
            "----------------------------------------------------------------------------------------------------\n",
            "|          своей                   23919          |           я                     171114         |\n",
            "----------------------------------------------------------------------------------------------------\n",
            "|         своего                   22900          |           но                    161362         |\n",
            "----------------------------------------------------------------------------------------------------\n",
            "|          лишь                    22487          |           по                    155979         |\n",
            "----------------------------------------------------------------------------------------------------\n",
            "|          тебе                    22378          |           из                    155358         |\n",
            "----------------------------------------------------------------------------------------------------\n",
            "|          очень                   21680          |           то                    139966         |\n",
            "----------------------------------------------------------------------------------------------------\n",
            "|         человек                  21436          |           от                    130202         |\n",
            "----------------------------------------------------------------------------------------------------\n",
            "|           нам                    20788          |           за                    129677         |\n",
            "----------------------------------------------------------------------------------------------------\n",
            "|          людей                   20122          |          все                    124496         |\n",
            "----------------------------------------------------------------------------------------------------\n",
            "|         однако                   19531          |          это                    115299         |\n",
            "----------------------------------------------------------------------------------------------------\n"
          ]
        }
      ]
    },
    {
      "cell_type": "code",
      "source": [
        "print(f\"Самые НЕпопулярные слова\\n{'-'*100}\\n|{'стоп-слова не учитываются:':^49}|{'стоп-слова учитываются:':^48}|\\n{'-'*100}\")\n",
        "\n",
        "prnt = [print(f\"|{v1[0]:^25}{v1[1]:^24}|{v2[0]:^24}{v2[1]:^24}|\\n{'-'*100}\") for v1, v2 in zip(sorted(bankdict.items(), key=lambda x: x[1])[:15], sorted(bank_copydict.items(), key=lambda x: x[1])[:15])]"
      ],
      "metadata": {
        "colab": {
          "base_uri": "https://localhost:8080/"
        },
        "id": "-4vu6tPtY7bf",
        "outputId": "c7eb260f-1cbb-43c9-9ace-e786b331e999"
      },
      "execution_count": null,
      "outputs": [
        {
          "output_type": "stream",
          "name": "stdout",
          "text": [
            "Самые НЕпопулярные слова\n",
            "----------------------------------------------------------------------------------------------------\n",
            "|           стоп-слова не учитываются:            |            стоп-слова учитываются:             |\n",
            "----------------------------------------------------------------------------------------------------\n",
            "|          фрин                      1            |          фрин                     1            |\n",
            "----------------------------------------------------------------------------------------------------\n",
            "|   малочувствительной               1            |   малочувствительной              1            |\n",
            "----------------------------------------------------------------------------------------------------\n",
            "|          вангу                     1            |         вангу                     1            |\n",
            "----------------------------------------------------------------------------------------------------\n",
            "|         невещих                    1            |        невещих                    1            |\n",
            "----------------------------------------------------------------------------------------------------\n",
            "|         нинкино                    1            |        нинкино                    1            |\n",
            "----------------------------------------------------------------------------------------------------\n",
            "|        талдычила                   1            |       талдычила                   1            |\n",
            "----------------------------------------------------------------------------------------------------\n",
            "|        нинкиными                   1            |       нинкиными                   1            |\n",
            "----------------------------------------------------------------------------------------------------\n",
            "|      киноискусству                 1            |     киноискусству                 1            |\n",
            "----------------------------------------------------------------------------------------------------\n",
            "|      серозеленого                  1            |      серозеленого                 1            |\n",
            "----------------------------------------------------------------------------------------------------\n",
            "|      расстегнитесь                 1            |     расстегнитесь                 1            |\n",
            "----------------------------------------------------------------------------------------------------\n",
            "|        прошмонал                   1            |       прошмонал                   1            |\n",
            "----------------------------------------------------------------------------------------------------\n",
            "|       нагрудному                   1            |       нагрудному                  1            |\n",
            "----------------------------------------------------------------------------------------------------\n",
            "|       удивлявшим                   1            |       удивлявшим                  1            |\n",
            "----------------------------------------------------------------------------------------------------\n",
            "|      переваляемся                  1            |      переваляемся                 1            |\n",
            "----------------------------------------------------------------------------------------------------\n",
            "|        рюкзачке                    1            |        рюкзачке                   1            |\n",
            "----------------------------------------------------------------------------------------------------\n"
          ]
        }
      ]
    },
    {
      "cell_type": "markdown",
      "source": [
        "---\n",
        "# Оптимизирую получение лемм и стемм слов"
      ],
      "metadata": {
        "id": "vHzC_nNCZqPt"
      }
    },
    {
      "cell_type": "markdown",
      "source": [
        "### Получаю уникальные слова"
      ],
      "metadata": {
        "id": "5aKyA5ylZv4i"
      }
    },
    {
      "cell_type": "code",
      "source": [
        "unique_bank_without = set(bank)\n",
        "unique_stopwords = set(bank_copy) - unique_bank_without"
      ],
      "metadata": {
        "id": "g3xO0rMqWs_9"
      },
      "execution_count": null,
      "outputs": []
    },
    {
      "cell_type": "code",
      "source": [
        "print(f\"Уникальных слов  с учетом стоп-слов: {len(unique_stopwords) + len(unique_bank_without)}\\nУникальных слов без учета стоп-слов: {len(unique_bank_without)}\\n{'Уникальных стоп-слов: ':>37}{len(unique_stopwords)}\")"
      ],
      "metadata": {
        "colab": {
          "base_uri": "https://localhost:8080/"
        },
        "id": "FpyaTqlTYeT8",
        "outputId": "fff6e5e7-ebd6-45a0-9b54-bede84f4eec6"
      },
      "execution_count": null,
      "outputs": [
        {
          "output_type": "stream",
          "name": "stdout",
          "text": [
            "Уникальных слов  с учетом стоп-слов: 686763\n",
            "Уникальных слов без учета стоп-слов: 686620\n",
            "               Уникальных стоп-слов: 143\n"
          ]
        }
      ]
    },
    {
      "cell_type": "markdown",
      "source": [
        "### Применяю к полученным словам функции лемматизации и стемминга"
      ],
      "metadata": {
        "id": "ANL2kNO8ZvwJ"
      }
    },
    {
      "cell_type": "code",
      "source": [
        "start = perf_counter()\n",
        "\n",
        "lemma_dict_without = {word: lemmatize_word(word) for word in unique_bank_without}\n",
        "\n",
        "lemma_dict_with = {word: lemmatize_word(word) for word in unique_stopwords}\n",
        "lemma_dict_with.update(lemma_dict_without)\n",
        "print(f\"Время на создание  лемм уникальных слов (секунды): {np.around(perf_counter() - start)}\")\n",
        "\n",
        "\n",
        "\n",
        "start = perf_counter()\n",
        "stemma_dict_without = {word: stem_word(word) for word in unique_bank_without}\n",
        "\n",
        "stemma_dict_with = {word: stem_word(word) for word in unique_stopwords}\n",
        "stemma_dict_with.update(stemma_dict_without)\n",
        "print(f\"Время на создание стемм уникальных слов (секунды): {np.around(perf_counter() - start)}\")"
      ],
      "metadata": {
        "id": "6gf-4t8jdHwH",
        "colab": {
          "base_uri": "https://localhost:8080/"
        },
        "outputId": "4dce0099-c57f-437b-f33c-e0ccf7e7fd22"
      },
      "execution_count": null,
      "outputs": [
        {
          "output_type": "stream",
          "name": "stdout",
          "text": [
            "Время на создание  лемм уникальных слов (секунды): 169.0\n",
            "Время на создание стемм уникальных слов (секунды): 46.0\n"
          ]
        }
      ]
    },
    {
      "cell_type": "markdown",
      "source": [
        "---\n",
        "## Получаю леммы, стеммы"
      ],
      "metadata": {
        "id": "dVURh7AIIXSa"
      }
    },
    {
      "cell_type": "code",
      "source": [
        "lemme_with = map(lambda x: lemma_dict_with[x], bank_copy)\n",
        "\n",
        "\n",
        "dictlemme_with = Counter(lemme_with)\n",
        "dictlemme_without = dict(filter(lambda tpl: tpl[0] not in SWrus, dictlemme_with.items()))"
      ],
      "metadata": {
        "id": "DO1D_q27REQy"
      },
      "execution_count": null,
      "outputs": []
    },
    {
      "cell_type": "code",
      "source": [
        "stemme_with = map(lambda x: stemma_dict_with[x], bank_copy)\n",
        "\n",
        "\n",
        "dictstemme_with = Counter(stemme_with)\n",
        "dictstemme_without = dict(filter(lambda tpl: tpl[0] not in SWrus, dictstemme_with.items()))"
      ],
      "metadata": {
        "id": "dbFb1kGRdW7r"
      },
      "execution_count": null,
      "outputs": []
    },
    {
      "cell_type": "markdown",
      "source": [
        "---\n",
        "# Сравнение полученных списков (стоп-слова не учитываются)"
      ],
      "metadata": {
        "id": "WaaRBW2haTFA"
      }
    },
    {
      "cell_type": "code",
      "source": [
        "print(f\"Самые популярные слова (стоп-слова не учитываются)\\n{'-'*100}\\n|{'до лемматизации:':^49}|{'после лемматизации:':^48}|\\n{'-'*100}\")\n",
        "\n",
        "\n",
        "prnt = [print(f\"|{v1[0]:^25}{v1[1]:^24}|{v2[0]:^24}{v2[1]:^24}|\\n{'-'*100}\") for v1, v2 in zip(bankdict.most_common(15), sorted(dictlemme_without.items(), key=lambda x: x[1], reverse=True))]"
      ],
      "metadata": {
        "colab": {
          "base_uri": "https://localhost:8080/"
        },
        "id": "6VM4pV4UnhtX",
        "outputId": "4a9a9991-e053-4e37-8eb6-8169755591f2"
      },
      "execution_count": null,
      "outputs": [
        {
          "output_type": "stream",
          "name": "stdout",
          "text": [
            "Самые популярные слова (стоп-слова не учитываются)\n",
            "----------------------------------------------------------------------------------------------------\n",
            "|                до лемматизации:                 |              после лемматизации:               |\n",
            "----------------------------------------------------------------------------------------------------\n",
            "|           это                    115299         |           я                     275014         |\n",
            "----------------------------------------------------------------------------------------------------\n",
            "|          время                   38249          |          это                    183838         |\n",
            "----------------------------------------------------------------------------------------------------\n",
            "|         сказал                   35970          |          свой                   174712         |\n",
            "----------------------------------------------------------------------------------------------------\n",
            "|         который                  28646          |        который                  144652         |\n",
            "----------------------------------------------------------------------------------------------------\n",
            "|         которые                  28533          |          всё                    125198         |\n",
            "----------------------------------------------------------------------------------------------------\n",
            "|          своих                   24058          |          весь                   105975         |\n",
            "----------------------------------------------------------------------------------------------------\n",
            "|          своей                   23919          |        человек                  85843          |\n",
            "----------------------------------------------------------------------------------------------------\n",
            "|         своего                   22900          |          мочь                   84042          |\n",
            "----------------------------------------------------------------------------------------------------\n",
            "|          лишь                    22487          |          ещё                    70903          |\n",
            "----------------------------------------------------------------------------------------------------\n",
            "|          тебе                    22378          |        сказать                  67887          |\n",
            "----------------------------------------------------------------------------------------------------\n",
            "|          очень                   21680          |          год                    65931          |\n",
            "----------------------------------------------------------------------------------------------------\n",
            "|         человек                  21436          |         время                   60015          |\n",
            "----------------------------------------------------------------------------------------------------\n",
            "|           нам                    20788          |         стать                   53248          |\n",
            "----------------------------------------------------------------------------------------------------\n",
            "|          людей                   20122          |          рука                   51871          |\n",
            "----------------------------------------------------------------------------------------------------\n",
            "|         однако                   19531          |         князь                   48583          |\n",
            "----------------------------------------------------------------------------------------------------\n"
          ]
        }
      ]
    },
    {
      "cell_type": "code",
      "source": [
        "print(f\"Самые НЕпопулярные слова\\n{'-'*100}\\n|{'до лемматизации:':^49}|{'после лемматизации:':^48}|\\n{'-'*100}\")\n",
        "\n",
        "\n",
        "prnt = [print(f\"|{v1[0]:^25}{v1[1]:^24}|{v2[0]:^24}{v2[1]:^24}|\\n{'-'*100}\") for v1, v2 in zip(sorted(bankdict.items(), key=lambda x: x[1])[:15], sorted(dictlemme_without.items(), key=lambda x: x[1]))]"
      ],
      "metadata": {
        "colab": {
          "base_uri": "https://localhost:8080/"
        },
        "id": "dgKE5QpxbFbE",
        "outputId": "581983bd-b2de-4701-a9a2-3ef3ee1e9400"
      },
      "execution_count": null,
      "outputs": [
        {
          "output_type": "stream",
          "name": "stdout",
          "text": [
            "Самые НЕпопулярные слова\n",
            "----------------------------------------------------------------------------------------------------\n",
            "|                до лемматизации:                 |              после лемматизации:               |\n",
            "----------------------------------------------------------------------------------------------------\n",
            "|          фрин                      1            |        невещий                    1            |\n",
            "----------------------------------------------------------------------------------------------------\n",
            "|   малочувствительной               1            |     киноискусство                 1            |\n",
            "----------------------------------------------------------------------------------------------------\n",
            "|          вангу                     1            |       прошмонал                   1            |\n",
            "----------------------------------------------------------------------------------------------------\n",
            "|         невещих                    1            |      переваляться                 1            |\n",
            "----------------------------------------------------------------------------------------------------\n",
            "|         нинкино                    1            |       полсостав                   1            |\n",
            "----------------------------------------------------------------------------------------------------\n",
            "|        талдычила                   1            |         генкин                    1            |\n",
            "----------------------------------------------------------------------------------------------------\n",
            "|        нинкиными                   1            |        хохмочка                   1            |\n",
            "----------------------------------------------------------------------------------------------------\n",
            "|      киноискусству                 1            |      каплевидный                  1            |\n",
            "----------------------------------------------------------------------------------------------------\n",
            "|      серозеленого                  1            |      гонококковый                 1            |\n",
            "----------------------------------------------------------------------------------------------------\n",
            "|      расстегнитесь                 1            |        вислово                    1            |\n",
            "----------------------------------------------------------------------------------------------------\n",
            "|        прошмонал                   1            |        терактик                   1            |\n",
            "----------------------------------------------------------------------------------------------------\n",
            "|       нагрудному                   1            |         дубак                     1            |\n",
            "----------------------------------------------------------------------------------------------------\n",
            "|       удивлявшим                   1            |       мндшкскать                  1            |\n",
            "----------------------------------------------------------------------------------------------------\n",
            "|      переваляемся                  1            |         мндшик                    1            |\n",
            "----------------------------------------------------------------------------------------------------\n",
            "|        рюкзачке                    1            |        площица                    1            |\n",
            "----------------------------------------------------------------------------------------------------\n"
          ]
        }
      ]
    },
    {
      "cell_type": "code",
      "source": [
        "lemmatize_word(\"фрин\"), lemmatize_word(\"вангу\"), lemmatize_word(\"нинкино\"), dictlemme_without[\"фрина\"]"
      ],
      "metadata": {
        "colab": {
          "base_uri": "https://localhost:8080/"
        },
        "id": "qQHjYDY5bc2F",
        "outputId": "ea843f71-2ab7-416b-a31e-ca89d8a4525b"
      },
      "execution_count": null,
      "outputs": [
        {
          "output_type": "execute_result",
          "data": {
            "text/plain": [
              "('фрина', 'ванг', 'нинкин', 10)"
            ]
          },
          "metadata": {},
          "execution_count": 36
        }
      ]
    },
    {
      "cell_type": "markdown",
      "source": [
        "---\n",
        "# Сравнение полученных списков (стоп-слова учитываются)"
      ],
      "metadata": {
        "id": "b9DukixYcjE6"
      }
    },
    {
      "cell_type": "code",
      "source": [
        "print(f\"Самые популярные слова (стоп-слова учитываются)\\n{'-'*199}\\n|{'до лемматизации (стоп-слова есть):':^49}|{'после лемматизации (стоп-слова есть):':^48}|||{'до лемматизации (стоп-слов нет):':^49}|{'после лемматизации (стоп-слов нет):':^48}|\\n{'-'*199}\")\n",
        "\n",
        "\n",
        "prnt = [print(f\"|{v1[0]:^25}{v1[1]:^24}|{v2[0]:^24}{v2[1]:^24}|||{v3[0]:^24}{v3[1]:^24}|{v4[0]:^24}{v4[1]:^24} |\\n{'-'*199}\") for v1, v2, v3, v4 in zip(bank_copydict.most_common(15), sorted(dictlemme_with.items(), key=lambda x: x[1], reverse=True), bankdict.most_common(15), sorted(dictlemme_without.items(), key=lambda x: x[1], reverse=True))]"
      ],
      "metadata": {
        "colab": {
          "base_uri": "https://localhost:8080/"
        },
        "id": "O_lbmm7MckaK",
        "outputId": "a98ea00a-d064-492a-f8b4-45cb3ccc2f81"
      },
      "execution_count": null,
      "outputs": [
        {
          "output_type": "stream",
          "name": "stdout",
          "text": [
            "Самые популярные слова (стоп-слова учитываются)\n",
            "-------------------------------------------------------------------------------------------------------------------------------------------------------------------------------------------------------\n",
            "|       до лемматизации (стоп-слова есть):        |     после лемматизации (стоп-слова есть):      |||        до лемматизации (стоп-слов нет):         |      после лемматизации (стоп-слов нет):       |\n",
            "-------------------------------------------------------------------------------------------------------------------------------------------------------------------------------------------------------\n",
            "|           не                     508815         |           он                    579647         |||          это                    115299         |           я                     275014          |\n",
            "-------------------------------------------------------------------------------------------------------------------------------------------------------------------------------------------------------\n",
            "|           на                     458373         |           не                    508815         |||         время                   38249          |          это                    183838          |\n",
            "-------------------------------------------------------------------------------------------------------------------------------------------------------------------------------------------------------\n",
            "|           что                    329424         |           на                    458373         |||         сказал                  35970          |          свой                   174712          |\n",
            "-------------------------------------------------------------------------------------------------------------------------------------------------------------------------------------------------------\n",
            "|           он                     265652         |          быть                   369526         |||        который                  28646          |        который                  144652          |\n",
            "-------------------------------------------------------------------------------------------------------------------------------------------------------------------------------------------------------\n",
            "|           его                    201260         |          что                    346773         |||        которые                  28533          |          всё                    125198          |\n",
            "-------------------------------------------------------------------------------------------------------------------------------------------------------------------------------------------------------\n",
            "|           как                    192725         |           я                     275014         |||         своих                   24058          |          весь                   105975          |\n",
            "-------------------------------------------------------------------------------------------------------------------------------------------------------------------------------------------------------\n",
            "|            я                     171114         |          они                    267072         |||         своей                   23919          |        человек                  85843           |\n",
            "-------------------------------------------------------------------------------------------------------------------------------------------------------------------------------------------------------\n",
            "|           но                     161362         |          она                    196161         |||         своего                  22900          |          мочь                   84042           |\n",
            "-------------------------------------------------------------------------------------------------------------------------------------------------------------------------------------------------------\n",
            "|           по                     155979         |          как                    192725         |||          лишь                   22487          |          ещё                    70903           |\n",
            "-------------------------------------------------------------------------------------------------------------------------------------------------------------------------------------------------------\n",
            "|           из                     155358         |          это                    183838         |||          тебе                   22378          |        сказать                  67887           |\n",
            "-------------------------------------------------------------------------------------------------------------------------------------------------------------------------------------------------------\n",
            "|           то                     139966         |          свой                   174712         |||         очень                   21680          |          год                    65931           |\n",
            "-------------------------------------------------------------------------------------------------------------------------------------------------------------------------------------------------------\n",
            "|           от                     130202         |           но                    161363         |||        человек                  21436          |         время                   60015           |\n",
            "-------------------------------------------------------------------------------------------------------------------------------------------------------------------------------------------------------\n",
            "|           за                     129677         |           из                    156632         |||          нам                    20788          |         стать                   53248           |\n",
            "-------------------------------------------------------------------------------------------------------------------------------------------------------------------------------------------------------\n",
            "|           все                    124496         |           по                    155979         |||         людей                   20122          |          рука                   51871           |\n",
            "-------------------------------------------------------------------------------------------------------------------------------------------------------------------------------------------------------\n",
            "|           это                    115299         |        который                  144652         |||         однако                  19531          |         князь                   48583           |\n",
            "-------------------------------------------------------------------------------------------------------------------------------------------------------------------------------------------------------\n"
          ]
        }
      ]
    }
  ],
  "metadata": {
    "colab": {
      "provenance": [],
      "collapsed_sections": [
        "CeY6Dl3aZQ1c",
        "Yh7gdRySZmNd",
        "EBoUxLVKaIjb",
        "8DXbdwnGJCsu",
        "JHiKlhelcZHx",
        "vHzC_nNCZqPt",
        "5aKyA5ylZv4i",
        "ANL2kNO8ZvwJ",
        "dVURh7AIIXSa"
      ],
      "toc_visible": true
    },
    "kernelspec": {
      "display_name": "Python 3",
      "name": "python3"
    },
    "language_info": {
      "name": "python"
    }
  },
  "nbformat": 4,
  "nbformat_minor": 0
}