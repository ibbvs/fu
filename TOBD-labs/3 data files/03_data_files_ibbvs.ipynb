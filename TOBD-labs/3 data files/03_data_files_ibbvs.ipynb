{
 "cells": [
  {
   "cell_type": "markdown",
   "metadata": {},
   "source": [
    "# Форматы данных"
   ]
  },
  {
   "cell_type": "code",
   "execution_count": 2,
   "metadata": {},
   "outputs": [],
   "source": [
    "import pandas as pd\n",
    "import json\n",
    "import lxml\n",
    "from bs4 import BeautifulSoup\n",
    "import pprint"
   ]
  },
  {
   "cell_type": "markdown",
   "metadata": {},
   "source": [
    "## Задачи для совместного разбора"
   ]
  },
  {
   "cell_type": "markdown",
   "metadata": {},
   "source": [
    "1. Вывести все адреса электронной почты, содержащиеся в адресной книге `addres-book.json`"
   ]
  },
  {
   "cell_type": "code",
   "execution_count": 3,
   "metadata": {},
   "outputs": [
    {
     "data": {
      "text/plain": [
       "[{'name': 'Faina Lee',\n",
       "  'email': 'faina@mail.ru',\n",
       "  'birthday': '22.08.1994',\n",
       "  'phones': [{'phone': '232-19-55'}, {'phone': '+7 (916) 232-19-55'}]},\n",
       " {'name': 'Robert Lee',\n",
       "  'email': 'robert@mail.ru',\n",
       "  'birthday': '22.08.1994',\n",
       "  'phones': [{'phone': '111-19-55'}, {'phone': '+7 (916) 445-19-55'}]}]"
      ]
     },
     "execution_count": 3,
     "metadata": {},
     "output_type": "execute_result"
    }
   ],
   "source": [
    "with open(\"../data sources/addres-book.json\", encoding=\"utf-8\") as file:\n",
    "    emails = json.load(file)\n",
    "    \n",
    "emails"
   ]
  },
  {
   "cell_type": "code",
   "execution_count": 4,
   "metadata": {},
   "outputs": [
    {
     "data": {
      "text/plain": [
       "['faina@mail.ru', 'robert@mail.ru']"
      ]
     },
     "execution_count": 4,
     "metadata": {},
     "output_type": "execute_result"
    }
   ],
   "source": [
    "[dct[\"email\"] for dct in emails]"
   ]
  },
  {
   "cell_type": "markdown",
   "metadata": {},
   "source": [
    "2. Вывести телефоны, содержащиеся в адресной книге `addres-book.json`"
   ]
  },
  {
   "cell_type": "code",
   "execution_count": 5,
   "metadata": {},
   "outputs": [
    {
     "data": {
      "text/plain": [
       "['Телефон: 232-19-55',\n",
       " 'Телефон: +7 (916) 232-19-55',\n",
       " 'Телефон: 111-19-55',\n",
       " 'Телефон: +7 (916) 445-19-55']"
      ]
     },
     "execution_count": 5,
     "metadata": {},
     "output_type": "execute_result"
    }
   ],
   "source": [
    "[f'Телефон: {sub[\"phone\"]}' for dct in emails for sub in dct[\"phones\"]]"
   ]
  },
  {
   "cell_type": "markdown",
   "metadata": {},
   "source": [
    "3. По данным из файла `addres-book-q.xml` сформировать список словарей с телефонами каждого из людей. "
   ]
  },
  {
   "cell_type": "code",
   "execution_count": 6,
   "metadata": {},
   "outputs": [
    {
     "data": {
      "text/plain": [
       "[{'Aicha Barki': '+ (213) 6150 4015'},\n",
       " {'Aicha Barki': '+ (213) 2173 5247'},\n",
       " {'Francisco Domingos': '+ (244-2) 325 023'},\n",
       " {'Francisco Domingos': '+ (244-2) 325 023'},\n",
       " {'Maria Luisa': '+ (244) 4232 2836'},\n",
       " {'Abraao Chanda': '+ (244-2) 325 023'},\n",
       " {'Abraao Chanda': '+ (244-2) 325 023'},\n",
       " {'Beatriz Busaniche': '+ (54-11) 4784 1159'},\n",
       " {'Francesca Beddie': '+ (61-2) 6274 9500'},\n",
       " {'Francesca Beddie': '+ (61-2) 6274 9513'},\n",
       " {'Graham John Smith': '+ (61-3) 9807 4702'}]"
      ]
     },
     "execution_count": 6,
     "metadata": {},
     "output_type": "execute_result"
    }
   ],
   "source": [
    "content = open(\"../data sources/addres-book-q.xml\",\"r\").read()\n",
    "soup = BeautifulSoup(content, 'xml')\n",
    "\n",
    "answer = []\n",
    "for address in soup.find_all('address'):\n",
    "    user_name = address.find(\"name\").get_text()\n",
    "    for phone in address.find_all('phone'):\n",
    "        \n",
    "        answer.append({user_name: phone.get_text()})\n",
    "\n",
    "answer"
   ]
  },
  {
   "cell_type": "markdown",
   "metadata": {},
   "source": [
    "## Лабораторная работа"
   ]
  },
  {
   "cell_type": "markdown",
   "metadata": {},
   "source": [
    "### JSON"
   ]
  },
  {
   "cell_type": "markdown",
   "metadata": {},
   "source": [
    "1.1 Считайте файл `contributors_sample.json`. Воспользовавшись модулем `json`, преобразуйте содержимое файла в соответствующие объекты python. Выведите на экран информацию о первых 3 пользователях."
   ]
  },
  {
   "cell_type": "code",
   "execution_count": 7,
   "metadata": {},
   "outputs": [
    {
     "name": "stdout",
     "output_type": "stream",
     "text": [
      "[ { 'address': '01261 Cameron Spring\\nTaylorfurt, AK 97791',\n",
      "    'id': 35193,\n",
      "    'jobs': [ 'Energy engineer',\n",
      "              'Engineer, site',\n",
      "              'Environmental health practitioner',\n",
      "              'Biomedical scientist',\n",
      "              'Jewellery designer'],\n",
      "    'mail': 'jsalazar@gmail.com',\n",
      "    'name': 'Lindsey Nguyen',\n",
      "    'sex': 'F',\n",
      "    'username': 'uhebert'},\n",
      "  { 'address': '66992 Welch Brooks\\nMarshallshire, ID 56004',\n",
      "    'id': 91970,\n",
      "    'jobs': [ 'Music therapist',\n",
      "              'Volunteer coordinator',\n",
      "              'Designer, interior/spatial'],\n",
      "    'mail': 'bhudson@gmail.com',\n",
      "    'name': 'Cheryl Lewis',\n",
      "    'sex': 'F',\n",
      "    'username': 'vickitaylor'},\n",
      "  { 'address': 'Unit 1632 Box 2971\\nDPO AE 23297',\n",
      "    'id': 1848091,\n",
      "    'jobs': [ 'Management consultant',\n",
      "              'Engineer, structural',\n",
      "              'Lecturer, higher education',\n",
      "              'Theatre manager',\n",
      "              'Designer, textile'],\n",
      "    'mail': 'darren44@yahoo.com',\n",
      "    'name': 'Julia Allen',\n",
      "    'sex': 'F',\n",
      "    'username': 'sheilaadams'}]\n"
     ]
    }
   ],
   "source": [
    "with open(\"../data sources/contributors_sample.json\", encoding=\"utf-8\") as file:\n",
    "    data = json.load(file)\n",
    "    \n",
    "pprint.pprint(data[:3], indent=2)"
   ]
  },
  {
   "cell_type": "markdown",
   "metadata": {},
   "source": [
    "1.2 Выведите уникальные почтовые домены, содержащиеся в почтовых адресах людей"
   ]
  },
  {
   "cell_type": "code",
   "execution_count": 8,
   "metadata": {},
   "outputs": [
    {
     "data": {
      "text/plain": [
       "{'gmail.com', 'hotmail.com', 'yahoo.com'}"
      ]
     },
     "execution_count": 8,
     "metadata": {},
     "output_type": "execute_result"
    }
   ],
   "source": [
    "uniq_domans = set(i['mail'].split(\"@\")[1] for i in data)\n",
    "uniq_domans"
   ]
  },
  {
   "cell_type": "markdown",
   "metadata": {},
   "source": [
    "1.3 Напишите функцию, которая по `username` ищет человека и выводит информацию о нем. Если пользователь с заданным `username` отсутствует, возбудите исключение `ValueError`"
   ]
  },
  {
   "cell_type": "code",
   "execution_count": 9,
   "metadata": {},
   "outputs": [
    {
     "name": "stdout",
     "output_type": "stream",
     "text": [
      "{'address': 'Unit 1632 Box 2971\\nDPO AE 23297',\n",
      " 'id': 1848091,\n",
      " 'jobs': ['Management consultant',\n",
      "          'Engineer, structural',\n",
      "          'Lecturer, higher education',\n",
      "          'Theatre manager',\n",
      "          'Designer, textile'],\n",
      " 'mail': 'darren44@yahoo.com',\n",
      " 'name': 'Julia Allen',\n",
      " 'sex': 'F',\n",
      " 'username': 'sheilaadams'}\n",
      "\n",
      "\n",
      "**************************************************\n",
      "Возбуждаем исключение:\n",
      "\n"
     ]
    },
    {
     "ename": "ValueError",
     "evalue": "Пользователя с таким username не найдено",
     "output_type": "error",
     "traceback": [
      "\u001b[1;31m---------------------------------------------------------------------------\u001b[0m",
      "\u001b[1;31mValueError\u001b[0m                                Traceback (most recent call last)",
      "Cell \u001b[1;32mIn[9], line 11\u001b[0m\n\u001b[0;32m      8\u001b[0m pprint\u001b[38;5;241m.\u001b[39mpprint(get_info(\u001b[38;5;124m'\u001b[39m\u001b[38;5;124msheilaadams\u001b[39m\u001b[38;5;124m'\u001b[39m, data))\n\u001b[0;32m     10\u001b[0m \u001b[38;5;28mprint\u001b[39m(\u001b[38;5;124mf\u001b[39m\u001b[38;5;124m'\u001b[39m\u001b[38;5;130;01m\\n\u001b[39;00m\u001b[38;5;130;01m\\n\u001b[39;00m\u001b[38;5;132;01m{\u001b[39;00m\u001b[38;5;124m\"\u001b[39m\u001b[38;5;124m*\u001b[39m\u001b[38;5;124m\"\u001b[39m\u001b[38;5;241m*\u001b[39m\u001b[38;5;241m50\u001b[39m\u001b[38;5;132;01m}\u001b[39;00m\u001b[38;5;130;01m\\n\u001b[39;00m\u001b[38;5;124mВозбуждаем исключение:\u001b[39m\u001b[38;5;130;01m\\n\u001b[39;00m\u001b[38;5;124m'\u001b[39m)\n\u001b[1;32m---> 11\u001b[0m pprint\u001b[38;5;241m.\u001b[39mpprint(get_info(\u001b[38;5;124m'\u001b[39m\u001b[38;5;124mibbvs\u001b[39m\u001b[38;5;124m'\u001b[39m, data))\n",
      "Cell \u001b[1;32mIn[9], line 5\u001b[0m, in \u001b[0;36mget_info\u001b[1;34m(username, data)\u001b[0m\n\u001b[0;32m      3\u001b[0m     \u001b[38;5;28;01mif\u001b[39;00m user[\u001b[38;5;124m'\u001b[39m\u001b[38;5;124musername\u001b[39m\u001b[38;5;124m'\u001b[39m] \u001b[38;5;241m==\u001b[39m username:\n\u001b[0;32m      4\u001b[0m         \u001b[38;5;28;01mreturn\u001b[39;00m user\n\u001b[1;32m----> 5\u001b[0m \u001b[38;5;28;01mraise\u001b[39;00m \u001b[38;5;167;01mValueError\u001b[39;00m(\u001b[38;5;124m'\u001b[39m\u001b[38;5;124mПользователя с таким username не найдено\u001b[39m\u001b[38;5;124m'\u001b[39m)\n",
      "\u001b[1;31mValueError\u001b[0m: Пользователя с таким username не найдено"
     ]
    }
   ],
   "source": [
    "def get_info(username, data):\n",
    "    for user in data:\n",
    "        if user['username'] == username:\n",
    "            return user\n",
    "    raise ValueError('Пользователя с таким username не найдено')\n",
    "\n",
    "    \n",
    "pprint.pprint(get_info('sheilaadams', data))\n",
    "\n",
    "print(f'\\n\\n{\"*\"*50}\\nВозбуждаем исключение:\\n')\n",
    "pprint.pprint(get_info('ibbvs', data))"
   ]
  },
  {
   "cell_type": "markdown",
   "metadata": {},
   "source": [
    "1.4 Посчитайте, сколько мужчин и женщин присутсвует в этом наборе данных."
   ]
  },
  {
   "cell_type": "code",
   "execution_count": 10,
   "metadata": {},
   "outputs": [
    {
     "name": "stdout",
     "output_type": "stream",
     "text": [
      "Общее количество людей в данном датасете = 4200\n",
      "Количество мужчин = 2064\n",
      "Количество женщин = 2136\n"
     ]
    }
   ],
   "source": [
    "n = len(data)\n",
    "\n",
    "f = sum(map(lambda x: x['sex'].lower() == 'f', data))\n",
    "m = len(list(filter(lambda x: x['sex'].lower() == 'm', data)))\n",
    "\n",
    "print(f'Общее количество людей в данном датасете = {n}\\nКоличество мужчин = {m}\\nКоличество женщин = {f}')"
   ]
  },
  {
   "cell_type": "markdown",
   "metadata": {},
   "source": [
    "1.5 Создайте `pd.DataFrame` `contributors`, имеющий столбцы `id`, `username` и `sex`."
   ]
  },
  {
   "cell_type": "code",
   "execution_count": 11,
   "metadata": {},
   "outputs": [
    {
     "data": {
      "text/html": [
       "<div>\n",
       "<style scoped>\n",
       "    .dataframe tbody tr th:only-of-type {\n",
       "        vertical-align: middle;\n",
       "    }\n",
       "\n",
       "    .dataframe tbody tr th {\n",
       "        vertical-align: top;\n",
       "    }\n",
       "\n",
       "    .dataframe thead th {\n",
       "        text-align: right;\n",
       "    }\n",
       "</style>\n",
       "<table border=\"1\" class=\"dataframe\">\n",
       "  <thead>\n",
       "    <tr style=\"text-align: right;\">\n",
       "      <th></th>\n",
       "      <th>id</th>\n",
       "      <th>username</th>\n",
       "      <th>sex</th>\n",
       "    </tr>\n",
       "  </thead>\n",
       "  <tbody>\n",
       "    <tr>\n",
       "      <th>0</th>\n",
       "      <td>35193</td>\n",
       "      <td>uhebert</td>\n",
       "      <td>F</td>\n",
       "    </tr>\n",
       "    <tr>\n",
       "      <th>1</th>\n",
       "      <td>91970</td>\n",
       "      <td>vickitaylor</td>\n",
       "      <td>F</td>\n",
       "    </tr>\n",
       "    <tr>\n",
       "      <th>2</th>\n",
       "      <td>1848091</td>\n",
       "      <td>sheilaadams</td>\n",
       "      <td>F</td>\n",
       "    </tr>\n",
       "    <tr>\n",
       "      <th>3</th>\n",
       "      <td>50969</td>\n",
       "      <td>nicole82</td>\n",
       "      <td>F</td>\n",
       "    </tr>\n",
       "    <tr>\n",
       "      <th>4</th>\n",
       "      <td>676820</td>\n",
       "      <td>jean67</td>\n",
       "      <td>M</td>\n",
       "    </tr>\n",
       "    <tr>\n",
       "      <th>...</th>\n",
       "      <td>...</td>\n",
       "      <td>...</td>\n",
       "      <td>...</td>\n",
       "    </tr>\n",
       "    <tr>\n",
       "      <th>4195</th>\n",
       "      <td>423555</td>\n",
       "      <td>stevenspencer</td>\n",
       "      <td>F</td>\n",
       "    </tr>\n",
       "    <tr>\n",
       "      <th>4196</th>\n",
       "      <td>35251</td>\n",
       "      <td>rwilliams</td>\n",
       "      <td>M</td>\n",
       "    </tr>\n",
       "    <tr>\n",
       "      <th>4197</th>\n",
       "      <td>135887</td>\n",
       "      <td>lmartinez</td>\n",
       "      <td>F</td>\n",
       "    </tr>\n",
       "    <tr>\n",
       "      <th>4198</th>\n",
       "      <td>212714</td>\n",
       "      <td>brendahill</td>\n",
       "      <td>M</td>\n",
       "    </tr>\n",
       "    <tr>\n",
       "      <th>4199</th>\n",
       "      <td>344321</td>\n",
       "      <td>mistyray</td>\n",
       "      <td>F</td>\n",
       "    </tr>\n",
       "  </tbody>\n",
       "</table>\n",
       "<p>4200 rows × 3 columns</p>\n",
       "</div>"
      ],
      "text/plain": [
       "           id       username sex\n",
       "0       35193        uhebert   F\n",
       "1       91970    vickitaylor   F\n",
       "2     1848091    sheilaadams   F\n",
       "3       50969       nicole82   F\n",
       "4      676820         jean67   M\n",
       "...       ...            ...  ..\n",
       "4195   423555  stevenspencer   F\n",
       "4196    35251      rwilliams   M\n",
       "4197   135887      lmartinez   F\n",
       "4198   212714     brendahill   M\n",
       "4199   344321       mistyray   F\n",
       "\n",
       "[4200 rows x 3 columns]"
      ]
     },
     "execution_count": 11,
     "metadata": {},
     "output_type": "execute_result"
    }
   ],
   "source": [
    "solution = [{\n",
    "    \"id\": user['id'],\n",
    "    \"username\": user['username'],\n",
    "    \"sex\": user['sex']\n",
    "} for user in data]\n",
    "\n",
    "\n",
    "contributors = pd.DataFrame.from_dict(solution)\n",
    "contributors"
   ]
  },
  {
   "cell_type": "markdown",
   "metadata": {},
   "source": [
    "1.6 Загрузите данные из файла `recipes_sample.csv` в таблицу `recipes`. Объедините `recipes` с таблицей `contributors` с сохранением строк в том случае, если информация о человеке отсутствует в JSON-файле. Для скольких человек информация отсутствует? "
   ]
  },
  {
   "cell_type": "code",
   "execution_count": 12,
   "metadata": {},
   "outputs": [
    {
     "data": {
      "text/html": [
       "<div>\n",
       "<style scoped>\n",
       "    .dataframe tbody tr th:only-of-type {\n",
       "        vertical-align: middle;\n",
       "    }\n",
       "\n",
       "    .dataframe tbody tr th {\n",
       "        vertical-align: top;\n",
       "    }\n",
       "\n",
       "    .dataframe thead th {\n",
       "        text-align: right;\n",
       "    }\n",
       "</style>\n",
       "<table border=\"1\" class=\"dataframe\">\n",
       "  <thead>\n",
       "    <tr style=\"text-align: right;\">\n",
       "      <th></th>\n",
       "      <th>name</th>\n",
       "      <th>id</th>\n",
       "      <th>minutes</th>\n",
       "      <th>contributor_id</th>\n",
       "      <th>submitted</th>\n",
       "      <th>n_steps</th>\n",
       "      <th>description</th>\n",
       "      <th>n_ingredients</th>\n",
       "    </tr>\n",
       "  </thead>\n",
       "  <tbody>\n",
       "    <tr>\n",
       "      <th>0</th>\n",
       "      <td>george s at the cove  black bean soup</td>\n",
       "      <td>44123</td>\n",
       "      <td>90</td>\n",
       "      <td>35193</td>\n",
       "      <td>2002-10-25</td>\n",
       "      <td>NaN</td>\n",
       "      <td>an original recipe created by chef scott meska...</td>\n",
       "      <td>18.0</td>\n",
       "    </tr>\n",
       "    <tr>\n",
       "      <th>1</th>\n",
       "      <td>healthy for them  yogurt popsicles</td>\n",
       "      <td>67664</td>\n",
       "      <td>10</td>\n",
       "      <td>91970</td>\n",
       "      <td>2003-07-26</td>\n",
       "      <td>NaN</td>\n",
       "      <td>my children and their friends ask for my homem...</td>\n",
       "      <td>NaN</td>\n",
       "    </tr>\n",
       "    <tr>\n",
       "      <th>2</th>\n",
       "      <td>i can t believe it s spinach</td>\n",
       "      <td>38798</td>\n",
       "      <td>30</td>\n",
       "      <td>1533</td>\n",
       "      <td>2002-08-29</td>\n",
       "      <td>NaN</td>\n",
       "      <td>these were so go, it surprised even me.</td>\n",
       "      <td>8.0</td>\n",
       "    </tr>\n",
       "    <tr>\n",
       "      <th>3</th>\n",
       "      <td>italian  gut busters</td>\n",
       "      <td>35173</td>\n",
       "      <td>45</td>\n",
       "      <td>22724</td>\n",
       "      <td>2002-07-27</td>\n",
       "      <td>NaN</td>\n",
       "      <td>my sister-in-law made these for us at a family...</td>\n",
       "      <td>NaN</td>\n",
       "    </tr>\n",
       "    <tr>\n",
       "      <th>4</th>\n",
       "      <td>love is in the air  beef fondue   sauces</td>\n",
       "      <td>84797</td>\n",
       "      <td>25</td>\n",
       "      <td>4470</td>\n",
       "      <td>2004-02-23</td>\n",
       "      <td>4.0</td>\n",
       "      <td>i think a fondue is a very romantic casual din...</td>\n",
       "      <td>NaN</td>\n",
       "    </tr>\n",
       "  </tbody>\n",
       "</table>\n",
       "</div>"
      ],
      "text/plain": [
       "                                       name     id  minutes  contributor_id  \\\n",
       "0     george s at the cove  black bean soup  44123       90           35193   \n",
       "1        healthy for them  yogurt popsicles  67664       10           91970   \n",
       "2              i can t believe it s spinach  38798       30            1533   \n",
       "3                      italian  gut busters  35173       45           22724   \n",
       "4  love is in the air  beef fondue   sauces  84797       25            4470   \n",
       "\n",
       "    submitted  n_steps                                        description  \\\n",
       "0  2002-10-25      NaN  an original recipe created by chef scott meska...   \n",
       "1  2003-07-26      NaN  my children and their friends ask for my homem...   \n",
       "2  2002-08-29      NaN            these were so go, it surprised even me.   \n",
       "3  2002-07-27      NaN  my sister-in-law made these for us at a family...   \n",
       "4  2004-02-23      4.0  i think a fondue is a very romantic casual din...   \n",
       "\n",
       "   n_ingredients  \n",
       "0           18.0  \n",
       "1            NaN  \n",
       "2            8.0  \n",
       "3            NaN  \n",
       "4            NaN  "
      ]
     },
     "execution_count": 12,
     "metadata": {},
     "output_type": "execute_result"
    }
   ],
   "source": [
    "recipes = pd.read_csv(\"../data sources/recipes_sample.csv\")\n",
    "recipes.head()"
   ]
  },
  {
   "cell_type": "code",
   "execution_count": 13,
   "metadata": {},
   "outputs": [
    {
     "data": {
      "text/html": [
       "<div>\n",
       "<style scoped>\n",
       "    .dataframe tbody tr th:only-of-type {\n",
       "        vertical-align: middle;\n",
       "    }\n",
       "\n",
       "    .dataframe tbody tr th {\n",
       "        vertical-align: top;\n",
       "    }\n",
       "\n",
       "    .dataframe thead th {\n",
       "        text-align: right;\n",
       "    }\n",
       "</style>\n",
       "<table border=\"1\" class=\"dataframe\">\n",
       "  <thead>\n",
       "    <tr style=\"text-align: right;\">\n",
       "      <th></th>\n",
       "      <th>name</th>\n",
       "      <th>id_x</th>\n",
       "      <th>minutes</th>\n",
       "      <th>contributor_id</th>\n",
       "      <th>submitted</th>\n",
       "      <th>n_steps</th>\n",
       "      <th>description</th>\n",
       "      <th>n_ingredients</th>\n",
       "      <th>id_y</th>\n",
       "      <th>username</th>\n",
       "      <th>sex</th>\n",
       "    </tr>\n",
       "  </thead>\n",
       "  <tbody>\n",
       "    <tr>\n",
       "      <th>0</th>\n",
       "      <td>george s at the cove  black bean soup</td>\n",
       "      <td>44123</td>\n",
       "      <td>90</td>\n",
       "      <td>35193</td>\n",
       "      <td>2002-10-25</td>\n",
       "      <td>NaN</td>\n",
       "      <td>an original recipe created by chef scott meska...</td>\n",
       "      <td>18.0</td>\n",
       "      <td>35193.0</td>\n",
       "      <td>uhebert</td>\n",
       "      <td>F</td>\n",
       "    </tr>\n",
       "    <tr>\n",
       "      <th>1</th>\n",
       "      <td>healthy for them  yogurt popsicles</td>\n",
       "      <td>67664</td>\n",
       "      <td>10</td>\n",
       "      <td>91970</td>\n",
       "      <td>2003-07-26</td>\n",
       "      <td>NaN</td>\n",
       "      <td>my children and their friends ask for my homem...</td>\n",
       "      <td>NaN</td>\n",
       "      <td>91970.0</td>\n",
       "      <td>vickitaylor</td>\n",
       "      <td>F</td>\n",
       "    </tr>\n",
       "    <tr>\n",
       "      <th>2</th>\n",
       "      <td>i can t believe it s spinach</td>\n",
       "      <td>38798</td>\n",
       "      <td>30</td>\n",
       "      <td>1533</td>\n",
       "      <td>2002-08-29</td>\n",
       "      <td>NaN</td>\n",
       "      <td>these were so go, it surprised even me.</td>\n",
       "      <td>8.0</td>\n",
       "      <td>NaN</td>\n",
       "      <td>NaN</td>\n",
       "      <td>NaN</td>\n",
       "    </tr>\n",
       "    <tr>\n",
       "      <th>3</th>\n",
       "      <td>italian  gut busters</td>\n",
       "      <td>35173</td>\n",
       "      <td>45</td>\n",
       "      <td>22724</td>\n",
       "      <td>2002-07-27</td>\n",
       "      <td>NaN</td>\n",
       "      <td>my sister-in-law made these for us at a family...</td>\n",
       "      <td>NaN</td>\n",
       "      <td>NaN</td>\n",
       "      <td>NaN</td>\n",
       "      <td>NaN</td>\n",
       "    </tr>\n",
       "    <tr>\n",
       "      <th>4</th>\n",
       "      <td>love is in the air  beef fondue   sauces</td>\n",
       "      <td>84797</td>\n",
       "      <td>25</td>\n",
       "      <td>4470</td>\n",
       "      <td>2004-02-23</td>\n",
       "      <td>4.0</td>\n",
       "      <td>i think a fondue is a very romantic casual din...</td>\n",
       "      <td>NaN</td>\n",
       "      <td>NaN</td>\n",
       "      <td>NaN</td>\n",
       "      <td>NaN</td>\n",
       "    </tr>\n",
       "  </tbody>\n",
       "</table>\n",
       "</div>"
      ],
      "text/plain": [
       "                                       name   id_x  minutes  contributor_id  \\\n",
       "0     george s at the cove  black bean soup  44123       90           35193   \n",
       "1        healthy for them  yogurt popsicles  67664       10           91970   \n",
       "2              i can t believe it s spinach  38798       30            1533   \n",
       "3                      italian  gut busters  35173       45           22724   \n",
       "4  love is in the air  beef fondue   sauces  84797       25            4470   \n",
       "\n",
       "    submitted  n_steps                                        description  \\\n",
       "0  2002-10-25      NaN  an original recipe created by chef scott meska...   \n",
       "1  2003-07-26      NaN  my children and their friends ask for my homem...   \n",
       "2  2002-08-29      NaN            these were so go, it surprised even me.   \n",
       "3  2002-07-27      NaN  my sister-in-law made these for us at a family...   \n",
       "4  2004-02-23      4.0  i think a fondue is a very romantic casual din...   \n",
       "\n",
       "   n_ingredients     id_y     username  sex  \n",
       "0           18.0  35193.0      uhebert    F  \n",
       "1            NaN  91970.0  vickitaylor    F  \n",
       "2            8.0      NaN          NaN  NaN  \n",
       "3            NaN      NaN          NaN  NaN  \n",
       "4            NaN      NaN          NaN  NaN  "
      ]
     },
     "execution_count": 13,
     "metadata": {},
     "output_type": "execute_result"
    }
   ],
   "source": [
    "contributors_recipes = pd.merge(recipes, contributors,  right_on=\"id\", left_on=\"contributor_id\", how=\"left\")\n",
    "\n",
    "contributors_recipes.head()"
   ]
  },
  {
   "cell_type": "code",
   "execution_count": 14,
   "metadata": {},
   "outputs": [
    {
     "name": "stdout",
     "output_type": "stream",
     "text": [
      "Для скольких человек информация отсутствует?\n",
      "15059 строк имеют значение NaN\n",
      "\n",
      "\n",
      "Для скольких человек информация присутствует?\n",
      "14941 строк НЕ имеют значение NaN\n"
     ]
    }
   ],
   "source": [
    "print(f\"Для скольких человек информация отсутствует?\\n{contributors_recipes['id_y'].isna().sum()} строк имеют значение NaN\\n\\n\")\n",
    "print(f\"Для скольких человек информация присутствует?\\n{contributors_recipes['id_y'].notna().sum()} строк НЕ имеют значение NaN\")"
   ]
  },
  {
   "cell_type": "markdown",
   "metadata": {},
   "source": [
    "### pickle"
   ]
  },
  {
   "cell_type": "markdown",
   "metadata": {},
   "source": [
    "2.1 На основе файла `contributors_sample.json` создайте словарь следующего вида: \n",
    "```\n",
    "{\n",
    "    должность: [список username людей, занимавших эту должность]\n",
    "}\n",
    "```"
   ]
  },
  {
   "cell_type": "code",
   "execution_count": 15,
   "metadata": {},
   "outputs": [
    {
     "data": {
      "text/plain": [
       "[{'username': 'uhebert',\n",
       "  'name': 'Lindsey Nguyen',\n",
       "  'sex': 'F',\n",
       "  'address': '01261 Cameron Spring\\nTaylorfurt, AK 97791',\n",
       "  'mail': 'jsalazar@gmail.com',\n",
       "  'jobs': ['Energy engineer',\n",
       "   'Engineer, site',\n",
       "   'Environmental health practitioner',\n",
       "   'Biomedical scientist',\n",
       "   'Jewellery designer'],\n",
       "  'id': 35193},\n",
       " {'username': 'vickitaylor',\n",
       "  'name': 'Cheryl Lewis',\n",
       "  'sex': 'F',\n",
       "  'address': '66992 Welch Brooks\\nMarshallshire, ID 56004',\n",
       "  'mail': 'bhudson@gmail.com',\n",
       "  'jobs': ['Music therapist',\n",
       "   'Volunteer coordinator',\n",
       "   'Designer, interior/spatial'],\n",
       "  'id': 91970}]"
      ]
     },
     "execution_count": 15,
     "metadata": {},
     "output_type": "execute_result"
    }
   ],
   "source": [
    "data[:2]"
   ]
  },
  {
   "cell_type": "code",
   "execution_count": 19,
   "metadata": {},
   "outputs": [
    {
     "name": "stdout",
     "output_type": "stream",
     "text": [
      "['amberunderwood',\n",
      " 'pattersonstephanie',\n",
      " 'ygray',\n",
      " 'nmartinez',\n",
      " 'crystalsmith',\n",
      " 'pjohnson',\n",
      " 'davidjohnson',\n",
      " 'stephaniehouse',\n",
      " 'xstephens',\n",
      " 'linda24',\n",
      " 'stewartjohn',\n",
      " 'melinda48',\n",
      " 'xflores',\n",
      " 'nicholas92',\n",
      " 'wdixon',\n",
      " 'aguirremichelle',\n",
      " 'ashley12',\n",
      " 'amandatyler',\n",
      " 'nelsonstephen',\n",
      " 'margaretpowell',\n",
      " 'aaroncase',\n",
      " 'amy79']\n"
     ]
    }
   ],
   "source": [
    "from collections import defaultdict\n",
    "from itertools import chain\n",
    "\n",
    "\n",
    "\n",
    "jobs = set(chain(*[i['jobs'] for i in data]))\n",
    "\n",
    "result = defaultdict(list)\n",
    "for job in jobs:\n",
    "    result[job] = list(map(lambda x: x['username'], filter(lambda x: job in x['jobs'], data)))\n",
    "\n",
    "    \n",
    "#Проверка: Вывел юзернеймы всех кто занимал должность \"Catering manager\"\n",
    "pprint.pprint(result[\"Catering manager\"]) "
   ]
  },
  {
   "cell_type": "code",
   "execution_count": 21,
   "metadata": {},
   "outputs": [
    {
     "name": "stdout",
     "output_type": "stream",
     "text": [
      "{'address': '47155 Jill Fork\\nNorth Gregoryland, FL 40917',\n",
      " 'id': 718854,\n",
      " 'jobs': ['Art therapist',\n",
      "          'Dance movement psychotherapist',\n",
      "          'Surveyor, land/geomatics',\n",
      "          'Chief Executive Officer',\n",
      "          'Catering manager'],\n",
      " 'mail': 'josephcharles@yahoo.com',\n",
      " 'name': 'John Hood',\n",
      " 'sex': 'M',\n",
      " 'username': 'amy79'}\n"
     ]
    }
   ],
   "source": [
    "# Проверка: Передал в функцию username из списка выше\n",
    "pprint.pprint(get_info('amy79', data))"
   ]
  },
  {
   "cell_type": "markdown",
   "metadata": {},
   "source": [
    "2.2 Сохраните результаты в файл `job_people.pickle` и в файл `job_people.json` с использованием форматов pickle и JSON соответственно. Сравните объемы получившихся файлов. При сохранении в JSON укажите аргумент `indent`."
   ]
  },
  {
   "cell_type": "code",
   "execution_count": 22,
   "metadata": {},
   "outputs": [
    {
     "name": "stdout",
     "output_type": "stream",
     "text": [
      "Вес pickle-файла: 129.06 KB\n",
      "Вес json-файла: 397.11 КВ.\n"
     ]
    }
   ],
   "source": [
    "import os.path\n",
    "import os\n",
    "import pickle\n",
    "\n",
    "#более корректное отображение, без него так же работает\n",
    "'''\n",
    "lst = []\n",
    "for position, usernames in result.items():\n",
    "    lst.append({\n",
    "        'position': position,\n",
    "        'usernames': usernames\n",
    "    })\n",
    "with open('job_people.pkl', 'wb') as f1, open('job_people.json', 'w', encoding='utf-8') as f2:\n",
    "    pickle.dump(lst, f1)\n",
    "    json.dump(lst, f2, indent=4)\n",
    "'''\n",
    "\n",
    "with open('../data sources/job_people.pkl', 'wb') as f1, open('../data sources/job_people.json', 'w', encoding='utf-8') as f2:\n",
    "    pickle.dump(result, f1)\n",
    "    json.dump(result, f2, indent=4)\n",
    "    \n",
    "    \n",
    "print(f'Вес pickle-файла: {round(os.path.getsize(\"../data sources/job_people.pkl\") / 1024, 2)} KB\\nВес json-файла: {round(os.path.getsize(\"../data sources/job_people.json\") / 1024, 2)} КВ.')\n"
   ]
  },
  {
   "cell_type": "markdown",
   "metadata": {},
   "source": [
    "2.3 Считайте файл `job_people.pickle` и продемонстрируйте, что данные считались корректно. "
   ]
  },
  {
   "cell_type": "code",
   "execution_count": 26,
   "metadata": {},
   "outputs": [
    {
     "name": "stdout",
     "output_type": "stream",
     "text": [
      "['amberunderwood',\n",
      " 'pattersonstephanie',\n",
      " 'ygray',\n",
      " 'nmartinez',\n",
      " 'crystalsmith',\n",
      " 'pjohnson',\n",
      " 'davidjohnson',\n",
      " 'stephaniehouse',\n",
      " 'xstephens',\n",
      " 'linda24',\n",
      " 'stewartjohn',\n",
      " 'melinda48',\n",
      " 'xflores',\n",
      " 'nicholas92',\n",
      " 'wdixon',\n",
      " 'aguirremichelle',\n",
      " 'ashley12',\n",
      " 'amandatyler',\n",
      " 'nelsonstephen',\n",
      " 'margaretpowell',\n",
      " 'aaroncase',\n",
      " 'amy79']\n",
      "\n",
      "\n",
      "\n",
      "Данные считались корректно - True\n"
     ]
    }
   ],
   "source": [
    "with open('../data sources/job_people.pkl', 'rb') as file:\n",
    "    obj = pickle.load(file)\n",
    "    \n",
    "\n",
    "pprint.pprint(obj[\"Catering manager\"])\n",
    "\n",
    "print(f'\\n\\n\\nДанные считались корректно - {result[\"Catering manager\"] == obj[\"Catering manager\"]}')"
   ]
  },
  {
   "cell_type": "markdown",
   "metadata": {},
   "source": [
    "### XML"
   ]
  },
  {
   "cell_type": "markdown",
   "metadata": {},
   "source": [
    "3.1 По данным файла `steps_sample.xml` сформируйте словарь с шагами по каждому рецепту вида `{id_рецепта: [\"шаг1\", \"шаг2\"]}`. Сохраните этот словарь в файл `steps_sample.json`"
   ]
  },
  {
   "cell_type": "code",
   "execution_count": 28,
   "metadata": {},
   "outputs": [],
   "source": [
    "content = open(\"../data sources/steps_sample.xml\",\"r\").read()\n",
    "soup = BeautifulSoup(content, 'xml')\n",
    "\n",
    "result_dict = {}\n",
    "\n",
    "for recipe in soup.find_all('recipe'):\n",
    "    recipe_id = int(recipe.find(\"id\").get_text())\n",
    "    result_dict[recipe_id] = []\n",
    "    \n",
    "    for step in recipe.find_all(\"step\"):\n",
    "        text = step.get_text()\n",
    "        result_dict[recipe_id].append(text)\n",
    "\n"
   ]
  },
  {
   "cell_type": "code",
   "execution_count": 38,
   "metadata": {},
   "outputs": [
    {
     "name": "stdout",
     "output_type": "stream",
     "text": [
      "Количество ключ-значений в словаре result_dict = 30000\n",
      "Первые 5 ключей: [44123, 67664, 38798, 35173, 84797]\n"
     ]
    },
    {
     "data": {
      "text/plain": [
       "['in 1 / 4 cup butter , saute carrots , onion , celery and broccoli stems for 5 minutes',\n",
       " 'add thyme , oregano and basil',\n",
       " 'saute 5 minutes more',\n",
       " 'add wine and deglaze pan',\n",
       " 'add hot chicken stock and reduce by one-third',\n",
       " 'add worcestershire sauce , tabasco , smoked chicken , beans and broccoli florets',\n",
       " 'simmer 5 minutes',\n",
       " 'add cream , simmer 5 minutes more and season to taste',\n",
       " 'drop in remaining butter , piece by piece , stirring until melted and serve immediately',\n",
       " 'smoked chicken: on a covered grill , slightly smoke boneless chicken , cooking to medium rare',\n",
       " 'chef meskan uses applewood chips and does not allow the grill to become too hot']"
      ]
     },
     "execution_count": 38,
     "metadata": {},
     "output_type": "execute_result"
    }
   ],
   "source": [
    "# Из-за большого количества ключ-значений, вывел только первые 5\n",
    "print(f\"Количество ключ-значений в словаре result_dict = {len(result_dict.keys())}\")\n",
    "print(f\"Первые 5 ключей: {list(result_dict.keys())[:5]}\")\n",
    "\n",
    "#Проверка: шаги для рецепта с id=44123, количество шагов - 11\n",
    "result_dict[44123]"
   ]
  },
  {
   "cell_type": "markdown",
   "metadata": {},
   "source": [
    "3.2 По данным файла `steps_sample.xml` сформируйте словарь следующего вида: `кол-во_шагов_в_рецепте: [список_id_рецептов]`"
   ]
  },
  {
   "cell_type": "code",
   "execution_count": 40,
   "metadata": {},
   "outputs": [
    {
     "data": {
      "text/plain": [
       "[44123, 302399, 375376, 140610, 374703]"
      ]
     },
     "execution_count": 40,
     "metadata": {},
     "output_type": "execute_result"
    }
   ],
   "source": [
    "#Множество со всевозможными количествами шагов в рецептах\n",
    "seen = set(len(v) for k, v in result_dict.items())\n",
    "\n",
    "result_dict2 = {}\n",
    "\n",
    "for num in seen:\n",
    "    result_dict2[num] = list(map(lambda x: x[0], filter(lambda x: num == len(x[1]), result_dict.items())))\n",
    "\n",
    "\n",
    "# Проверка: Вывел 5 первых id у которых количество шагов = 11, среди них и id=44123 у которого как показала проверка кол-во шагов=11    \n",
    "result_dict2[11][:5]"
   ]
  },
  {
   "cell_type": "code",
   "execution_count": 45,
   "metadata": {},
   "outputs": [
    {
     "name": "stdout",
     "output_type": "stream",
     "text": [
      "[33246, 125721, 8827, 281241, 351371, 455529, 485158, 276396, 67666, 284868, 229602, 323477, 112725, 275046, 512016, 404419, 61105, 213993, 269631, 269186, 23353, 153053, 10633, 367819, 14450, 45544, 21332, 207929, 306297, 215579, 286717, 245056, 150063, 141231, 171900, 377604, 156521, 219708, 257358, 299621, 121166, 507169, 40568, 459993, 246787, 377416, 260015, 71746, 366389, 255007, 310004, 14782, 53106, 7697, 195792, 269776, 297839, 257710, 462416, 458432, 219142, 11774, 352312, 129180, 2560, 339164, 20791, 116966, 47084, 501494, 433185, 136445, 312922, 503010, 19961, 417021, 118359, 83171, 116718, 130134, 56394, 28389, 123591, 414936, 504772, 382927, 36139, 392676, 494731, 483181, 246581, 380234, 287180, 217537, 45773, 475219, 471981, 408186, 55949, 16252, 72010, 209928, 290710, 369105, 78355, 374373, 279936, 427550, 471432, 410346, 212687, 168150, 486169, 44999, 474356, 380740, 292585, 241327, 188152, 70879, 200025, 158152, 224272, 368431, 469158, 128429, 264935, 318574, 209536, 16901, 227101, 75652, 353739, 402555, 427237, 380055, 230189, 240638, 327447, 150621, 288055, 63379, 286066, 290115, 71964, 303738, 29126, 318512, 383823, 297180, 46190, 26434, 419431, 470501, 8492, 452804, 326404, 459378, 151432, 261810, 282487, 168544, 329253, 415831, 242764, 275202, 56210, 68619, 304980, 66040, 270103, 158821, 475167, 500068, 437567, 306714, 432035, 176524, 312683, 158548, 72283, 385552, 169404, 375121, 296994, 232293, 63538, 11138, 19256, 324862, 106428, 57340, 377777, 455916, 296645, 87725, 40655, 320232, 396099, 31020, 329529, 316448, 20874, 232606, 465206, 378041, 163147, 473089, 368038, 183126, 174635, 307234, 152784, 176700, 306985, 277124, 337955, 278427, 357220, 298399, 12724, 295204, 146016, 357655, 290769, 270292, 290327, 270027, 206150, 8442, 166778, 373287, 392010, 143119, 16061, 422485, 355850, 168652, 382869, 234078, 429592, 130676, 14713, 204346, 131432, 363094, 358116, 348470, 218193, 220122, 314620, 124269, 499525, 246097, 220263, 197303, 284536, 423933, 433106, 351319, 300883, 285721, 471968, 263209, 57915, 55647, 9181, 415069, 227046, 355438, 45758, 45781, 455329, 293797, 289310, 171001, 282837, 41197, 52337, 454534, 79948, 331578, 318377, 429540, 301396, 194331, 259045, 348025, 334439, 19988, 160599]\n"
     ]
    }
   ],
   "source": [
    "# Проверка: обращаюсь по ключу = 1 - это количество шагов в рецепте. На принт выходят все id у которых количество шагов = 1\n",
    "print(result_dict2[1])"
   ]
  },
  {
   "cell_type": "code",
   "execution_count": 50,
   "metadata": {},
   "outputs": [
    {
     "data": {
      "text/plain": [
       "33246"
      ]
     },
     "execution_count": 50,
     "metadata": {},
     "output_type": "execute_result"
    }
   ],
   "source": [
    "# Беру первый элемент данного списка. Он равен 33246\n",
    "idx1 = result_dict2[1][0]\n",
    "idx1"
   ]
  },
  {
   "cell_type": "code",
   "execution_count": 51,
   "metadata": {},
   "outputs": [
    {
     "data": {
      "text/plain": [
       "['bake 50 minutes at 400 degrees']"
      ]
     },
     "execution_count": 51,
     "metadata": {},
     "output_type": "execute_result"
    }
   ],
   "source": [
    "# Передаю его в другой словарь, у которого ключами являются id рецептов а значениями - список шагов\n",
    "# Как видно, всё работает у id=33246 кол-во шагов = 1\n",
    "result_dict[idx1]"
   ]
  },
  {
   "cell_type": "code",
   "execution_count": 52,
   "metadata": {},
   "outputs": [
    {
     "data": {
      "text/plain": [
       "['mix well , serve in tea cups']"
      ]
     },
     "execution_count": 52,
     "metadata": {},
     "output_type": "execute_result"
    }
   ],
   "source": [
    "# Проверка: теперь из того же списка с кол-вом шагов = 1 возьму последний id\n",
    "idx2 = result_dict2[1][-1]\n",
    "result_dict[idx2]"
   ]
  },
  {
   "cell_type": "markdown",
   "metadata": {},
   "source": [
    "3.3 Получите список рецептов, в этапах выполнения которых есть информация о времени (часы или минуты). Для отбора подходящих рецептов обратите внимание на атрибуты соответствующих тэгов."
   ]
  },
  {
   "cell_type": "code",
   "execution_count": 53,
   "metadata": {},
   "outputs": [
    {
     "name": "stdout",
     "output_type": "stream",
     "text": [
      "23469\n"
     ]
    },
    {
     "data": {
      "text/plain": [
       "[44123, 35173, 453467, 306168, 50662]"
      ]
     },
     "execution_count": 53,
     "metadata": {},
     "output_type": "execute_result"
    }
   ],
   "source": [
    "\n",
    "time_recipes = []\n",
    "\n",
    "for recipe in soup.find_all('recipe'):\n",
    "    recipe_id = int(recipe.find(\"id\").get_text())\n",
    "    for recipe in recipe.findAll(\"step\"):\n",
    "        if recipe.has_attr('has_hours') or recipe.has_attr('has_minutes'):\n",
    "            time_recipes.append(recipe_id)\n",
    "            break\n",
    "            \n",
    "\n",
    "            \n",
    "print(len(time_recipes))\n",
    "time_recipes[:5]"
   ]
  },
  {
   "cell_type": "code",
   "execution_count": 55,
   "metadata": {},
   "outputs": [
    {
     "data": {
      "text/plain": [
       "['in 1 / 4 cup butter , saute carrots , onion , celery and broccoli stems for 5 minutes',\n",
       " 'add thyme , oregano and basil',\n",
       " 'saute 5 minutes more',\n",
       " 'add wine and deglaze pan',\n",
       " 'add hot chicken stock and reduce by one-third',\n",
       " 'add worcestershire sauce , tabasco , smoked chicken , beans and broccoli florets',\n",
       " 'simmer 5 minutes',\n",
       " 'add cream , simmer 5 minutes more and season to taste',\n",
       " 'drop in remaining butter , piece by piece , stirring until melted and serve immediately',\n",
       " 'smoked chicken: on a covered grill , slightly smoke boneless chicken , cooking to medium rare',\n",
       " 'chef meskan uses applewood chips and does not allow the grill to become too hot']"
      ]
     },
     "execution_count": 55,
     "metadata": {},
     "output_type": "execute_result"
    }
   ],
   "source": [
    "#Проверка: смотрю id=44123, как видно, там есть упоминания времени - часов или минут.\n",
    "result_dict[44123]"
   ]
  },
  {
   "cell_type": "markdown",
   "metadata": {},
   "source": [
    "3.4 Загрузите данные из файла `recipes_sample.csv` в таблицу `recipes`. Для строк, которые содержат пропуски в столбце `n_steps`, заполните этот столбец на основе файла  `steps_sample.xml`. Строки, в которых столбец `n_steps` заполнен, оставьте без изменений."
   ]
  },
  {
   "cell_type": "code",
   "execution_count": 168,
   "metadata": {},
   "outputs": [
    {
     "data": {
      "text/html": [
       "<div>\n",
       "<style scoped>\n",
       "    .dataframe tbody tr th:only-of-type {\n",
       "        vertical-align: middle;\n",
       "    }\n",
       "\n",
       "    .dataframe tbody tr th {\n",
       "        vertical-align: top;\n",
       "    }\n",
       "\n",
       "    .dataframe thead th {\n",
       "        text-align: right;\n",
       "    }\n",
       "</style>\n",
       "<table border=\"1\" class=\"dataframe\">\n",
       "  <thead>\n",
       "    <tr style=\"text-align: right;\">\n",
       "      <th></th>\n",
       "      <th>name</th>\n",
       "      <th>id</th>\n",
       "      <th>minutes</th>\n",
       "      <th>contributor_id</th>\n",
       "      <th>submitted</th>\n",
       "      <th>n_steps</th>\n",
       "      <th>description</th>\n",
       "      <th>n_ingredients</th>\n",
       "    </tr>\n",
       "  </thead>\n",
       "  <tbody>\n",
       "    <tr>\n",
       "      <th>0</th>\n",
       "      <td>george s at the cove  black bean soup</td>\n",
       "      <td>44123</td>\n",
       "      <td>90</td>\n",
       "      <td>35193</td>\n",
       "      <td>2002-10-25</td>\n",
       "      <td>NaN</td>\n",
       "      <td>an original recipe created by chef scott meska...</td>\n",
       "      <td>18.0</td>\n",
       "    </tr>\n",
       "    <tr>\n",
       "      <th>1</th>\n",
       "      <td>healthy for them  yogurt popsicles</td>\n",
       "      <td>67664</td>\n",
       "      <td>10</td>\n",
       "      <td>91970</td>\n",
       "      <td>2003-07-26</td>\n",
       "      <td>NaN</td>\n",
       "      <td>my children and their friends ask for my homem...</td>\n",
       "      <td>NaN</td>\n",
       "    </tr>\n",
       "    <tr>\n",
       "      <th>2</th>\n",
       "      <td>i can t believe it s spinach</td>\n",
       "      <td>38798</td>\n",
       "      <td>30</td>\n",
       "      <td>1533</td>\n",
       "      <td>2002-08-29</td>\n",
       "      <td>NaN</td>\n",
       "      <td>these were so go, it surprised even me.</td>\n",
       "      <td>8.0</td>\n",
       "    </tr>\n",
       "    <tr>\n",
       "      <th>3</th>\n",
       "      <td>italian  gut busters</td>\n",
       "      <td>35173</td>\n",
       "      <td>45</td>\n",
       "      <td>22724</td>\n",
       "      <td>2002-07-27</td>\n",
       "      <td>NaN</td>\n",
       "      <td>my sister-in-law made these for us at a family...</td>\n",
       "      <td>NaN</td>\n",
       "    </tr>\n",
       "    <tr>\n",
       "      <th>4</th>\n",
       "      <td>love is in the air  beef fondue   sauces</td>\n",
       "      <td>84797</td>\n",
       "      <td>25</td>\n",
       "      <td>4470</td>\n",
       "      <td>2004-02-23</td>\n",
       "      <td>4.0</td>\n",
       "      <td>i think a fondue is a very romantic casual din...</td>\n",
       "      <td>NaN</td>\n",
       "    </tr>\n",
       "  </tbody>\n",
       "</table>\n",
       "</div>"
      ],
      "text/plain": [
       "                                       name     id  minutes  contributor_id  \\\n",
       "0     george s at the cove  black bean soup  44123       90           35193   \n",
       "1        healthy for them  yogurt popsicles  67664       10           91970   \n",
       "2              i can t believe it s spinach  38798       30            1533   \n",
       "3                      italian  gut busters  35173       45           22724   \n",
       "4  love is in the air  beef fondue   sauces  84797       25            4470   \n",
       "\n",
       "    submitted  n_steps                                        description  \\\n",
       "0  2002-10-25      NaN  an original recipe created by chef scott meska...   \n",
       "1  2003-07-26      NaN  my children and their friends ask for my homem...   \n",
       "2  2002-08-29      NaN            these were so go, it surprised even me.   \n",
       "3  2002-07-27      NaN  my sister-in-law made these for us at a family...   \n",
       "4  2004-02-23      4.0  i think a fondue is a very romantic casual din...   \n",
       "\n",
       "   n_ingredients  \n",
       "0           18.0  \n",
       "1            NaN  \n",
       "2            8.0  \n",
       "3            NaN  \n",
       "4            NaN  "
      ]
     },
     "execution_count": 168,
     "metadata": {},
     "output_type": "execute_result"
    }
   ],
   "source": [
    "recipes = pd.read_csv(\"../data sources/recipes_sample.csv\")\n",
    "recipes.head()"
   ]
  },
  {
   "cell_type": "code",
   "execution_count": 56,
   "metadata": {},
   "outputs": [],
   "source": [
    "solution = []\n",
    "\n",
    "for k, lst in result_dict2.items():\n",
    "    for idx in lst:\n",
    "        solution.append({\n",
    "            \"id\": idx,\n",
    "            \"n_steps\": k\n",
    "        })\n",
    "\n",
    "\n",
    "df_steps = pd.DataFrame.from_dict(solution)\n"
   ]
  },
  {
   "cell_type": "code",
   "execution_count": 57,
   "metadata": {},
   "outputs": [
    {
     "data": {
      "text/html": [
       "<div>\n",
       "<style scoped>\n",
       "    .dataframe tbody tr th:only-of-type {\n",
       "        vertical-align: middle;\n",
       "    }\n",
       "\n",
       "    .dataframe tbody tr th {\n",
       "        vertical-align: top;\n",
       "    }\n",
       "\n",
       "    .dataframe thead th {\n",
       "        text-align: right;\n",
       "    }\n",
       "</style>\n",
       "<table border=\"1\" class=\"dataframe\">\n",
       "  <thead>\n",
       "    <tr style=\"text-align: right;\">\n",
       "      <th></th>\n",
       "      <th>name</th>\n",
       "      <th>id</th>\n",
       "      <th>minutes</th>\n",
       "      <th>contributor_id</th>\n",
       "      <th>submitted</th>\n",
       "      <th>n_steps</th>\n",
       "      <th>description</th>\n",
       "      <th>n_ingredients</th>\n",
       "    </tr>\n",
       "  </thead>\n",
       "  <tbody>\n",
       "    <tr>\n",
       "      <th>0</th>\n",
       "      <td>george s at the cove  black bean soup</td>\n",
       "      <td>44123</td>\n",
       "      <td>90</td>\n",
       "      <td>35193</td>\n",
       "      <td>2002-10-25</td>\n",
       "      <td>11.0</td>\n",
       "      <td>an original recipe created by chef scott meska...</td>\n",
       "      <td>18.0</td>\n",
       "    </tr>\n",
       "    <tr>\n",
       "      <th>1</th>\n",
       "      <td>healthy for them  yogurt popsicles</td>\n",
       "      <td>67664</td>\n",
       "      <td>10</td>\n",
       "      <td>91970</td>\n",
       "      <td>2003-07-26</td>\n",
       "      <td>3.0</td>\n",
       "      <td>my children and their friends ask for my homem...</td>\n",
       "      <td>NaN</td>\n",
       "    </tr>\n",
       "    <tr>\n",
       "      <th>2</th>\n",
       "      <td>i can t believe it s spinach</td>\n",
       "      <td>38798</td>\n",
       "      <td>30</td>\n",
       "      <td>1533</td>\n",
       "      <td>2002-08-29</td>\n",
       "      <td>5.0</td>\n",
       "      <td>these were so go, it surprised even me.</td>\n",
       "      <td>8.0</td>\n",
       "    </tr>\n",
       "    <tr>\n",
       "      <th>3</th>\n",
       "      <td>italian  gut busters</td>\n",
       "      <td>35173</td>\n",
       "      <td>45</td>\n",
       "      <td>22724</td>\n",
       "      <td>2002-07-27</td>\n",
       "      <td>7.0</td>\n",
       "      <td>my sister-in-law made these for us at a family...</td>\n",
       "      <td>NaN</td>\n",
       "    </tr>\n",
       "    <tr>\n",
       "      <th>4</th>\n",
       "      <td>love is in the air  beef fondue   sauces</td>\n",
       "      <td>84797</td>\n",
       "      <td>25</td>\n",
       "      <td>4470</td>\n",
       "      <td>2004-02-23</td>\n",
       "      <td>4.0</td>\n",
       "      <td>i think a fondue is a very romantic casual din...</td>\n",
       "      <td>NaN</td>\n",
       "    </tr>\n",
       "  </tbody>\n",
       "</table>\n",
       "</div>"
      ],
      "text/plain": [
       "                                       name     id  minutes  contributor_id  \\\n",
       "0     george s at the cove  black bean soup  44123       90           35193   \n",
       "1        healthy for them  yogurt popsicles  67664       10           91970   \n",
       "2              i can t believe it s spinach  38798       30            1533   \n",
       "3                      italian  gut busters  35173       45           22724   \n",
       "4  love is in the air  beef fondue   sauces  84797       25            4470   \n",
       "\n",
       "    submitted  n_steps                                        description  \\\n",
       "0  2002-10-25     11.0  an original recipe created by chef scott meska...   \n",
       "1  2003-07-26      3.0  my children and their friends ask for my homem...   \n",
       "2  2002-08-29      5.0            these were so go, it surprised even me.   \n",
       "3  2002-07-27      7.0  my sister-in-law made these for us at a family...   \n",
       "4  2004-02-23      4.0  i think a fondue is a very romantic casual din...   \n",
       "\n",
       "   n_ingredients  \n",
       "0           18.0  \n",
       "1            NaN  \n",
       "2            8.0  \n",
       "3            NaN  \n",
       "4            NaN  "
      ]
     },
     "execution_count": 57,
     "metadata": {},
     "output_type": "execute_result"
    }
   ],
   "source": [
    "recipes = pd.merge(recipes, df_steps, left_on=\"id\", right_on=\"id\", how=\"outer\")\n",
    "recipes[\"n_steps_x\"].fillna(recipes[\"n_steps_y\"], inplace=True)\n",
    "\n",
    "recipes = recipes[[\"name\", \"id\", \"minutes\", \"contributor_id\", \"submitted\", \"n_steps_x\", \"description\", \"n_ingredients\"]]\n",
    "recipes.rename(columns={\"n_steps_x\":\"n_steps\"}, inplace=True)\n",
    "\n",
    "recipes.head()"
   ]
  },
  {
   "cell_type": "markdown",
   "metadata": {},
   "source": [
    "3.5 Проверьте, содержит ли столбец `n_steps` пропуски. Если нет, то преобразуйте его к целочисленному типу и сохраните результаты в файл `recipes_sample_with_filled_nsteps.csv`"
   ]
  },
  {
   "cell_type": "code",
   "execution_count": 58,
   "metadata": {},
   "outputs": [
    {
     "name": "stdout",
     "output_type": "stream",
     "text": [
      "Количество пропусков в столбце 'n_steps': 0\n",
      "\n",
      "\n",
      "\n",
      "\n",
      "<class 'pandas.core.frame.DataFrame'>\n",
      "Int64Index: 30000 entries, 0 to 29999\n",
      "Data columns (total 8 columns):\n",
      " #   Column          Non-Null Count  Dtype  \n",
      "---  ------          --------------  -----  \n",
      " 0   name            30000 non-null  object \n",
      " 1   id              30000 non-null  int64  \n",
      " 2   minutes         30000 non-null  int64  \n",
      " 3   contributor_id  30000 non-null  int64  \n",
      " 4   submitted       30000 non-null  object \n",
      " 5   n_steps         30000 non-null  int64  \n",
      " 6   description     29377 non-null  object \n",
      " 7   n_ingredients   21120 non-null  float64\n",
      "dtypes: float64(1), int64(4), object(3)\n",
      "memory usage: 2.1+ MB\n"
     ]
    }
   ],
   "source": [
    "print(f\"Количество пропусков в столбце 'n_steps': {recipes['n_steps'].isna().sum()}\\n\\n\\n\\n\")\n",
    "recipes[\"n_steps\"] = recipes[\"n_steps\"].astype(\"int64\")\n",
    "recipes.info()"
   ]
  },
  {
   "cell_type": "code",
   "execution_count": 59,
   "metadata": {},
   "outputs": [],
   "source": [
    "recipes.to_csv(\"recipes_sample_with_filled_nsteps.csv\")"
   ]
  }
 ],
 "metadata": {
  "kernelspec": {
   "display_name": "Python 3 (ipykernel)",
   "language": "python",
   "name": "python3"
  },
  "language_info": {
   "codemirror_mode": {
    "name": "ipython",
    "version": 3
   },
   "file_extension": ".py",
   "mimetype": "text/x-python",
   "name": "python",
   "nbconvert_exporter": "python",
   "pygments_lexer": "ipython3",
   "version": "3.11.3"
  }
 },
 "nbformat": 4,
 "nbformat_minor": 4
}
