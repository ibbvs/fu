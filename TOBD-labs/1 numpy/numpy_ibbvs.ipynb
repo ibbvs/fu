{
 "cells": [
  {
   "cell_type": "markdown",
   "metadata": {},
   "source": [
    "# Numpy"
   ]
  },
  {
   "cell_type": "markdown",
   "metadata": {},
   "source": [
    "## Задачи для совместного разбора"
   ]
  },
  {
   "cell_type": "markdown",
   "metadata": {},
   "source": [
    "1. Сгенерировать двухмерный массив `arr` размерности (4, 7), состоящий из случайных действительных чисел, равномерно распределенных в диапазоне от 0 до 20. Нормализовать значения массива с помощью преобразования вида  $𝑎𝑥+𝑏$  так, что после нормализации максимальный элемент масcива будет равен 1.0, минимальный 0.0"
   ]
  },
  {
   "cell_type": "code",
   "execution_count": 1,
   "metadata": {},
   "outputs": [
    {
     "data": {
      "text/plain": [
       "array([[1.86012534e+01, 7.64112831e+00, 1.87735279e+01, 1.75189757e+01,\n",
       "        1.07541079e+01, 1.05191115e-02, 1.72540117e+01],\n",
       "       [4.38812655e+00, 1.33310487e+01, 3.85359828e+00, 1.30703194e+01,\n",
       "        6.11027908e+00, 6.92771947e+00, 3.53883486e+00],\n",
       "       [1.84153407e+01, 3.64136325e+00, 1.68581030e+01, 1.85817798e+01,\n",
       "        1.55724473e+00, 5.75467576e+00, 1.90066664e+00],\n",
       "       [1.71154724e+00, 1.28249428e+01, 1.53421666e+01, 1.61865436e+01,\n",
       "        5.70418842e+00, 7.52776682e+00, 9.36661647e+00]])"
      ]
     },
     "execution_count": 1,
     "metadata": {},
     "output_type": "execute_result"
    }
   ],
   "source": [
    "import numpy as np\n",
    "\n",
    "arr = np.random.uniform(0, 20, size=(4,7))\n",
    "arr"
   ]
  },
  {
   "cell_type": "markdown",
   "metadata": {},
   "source": [
    "Это означает, что для каждого элемента массива нужно выполнить преобразование вида ax + b, где a и b - это некоторые числа, а x - это исходное значение элемента массива. Цель такого преобразования - привести значения массива к определенному диапазону или масштабу.\n",
    "```\n",
    "Нормализация - это метод масштабирования, при котором значения смещаются и масштабируются таким образом, чтобы в конечном итоге они оказались в диапазоне от 0 до 1. Это также известно как масштабирование минимум-максимум.\n",
    "```\n",
    "Формула нормализации: $X’ = (X - X_{min}) / (X_{max} - X_{min}).$ \\\n",
    "Здесь $X_{max}$ и $X_{min}$ - максимальное и минимальное значения признака соответственно.\n"
   ]
  },
  {
   "cell_type": "code",
   "execution_count": 2,
   "metadata": {},
   "outputs": [
    {
     "data": {
      "text/plain": [
       "array([[0.9908184 , 0.40668367, 1.        , 0.93313694, 0.57259413,\n",
       "        0.        , 0.91901532],\n",
       "       [0.23331053, 0.70993569, 0.20482212, 0.69603977, 0.32509498,\n",
       "        0.36866157, 0.18804637],\n",
       "       [0.98090993, 0.19351076, 0.89791483, 0.98978053, 0.08243484,\n",
       "        0.30614262, 0.10073798],\n",
       "       [0.0906586 , 0.68296209, 0.81712095, 0.86212317, 0.30345183,\n",
       "        0.40064191, 0.4986459 ]])"
      ]
     },
     "execution_count": 2,
     "metadata": {},
     "output_type": "execute_result"
    }
   ],
   "source": [
    "arr_normalize = (arr - arr.min()) / (arr.max() - arr.min())\n",
    "arr_normalize"
   ]
  },
  {
   "cell_type": "markdown",
   "metadata": {},
   "source": [
    "3. Найти евклидово расстояние между двумя одномерными векторами одинаковой размерности."
   ]
  },
  {
   "cell_type": "markdown",
   "metadata": {},
   "source": [
    "$√(Σ(xi-yi)²)$"
   ]
  },
  {
   "cell_type": "code",
   "execution_count": 3,
   "metadata": {},
   "outputs": [
    {
     "data": {
      "text/plain": [
       "16.24807680927192"
      ]
     },
     "execution_count": 3,
     "metadata": {},
     "output_type": "execute_result"
    }
   ],
   "source": [
    "arr1, arr2 = (np.random.randint(0, 10, size=10) for i in range(2))\n",
    "evklid = np.sqrt(((arr1 - arr2)**2).sum())\n",
    "evklid"
   ]
  },
  {
   "cell_type": "markdown",
   "metadata": {},
   "source": [
    "4. Решить матричное уравнение `A*X*B=-C` - найти матрицу `X`. Где `A = [[-1, 2, 4], [-3, 1, 2], [-3, 0, 1]]`, `B=[[3, -1], [2, 1]]`, `C=[[7, 21], [11, 8], [8, 4]]`."
   ]
  },
  {
   "cell_type": "code",
   "execution_count": 51,
   "metadata": {},
   "outputs": [
    {
     "data": {
      "text/plain": [
       "array([[ 1.00000000e+00,  1.11022302e-15],\n",
       "       [-2.00000000e+00,  1.00000000e+00],\n",
       "       [ 3.00000000e+00, -4.00000000e+00]])"
      ]
     },
     "execution_count": 51,
     "metadata": {},
     "output_type": "execute_result"
    }
   ],
   "source": [
    "A, B, C = np.array([[-1, 2, 4], [-3, 1, 2], [-3, 0, 1]]), np.array([[3, -1], [2, 1]]), np.array([[7, 21], [11, 8], [8, 4]])\n",
    "\n",
    "A_1, B_1 = np.linalg.inv(A), np.linalg.inv(B)\n",
    "\n",
    "X = A_1 @ (-C) @ B_1\n",
    "X                                                                     "
   ]
  },
  {
   "cell_type": "markdown",
   "metadata": {},
   "source": [
    "## Лабораторная работа №1"
   ]
  },
  {
   "cell_type": "markdown",
   "metadata": {},
   "source": [
    "Замечание: при решении данных задач не подразумевается использования циклов или генераторов Python, если в задании не сказано обратного. Решение должно опираться на использования функционала библиотеки `numpy`."
   ]
  },
  {
   "cell_type": "markdown",
   "metadata": {},
   "source": [
    "1. Файл `minutes_n_ingredients.csv` содержит информацию об идентификаторе рецепта, времени его выполнения в минутах и количестве необходимых ингредиентов. Считайте данные из этого файла в виде массива `numpy` типа `int32`, используя `np.loadtxt`. Выведите на экран первые 5 строк массива."
   ]
  },
  {
   "cell_type": "code",
   "execution_count": 52,
   "metadata": {},
   "outputs": [
    {
     "data": {
      "text/plain": [
       "array([[127244,     60,     16],\n",
       "       [ 23891,     25,      7],\n",
       "       [ 94746,     10,      6],\n",
       "       [ 67660,      5,      6],\n",
       "       [157911,     60,     14]])"
      ]
     },
     "execution_count": 52,
     "metadata": {},
     "output_type": "execute_result"
    }
   ],
   "source": [
    "d = np.loadtxt('../data sources/minutes_n_ingredients.csv', dtype = np.int32, delimiter = ',', skiprows = 1)\n",
    "d[:5]"
   ]
  },
  {
   "cell_type": "markdown",
   "metadata": {},
   "source": [
    "2. Вычислите среднее значение, минимум, максимум и медиану по каждому из столбцов, кроме первого."
   ]
  },
  {
   "cell_type": "code",
   "execution_count": 53,
   "metadata": {},
   "outputs": [
    {
     "name": "stdout",
     "output_type": "stream",
     "text": [
      "Столбец:\n",
      "      Среднее = 21601.00169\n",
      "  Минимальное = 0\n",
      " Максимальное = 2147483647\n",
      "      Медиана = 40.0\n",
      "\n",
      "\n",
      "\n",
      "Столбец:\n",
      "      Среднее = 9.05528\n",
      "  Минимальное = 1\n",
      " Максимальное = 39\n",
      "      Медиана = 9.0\n",
      "\n",
      "\n",
      "\n"
     ]
    },
    {
     "data": {
      "text/plain": [
       "[None, None]"
      ]
     },
     "execution_count": 53,
     "metadata": {},
     "output_type": "execute_result"
    }
   ],
   "source": [
    "data = np.loadtxt('../data sources/minutes_n_ingredients.csv', dtype = np.int32, delimiter = ',', skiprows = 1, usecols=(1,2))\n",
    "first, second = ((data[:, i].mean(), data[:, i].min(), data[:, i].max(), np.median(data, axis=0)[i]) for i in range(2))\n",
    "[print(f\"Столбец:\\n{'Среднее =':>15} {col[0]}\\n{'Минимальное =':>15} {col[1]}\\n{'Максимальное =':>15} {col[2]}\\n{'Медиана =':>15} {col[3]}\\n\\n\\n\") for col in [first, second]]"
   ]
  },
  {
   "cell_type": "code",
   "execution_count": 54,
   "metadata": {},
   "outputs": [
    {
     "name": "stdout",
     "output_type": "stream",
     "text": [
      "1 Столбец:\n",
      "      Среднее = 21601.00169\n",
      "  Минимальное = 0\n",
      " Максимальное = 2147483647\n",
      "      Медиана = 40.0\n",
      "\n",
      "\n",
      "\n",
      "2 Столбец:\n",
      "      Среднее = 9.05528\n",
      "  Минимальное = 1\n",
      " Максимальное = 39\n",
      "      Медиана = 9.0\n"
     ]
    }
   ],
   "source": [
    "print(f\"1 Столбец:\\n{'Среднее =':>15} {first[0]}\\n{'Минимальное =':>15} {first[1]}\\n{'Максимальное =':>15} {first[2]}\\n{'Медиана =':>15} {first[3]}\\n\\n\\n\")\n",
    "print(f\"2 Столбец:\\n{'Среднее =':>15} {second[0]}\\n{'Минимальное =':>15} {second[1]}\\n{'Максимальное =':>15} {second[2]}\\n{'Медиана =':>15} {second[3]}\")"
   ]
  },
  {
   "cell_type": "markdown",
   "metadata": {},
   "source": [
    "3. Ограничьте сверху значения продолжительности выполнения рецепта значением квантиля $q_{0.75}$. "
   ]
  },
  {
   "cell_type": "code",
   "execution_count": 55,
   "metadata": {},
   "outputs": [
    {
     "data": {
      "text/plain": [
       "array([[127244,     60,     16],\n",
       "       [ 23891,     25,      7],\n",
       "       [ 94746,     10,      6],\n",
       "       ...,\n",
       "       [371794,     35,      8],\n",
       "       [ 43407,     35,      7],\n",
       "       [370915,      5,      4]])"
      ]
     },
     "execution_count": 55,
     "metadata": {},
     "output_type": "execute_result"
    }
   ],
   "source": [
    "minutes = np.loadtxt('../data sources/minutes_n_ingredients.csv', dtype = np.int32, delimiter = ',', skiprows = 1, usecols=1)\n",
    "limit = np.quantile(minutes, 0.75)\n",
    "d[minutes < limit]"
   ]
  },
  {
   "cell_type": "markdown",
   "metadata": {},
   "source": [
    "4. Посчитайте, для скольких рецептов указана продолжительность, равная нулю. Замените для таких строк значение в данном столбце на 1."
   ]
  },
  {
   "cell_type": "code",
   "execution_count": 56,
   "metadata": {},
   "outputs": [
    {
     "name": "stdout",
     "output_type": "stream",
     "text": [
      "Количество рецептов у которых продолжительность равна нулю - 479\n"
     ]
    }
   ],
   "source": [
    "print(f\"Количество рецептов у которых продолжительность равна нулю - {len(minutes[minutes == 0])}\")"
   ]
  },
  {
   "cell_type": "code",
   "execution_count": 57,
   "metadata": {},
   "outputs": [
    {
     "name": "stdout",
     "output_type": "stream",
     "text": [
      "Количество рецептов у которых продолжительность равна нулю - 0\n"
     ]
    }
   ],
   "source": [
    "minutes[minutes == 0 ] = 1\n",
    "print(f\"Количество рецептов у которых продолжительность равна нулю - {len(minutes[minutes == 0])}\")"
   ]
  },
  {
   "cell_type": "markdown",
   "metadata": {},
   "source": [
    "5. Посчитайте, сколько уникальных рецептов находится в датасете."
   ]
  },
  {
   "cell_type": "code",
   "execution_count": 59,
   "metadata": {},
   "outputs": [
    {
     "name": "stdout",
     "output_type": "stream",
     "text": [
      "Количество уникальных рецептов - 100545\n"
     ]
    }
   ],
   "source": [
    "data = np.loadtxt('../data sources/minutes_n_ingredients.csv', dtype = np.int32, delimiter = ',', skiprows = 1)\n",
    "print(f\"Количество уникальных рецептов - {len(np.unique(data))}\")"
   ]
  },
  {
   "cell_type": "markdown",
   "metadata": {},
   "source": [
    "6. Сколько и каких различных значений кол-ва ингредиентов присутвует в рецептах из датасета?"
   ]
  },
  {
   "cell_type": "code",
   "execution_count": 61,
   "metadata": {},
   "outputs": [
    {
     "name": "stdout",
     "output_type": "stream",
     "text": [
      "Количество уникальных значений = 37\n",
      "[ 1  2  3  4  5  6  7  8  9 10 11 12 13 14 15 16 17 18 19 20 21 22 23 24\n",
      " 25 26 27 28 29 30 31 32 33 34 35 37 39]\n"
     ]
    }
   ],
   "source": [
    "n_ingredients = np.loadtxt('../data sources/minutes_n_ingredients.csv', dtype = np.int32, delimiter = ',', skiprows = 1, usecols=2)\n",
    "print(f\"Количество уникальных значений = {len(np.unique(n_ingredients))}\")\n",
    "print(np.unique(n_ingredients))"
   ]
  },
  {
   "cell_type": "markdown",
   "metadata": {},
   "source": [
    "7. Создайте версию массива, содержащую информацию только о рецептах, состоящих не более чем из 5 ингредиентов."
   ]
  },
  {
   "cell_type": "code",
   "execution_count": 62,
   "metadata": {},
   "outputs": [
    {
     "data": {
      "text/plain": [
       "array([[446597,     15,      5],\n",
       "       [204134,      5,      3],\n",
       "       [ 25623,      6,      4],\n",
       "       ...,\n",
       "       [ 52088,     60,      5],\n",
       "       [128811,     15,      4],\n",
       "       [370915,      5,      4]])"
      ]
     },
     "execution_count": 62,
     "metadata": {},
     "output_type": "execute_result"
    }
   ],
   "source": [
    "d[n_ingredients <= 5]"
   ]
  },
  {
   "cell_type": "markdown",
   "metadata": {},
   "source": [
    "8. Для каждого рецепта посчитайте, сколько в среднем ингредиентов приходится на одну минуту рецепта. Найдите максимальное значение этой величины для всего датасета"
   ]
  },
  {
   "cell_type": "code",
   "execution_count": 63,
   "metadata": {},
   "outputs": [
    {
     "name": "stdout",
     "output_type": "stream",
     "text": [
      "24.0\n"
     ]
    }
   ],
   "source": [
    "average_v = n_ingredients / minutes\n",
    "print(average_v.max())"
   ]
  },
  {
   "cell_type": "markdown",
   "metadata": {},
   "source": [
    "9. Вычислите среднее количество ингредиентов для топ-100 рецептов с наибольшей продолжительностью"
   ]
  },
  {
   "cell_type": "code",
   "execution_count": 64,
   "metadata": {},
   "outputs": [
    {
     "data": {
      "text/plain": [
       "227.87"
      ]
     },
     "execution_count": 64,
     "metadata": {},
     "output_type": "execute_result"
    }
   ],
   "source": [
    "top_100 = d[d[:, 2].argsort()[:-101:-1]]\n",
    "top_100[:, 1].mean()"
   ]
  },
  {
   "cell_type": "markdown",
   "metadata": {},
   "source": [
    "10. Выберите случайным образом и выведите информацию о 10 различных рецептах"
   ]
  },
  {
   "cell_type": "code",
   "execution_count": 65,
   "metadata": {},
   "outputs": [
    {
     "data": {
      "text/plain": [
       "array([[502890,    140,      9],\n",
       "       [444839,     60,     10],\n",
       "       [ 93690,     10,      6],\n",
       "       [ 49542,     25,     10],\n",
       "       [497159,     33,      8],\n",
       "       [108652,     15,      7],\n",
       "       [396927,     30,      8],\n",
       "       [305507,     60,     10],\n",
       "       [ 84078,     65,     13],\n",
       "       [ 50730,     65,     10]])"
      ]
     },
     "execution_count": 65,
     "metadata": {},
     "output_type": "execute_result"
    }
   ],
   "source": [
    "np.random.permutation(d)[:10]"
   ]
  },
  {
   "cell_type": "markdown",
   "metadata": {},
   "source": [
    "11. Выведите процент рецептов, кол-во ингредиентов в которых меньше среднего."
   ]
  },
  {
   "cell_type": "code",
   "execution_count": 68,
   "metadata": {},
   "outputs": [
    {
     "name": "stdout",
     "output_type": "stream",
     "text": [
      "58.8% рецептов в датасете у которых количество ингридиентов меньше среднего.\n"
     ]
    }
   ],
   "source": [
    "d = np.loadtxt('../data sources/minutes_n_ingredients.csv', dtype = np.int32, delimiter = ',', skiprows = 1)\n",
    "average_ingredients = d[:, 2].mean()\n",
    "average_ingredients\n",
    "print(f\"{round(len(d[d[:, 2] < average_ingredients]) * 100 / len(d), 1)}% рецептов в датасете у которых количество ингридиентов меньше среднего.\")\n"
   ]
  },
  {
   "cell_type": "markdown",
   "metadata": {},
   "source": [
    "12. Назовем \"простым\" такой рецепт, длительность выполнения которого не больше 20 минут и кол-во ингредиентов в котором не больше 5. Создайте версию датасета с дополнительным столбцом, значениями которого являются 1, если рецепт простой, и 0 в противном случае."
   ]
  },
  {
   "cell_type": "code",
   "execution_count": 71,
   "metadata": {},
   "outputs": [
    {
     "data": {
      "text/plain": [
       "array([[127244,     60,     16,      0],\n",
       "       [ 23891,     25,      7,      0],\n",
       "       [ 94746,     10,      6,      0],\n",
       "       ...,\n",
       "       [498432,     65,     15,      0],\n",
       "       [370915,      5,      4,      1],\n",
       "       [ 81993,    140,     14,      0]])"
      ]
     },
     "execution_count": 71,
     "metadata": {},
     "output_type": "execute_result"
    }
   ],
   "source": [
    "\"\"\"\n",
    "Метод Numpy c_ используется для перевода объектов среза в конкатенацию вдоль второй оси. \n",
    "Он используется для соединения двух матриц по строкам.\n",
    "\"\"\"\n",
    "\n",
    "mask = (n_ingredients <= 5) & (minutes <= 20)\n",
    "new_d = np.c_[d, mask]\n",
    "new_d"
   ]
  },
  {
   "cell_type": "markdown",
   "metadata": {},
   "source": [
    "13. Выведите процент \"простых\" рецептов в датасете"
   ]
  },
  {
   "cell_type": "code",
   "execution_count": 72,
   "metadata": {},
   "outputs": [
    {
     "name": "stdout",
     "output_type": "stream",
     "text": [
      "9.55%\n"
     ]
    }
   ],
   "source": [
    "print(f\"{round(len(new_d[new_d[:, 3] == 1])/len(new_d[:, 3]) * 100, 2)}%\")"
   ]
  },
  {
   "cell_type": "markdown",
   "metadata": {},
   "source": [
    "14. Разделим рецепты на группы по следующему правилу. Назовем рецепты короткими, если их продолжительность составляет менее 10 минут; стандартными, если их продолжительность составляет более 10, но менее 20 минут; и длинными, если их продолжительность составляет не менее 20 минут. Создайте трехмерный массив, где нулевая ось отвечает за номер группы (короткий, стандартный или длинный рецепт), первая ось - за сам рецепт и вторая ось - за характеристики рецепта. Выберите максимальное количество рецептов из каждой группы таким образом, чтобы было возможно сформировать трехмерный массив. Выведите форму полученного массива."
   ]
  },
  {
   "cell_type": "code",
   "execution_count": 73,
   "metadata": {},
   "outputs": [
    {
     "name": "stdout",
     "output_type": "stream",
     "text": [
      "[[[ 67660      5      6]\n",
      "  [366174      7      9]\n",
      "  [204134      5      3]\n",
      "  ...\n",
      "  [420725      5      3]\n",
      "  [  4747      0      9]\n",
      "  [370915      5      4]]\n",
      "\n",
      " [[ 94746     10      6]\n",
      "  [ 33941     18      9]\n",
      "  [446597     15      5]\n",
      "  ...\n",
      "  [  9831     15      7]\n",
      "  [335859     12     14]\n",
      "  [256812     10      3]]\n",
      "\n",
      " [[127244     60     16]\n",
      "  [ 23891     25      7]\n",
      "  [157911     60     14]\n",
      "  ...\n",
      "  [168901     25      7]\n",
      "  [392339     35     13]\n",
      "  [206732     45     10]]]\n"
     ]
    }
   ],
   "source": [
    "short = d[d[:,1] < 10]\n",
    "standard = d[(d[:,1] >= 10) & (d[:,1] < 20)]\n",
    "long = d[20 <= d[:,1]]\n",
    "\n",
    "max_value = np.min([short.shape[0], standard.shape[0], long.shape[0]])\n",
    "\n",
    "result = np.array([short[:max_value], standard[:max_value], long[:max_value]])\n",
    "print(result)"
   ]
  }
 ],
 "metadata": {
  "kernelspec": {
   "display_name": "Python 3 (ipykernel)",
   "language": "python",
   "name": "python3"
  },
  "language_info": {
   "codemirror_mode": {
    "name": "ipython",
    "version": 3
   },
   "file_extension": ".py",
   "mimetype": "text/x-python",
   "name": "python",
   "nbconvert_exporter": "python",
   "pygments_lexer": "ipython3",
   "version": "3.11.3"
  }
 },
 "nbformat": 4,
 "nbformat_minor": 4
}
