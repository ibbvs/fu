{
 "cells": [
  {
   "cell_type": "markdown",
   "metadata": {},
   "source": [
    "# Введение в обработку текста на естественном языке"
   ]
  },
  {
   "cell_type": "markdown",
   "metadata": {},
   "source": [
    "Материалы:\n",
    "* Макрушин С.В. Лекция 9: Введение в обработку текста на естественном языке\\\n",
    "* https://realpython.com/nltk-nlp-python/\n",
    "* https://scikit-learn.org/stable/modules/feature_extraction.html"
   ]
  },
  {
   "cell_type": "markdown",
   "metadata": {},
   "source": [
    "## Задачи для совместного разбора"
   ]
  },
  {
   "cell_type": "code",
   "execution_count": 2,
   "metadata": {},
   "outputs": [
    {
     "name": "stdout",
     "output_type": "stream",
     "text": [
      "Collecting pymorphy2\n",
      "  Downloading pymorphy2-0.9.1-py3-none-any.whl (55 kB)\n",
      "                                              0.0/55.5 kB ? eta -:--:--\n",
      "     ------------------------------------     51.2/55.5 kB 1.3 MB/s eta 0:00:01\n",
      "     -------------------------------------- 55.5/55.5 kB 983.5 kB/s eta 0:00:00\n",
      "Collecting dawg-python>=0.7.1 (from pymorphy2)\n",
      "  Downloading DAWG_Python-0.7.2-py2.py3-none-any.whl (11 kB)\n",
      "Collecting pymorphy2-dicts-ru<3.0,>=2.4 (from pymorphy2)\n",
      "  Downloading pymorphy2_dicts_ru-2.4.417127.4579844-py2.py3-none-any.whl (8.2 MB)\n",
      "                                              0.0/8.2 MB ? eta -:--:--\n",
      "                                              0.1/8.2 MB 5.5 MB/s eta 0:00:02\n",
      "     -                                        0.3/8.2 MB 4.3 MB/s eta 0:00:02\n",
      "     --                                       0.5/8.2 MB 5.6 MB/s eta 0:00:02\n",
      "     ---                                      0.8/8.2 MB 5.3 MB/s eta 0:00:02\n",
      "     ----                                     0.9/8.2 MB 4.8 MB/s eta 0:00:02\n",
      "     ------                                   1.3/8.2 MB 6.1 MB/s eta 0:00:02\n",
      "     ------                                   1.4/8.2 MB 6.0 MB/s eta 0:00:02\n",
      "     --------                                 1.8/8.2 MB 6.2 MB/s eta 0:00:02\n",
      "     ------------                             2.5/8.2 MB 7.4 MB/s eta 0:00:01\n",
      "     --------------                           3.0/8.2 MB 7.9 MB/s eta 0:00:01\n",
      "     ----------------                         3.3/8.2 MB 7.9 MB/s eta 0:00:01\n",
      "     ------------------                       3.7/8.2 MB 8.2 MB/s eta 0:00:01\n",
      "     --------------------                     4.1/8.2 MB 8.3 MB/s eta 0:00:01\n",
      "     ----------------------                   4.5/8.2 MB 8.5 MB/s eta 0:00:01\n",
      "     ------------------------                 4.9/8.2 MB 8.5 MB/s eta 0:00:01\n",
      "     --------------------------               5.3/8.2 MB 8.8 MB/s eta 0:00:01\n",
      "     ----------------------------             5.8/8.2 MB 8.8 MB/s eta 0:00:01\n",
      "     ------------------------------           6.2/8.2 MB 9.0 MB/s eta 0:00:01\n",
      "     -------------------------------          6.6/8.2 MB 8.9 MB/s eta 0:00:01\n",
      "     ----------------------------------       7.0/8.2 MB 9.1 MB/s eta 0:00:01\n",
      "     ------------------------------------     7.4/8.2 MB 9.1 MB/s eta 0:00:01\n",
      "     --------------------------------------   7.8/8.2 MB 9.3 MB/s eta 0:00:01\n",
      "     ---------------------------------------  8.2/8.2 MB 9.4 MB/s eta 0:00:01\n",
      "     ---------------------------------------  8.2/8.2 MB 9.4 MB/s eta 0:00:01\n",
      "     ---------------------------------------- 8.2/8.2 MB 8.6 MB/s eta 0:00:00\n",
      "Collecting docopt>=0.6 (from pymorphy2)\n",
      "  Downloading docopt-0.6.2.tar.gz (25 kB)\n",
      "  Preparing metadata (setup.py): started\n",
      "  Preparing metadata (setup.py): finished with status 'done'\n",
      "Building wheels for collected packages: docopt\n",
      "  Building wheel for docopt (setup.py): started\n",
      "  Building wheel for docopt (setup.py): finished with status 'done'\n",
      "  Created wheel for docopt: filename=docopt-0.6.2-py2.py3-none-any.whl size=13775 sha256=e2b6930e8eaeba7fbe4b815988703337fd55ecd2c69c243e48122d147be4d1d6\n",
      "  Stored in directory: c:\\users\\cvrsd\\appdata\\local\\pip\\cache\\wheels\\1a\\b0\\8c\\4b75c4116c31f83c8f9f047231251e13cc74481cca4a78a9ce\n",
      "Successfully built docopt\n",
      "Installing collected packages: pymorphy2-dicts-ru, docopt, dawg-python, pymorphy2\n",
      "Successfully installed dawg-python-0.7.2 docopt-0.6.2 pymorphy2-0.9.1 pymorphy2-dicts-ru-2.4.417127.4579844\n",
      "Note: you may need to restart the kernel to use updated packages.\n",
      "Collecting razdel\n",
      "  Downloading razdel-0.5.0-py3-none-any.whl (21 kB)\n",
      "Installing collected packages: razdel\n",
      "Successfully installed razdel-0.5.0\n",
      "Note: you may need to restart the kernel to use updated packages.\n"
     ]
    },
    {
     "name": "stderr",
     "output_type": "stream",
     "text": [
      "[nltk_data] Downloading package stopwords to\n",
      "[nltk_data]     C:\\Users\\cvrsd\\AppData\\Roaming\\nltk_data...\n",
      "[nltk_data]   Unzipping corpora\\stopwords.zip.\n",
      "[nltk_data] Downloading package wordnet to\n",
      "[nltk_data]     C:\\Users\\cvrsd\\AppData\\Roaming\\nltk_data...\n",
      "[nltk_data] Downloading package wordnet to\n",
      "[nltk_data]     C:\\Users\\cvrsd\\AppData\\Roaming\\nltk_data...\n",
      "[nltk_data]   Package wordnet is already up-to-date!\n"
     ]
    },
    {
     "data": {
      "text/plain": [
       "True"
      ]
     },
     "execution_count": 2,
     "metadata": {},
     "output_type": "execute_result"
    }
   ],
   "source": [
    "# %pip install pymorphy2\n",
    "# %pip install razdel\n",
    "# import nltk\n",
    "# nltk.download('stopwords')\n",
    "# nltk.download('wordnet')\n",
    "# nltk.download('wordnet')"
   ]
  },
  {
   "cell_type": "code",
   "execution_count": 1,
   "metadata": {},
   "outputs": [],
   "source": [
    "from sklearn.feature_extraction.text import CountVectorizer\n",
    "import pymorphy2\n",
    "from nltk.metrics.distance import edit_distance\n",
    "from time import perf_counter\n",
    "import re\n",
    "import numpy as np"
   ]
  },
  {
   "cell_type": "markdown",
   "metadata": {},
   "source": [
    "1. Считайте слова из файла `litw-win.txt` и запишите их в список `words`. В заданном предложении исправьте все опечатки, заменив слова с опечатками на ближайшие (в смысле расстояния Левенштейна) к ним слова из списка `words`. Считайте, что в слове есть опечатка, если данное слово не содержится в списке `words`. "
   ]
  },
  {
   "cell_type": "code",
   "execution_count": 2,
   "metadata": {},
   "outputs": [
    {
     "data": {
      "text/plain": [
       "['облагодетельствованным',\n",
       " 'облагодетельствованных',\n",
       " 'председательствовавший',\n",
       " 'стадвадцатипятирублевой',\n",
       " 'высокопревосходительство',\n",
       " 'высокопревосходительства',\n",
       " 'попреблагорассмотрительст',\n",
       " 'попреблагорассмотрительствующемуся',\n",
       " 'убегающих',\n",
       " 'уменьшившейся']"
      ]
     },
     "execution_count": 2,
     "metadata": {},
     "output_type": "execute_result"
    }
   ],
   "source": [
    "with open(\"../data sources/litw-win.txt\", encoding=\"windows-1251\") as file:\n",
    "    words = [word.split()[1].strip() for word in file.readlines()]\n",
    "\n",
    "words[-10:]"
   ]
  },
  {
   "cell_type": "code",
   "execution_count": 3,
   "metadata": {},
   "outputs": [],
   "source": [
    "text = '''с велечайшим усилием выбравшись из потока убегающих людей Кутузов со свитой уменьшевшейся вдвое поехал на звуки выстрелов русских орудий'''.split()"
   ]
  },
  {
   "cell_type": "code",
   "execution_count": 15,
   "metadata": {},
   "outputs": [
    {
     "name": "stdout",
     "output_type": "stream",
     "text": [
      "время на создание списка слов близких по расстоянию Левенштейна для слова - велечайшим   : 3.470000228844583e-05 секунды\n",
      "Функция отработала за 0.0002106000029016286 секунды\n",
      "\n",
      "время на создание списка слов близких по расстоянию Левенштейна для слова - Кутузов      : 2.9399991035461426e-05 секунды\n",
      "Функция отработала за 0.00020119998953305185 секунды\n",
      "\n",
      "время на создание списка слов близких по расстоянию Левенштейна для слова - уменьшевшейся: 2.7699978090822697e-05 секунды\n",
      "Функция отработала за 0.0002161000156775117 секунды\n",
      "\n",
      "    Исходный текст - с велечайшим усилием выбравшись из потока убегающих людей Кутузов со свитой уменьшевшейся вдвое поехал на звуки выстрелов русских орудий\n",
      "Исправленный текст - с величайшим усилием выбравшись из потока убегающих людей кутузов со свитой уменьшившейся вдвое поехал на звуки выстрелов русских орудий\n"
     ]
    }
   ],
   "source": [
    "def time_counter(func):\n",
    "    def wrapper(*args, **kwargs):\n",
    "        start = perf_counter()\n",
    "        result = func(*args, **kwargs)\n",
    "        end = perf_counter() - start\n",
    "        print(f\"Функция отработала за {end} секунды\\n\")\n",
    "        \n",
    "        return result\n",
    "    return wrapper\n",
    "        \n",
    "\n",
    "    \n",
    "\n",
    "@time_counter\n",
    "def get_distance(word, bank):\n",
    "    start = perf_counter()\n",
    "    lword = len(word)\n",
    "    sword = set(word)\n",
    "    fltr = filter(lambda x: (lword - 1 <= len(x) <= lword + 1) and (len(sword - set(x)) <= 2), bank)\n",
    "    print(f\"время на создание списка слов близких по расстоянию Левенштейна для слова - {word:13}: {perf_counter() - start} секунды\")\n",
    "    return fltr\n",
    "\n",
    "correct_text = [min(get_distance(w, words), key=lambda x: edit_distance(x, w)) if w not in words else w for w in text]\n",
    "\n",
    "\n",
    "print(f\"    Исходный текст - {' '.join(text)}\")\n",
    "print(f\"Исправленный текст - {' '.join(correct_text)}\")"
   ]
  },
  {
   "cell_type": "markdown",
   "metadata": {},
   "source": [
    "2. Разбейте текст из формулировки задания 1 на слова; проведите стемминг и лемматизацию слов."
   ]
  },
  {
   "cell_type": "code",
   "execution_count": 17,
   "metadata": {},
   "outputs": [
    {
     "data": {
      "text/plain": [
       "['считайте',\n",
       " 'слова',\n",
       " 'из',\n",
       " 'файла',\n",
       " 'и',\n",
       " 'запишите',\n",
       " 'их',\n",
       " 'в',\n",
       " 'список',\n",
       " 'заданном',\n",
       " 'предложении',\n",
       " 'исправьте',\n",
       " 'все',\n",
       " 'опечатки',\n",
       " 'заменив',\n",
       " 'с',\n",
       " 'опечатками',\n",
       " 'на',\n",
       " 'ближайшие',\n",
       " 'смысле',\n",
       " 'расстояния',\n",
       " 'левенштейна',\n",
       " 'к',\n",
       " 'ним',\n",
       " 'списка',\n",
       " 'что',\n",
       " 'слове',\n",
       " 'есть',\n",
       " 'опечатка',\n",
       " 'если',\n",
       " 'данное',\n",
       " 'слово',\n",
       " 'не',\n",
       " 'содержится',\n",
       " 'списке']"
      ]
     },
     "execution_count": 17,
     "metadata": {},
     "output_type": "execute_result"
    }
   ],
   "source": [
    "raw_text = \"Считайте слова из файла litw-win.txt и запишите их в список words. В заданном предложении исправьте все опечатки, заменив слова с опечатками на ближайшие (в смысле расстояния Левенштейна) к ним слова из списка words. Считайте, что в слове есть опечатка, если данное слово не содержится в списке words.\"\n",
    "set_text = set(map(lambda x: x.lower(), re.findall(r\"\\b[а-яА-ЯеЁ]+\\b\", raw_text)))\n",
    "\n",
    "total = sorted(set_text, key=lambda x: re.findall(r\"\\b[а-яА-ЯеЁ]+\\b\", raw_text.lower()).index(x))\n",
    "total"
   ]
  },
  {
   "cell_type": "code",
   "execution_count": 33,
   "metadata": {},
   "outputs": [
    {
     "name": "stdout",
     "output_type": "stream",
     "text": [
      "Collecting pymorphy3\n",
      "  Downloading pymorphy3-1.2.0-py3-none-any.whl (55 kB)\n",
      "                                              0.0/55.4 kB ? eta -:--:--\n",
      "     ------------------------------------     51.2/55.4 kB 2.6 MB/s eta 0:00:01\n",
      "     ---------------------------------------- 55.4/55.4 kB 1.4 MB/s eta 0:00:00\n",
      "Requirement already satisfied: dawg-python>=0.7.1 in c:\\users\\cvrsd\\anaconda3\\lib\\site-packages (from pymorphy3) (0.7.2)\n",
      "Requirement already satisfied: docopt>=0.6 in c:\\users\\cvrsd\\anaconda3\\lib\\site-packages (from pymorphy3) (0.6.2)\n",
      "Collecting pymorphy3-dicts-ru (from pymorphy3)\n",
      "  Downloading pymorphy3_dicts_ru-2.4.417150.4580142-py2.py3-none-any.whl (8.4 MB)\n",
      "                                              0.0/8.4 MB ? eta -:--:--\n",
      "                                              0.1/8.4 MB 3.3 MB/s eta 0:00:03\n",
      "     -                                        0.3/8.4 MB 5.1 MB/s eta 0:00:02\n",
      "     --                                       0.6/8.4 MB 5.4 MB/s eta 0:00:02\n",
      "     ---                                      0.7/8.4 MB 5.7 MB/s eta 0:00:02\n",
      "     ----                                     1.0/8.4 MB 5.4 MB/s eta 0:00:02\n",
      "     ------                                   1.4/8.4 MB 6.9 MB/s eta 0:00:02\n",
      "     -------                                  1.6/8.4 MB 6.6 MB/s eta 0:00:02\n",
      "     -----------                              2.5/8.4 MB 8.3 MB/s eta 0:00:01\n",
      "     -------------                            2.9/8.4 MB 8.3 MB/s eta 0:00:01\n",
      "     ---------------                          3.3/8.4 MB 8.7 MB/s eta 0:00:01\n",
      "     -----------------                        3.6/8.4 MB 8.6 MB/s eta 0:00:01\n",
      "     -------------------                      4.1/8.4 MB 8.9 MB/s eta 0:00:01\n",
      "     ---------------------                    4.5/8.4 MB 8.9 MB/s eta 0:00:01\n",
      "     -----------------------                  4.9/8.4 MB 9.2 MB/s eta 0:00:01\n",
      "     -------------------------                5.3/8.4 MB 9.2 MB/s eta 0:00:01\n",
      "     ---------------------------              5.7/8.4 MB 9.4 MB/s eta 0:00:01\n",
      "     -----------------------------            6.2/8.4 MB 9.4 MB/s eta 0:00:01\n",
      "     -------------------------------          6.6/8.4 MB 9.6 MB/s eta 0:00:01\n",
      "     ---------------------------------        7.0/8.4 MB 9.5 MB/s eta 0:00:01\n",
      "     -----------------------------------      7.4/8.4 MB 9.7 MB/s eta 0:00:01\n",
      "     -------------------------------------    7.9/8.4 MB 9.7 MB/s eta 0:00:01\n",
      "     ---------------------------------------  8.3/8.4 MB 9.9 MB/s eta 0:00:01\n",
      "     ---------------------------------------  8.4/8.4 MB 9.8 MB/s eta 0:00:01\n",
      "     ---------------------------------------  8.4/8.4 MB 9.8 MB/s eta 0:00:01\n",
      "     ---------------------------------------- 8.4/8.4 MB 9.0 MB/s eta 0:00:00\n",
      "Installing collected packages: pymorphy3-dicts-ru, pymorphy3\n",
      "Successfully installed pymorphy3-1.2.0 pymorphy3-dicts-ru-2.4.417150.4580142\n",
      "Note: you may need to restart the kernel to use updated packages.\n"
     ]
    }
   ],
   "source": [
    "#%pip install pymorphy3\n"
   ]
  },
  {
   "cell_type": "code",
   "execution_count": 18,
   "metadata": {},
   "outputs": [
    {
     "data": {
      "text/html": [
       "<div>\n",
       "<style scoped>\n",
       "    .dataframe tbody tr th:only-of-type {\n",
       "        vertical-align: middle;\n",
       "    }\n",
       "\n",
       "    .dataframe tbody tr th {\n",
       "        vertical-align: top;\n",
       "    }\n",
       "\n",
       "    .dataframe thead th {\n",
       "        text-align: right;\n",
       "    }\n",
       "</style>\n",
       "<table border=\"1\" class=\"dataframe\">\n",
       "  <thead>\n",
       "    <tr style=\"text-align: right;\">\n",
       "      <th></th>\n",
       "      <th>word</th>\n",
       "      <th>lemme</th>\n",
       "      <th>stemm</th>\n",
       "    </tr>\n",
       "  </thead>\n",
       "  <tbody>\n",
       "    <tr>\n",
       "      <th>0</th>\n",
       "      <td>считайте</td>\n",
       "      <td>считать</td>\n",
       "      <td>счита</td>\n",
       "    </tr>\n",
       "    <tr>\n",
       "      <th>1</th>\n",
       "      <td>слова</td>\n",
       "      <td>слово</td>\n",
       "      <td>слов</td>\n",
       "    </tr>\n",
       "    <tr>\n",
       "      <th>2</th>\n",
       "      <td>из</td>\n",
       "      <td>из</td>\n",
       "      <td>из</td>\n",
       "    </tr>\n",
       "    <tr>\n",
       "      <th>3</th>\n",
       "      <td>файла</td>\n",
       "      <td>файл</td>\n",
       "      <td>файл</td>\n",
       "    </tr>\n",
       "    <tr>\n",
       "      <th>4</th>\n",
       "      <td>и</td>\n",
       "      <td>и</td>\n",
       "      <td>и</td>\n",
       "    </tr>\n",
       "    <tr>\n",
       "      <th>5</th>\n",
       "      <td>запишите</td>\n",
       "      <td>записать</td>\n",
       "      <td>запиш</td>\n",
       "    </tr>\n",
       "    <tr>\n",
       "      <th>6</th>\n",
       "      <td>их</td>\n",
       "      <td>они</td>\n",
       "      <td>их</td>\n",
       "    </tr>\n",
       "    <tr>\n",
       "      <th>7</th>\n",
       "      <td>в</td>\n",
       "      <td>в</td>\n",
       "      <td>в</td>\n",
       "    </tr>\n",
       "    <tr>\n",
       "      <th>8</th>\n",
       "      <td>список</td>\n",
       "      <td>список</td>\n",
       "      <td>список</td>\n",
       "    </tr>\n",
       "    <tr>\n",
       "      <th>9</th>\n",
       "      <td>заданном</td>\n",
       "      <td>задать</td>\n",
       "      <td>зада</td>\n",
       "    </tr>\n",
       "    <tr>\n",
       "      <th>10</th>\n",
       "      <td>предложении</td>\n",
       "      <td>предложение</td>\n",
       "      <td>предложен</td>\n",
       "    </tr>\n",
       "    <tr>\n",
       "      <th>11</th>\n",
       "      <td>исправьте</td>\n",
       "      <td>исправить</td>\n",
       "      <td>исправьт</td>\n",
       "    </tr>\n",
       "    <tr>\n",
       "      <th>12</th>\n",
       "      <td>все</td>\n",
       "      <td>всё</td>\n",
       "      <td>все</td>\n",
       "    </tr>\n",
       "    <tr>\n",
       "      <th>13</th>\n",
       "      <td>опечатки</td>\n",
       "      <td>опечатка</td>\n",
       "      <td>опечатк</td>\n",
       "    </tr>\n",
       "    <tr>\n",
       "      <th>14</th>\n",
       "      <td>заменив</td>\n",
       "      <td>заменить</td>\n",
       "      <td>замен</td>\n",
       "    </tr>\n",
       "    <tr>\n",
       "      <th>15</th>\n",
       "      <td>с</td>\n",
       "      <td>с</td>\n",
       "      <td>с</td>\n",
       "    </tr>\n",
       "    <tr>\n",
       "      <th>16</th>\n",
       "      <td>опечатками</td>\n",
       "      <td>опечатка</td>\n",
       "      <td>опечатк</td>\n",
       "    </tr>\n",
       "    <tr>\n",
       "      <th>17</th>\n",
       "      <td>на</td>\n",
       "      <td>на</td>\n",
       "      <td>на</td>\n",
       "    </tr>\n",
       "    <tr>\n",
       "      <th>18</th>\n",
       "      <td>ближайшие</td>\n",
       "      <td>близкий</td>\n",
       "      <td>ближайш</td>\n",
       "    </tr>\n",
       "    <tr>\n",
       "      <th>19</th>\n",
       "      <td>смысле</td>\n",
       "      <td>смысл</td>\n",
       "      <td>смысл</td>\n",
       "    </tr>\n",
       "    <tr>\n",
       "      <th>20</th>\n",
       "      <td>расстояния</td>\n",
       "      <td>расстояние</td>\n",
       "      <td>расстоян</td>\n",
       "    </tr>\n",
       "    <tr>\n",
       "      <th>21</th>\n",
       "      <td>левенштейна</td>\n",
       "      <td>левенштейн</td>\n",
       "      <td>левенштейн</td>\n",
       "    </tr>\n",
       "    <tr>\n",
       "      <th>22</th>\n",
       "      <td>к</td>\n",
       "      <td>к</td>\n",
       "      <td>к</td>\n",
       "    </tr>\n",
       "    <tr>\n",
       "      <th>23</th>\n",
       "      <td>ним</td>\n",
       "      <td>они</td>\n",
       "      <td>ним</td>\n",
       "    </tr>\n",
       "    <tr>\n",
       "      <th>24</th>\n",
       "      <td>списка</td>\n",
       "      <td>список</td>\n",
       "      <td>списк</td>\n",
       "    </tr>\n",
       "    <tr>\n",
       "      <th>25</th>\n",
       "      <td>что</td>\n",
       "      <td>что</td>\n",
       "      <td>что</td>\n",
       "    </tr>\n",
       "    <tr>\n",
       "      <th>26</th>\n",
       "      <td>слове</td>\n",
       "      <td>слово</td>\n",
       "      <td>слов</td>\n",
       "    </tr>\n",
       "    <tr>\n",
       "      <th>27</th>\n",
       "      <td>есть</td>\n",
       "      <td>есть</td>\n",
       "      <td>ест</td>\n",
       "    </tr>\n",
       "    <tr>\n",
       "      <th>28</th>\n",
       "      <td>опечатка</td>\n",
       "      <td>опечатка</td>\n",
       "      <td>опечатк</td>\n",
       "    </tr>\n",
       "    <tr>\n",
       "      <th>29</th>\n",
       "      <td>если</td>\n",
       "      <td>если</td>\n",
       "      <td>есл</td>\n",
       "    </tr>\n",
       "    <tr>\n",
       "      <th>30</th>\n",
       "      <td>данное</td>\n",
       "      <td>данный</td>\n",
       "      <td>дан</td>\n",
       "    </tr>\n",
       "    <tr>\n",
       "      <th>31</th>\n",
       "      <td>слово</td>\n",
       "      <td>слово</td>\n",
       "      <td>слов</td>\n",
       "    </tr>\n",
       "    <tr>\n",
       "      <th>32</th>\n",
       "      <td>не</td>\n",
       "      <td>не</td>\n",
       "      <td>не</td>\n",
       "    </tr>\n",
       "    <tr>\n",
       "      <th>33</th>\n",
       "      <td>содержится</td>\n",
       "      <td>содержаться</td>\n",
       "      <td>содерж</td>\n",
       "    </tr>\n",
       "    <tr>\n",
       "      <th>34</th>\n",
       "      <td>списке</td>\n",
       "      <td>список</td>\n",
       "      <td>списк</td>\n",
       "    </tr>\n",
       "  </tbody>\n",
       "</table>\n",
       "</div>"
      ],
      "text/plain": [
       "           word        lemme       stemm\n",
       "0      считайте      считать       счита\n",
       "1         слова        слово        слов\n",
       "2            из           из          из\n",
       "3         файла         файл        файл\n",
       "4             и            и           и\n",
       "5      запишите     записать       запиш\n",
       "6            их          они          их\n",
       "7             в            в           в\n",
       "8        список       список      список\n",
       "9      заданном       задать        зада\n",
       "10  предложении  предложение   предложен\n",
       "11    исправьте    исправить    исправьт\n",
       "12          все          всё         все\n",
       "13     опечатки     опечатка     опечатк\n",
       "14      заменив     заменить       замен\n",
       "15            с            с           с\n",
       "16   опечатками     опечатка     опечатк\n",
       "17           на           на          на\n",
       "18    ближайшие      близкий     ближайш\n",
       "19       смысле        смысл       смысл\n",
       "20   расстояния   расстояние    расстоян\n",
       "21  левенштейна   левенштейн  левенштейн\n",
       "22            к            к           к\n",
       "23          ним          они         ним\n",
       "24       списка       список       списк\n",
       "25          что          что         что\n",
       "26        слове        слово        слов\n",
       "27         есть         есть         ест\n",
       "28     опечатка     опечатка     опечатк\n",
       "29         если         если         есл\n",
       "30       данное       данный         дан\n",
       "31        слово        слово        слов\n",
       "32           не           не          не\n",
       "33   содержится  содержаться      содерж\n",
       "34       списке       список       списк"
      ]
     },
     "execution_count": 18,
     "metadata": {},
     "output_type": "execute_result"
    }
   ],
   "source": [
    "import nltk\n",
    "from nltk.stem import SnowballStemmer\n",
    "import pandas as pd\n",
    "import pymorphy3\n",
    "\n",
    "\n",
    "stemmer = SnowballStemmer('russian')\n",
    "morph = pymorphy3.MorphAnalyzer()\n",
    "\n",
    "\n",
    "lemmes = [morph.parse(word)[0].normal_form for word in total]\n",
    "stemmes = [stemmer.stem(word) for word in total]\n",
    "\n",
    "dframe = pd.DataFrame({\n",
    "    'word': total,\n",
    "    'lemme': lemmes,\n",
    "    'stemm': stemmes\n",
    "})\n",
    "\n",
    "dframe"
   ]
  },
  {
   "cell_type": "code",
   "execution_count": null,
   "metadata": {},
   "outputs": [],
   "source": [
    "\"\"\"\n",
    "def get_info(word):\n",
    "    return f\"Слово - {word}\\nЛемматизация - {morph.parse(word)[0].normal_form}\\nСтемминг - {stemmer.stem(word)}\\n{'-' * 25}\"\n",
    "\n",
    "\n",
    "#[print(get_info(word)) for word in ltext]\n",
    "for word in ltext:\n",
    "    print(get_info(word))\n",
    "\"\"\""
   ]
  },
  {
   "cell_type": "markdown",
   "metadata": {},
   "source": [
    "3. Преобразуйте предложения из формулировки задания 1 в векторы при помощи `CountVectorizer`."
   ]
  },
  {
   "cell_type": "code",
   "execution_count": 19,
   "metadata": {},
   "outputs": [],
   "source": [
    "from razdel import sentenize\n",
    "\n",
    "count_vectorizer = CountVectorizer()\n",
    "snt = [list(row)[-1] for row in sentenize(raw_text)]"
   ]
  },
  {
   "cell_type": "code",
   "execution_count": 20,
   "metadata": {},
   "outputs": [
    {
     "data": {
      "text/plain": [
       "array([[1, 1, 1, 1, 0, 0, 0, 0, 0, 0, 0, 1, 1, 0, 1, 0, 0, 0, 0, 0, 0, 0,\n",
       "        0, 0, 1, 0, 0, 0, 0, 0, 0, 1, 1, 1, 0],\n",
       "       [0, 0, 0, 1, 1, 1, 0, 0, 0, 1, 1, 0, 1, 1, 0, 1, 1, 0, 1, 0, 1, 1,\n",
       "        1, 1, 2, 0, 0, 1, 0, 1, 0, 0, 0, 0, 0],\n",
       "       [0, 0, 0, 1, 0, 0, 1, 1, 1, 0, 0, 0, 0, 0, 0, 0, 0, 1, 0, 1, 0, 0,\n",
       "        0, 0, 0, 1, 1, 0, 1, 0, 1, 0, 1, 0, 1]], dtype=int64)"
      ]
     },
     "execution_count": 20,
     "metadata": {},
     "output_type": "execute_result"
    }
   ],
   "source": [
    "wcv = count_vectorizer.fit_transform(snt)\n",
    "wcv.toarray()"
   ]
  },
  {
   "cell_type": "markdown",
   "metadata": {},
   "source": [
    "## Лабораторная работа 9"
   ]
  },
  {
   "cell_type": "markdown",
   "metadata": {},
   "source": [
    "### Расстояние редактирования"
   ]
  },
  {
   "cell_type": "markdown",
   "metadata": {},
   "source": [
    "1.1 Загрузите предобработанные описания рецептов из файла `preprocessed_descriptions.csv`. Получите набор уникальных слов `words`, содержащихся в текстах описаний рецептов (воспользуйтесь `word_tokenize` из `nltk`). "
   ]
  },
  {
   "cell_type": "code",
   "execution_count": 21,
   "metadata": {},
   "outputs": [
    {
     "data": {
      "text/plain": [
       "2231637"
      ]
     },
     "execution_count": 21,
     "metadata": {},
     "output_type": "execute_result"
    }
   ],
   "source": [
    "from nltk import word_tokenize\n",
    "\n",
    "# Из-за большого веса (500 Мб) preprocessed_descriptions.csv не смог загрузить его на гит, поэтому разбил его на чанки по 23 Мб\n",
    "'''\n",
    "descriptions = pd.read_parquet(\"../data sources/preprocessed_descriptions chunks/chunk1.parquet\")\n",
    "\n",
    "for i in range(2, 11):\n",
    "    df = pd.read_parquet(f\"../data sources/preprocessed_descriptions chunks/chunk{i}.parquet\")\n",
    "    bank = pd.concat([bank, df], ignore_index=True)\n",
    "\n",
    "descriptions.size\n",
    "'''\n",
    "\n",
    "\n",
    "descriptions = pd.read_csv('../data sources/preprocessed_descriptions.csv')\n",
    "\n",
    "descriptions.size"
   ]
  },
  {
   "cell_type": "code",
   "execution_count": 24,
   "metadata": {},
   "outputs": [],
   "source": [
    "#ограничил вывод, т.к. слишком долгое ожидание\n",
    "\n",
    "d_list = descriptions.descriptions.to_list()[:1000] #Взял первую тысячу описаний\n",
    "raw_words = [word_tokenize(row) for row in d_list]\n",
    "clear_words = [[word for word in row if word.isalpha()] for row in raw_words]\n",
    "unique_words = [sorted(set(row), key=lambda x: row.index(x)) for row in clear_words]\n",
    "\n"
   ]
  },
  {
   "cell_type": "code",
   "execution_count": 25,
   "metadata": {},
   "outputs": [
    {
     "name": "stdout",
     "output_type": "stream",
     "text": [
      "Из описания:\n",
      "\n",
      "remove the fat cap and any large areas or pockets of external fat that can be easily trimmed away cut the eggplants in half lengthwise and  taking care not to break the skins  gently scoop out the flesh bake uncovered in a 350f for one hour or until golden and hot through refrigerate\n",
      "\n",
      "Уникальные слова:\n",
      "['remove', 'the', 'fat', 'cap', 'and', 'any', 'large', 'areas', 'or', 'pockets', 'of', 'external', 'that', 'can', 'be', 'easily', 'trimmed', 'away', 'cut', 'eggplants', 'in', 'half', 'lengthwise', 'taking', 'care', 'not', 'to', 'break', 'skins', 'gently', 'scoop', 'out', 'flesh', 'bake', 'uncovered', 'a', 'for', 'one', 'hour', 'until', 'golden', 'hot', 'through', 'refrigerate'] \n"
     ]
    }
   ],
   "source": [
    "print(f\"Из описания:\\n\\n{d_list[0]}\\n\\nУникальные слова:\\n{unique_words[0]} \")"
   ]
  },
  {
   "cell_type": "markdown",
   "metadata": {},
   "source": [
    "1.2 Сгенерируйте 5 пар случайно выбранных слов и посчитайте между ними расстояние редактирования."
   ]
  },
  {
   "cell_type": "code",
   "execution_count": 48,
   "metadata": {},
   "outputs": [
    {
     "data": {
      "text/plain": [
       "[('cut', 'tear'),\n",
       " ('combine', 'combine'),\n",
       " ('brown', 'cut'),\n",
       " ('boil', 'preheat'),\n",
       " ('heat', 'stir')]"
      ]
     },
     "execution_count": 48,
     "metadata": {},
     "output_type": "execute_result"
    }
   ],
   "source": [
    "f = lambda: np.random.randint(0, len(unique_words))\n",
    "five_pairs = [(unique_words[f()][0], unique_words[f()][0]) for i in range(5)]\n",
    "five_pairs"
   ]
  },
  {
   "cell_type": "code",
   "execution_count": 49,
   "metadata": {},
   "outputs": [
    {
     "name": "stdout",
     "output_type": "stream",
     "text": [
      "Расстояние редактирования между словами:   cut   и  tear   - 4                   \n",
      "Расстояние редактирования между словами: combine и combine - 0                   \n",
      "Расстояние редактирования между словами:  brown  и   cut   - 5                   \n",
      "Расстояние редактирования между словами:  boil   и preheat - 7                   \n",
      "Расстояние редактирования между словами:  heat   и  stir   - 4                   \n"
     ]
    },
    {
     "data": {
      "text/plain": [
       "[None, None, None, None, None]"
      ]
     },
     "execution_count": 49,
     "metadata": {},
     "output_type": "execute_result"
    }
   ],
   "source": [
    "[print(f\"{'Расстояние редактирования между словами:':>30} {v1:^7} и {v2:^7} - {edit_distance(v1, v2):<20}\") for v1, v2 in five_pairs]"
   ]
  },
  {
   "cell_type": "markdown",
   "metadata": {},
   "source": [
    "1.3 Напишите функцию, которая для заданного слова `word` возвращает `k` ближайших к нему слов из списка `words` (близость слов измеряется с помощью расстояния Левенштейна)"
   ]
  },
  {
   "cell_type": "code",
   "execution_count": 50,
   "metadata": {},
   "outputs": [
    {
     "data": {
      "text/plain": [
       "['облагодетельствованным',\n",
       " 'облагодетельствованных',\n",
       " 'председательствовавший',\n",
       " 'стадвадцатипятирублевой',\n",
       " 'высокопревосходительство',\n",
       " 'высокопревосходительства',\n",
       " 'попреблагорассмотрительст',\n",
       " 'попреблагорассмотрительствующемуся',\n",
       " 'убегающих',\n",
       " 'уменьшившейся']"
      ]
     },
     "execution_count": 50,
     "metadata": {},
     "output_type": "execute_result"
    }
   ],
   "source": [
    "words[-10:]"
   ]
  },
  {
   "cell_type": "code",
   "execution_count": 68,
   "metadata": {},
   "outputs": [
    {
     "name": "stdout",
     "output_type": "stream",
     "text": [
      "время на создание списка слов близких по расстоянию Левенштейна для слова - убегающий    : 1.300001167692244e-05 секунды\n",
      "Функция отработала за 0.0005393000028561801 секунды\n",
      "\n",
      "Отфильтровал слова, оставил наиболее похожие, которые прошли фильтр:\n",
      "['пугающий', 'балующий', 'бегающих', 'требующий', 'убивающий', 'умирающей', 'угасающий', 'бегающими', 'угасающие', 'играющему', 'огибающей', 'огибающую', 'сбегающей', 'слабеющий', 'убегающая', 'убегающей', 'убегающим', 'убивающие', 'уезжающий', 'улыбающег', 'умирающего', 'богатейшую', 'угрожающей', 'блуждающей', 'блуждающий', 'погибающий', 'блистающей', 'забегающие', 'набегающий', 'небрегущий', 'негибнущая', 'обитающего', 'обрекающий', 'оглушающий', 'разумеющий', 'убегающего', 'угнетающим', 'угрожающий', 'упрекающий', 'убегающих']\n",
      "\n",
      "\n",
      "Наиболее близкие по расстоянию Левенштейна слова к слову 'убегающий':\n",
      "Количество - 5:\n",
      "['убегающей', 'убегающим', 'убегающих', 'бегающих', 'убивающий']\n"
     ]
    },
    {
     "data": {
      "text/plain": [
       "['убегающей', 'убегающим', 'убегающих', 'бегающих', 'убивающий']"
      ]
     },
     "execution_count": 68,
     "metadata": {},
     "output_type": "execute_result"
    }
   ],
   "source": [
    "def get_similar(word, k, words):\n",
    "    \n",
    "    fltr = list(get_distance(word, words))\n",
    "    print(f\"Отфильтровал слова, оставил наиболее похожие, которые прошли фильтр:\\n{fltr}\\n\\n\")\n",
    "    \n",
    "    result = sorted(fltr, key=lambda x: edit_distance(word, x))[:k]\n",
    "    print(f\"Наиболее близкие по расстоянию Левенштейна слова к слову '{word}':\\nКоличество - {k}:\\n{result}\")\n",
    "    return result\n",
    "    \n",
    "\n",
    "get_similar(\"убегающий\", 5, words)"
   ]
  },
  {
   "cell_type": "code",
   "execution_count": 78,
   "metadata": {},
   "outputs": [
    {
     "name": "stdout",
     "output_type": "stream",
     "text": [
      "время на создание списка слов близких по расстоянию Левенштейна для слова - Сабиров      : 1.2500007869675756e-05 секунды\n",
      "Функция отработала за 0.0007728000055067241 секунды\n",
      "\n",
      "Отфильтровал слова, оставил наиболее похожие, которые прошли фильтр:\n",
      "['бросив', 'обрати', 'прибав', 'выбора', 'обрыва', 'собрав', 'товари', 'грибов', 'вообра', 'бориса', 'браков', 'бритва', 'изобра', 'обвила', 'разбои', 'борова', 'бровки', 'ворами', 'избрав', 'изорва', 'мирабо', 'обирая', 'собира', 'авирон', 'аридов', 'ариево', 'барино', 'биогра', 'бисова', 'бравое', 'бритво', 'бровка', 'вбирал', 'выбира', 'вырабо', 'говари', 'добива', 'добира', 'крабов', 'обивая', 'обрами', 'овраги', 'оправи', 'отрави', 'пирова', 'пробив', 'провиа', 'рабочи', 'разбив', 'кровати', 'бросила', 'товарищ', 'обратил', 'арбузов', 'красиво', 'барином', 'бровями', 'добавил', 'оборвал', 'правило', 'бросали', 'выбрали', 'образов', 'ограбил', 'рабочих', 'рабство', 'баранов', 'выбирая', 'обратив', 'рабочие', 'собирал', 'собрали', 'чебаров', 'воробьи', 'дровами', 'заборов', 'обратит', 'рыбаков', 'бродила', 'обтирая', 'рабочий', 'коврами', 'корабли', 'развито', 'борисов', 'виктора', 'выбирал', 'разбито', 'рисовал', 'собрани', 'архипов', 'взорами', 'воображ', 'отравил', 'прибави', 'собирая', 'выбирай', 'прибавь', 'сбросив', 'багрово', 'базаров', 'ворчали', 'затвори', 'изорвал', 'обливая', 'обругав', 'побирай', 'поправи', 'рабочим', 'сборища', 'требова', 'амбаров', 'баронов', 'братове', 'возрази', 'воришка', 'гробами', 'обирать', 'обрывам', 'обрывки', 'обтирал', 'оправил', 'отправи', 'паровик', 'пировал', 'понрави', 'сбивало', 'аристов', 'бараков', 'баритон', 'биваков', 'борцами', 'бритвой', 'вбросил', 'вербами', 'вообраз', 'выбираю', 'выборам', 'горбами', 'добивай', 'обвивал', 'обвитая', 'обивать', 'обирает', 'обливал', 'обнажив', 'ободрив', 'оборван', 'образки', 'обрывах', 'обтирка', 'обхвати', 'обширна', 'отбирал', 'паробки', 'побалив', 'прибора', 'пробова', 'разбило', 'разбоев', 'разводи', 'сорвали', 'убивало', 'фаворит', 'абрамов', 'абреков', 'авирона', 'аридовы', 'барсовы', 'барство', 'биваком', 'биограф', 'бирюков', 'боровки', 'боярина', 'бравого', 'бравшие', 'бравший', 'бранчив', 'бровари', 'буквари', 'вобрала', 'вторила', 'выборах', 'выбрита', 'гаврило', 'горбина', 'гробика', 'дитвора', 'добавит', 'добавки', 'доварит', 'довбиша', 'мировая', 'мовбрай', 'наробил', 'обварил', 'обивает', 'обирала', 'обирали', 'обливай', 'обливаю', 'оборвав', 'обпивал', 'обрадов', 'образил', 'обрывал', 'обрывая', 'обували', 'обшарив', 'обшарил', 'оградив', 'оправив', 'оправки', 'ослабив', 'оспарив', 'отбивал', 'париков', 'пиброка', 'побрали', 'поварни', 'подарив', 'поразив', 'пошарив', 'прибавя', 'прибрав', 'привода', 'прикова', 'пробила', 'пробита', 'провали', 'прожива', 'пролива', 'разбивш', 'развило', 'разорви', 'рубинов', 'рыбалов', 'рябоват', 'сборами', 'сговари', 'сгорбив', 'собират', 'собираю', 'собравш', 'творила', 'тиранов', 'уговари', 'утроива', 'фиакров', 'хворали', 'говорила', 'напротив', 'прибавил', 'возразил', 'рыбников', 'собрание', 'объявила', 'отворила', 'товарищи', 'товарища', 'дворника', 'пробовал', 'требовал', 'воротами', 'собрании', 'обратить', 'отправил', 'собрания', 'прибавлю', 'поправил', 'артистов', 'поверила', 'арбузова', 'вообрази', 'проживал', 'красивой', 'товарищу', 'образами', 'обратили', 'работали', 'обхватил', 'работник', 'братство', 'выбирать', 'пирогова', 'обратись', 'стариков', 'заговори', 'обратила', 'обращали', 'прочитав', 'собирать', 'собранию', 'красивое', 'прибавив', 'прозвали', 'обхватив', 'ограбить', 'парубков', 'поправки', 'прибавит', 'добавила', 'исправно', 'капризов', 'христова', 'выбирает', 'выбросил', 'выразило', 'затворил', 'карлович', 'собирает', 'арбузову', 'виноград', 'веровали', 'порывами', 'противна', 'рябчиков', 'сбросила', 'возврати', 'оборвала', 'образчик', 'обронила', 'правдиво', 'прилавок', 'проливал', 'пропивал', 'развитой', 'ревизора', 'собирают', 'изображу', 'обокрали', 'обращени', 'отбивает', 'подбивал', 'прибавим', 'прибавку', 'прибрано', 'проиграв', 'разбивая', 'разводил', 'рисовать', 'собирала', 'собраний', 'товарами', 'аристова', 'багровое', 'багровым', 'баранова', 'баркасов', 'болтлива', 'борисове', 'борисову', 'бурсаков', 'выбирала', 'выбирали', 'выбранил', 'гробница', 'заборами', 'изорвала', 'лябихова', 'норовила', 'обвиняла', 'обдирают', 'обливала', 'обливали', 'оборками', 'образина', 'обратило', 'обратилс', 'оправила', 'отбросив', 'подбирая', 'поправит', 'правилом', 'прибежав', 'приковал', 'проливая', 'равниной', 'разбитом', 'разводит', 'рисовала', 'рубликов', 'собирали', 'сообрази', 'ставроги', 'чебарова', 'авдиторы', 'багровый', 'богатыри', 'борисова', 'боровска', 'винокура', 'воображу', 'воротила', 'воспарил', 'выбирают', 'выронила', 'добивает', 'забросил', 'карнизов', 'кирилова', 'красивом', 'кроватки', 'набросил', 'обвинила', 'обливает', 'обнаружи', 'оборвать', 'обрадова', 'образова', 'обратите', 'обтирала', 'обтирать', 'обшивать', 'обширная', 'ограбили', 'отбивать', 'отправит', 'пировать', 'поворачи', 'подобрав', 'поправив', 'прибавка', 'притвора', 'пробасил', 'пробежав', 'радовали', 'разбивал', 'разбитое', 'разбитой', 'разбойни', 'рисовало', 'сборника', 'сохранив', 'чебарову', 'юродивая', 'авторами', 'аристово', 'багровой', 'багровые', 'базарова', 'барашков', 'барочник', 'болгарии', 'болгарин', 'болярина', 'браковал', 'бросилас', 'бурлаков', 'воображе', 'воровали', 'воцарилс', 'вразброд', 'выбранив', 'выбросив', 'выговари', 'выморила', 'гаврилой', 'гранитов', 'графинов', 'гробовая', 'дворцами', 'добывали', 'забросив', 'затворив', 'изобрела', 'изразцов', 'крапивой', 'кривобок', 'наморщив', 'обвивает', 'обозвали', 'обругали', 'обручами', 'обрывает', 'обрывала', 'обтирают', 'обхватит', 'оврагами', 'орбитами', 'отбивают', 'отвратит', 'отправив', 'отправки', 'отравили', 'пивовары', 'пировали', 'побранки', 'побывали', 'подбавил', 'понравил', 'поправим', 'прибавке', 'прибавля', 'прибавят', 'прибрало', 'приватно', 'прикован', 'припасов', 'продавши', 'проживаю', 'проживая', 'прозвища', 'проливаю', 'работами', 'рабочими', 'рабством', 'разбиваю', 'раковина', 'рыбасова', 'смирнова', 'собакеви', 'собравши', 'суворина', 'товарище', 'фаворита', 'фавориту', 'фавориты', 'фризовая', 'абониров', 'абрамова', 'абрикосы', 'аристове', 'архивной', 'архипова', 'архипову', 'багровая', 'баловали', 'баловниц', 'банщиков', 'баранков', 'барвинки', 'басовыми', 'батистов', 'батькови', 'башилову', 'бедовали', 'бикусова', 'бисаврюк', 'болгария', 'бомбарди', 'бондарев', 'боринька', 'борисыча', 'бородами', 'бородина', 'бортищах', 'боярства', 'бравируя', 'бранчива', 'бранчиво', 'бревнами', 'бритвами', 'бровочки', 'бросания', 'бросивши', 'брошками', 'брюллова', 'будуаров', 'буравами', 'буравчик', 'бурнашов', 'буровить', 'варилось', 'вашбродь', 'вибрацию', 'возразив', 'вообража', 'воронами', 'ворохами', 'ворчлива', 'вразброс', 'вторника', 'выбритой', 'выиграно', 'выработа', 'гербовая', 'горевали', 'грубоват', 'даровани', 'даровиты', 'добавили', 'добавить', 'добиваем', 'добивала', 'доверила', 'допрашив', 'жировань', 'жуировал', 'забирало', 'заботлив', 'забродит', 'загривок', 'заробели', 'зарябило', 'зубикова', 'избирало', 'изобража', 'изобрази', 'изорвали', 'изорванн', 'изорвано', 'иноверам', 'карболки', 'карликов', 'карпович', 'квартиро', 'ковбаски', 'кораблик', 'красивою', 'маркович', 'мировали', 'набросав', 'нарцизов', 'настроив', 'обвивала', 'обвивали', 'обвилась', 'обводила', 'обвязали', 'обдавали', 'обдирает', 'обдирать', 'обзывали', 'обидчива', 'обираешь', 'обманчив', 'обмерила', 'ободрали', 'обокради', 'оборвали', 'оборванн', 'оборотив', 'образине', 'образину', 'образков', 'образник', 'образцов', 'обрубила', 'обрушила', 'обрывали', 'обрывист', 'обрядами', 'обрядила', 'обшарили', 'обшивала', 'обшивали', 'ограбивш', 'озаривши', 'осклабив', 'осматрив', 'отбивавш', 'отбивали', 'отбирала', 'отбирать', 'отвратил', 'отговари', 'оторвали', 'отравить', 'отрубила', 'отрывали', 'паробков', 'паровика', 'паршивом', 'побаивал', 'побивала', 'побивали', 'побранит', 'побросав', 'побрякив', 'повариха', 'поварихи', 'поговари', 'подбавки', 'подбират', 'подбираю', 'поздрави', 'порвавши', 'потравил', 'поубавил', 'прибавки', 'прибавок', 'пробитая', 'пробками', 'провиант', 'проживае', 'проискав', 'прописав', 'прошвами', 'прошибла', 'работниц', 'разбивку', 'разбивши', 'разбитою', 'разбудив', 'разводим', 'разливом', 'ракитовы', 'раковины', 'раскосив', 'раскроив', 'распивоч', 'рационов', 'рисковал', 'рисовали', 'ростбифа', 'рыболова', 'сварливо', 'сговарив', 'собиралс', 'собираюс', 'соборища', 'собратьи', 'сократив', 'состарив', 'сравнимо', 'травинок', 'трагиков', 'требоват', 'тюрбанов', 'устроива', 'фабрикой', 'цирковая', 'швабрина', 'шоровали', 'щербатов']\n",
      "\n",
      "\n",
      "Наиболее близкие по расстоянию Левенштейна слова к слову 'Сабиров':\n",
      "Количество - 7:\n",
      "['заборов', 'авирон', 'аридов', 'чебаров', 'базаров', 'амбаров', 'париков']\n"
     ]
    },
    {
     "data": {
      "text/plain": [
       "['заборов', 'авирон', 'аридов', 'чебаров', 'базаров', 'амбаров', 'париков']"
      ]
     },
     "execution_count": 78,
     "metadata": {},
     "output_type": "execute_result"
    }
   ],
   "source": [
    "get_similar(\"Сабиров\", 7, words)"
   ]
  },
  {
   "cell_type": "markdown",
   "metadata": {},
   "source": [
    "### Стемминг, лемматизация"
   ]
  },
  {
   "cell_type": "markdown",
   "metadata": {},
   "source": [
    "2.1 На основе результатов 1.1 создайте `pd.DataFrame` со столбцами: \n",
    "    * word\n",
    "    * stemmed_word \n",
    "    * normalized_word \n",
    "\n",
    "Столбец `word` укажите в качестве индекса. \n",
    "\n",
    "Для стемминга воспользуйтесь `SnowballStemmer`, для нормализации слов - `WordNetLemmatizer`. Сравните результаты стемминга и лемматизации."
   ]
  },
  {
   "cell_type": "code",
   "execution_count": 50,
   "metadata": {},
   "outputs": [
    {
     "name": "stderr",
     "output_type": "stream",
     "text": [
      "[nltk_data] Downloading package omw-1.4 to\n",
      "[nltk_data]     C:\\Users\\cvrsd\\AppData\\Roaming\\nltk_data...\n"
     ]
    },
    {
     "data": {
      "text/plain": [
       "True"
      ]
     },
     "execution_count": 50,
     "metadata": {},
     "output_type": "execute_result"
    }
   ],
   "source": [
    "from nltk.stem import WordNetLemmatizer\n",
    "\n",
    "#nltk.download('omw-1.4')"
   ]
  },
  {
   "cell_type": "code",
   "execution_count": 51,
   "metadata": {},
   "outputs": [
    {
     "data": {
      "text/html": [
       "<div>\n",
       "<style scoped>\n",
       "    .dataframe tbody tr th:only-of-type {\n",
       "        vertical-align: middle;\n",
       "    }\n",
       "\n",
       "    .dataframe tbody tr th {\n",
       "        vertical-align: top;\n",
       "    }\n",
       "\n",
       "    .dataframe thead th {\n",
       "        text-align: right;\n",
       "    }\n",
       "</style>\n",
       "<table border=\"1\" class=\"dataframe\">\n",
       "  <thead>\n",
       "    <tr style=\"text-align: right;\">\n",
       "      <th></th>\n",
       "      <th>stemmed_word</th>\n",
       "      <th>normalized_word</th>\n",
       "    </tr>\n",
       "    <tr>\n",
       "      <th>word</th>\n",
       "      <th></th>\n",
       "      <th></th>\n",
       "    </tr>\n",
       "  </thead>\n",
       "  <tbody>\n",
       "    <tr>\n",
       "      <th>remove</th>\n",
       "      <td>remove</td>\n",
       "      <td>remove</td>\n",
       "    </tr>\n",
       "    <tr>\n",
       "      <th>the</th>\n",
       "      <td>the</td>\n",
       "      <td>the</td>\n",
       "    </tr>\n",
       "    <tr>\n",
       "      <th>fat</th>\n",
       "      <td>fat</td>\n",
       "      <td>fat</td>\n",
       "    </tr>\n",
       "    <tr>\n",
       "      <th>cap</th>\n",
       "      <td>cap</td>\n",
       "      <td>cap</td>\n",
       "    </tr>\n",
       "    <tr>\n",
       "      <th>and</th>\n",
       "      <td>and</td>\n",
       "      <td>and</td>\n",
       "    </tr>\n",
       "    <tr>\n",
       "      <th>...</th>\n",
       "      <td>...</td>\n",
       "      <td>...</td>\n",
       "    </tr>\n",
       "    <tr>\n",
       "      <th>cassarole</th>\n",
       "      <td>cassarole</td>\n",
       "      <td>cassarole</td>\n",
       "    </tr>\n",
       "    <tr>\n",
       "      <th>dish</th>\n",
       "      <td>dish</td>\n",
       "      <td>dish</td>\n",
       "    </tr>\n",
       "    <tr>\n",
       "      <th>bake</th>\n",
       "      <td>bake</td>\n",
       "      <td>bake</td>\n",
       "    </tr>\n",
       "    <tr>\n",
       "      <th>or</th>\n",
       "      <td>or</td>\n",
       "      <td>or</td>\n",
       "    </tr>\n",
       "    <tr>\n",
       "      <th>bubbling</th>\n",
       "      <td>bubbling</td>\n",
       "      <td>bubble</td>\n",
       "    </tr>\n",
       "  </tbody>\n",
       "</table>\n",
       "<p>29808 rows × 2 columns</p>\n",
       "</div>"
      ],
      "text/plain": [
       "          stemmed_word normalized_word\n",
       "word                                  \n",
       "remove          remove          remove\n",
       "the                the             the\n",
       "fat                fat             fat\n",
       "cap                cap             cap\n",
       "and                and             and\n",
       "...                ...             ...\n",
       "cassarole    cassarole       cassarole\n",
       "dish              dish            dish\n",
       "bake              bake            bake\n",
       "or                  or              or\n",
       "bubbling      bubbling          bubble\n",
       "\n",
       "[29808 rows x 2 columns]"
      ]
     },
     "execution_count": 51,
     "metadata": {},
     "output_type": "execute_result"
    }
   ],
   "source": [
    "lemmatizer = WordNetLemmatizer()\n",
    "stemmer = SnowballStemmer('russian')\n",
    "\n",
    "word = [item for sublist in unique_words for item in sublist]\n",
    "stemme = [stemmer.stem(w) for w in word]\n",
    "lemme = [lemmatizer.lemmatize(w, pos='v') for w in word]\n",
    "\n",
    "df = pd.DataFrame({\n",
    "    \"word\": word,\n",
    "    \"stemmed_word\": stemme,\n",
    "    \"normalized_word\": lemme\n",
    "})\n",
    "df = df.set_index(\"word\")\n",
    "df"
   ]
  },
  {
   "cell_type": "markdown",
   "metadata": {},
   "source": [
    "2.2. Удалите стоп-слова из описаний рецептов. Какую долю об общего количества слов составляли стоп-слова? Сравните топ-10 самых часто употребляемых слов до и после удаления стоп-слов."
   ]
  },
  {
   "cell_type": "code",
   "execution_count": 81,
   "metadata": {},
   "outputs": [],
   "source": [
    "from collections import Counter\n",
    "from nltk.corpus import stopwords\n",
    "\n",
    "sw = stopwords.words(\"english\")"
   ]
  },
  {
   "cell_type": "code",
   "execution_count": 53,
   "metadata": {},
   "outputs": [
    {
     "name": "stdout",
     "output_type": "stream",
     "text": [
      "Доля которую составляли стоп-слова: 4.0%\n"
     ]
    },
    {
     "data": {
      "text/plain": [
       "(96, 2343)"
      ]
     },
     "execution_count": 53,
     "metadata": {},
     "output_type": "execute_result"
    }
   ],
   "source": [
    "\n",
    "before = Counter(word)\n",
    "after = Counter([w for w in word if w not in sw])\n",
    "\n",
    "print(f\"Доля которую составляли стоп-слова: {round((len(before) - len(after)) / len(before), 2) * 100}%\")\n",
    "len(before) - len(after), len(before)"
   ]
  },
  {
   "cell_type": "code",
   "execution_count": 230,
   "metadata": {},
   "outputs": [
    {
     "name": "stdout",
     "output_type": "stream",
     "text": [
      "Самые популярные слова\n",
      "----------------------------------------------------------------------------------------------------\n",
      "|                       до:                       |                     после:                     |\n",
      "----------------------------------------------------------------------------------------------------\n",
      "|           and                     796           |          add                     415           |\n",
      "----------------------------------------------------------------------------------------------------\n",
      "|           in                      692           |          heat                    315           |\n",
      "----------------------------------------------------------------------------------------------------\n",
      "|            a                      651           |        minutes                   289           |\n",
      "----------------------------------------------------------------------------------------------------\n",
      "|           the                     646           |          bowl                    268           |\n",
      "----------------------------------------------------------------------------------------------------\n",
      "|           to                      588           |          oven                    266           |\n",
      "----------------------------------------------------------------------------------------------------\n",
      "|          until                    431           |         large                    264           |\n",
      "----------------------------------------------------------------------------------------------------\n",
      "|           add                     415           |          mix                     245           |\n",
      "----------------------------------------------------------------------------------------------------\n",
      "|          with                     408           |        combine                   238           |\n",
      "----------------------------------------------------------------------------------------------------\n",
      "|           of                      332           |      ingredients                 227           |\n",
      "----------------------------------------------------------------------------------------------------\n",
      "|           for                     320           |          salt                    205           |\n",
      "----------------------------------------------------------------------------------------------------\n"
     ]
    },
    {
     "data": {
      "text/plain": [
       "[None, None, None, None, None, None, None, None, None, None]"
      ]
     },
     "execution_count": 230,
     "metadata": {},
     "output_type": "execute_result"
    }
   ],
   "source": [
    "most_popular_before = sorted(before.items(), key=lambda x: x[1], reverse=True)[:10]\n",
    "most_popular_after = sorted(after.items(), key=lambda x: x[1], reverse=True)[:10]\n",
    "print(f\"Самые популярные слова\\n{'-'*100}\\n|{'до:':^49}|{'после:':^48}|\\n{'-'*100}\")\n",
    "[print(f\"|{v1[0]:^25}{v1[1]:^24}|{v2[0]:^24}{v2[1]:^24}|\\n{'-'*100}\") for v1, v2 in zip(most_popular_before, most_popular_after)]"
   ]
  },
  {
   "cell_type": "markdown",
   "metadata": {},
   "source": [
    "### Векторное представление текста"
   ]
  },
  {
   "cell_type": "markdown",
   "metadata": {},
   "source": [
    "3.1 Выберите случайным образом 5 рецептов из набора данных. Представьте описание каждого рецепта в виде числового вектора при помощи `TfidfVectorizer`"
   ]
  },
  {
   "cell_type": "code",
   "execution_count": 82,
   "metadata": {},
   "outputs": [],
   "source": [
    "from sklearn.feature_extraction.text import TfidfVectorizer"
   ]
  },
  {
   "cell_type": "code",
   "execution_count": 75,
   "metadata": {},
   "outputs": [],
   "source": [
    "#d_list[:5] # список описаний\n",
    "\n",
    "# vectorizer = TfidfVectorizer()\n",
    "\n",
    "# raw_recipes5 = [d_list[np.random.randint(0, len(d_list))] for i in range(5)]\n",
    "\n",
    "# raw_recipes5 # список 5 сырых рандомно выбранных описаний\n",
    "\n",
    "\n",
    "# clear_recipes5 = [[word for word in word_tokenize(row) if word.isalpha()] for row in raw_recipes5]\n",
    "\n",
    "# clear_recipes5 # список токенизированных описаний.\n",
    "\n",
    "# from pprint import pprint\n",
    "\n",
    "# matrix = vectorizer.fit_transform([' '.join(recipe) for recipe in clear_recipes5])\n",
    "\n",
    "# pprint(matrix.toarray())"
   ]
  },
  {
   "cell_type": "code",
   "execution_count": 87,
   "metadata": {},
   "outputs": [
    {
     "data": {
      "text/html": [
       "<div>\n",
       "<style scoped>\n",
       "    .dataframe tbody tr th:only-of-type {\n",
       "        vertical-align: middle;\n",
       "    }\n",
       "\n",
       "    .dataframe tbody tr th {\n",
       "        vertical-align: top;\n",
       "    }\n",
       "\n",
       "    .dataframe thead th {\n",
       "        text-align: right;\n",
       "    }\n",
       "</style>\n",
       "<table border=\"1\" class=\"dataframe\">\n",
       "  <thead>\n",
       "    <tr style=\"text-align: right;\">\n",
       "      <th></th>\n",
       "      <th>descriptions</th>\n",
       "    </tr>\n",
       "  </thead>\n",
       "  <tbody>\n",
       "    <tr>\n",
       "      <th>951530</th>\n",
       "      <td>for the cake: put the basil vinegar  water and...</td>\n",
       "    </tr>\n",
       "    <tr>\n",
       "      <th>1457714</th>\n",
       "      <td>heat oven to 325 degrees prepare cruets of dre...</td>\n",
       "    </tr>\n",
       "    <tr>\n",
       "      <th>1574640</th>\n",
       "      <td>bring a large pot of lightly salted water to a...</td>\n",
       "    </tr>\n",
       "    <tr>\n",
       "      <th>630893</th>\n",
       "      <td>mix well all ingredients in a blender brown po...</td>\n",
       "    </tr>\n",
       "    <tr>\n",
       "      <th>176000</th>\n",
       "      <td>preheat oven to 350 degrees</td>\n",
       "    </tr>\n",
       "  </tbody>\n",
       "</table>\n",
       "</div>"
      ],
      "text/plain": [
       "                                              descriptions\n",
       "951530   for the cake: put the basil vinegar  water and...\n",
       "1457714  heat oven to 325 degrees prepare cruets of dre...\n",
       "1574640  bring a large pot of lightly salted water to a...\n",
       "630893   mix well all ingredients in a blender brown po...\n",
       "176000                         preheat oven to 350 degrees"
      ]
     },
     "execution_count": 87,
     "metadata": {},
     "output_type": "execute_result"
    }
   ],
   "source": [
    "data = descriptions.sample(5)\n",
    "data"
   ]
  },
  {
   "cell_type": "code",
   "execution_count": 88,
   "metadata": {},
   "outputs": [
    {
     "data": {
      "text/plain": [
       "[('10', 0),\n",
       " ('11x14', 1),\n",
       " ('25', 2),\n",
       " ('325', 3),\n",
       " ('35', 4),\n",
       " ('350', 5),\n",
       " ('375', 6),\n",
       " ('add', 7),\n",
       " ('al', 8),\n",
       " ('aside', 9),\n",
       " ('bag', 10),\n",
       " ('bake', 11),\n",
       " ('baking', 12),\n",
       " ('basil', 13),\n",
       " ('bell', 14),\n",
       " ('blender', 15),\n",
       " ('boil', 16),\n",
       " ('bring', 17),\n",
       " ('broth', 18),\n",
       " ('brown', 19),\n",
       " ('butter', 20),\n",
       " ('cake', 21),\n",
       " ('casserole', 22),\n",
       " ('cheddar', 23),\n",
       " ('cheese', 24),\n",
       " ('chicken', 25),\n",
       " ('cloves', 26),\n",
       " ('coat', 27),\n",
       " ('cook', 28),\n",
       " ('cream', 29),\n",
       " ('creamy', 30),\n",
       " ('cruets', 31),\n",
       " ('degrees', 32),\n",
       " ('dente', 33),\n",
       " ('dish', 34),\n",
       " ('drain', 35),\n",
       " ('dressing', 36),\n",
       " ('frequently', 37),\n",
       " ('garlic', 38),\n",
       " ('greased', 39),\n",
       " ('grits', 40),\n",
       " ('heat', 41),\n",
       " ('heated', 42),\n",
       " ('high', 43),\n",
       " ('inch', 44),\n",
       " ('ingredients', 45),\n",
       " ('large', 46),\n",
       " ('let', 47),\n",
       " ('lightly', 48),\n",
       " ('low', 49),\n",
       " ('mash', 50),\n",
       " ('medium', 51),\n",
       " ('melt', 52),\n",
       " ('minute', 53),\n",
       " ('minutes', 54),\n",
       " ('mix', 55),\n",
       " ('mixture', 56),\n",
       " ('mushroom', 57),\n",
       " ('mushrooms', 58),\n",
       " ('oil', 59),\n",
       " ('onion', 60),\n",
       " ('onions', 61),\n",
       " ('oven', 62),\n",
       " ('overnight', 63),\n",
       " ('paprika', 64),\n",
       " ('parmesan', 65),\n",
       " ('pasta', 66),\n",
       " ('paste', 67),\n",
       " ('peas', 68),\n",
       " ('pepper', 69),\n",
       " ('place', 70),\n",
       " ('pork', 71),\n",
       " ('pot', 72),\n",
       " ('preheat', 73),\n",
       " ('preheated', 74),\n",
       " ('prepare', 75),\n",
       " ('reduce', 76),\n",
       " ('salt', 77),\n",
       " ('salted', 78),\n",
       " ('sauce', 79),\n",
       " ('saucepan', 80),\n",
       " ('saute', 81),\n",
       " ('seeds', 82),\n",
       " ('set', 83),\n",
       " ('shake', 84),\n",
       " ('sherry', 85),\n",
       " ('simmer', 86),\n",
       " ('skillet', 87),\n",
       " ('soup', 88),\n",
       " ('sprinkle', 89),\n",
       " ('stand', 90),\n",
       " ('stir', 91),\n",
       " ('stirring', 92),\n",
       " ('teaspoon', 93),\n",
       " ('tender', 94),\n",
       " ('transfer', 95),\n",
       " ('transluscent', 96),\n",
       " ('vinegar', 97),\n",
       " ('water', 98),\n",
       " ('worcestershire', 99),\n",
       " ('ziplock', 100)]"
      ]
     },
     "execution_count": 88,
     "metadata": {},
     "output_type": "execute_result"
    }
   ],
   "source": [
    "vectorizer = TfidfVectorizer(analyzer=\"word\", stop_words=\"english\")\n",
    "\n",
    "vectorizer.fit(data[\"descriptions\"])\n",
    "\n",
    "def vectorizer_processing(x):\n",
    "    sents = [x[\"descriptions\"]]\n",
    "    vector = vectorizer.transform(sents)\n",
    "    return vector.toarray()\n",
    "\n",
    "data['TfidfVectorizer'] = data.apply(lambda x: vectorizer_processing(x), axis=1)\n",
    "\n",
    "\n",
    "values = [(k,v) for (k, v) in dict(vectorizer.vocabulary_).items()]\n",
    "values.sort(key=lambda x: x[1])\n",
    "values"
   ]
  },
  {
   "cell_type": "code",
   "execution_count": 116,
   "metadata": {},
   "outputs": [
    {
     "name": "stdout",
     "output_type": "stream",
     "text": [
      "(1, 101)\n",
      "for the cake: put the basil vinegar  water and salt in a saucepan over high heat\n",
      "\n",
      "[[0.         0.         0.         0.         0.         0.\n",
      "  0.         0.         0.         0.         0.         0.\n",
      "  0.         0.39935681 0.         0.         0.         0.\n",
      "  0.         0.         0.         0.39935681 0.         0.\n",
      "  0.         0.         0.         0.         0.         0.\n",
      "  0.         0.         0.         0.         0.         0.\n",
      "  0.         0.         0.         0.         0.         0.22499066\n",
      "  0.         0.39935681 0.         0.         0.         0.\n",
      "  0.         0.         0.         0.         0.         0.\n",
      "  0.         0.         0.         0.         0.         0.\n",
      "  0.         0.         0.         0.         0.         0.\n",
      "  0.         0.         0.         0.         0.         0.\n",
      "  0.         0.         0.         0.         0.         0.32219856\n",
      "  0.         0.         0.32219856 0.         0.         0.\n",
      "  0.         0.         0.         0.         0.         0.\n",
      "  0.         0.         0.         0.         0.         0.\n",
      "  0.         0.39935681 0.32219856 0.         0.        ]]\n",
      "-----------------------------------------------------------------------------------------------------\n",
      "\n",
      "(1, 101)\n",
      "heat oven to 325 degrees prepare cruets of dressing reduce heat to low and simmer stirring frequently  until grits are creamy - about 10 minute place 1 / 2 teaspoon of oil and seeds into a large ziplock bag and shake to coat\n",
      "\n",
      "[[0.16907454 0.         0.         0.20956353 0.         0.\n",
      "  0.         0.         0.         0.         0.20956353 0.\n",
      "  0.         0.         0.         0.         0.         0.\n",
      "  0.         0.         0.         0.         0.         0.\n",
      "  0.         0.         0.         0.20956353 0.         0.\n",
      "  0.20956353 0.20956353 0.14034714 0.         0.         0.\n",
      "  0.20956353 0.20956353 0.         0.         0.20956353 0.23612888\n",
      "  0.         0.         0.         0.         0.16907454 0.\n",
      "  0.         0.20956353 0.         0.         0.         0.20956353\n",
      "  0.         0.         0.         0.         0.         0.16907454\n",
      "  0.         0.         0.14034714 0.         0.         0.\n",
      "  0.         0.         0.         0.         0.20956353 0.\n",
      "  0.         0.         0.         0.20956353 0.20956353 0.\n",
      "  0.         0.         0.         0.         0.20956353 0.\n",
      "  0.20956353 0.         0.20956353 0.         0.         0.\n",
      "  0.         0.         0.16907454 0.20956353 0.         0.\n",
      "  0.         0.         0.         0.         0.20956353]]\n",
      "-----------------------------------------------------------------------------------------------------\n",
      "\n",
      "(1, 101)\n",
      "bring a large pot of lightly salted water to a boil add pasta and cook for 8 to 10 minutes or until al dente drain and set aside preheat oven to 375 degrees f melt butter in a large saucepan over medium heat add mushrooms  onion and bell pepper and saute until tender stir in cream of mushroom soup  chicken broth and cook  stirring  until heated through stir in pasta  cheddar cheese  peas  sherry  worcestershire sauce  salt  pepper and chicken mix well and transfer mixture to a lightly greased 11x14 inch baking dish sprinkle with parmesan cheese and paprika bake in the preheated oven for 25 to 35 minutes  or until heated through\n",
      "\n",
      "[[0.08553216 0.1060149  0.1060149  0.         0.1060149  0.\n",
      "  0.1060149  0.2120298  0.1060149  0.08553216 0.         0.1060149\n",
      "  0.1060149  0.         0.1060149  0.         0.1060149  0.1060149\n",
      "  0.1060149  0.         0.1060149  0.         0.         0.1060149\n",
      "  0.2120298  0.2120298  0.         0.         0.2120298  0.1060149\n",
      "  0.         0.         0.07099942 0.1060149  0.08553216 0.1060149\n",
      "  0.         0.         0.         0.1060149  0.         0.05972695\n",
      "  0.2120298  0.         0.1060149  0.         0.17106431 0.\n",
      "  0.2120298  0.         0.         0.08553216 0.1060149  0.\n",
      "  0.2120298  0.08553216 0.1060149  0.1060149  0.1060149  0.\n",
      "  0.1060149  0.         0.14199883 0.         0.1060149  0.1060149\n",
      "  0.2120298  0.         0.1060149  0.2120298  0.         0.\n",
      "  0.1060149  0.08553216 0.1060149  0.         0.         0.08553216\n",
      "  0.1060149  0.1060149  0.08553216 0.08553216 0.         0.08553216\n",
      "  0.         0.1060149  0.         0.         0.1060149  0.1060149\n",
      "  0.         0.2120298  0.08553216 0.         0.1060149  0.1060149\n",
      "  0.         0.         0.08553216 0.1060149  0.        ]]\n",
      "-----------------------------------------------------------------------------------------------------\n",
      "\n",
      "(1, 101)\n",
      "mix well all ingredients in a blender brown pork all over in oil in casserole dish in a skillet  heat the oil over medium heat and saute the onions until they are transluscent mash the garlic cloves into a paste and set aside let stand overnight\n",
      "\n",
      "[[0.         0.         0.         0.         0.         0.\n",
      "  0.         0.         0.         0.1690431  0.         0.\n",
      "  0.         0.         0.         0.20952457 0.         0.\n",
      "  0.         0.20952457 0.         0.         0.20952457 0.\n",
      "  0.         0.         0.20952457 0.         0.         0.\n",
      "  0.         0.         0.         0.         0.1690431  0.\n",
      "  0.         0.         0.20952457 0.         0.         0.23608498\n",
      "  0.         0.         0.         0.20952457 0.         0.20952457\n",
      "  0.         0.         0.20952457 0.1690431  0.         0.\n",
      "  0.         0.1690431  0.         0.         0.         0.33808621\n",
      "  0.         0.20952457 0.         0.20952457 0.         0.\n",
      "  0.         0.20952457 0.         0.         0.         0.20952457\n",
      "  0.         0.         0.         0.         0.         0.\n",
      "  0.         0.         0.         0.1690431  0.         0.1690431\n",
      "  0.         0.         0.         0.20952457 0.         0.\n",
      "  0.20952457 0.         0.         0.         0.         0.\n",
      "  0.20952457 0.         0.         0.         0.        ]]\n",
      "-----------------------------------------------------------------------------------------------------\n",
      "\n",
      "(1, 101)\n",
      "preheat oven to 350 degrees\n",
      "\n",
      "[[0.         0.         0.         0.         0.         0.62647696\n",
      "  0.         0.         0.         0.         0.         0.\n",
      "  0.         0.         0.         0.         0.         0.\n",
      "  0.         0.         0.         0.         0.         0.\n",
      "  0.         0.         0.         0.         0.         0.\n",
      "  0.         0.         0.41955892 0.         0.         0.\n",
      "  0.         0.         0.         0.         0.         0.\n",
      "  0.         0.         0.         0.         0.         0.\n",
      "  0.         0.         0.         0.         0.         0.\n",
      "  0.         0.         0.         0.         0.         0.\n",
      "  0.         0.         0.41955892 0.         0.         0.\n",
      "  0.         0.         0.         0.         0.         0.\n",
      "  0.         0.50543767 0.         0.         0.         0.\n",
      "  0.         0.         0.         0.         0.         0.\n",
      "  0.         0.         0.         0.         0.         0.\n",
      "  0.         0.         0.         0.         0.         0.\n",
      "  0.         0.         0.         0.         0.        ]]\n",
      "-----------------------------------------------------------------------------------------------------\n",
      "\n"
     ]
    }
   ],
   "source": [
    "for word, vector in zip(data[\"descriptions\"].to_list(), data[\"TfidfVectorizer\"].to_list()):\n",
    "    print(vector.shape)\n",
    "    print(f\"{word}\\n\\n{vector}\\n{'-'*vector.shape[-1]}\\n\")"
   ]
  },
  {
   "cell_type": "markdown",
   "metadata": {},
   "source": [
    "3.2 Вычислите близость между каждой парой рецептов, выбранных в задании 3.1, используя косинусное расстояние `(scipy.spatial.distance.cosine)` Результаты оформите в виде таблицы pd.DataFrame. В качестве названий строк и столбцов используйте названия рецептов."
   ]
  },
  {
   "cell_type": "code",
   "execution_count": 90,
   "metadata": {},
   "outputs": [
    {
     "data": {
      "text/html": [
       "<div>\n",
       "<style scoped>\n",
       "    .dataframe tbody tr th:only-of-type {\n",
       "        vertical-align: middle;\n",
       "    }\n",
       "\n",
       "    .dataframe tbody tr th {\n",
       "        vertical-align: top;\n",
       "    }\n",
       "\n",
       "    .dataframe thead th {\n",
       "        text-align: right;\n",
       "    }\n",
       "</style>\n",
       "<table border=\"1\" class=\"dataframe\">\n",
       "  <thead>\n",
       "    <tr style=\"text-align: right;\">\n",
       "      <th></th>\n",
       "      <th>descriptions</th>\n",
       "      <th>TfidfVectorizer</th>\n",
       "    </tr>\n",
       "  </thead>\n",
       "  <tbody>\n",
       "    <tr>\n",
       "      <th>951530</th>\n",
       "      <td>for the cake: put the basil vinegar  water and...</td>\n",
       "      <td>[[0.0, 0.0, 0.0, 0.0, 0.0, 0.0, 0.0, 0.0, 0.0,...</td>\n",
       "    </tr>\n",
       "    <tr>\n",
       "      <th>1457714</th>\n",
       "      <td>heat oven to 325 degrees prepare cruets of dre...</td>\n",
       "      <td>[[0.1690745368712321, 0.0, 0.0, 0.209563530479...</td>\n",
       "    </tr>\n",
       "    <tr>\n",
       "      <th>1574640</th>\n",
       "      <td>bring a large pot of lightly salted water to a...</td>\n",
       "      <td>[[0.08553215520668865, 0.10601490174862549, 0....</td>\n",
       "    </tr>\n",
       "    <tr>\n",
       "      <th>630893</th>\n",
       "      <td>mix well all ingredients in a blender brown po...</td>\n",
       "      <td>[[0.0, 0.0, 0.0, 0.0, 0.0, 0.0, 0.0, 0.0, 0.0,...</td>\n",
       "    </tr>\n",
       "    <tr>\n",
       "      <th>176000</th>\n",
       "      <td>preheat oven to 350 degrees</td>\n",
       "      <td>[[0.0, 0.0, 0.0, 0.0, 0.0, 0.6264769620593381,...</td>\n",
       "    </tr>\n",
       "  </tbody>\n",
       "</table>\n",
       "</div>"
      ],
      "text/plain": [
       "                                              descriptions  \\\n",
       "951530   for the cake: put the basil vinegar  water and...   \n",
       "1457714  heat oven to 325 degrees prepare cruets of dre...   \n",
       "1574640  bring a large pot of lightly salted water to a...   \n",
       "630893   mix well all ingredients in a blender brown po...   \n",
       "176000                         preheat oven to 350 degrees   \n",
       "\n",
       "                                           TfidfVectorizer  \n",
       "951530   [[0.0, 0.0, 0.0, 0.0, 0.0, 0.0, 0.0, 0.0, 0.0,...  \n",
       "1457714  [[0.1690745368712321, 0.0, 0.0, 0.209563530479...  \n",
       "1574640  [[0.08553215520668865, 0.10601490174862549, 0....  \n",
       "630893   [[0.0, 0.0, 0.0, 0.0, 0.0, 0.0, 0.0, 0.0, 0.0,...  \n",
       "176000   [[0.0, 0.0, 0.0, 0.0, 0.0, 0.6264769620593381,...  "
      ]
     },
     "execution_count": 90,
     "metadata": {},
     "output_type": "execute_result"
    }
   ],
   "source": [
    "data"
   ]
  },
  {
   "cell_type": "code",
   "execution_count": 152,
   "metadata": {},
   "outputs": [
    {
     "data": {
      "text/html": [
       "<div>\n",
       "<style scoped>\n",
       "    .dataframe tbody tr th:only-of-type {\n",
       "        vertical-align: middle;\n",
       "    }\n",
       "\n",
       "    .dataframe tbody tr th {\n",
       "        vertical-align: top;\n",
       "    }\n",
       "\n",
       "    .dataframe thead th {\n",
       "        text-align: right;\n",
       "    }\n",
       "</style>\n",
       "<table border=\"1\" class=\"dataframe\">\n",
       "  <thead>\n",
       "    <tr style=\"text-align: right;\">\n",
       "      <th></th>\n",
       "      <th>for the cake: put the basil vinegar  water and salt in a saucepan over high heat</th>\n",
       "      <th>heat oven to 325 degrees prepare cruets of dressing reduce heat to low and simmer stirring frequently  until grits are creamy - about 10 minute place 1 / 2 teaspoon of oil and seeds into a large ziplock bag and shake to coat</th>\n",
       "      <th>bring a large pot of lightly salted water to a boil add pasta and cook for 8 to 10 minutes or until al dente drain and set aside preheat oven to 375 degrees f melt butter in a large saucepan over medium heat add mushrooms  onion and bell pepper and saute until tender stir in cream of mushroom soup  chicken broth and cook  stirring  until heated through stir in pasta  cheddar cheese  peas  sherry  worcestershire sauce  salt  pepper and chicken mix well and transfer mixture to a lightly greased 11x14 inch baking dish sprinkle with parmesan cheese and paprika bake in the preheated oven for 25 to 35 minutes  or until heated through</th>\n",
       "      <th>mix well all ingredients in a blender brown pork all over in oil in casserole dish in a skillet  heat the oil over medium heat and saute the onions until they are transluscent mash the garlic cloves into a paste and set aside let stand overnight</th>\n",
       "      <th>preheat oven to 350 degrees</th>\n",
       "    </tr>\n",
       "  </thead>\n",
       "  <tbody>\n",
       "    <tr>\n",
       "      <th>for the cake: put the basil vinegar  water and salt in a saucepan over high heat</th>\n",
       "      <td>NaN</td>\n",
       "      <td>NaN</td>\n",
       "      <td>NaN</td>\n",
       "      <td>NaN</td>\n",
       "      <td>NaN</td>\n",
       "    </tr>\n",
       "    <tr>\n",
       "      <th>heat oven to 325 degrees prepare cruets of dressing reduce heat to low and simmer stirring frequently  until grits are creamy - about 10 minute place 1 / 2 teaspoon of oil and seeds into a large ziplock bag and shake to coat</th>\n",
       "      <td>NaN</td>\n",
       "      <td>NaN</td>\n",
       "      <td>NaN</td>\n",
       "      <td>NaN</td>\n",
       "      <td>NaN</td>\n",
       "    </tr>\n",
       "    <tr>\n",
       "      <th>bring a large pot of lightly salted water to a boil add pasta and cook for 8 to 10 minutes or until al dente drain and set aside preheat oven to 375 degrees f melt butter in a large saucepan over medium heat add mushrooms  onion and bell pepper and saute until tender stir in cream of mushroom soup  chicken broth and cook  stirring  until heated through stir in pasta  cheddar cheese  peas  sherry  worcestershire sauce  salt  pepper and chicken mix well and transfer mixture to a lightly greased 11x14 inch baking dish sprinkle with parmesan cheese and paprika bake in the preheated oven for 25 to 35 minutes  or until heated through</th>\n",
       "      <td>NaN</td>\n",
       "      <td>NaN</td>\n",
       "      <td>NaN</td>\n",
       "      <td>NaN</td>\n",
       "      <td>NaN</td>\n",
       "    </tr>\n",
       "    <tr>\n",
       "      <th>mix well all ingredients in a blender brown pork all over in oil in casserole dish in a skillet  heat the oil over medium heat and saute the onions until they are transluscent mash the garlic cloves into a paste and set aside let stand overnight</th>\n",
       "      <td>NaN</td>\n",
       "      <td>NaN</td>\n",
       "      <td>NaN</td>\n",
       "      <td>NaN</td>\n",
       "      <td>NaN</td>\n",
       "    </tr>\n",
       "    <tr>\n",
       "      <th>preheat oven to 350 degrees</th>\n",
       "      <td>NaN</td>\n",
       "      <td>NaN</td>\n",
       "      <td>NaN</td>\n",
       "      <td>NaN</td>\n",
       "      <td>NaN</td>\n",
       "    </tr>\n",
       "  </tbody>\n",
       "</table>\n",
       "</div>"
      ],
      "text/plain": [
       "                                                   for the cake: put the basil vinegar  water and salt in a saucepan over high heat  \\\n",
       "for the cake: put the basil vinegar  water and ...                                                NaN                                 \n",
       "heat oven to 325 degrees prepare cruets of dres...                                                NaN                                 \n",
       "bring a large pot of lightly salted water to a ...                                                NaN                                 \n",
       "mix well all ingredients in a blender brown por...                                                NaN                                 \n",
       "preheat oven to 350 degrees                                                                       NaN                                 \n",
       "\n",
       "                                                   heat oven to 325 degrees prepare cruets of dressing reduce heat to low and simmer stirring frequently  until grits are creamy - about 10 minute place 1 / 2 teaspoon of oil and seeds into a large ziplock bag and shake to coat  \\\n",
       "for the cake: put the basil vinegar  water and ...                                                NaN                                                                                                                                                                                 \n",
       "heat oven to 325 degrees prepare cruets of dres...                                                NaN                                                                                                                                                                                 \n",
       "bring a large pot of lightly salted water to a ...                                                NaN                                                                                                                                                                                 \n",
       "mix well all ingredients in a blender brown por...                                                NaN                                                                                                                                                                                 \n",
       "preheat oven to 350 degrees                                                                       NaN                                                                                                                                                                                 \n",
       "\n",
       "                                                   bring a large pot of lightly salted water to a boil add pasta and cook for 8 to 10 minutes or until al dente drain and set aside preheat oven to 375 degrees f melt butter in a large saucepan over medium heat add mushrooms  onion and bell pepper and saute until tender stir in cream of mushroom soup  chicken broth and cook  stirring  until heated through stir in pasta  cheddar cheese  peas  sherry  worcestershire sauce  salt  pepper and chicken mix well and transfer mixture to a lightly greased 11x14 inch baking dish sprinkle with parmesan cheese and paprika bake in the preheated oven for 25 to 35 minutes  or until heated through  \\\n",
       "for the cake: put the basil vinegar  water and ...                                                NaN                                                                                                                                                                                                                                                                                                                                                                                                                                                                                                                                                                                                            \n",
       "heat oven to 325 degrees prepare cruets of dres...                                                NaN                                                                                                                                                                                                                                                                                                                                                                                                                                                                                                                                                                                                            \n",
       "bring a large pot of lightly salted water to a ...                                                NaN                                                                                                                                                                                                                                                                                                                                                                                                                                                                                                                                                                                                            \n",
       "mix well all ingredients in a blender brown por...                                                NaN                                                                                                                                                                                                                                                                                                                                                                                                                                                                                                                                                                                                            \n",
       "preheat oven to 350 degrees                                                                       NaN                                                                                                                                                                                                                                                                                                                                                                                                                                                                                                                                                                                                            \n",
       "\n",
       "                                                   mix well all ingredients in a blender brown pork all over in oil in casserole dish in a skillet  heat the oil over medium heat and saute the onions until they are transluscent mash the garlic cloves into a paste and set aside let stand overnight  \\\n",
       "for the cake: put the basil vinegar  water and ...                                                NaN                                                                                                                                                                                                      \n",
       "heat oven to 325 degrees prepare cruets of dres...                                                NaN                                                                                                                                                                                                      \n",
       "bring a large pot of lightly salted water to a ...                                                NaN                                                                                                                                                                                                      \n",
       "mix well all ingredients in a blender brown por...                                                NaN                                                                                                                                                                                                      \n",
       "preheat oven to 350 degrees                                                                       NaN                                                                                                                                                                                                      \n",
       "\n",
       "                                                   preheat oven to 350 degrees  \n",
       "for the cake: put the basil vinegar  water and ...                         NaN  \n",
       "heat oven to 325 degrees prepare cruets of dres...                         NaN  \n",
       "bring a large pot of lightly salted water to a ...                         NaN  \n",
       "mix well all ingredients in a blender brown por...                         NaN  \n",
       "preheat oven to 350 degrees                                                NaN  "
      ]
     },
     "execution_count": 152,
     "metadata": {},
     "output_type": "execute_result"
    }
   ],
   "source": [
    "from scipy.spatial.distance import cosine\n",
    "from itertools import product\n",
    "\n",
    "df = pd.DataFrame(columns=data[\"descriptions\"].values, index=data[\"descriptions\"].values)\n",
    "\n",
    "df"
   ]
  },
  {
   "cell_type": "code",
   "execution_count": 156,
   "metadata": {},
   "outputs": [
    {
     "data": {
      "text/plain": [
       "array([[0.        , 0.94687321, 0.90388698, 0.94688308, 1.        ],\n",
       "       [0.94687321, 0.        , 0.89815781, 0.88709175, 0.88223221],\n",
       "       [0.90388698, 0.89815781, 0.        , 0.89914764, 0.86740351],\n",
       "       [0.94688308, 0.88709175, 0.89914764, 0.        , 1.        ],\n",
       "       [1.        , 0.88223221, 0.86740351, 1.        , 0.        ]])"
      ]
     },
     "execution_count": 156,
     "metadata": {},
     "output_type": "execute_result"
    }
   ],
   "source": [
    "pairs = list(product(data[\"TfidfVectorizer\"].values, repeat=2)) \n",
    "\n",
    "bank = [cosine(p1.ravel(), p2.ravel()) for p1, p2 in pairs]\n",
    "\n",
    "arr = np.array(bank).reshape((5, 5))\n",
    "arr"
   ]
  },
  {
   "cell_type": "code",
   "execution_count": 157,
   "metadata": {},
   "outputs": [
    {
     "data": {
      "text/html": [
       "<div>\n",
       "<style scoped>\n",
       "    .dataframe tbody tr th:only-of-type {\n",
       "        vertical-align: middle;\n",
       "    }\n",
       "\n",
       "    .dataframe tbody tr th {\n",
       "        vertical-align: top;\n",
       "    }\n",
       "\n",
       "    .dataframe thead th {\n",
       "        text-align: right;\n",
       "    }\n",
       "</style>\n",
       "<table border=\"1\" class=\"dataframe\">\n",
       "  <thead>\n",
       "    <tr style=\"text-align: right;\">\n",
       "      <th></th>\n",
       "      <th>for the cake: put the basil vinegar  water and salt in a saucepan over high heat</th>\n",
       "      <th>heat oven to 325 degrees prepare cruets of dressing reduce heat to low and simmer stirring frequently  until grits are creamy - about 10 minute place 1 / 2 teaspoon of oil and seeds into a large ziplock bag and shake to coat</th>\n",
       "      <th>bring a large pot of lightly salted water to a boil add pasta and cook for 8 to 10 minutes or until al dente drain and set aside preheat oven to 375 degrees f melt butter in a large saucepan over medium heat add mushrooms  onion and bell pepper and saute until tender stir in cream of mushroom soup  chicken broth and cook  stirring  until heated through stir in pasta  cheddar cheese  peas  sherry  worcestershire sauce  salt  pepper and chicken mix well and transfer mixture to a lightly greased 11x14 inch baking dish sprinkle with parmesan cheese and paprika bake in the preheated oven for 25 to 35 minutes  or until heated through</th>\n",
       "      <th>mix well all ingredients in a blender brown pork all over in oil in casserole dish in a skillet  heat the oil over medium heat and saute the onions until they are transluscent mash the garlic cloves into a paste and set aside let stand overnight</th>\n",
       "      <th>preheat oven to 350 degrees</th>\n",
       "    </tr>\n",
       "  </thead>\n",
       "  <tbody>\n",
       "    <tr>\n",
       "      <th>for the cake: put the basil vinegar  water and salt in a saucepan over high heat</th>\n",
       "      <td>0.0</td>\n",
       "      <td>0.946873</td>\n",
       "      <td>0.903887</td>\n",
       "      <td>0.946883</td>\n",
       "      <td>1.0</td>\n",
       "    </tr>\n",
       "    <tr>\n",
       "      <th>heat oven to 325 degrees prepare cruets of dressing reduce heat to low and simmer stirring frequently  until grits are creamy - about 10 minute place 1 / 2 teaspoon of oil and seeds into a large ziplock bag and shake to coat</th>\n",
       "      <td>0.946873</td>\n",
       "      <td>0.0</td>\n",
       "      <td>0.898158</td>\n",
       "      <td>0.887092</td>\n",
       "      <td>0.882232</td>\n",
       "    </tr>\n",
       "    <tr>\n",
       "      <th>bring a large pot of lightly salted water to a boil add pasta and cook for 8 to 10 minutes or until al dente drain and set aside preheat oven to 375 degrees f melt butter in a large saucepan over medium heat add mushrooms  onion and bell pepper and saute until tender stir in cream of mushroom soup  chicken broth and cook  stirring  until heated through stir in pasta  cheddar cheese  peas  sherry  worcestershire sauce  salt  pepper and chicken mix well and transfer mixture to a lightly greased 11x14 inch baking dish sprinkle with parmesan cheese and paprika bake in the preheated oven for 25 to 35 minutes  or until heated through</th>\n",
       "      <td>0.903887</td>\n",
       "      <td>0.898158</td>\n",
       "      <td>0.0</td>\n",
       "      <td>0.899148</td>\n",
       "      <td>0.867404</td>\n",
       "    </tr>\n",
       "    <tr>\n",
       "      <th>mix well all ingredients in a blender brown pork all over in oil in casserole dish in a skillet  heat the oil over medium heat and saute the onions until they are transluscent mash the garlic cloves into a paste and set aside let stand overnight</th>\n",
       "      <td>0.946883</td>\n",
       "      <td>0.887092</td>\n",
       "      <td>0.899148</td>\n",
       "      <td>0.0</td>\n",
       "      <td>1.0</td>\n",
       "    </tr>\n",
       "    <tr>\n",
       "      <th>preheat oven to 350 degrees</th>\n",
       "      <td>1.0</td>\n",
       "      <td>0.882232</td>\n",
       "      <td>0.867404</td>\n",
       "      <td>1.0</td>\n",
       "      <td>0.0</td>\n",
       "    </tr>\n",
       "  </tbody>\n",
       "</table>\n",
       "</div>"
      ],
      "text/plain": [
       "                                                   for the cake: put the basil vinegar  water and salt in a saucepan over high heat  \\\n",
       "for the cake: put the basil vinegar  water and ...                                                0.0                                 \n",
       "heat oven to 325 degrees prepare cruets of dres...                                           0.946873                                 \n",
       "bring a large pot of lightly salted water to a ...                                           0.903887                                 \n",
       "mix well all ingredients in a blender brown por...                                           0.946883                                 \n",
       "preheat oven to 350 degrees                                                                       1.0                                 \n",
       "\n",
       "                                                   heat oven to 325 degrees prepare cruets of dressing reduce heat to low and simmer stirring frequently  until grits are creamy - about 10 minute place 1 / 2 teaspoon of oil and seeds into a large ziplock bag and shake to coat  \\\n",
       "for the cake: put the basil vinegar  water and ...                                           0.946873                                                                                                                                                                                 \n",
       "heat oven to 325 degrees prepare cruets of dres...                                                0.0                                                                                                                                                                                 \n",
       "bring a large pot of lightly salted water to a ...                                           0.898158                                                                                                                                                                                 \n",
       "mix well all ingredients in a blender brown por...                                           0.887092                                                                                                                                                                                 \n",
       "preheat oven to 350 degrees                                                                  0.882232                                                                                                                                                                                 \n",
       "\n",
       "                                                   bring a large pot of lightly salted water to a boil add pasta and cook for 8 to 10 minutes or until al dente drain and set aside preheat oven to 375 degrees f melt butter in a large saucepan over medium heat add mushrooms  onion and bell pepper and saute until tender stir in cream of mushroom soup  chicken broth and cook  stirring  until heated through stir in pasta  cheddar cheese  peas  sherry  worcestershire sauce  salt  pepper and chicken mix well and transfer mixture to a lightly greased 11x14 inch baking dish sprinkle with parmesan cheese and paprika bake in the preheated oven for 25 to 35 minutes  or until heated through  \\\n",
       "for the cake: put the basil vinegar  water and ...                                           0.903887                                                                                                                                                                                                                                                                                                                                                                                                                                                                                                                                                                                                            \n",
       "heat oven to 325 degrees prepare cruets of dres...                                           0.898158                                                                                                                                                                                                                                                                                                                                                                                                                                                                                                                                                                                                            \n",
       "bring a large pot of lightly salted water to a ...                                                0.0                                                                                                                                                                                                                                                                                                                                                                                                                                                                                                                                                                                                            \n",
       "mix well all ingredients in a blender brown por...                                           0.899148                                                                                                                                                                                                                                                                                                                                                                                                                                                                                                                                                                                                            \n",
       "preheat oven to 350 degrees                                                                  0.867404                                                                                                                                                                                                                                                                                                                                                                                                                                                                                                                                                                                                            \n",
       "\n",
       "                                                   mix well all ingredients in a blender brown pork all over in oil in casserole dish in a skillet  heat the oil over medium heat and saute the onions until they are transluscent mash the garlic cloves into a paste and set aside let stand overnight  \\\n",
       "for the cake: put the basil vinegar  water and ...                                           0.946883                                                                                                                                                                                                      \n",
       "heat oven to 325 degrees prepare cruets of dres...                                           0.887092                                                                                                                                                                                                      \n",
       "bring a large pot of lightly salted water to a ...                                           0.899148                                                                                                                                                                                                      \n",
       "mix well all ingredients in a blender brown por...                                                0.0                                                                                                                                                                                                      \n",
       "preheat oven to 350 degrees                                                                       1.0                                                                                                                                                                                                      \n",
       "\n",
       "                                                   preheat oven to 350 degrees  \n",
       "for the cake: put the basil vinegar  water and ...                         1.0  \n",
       "heat oven to 325 degrees prepare cruets of dres...                    0.882232  \n",
       "bring a large pot of lightly salted water to a ...                    0.867404  \n",
       "mix well all ingredients in a blender brown por...                         1.0  \n",
       "preheat oven to 350 degrees                                                0.0  "
      ]
     },
     "execution_count": 157,
     "metadata": {},
     "output_type": "execute_result"
    }
   ],
   "source": [
    "df[:] = arr\n",
    "df"
   ]
  },
  {
   "cell_type": "markdown",
   "metadata": {},
   "source": [
    "3.3 Какие рецепты являются наиболее похожими? Прокомментируйте результат (словами)."
   ]
  },
  {
   "cell_type": "markdown",
   "metadata": {},
   "source": [
    "`Минимально похожими являются те описания у которых коэффициент равен или ближе всего к 1`\n"
   ]
  }
 ],
 "metadata": {
  "kernelspec": {
   "display_name": "Python 3 (ipykernel)",
   "language": "python",
   "name": "python3"
  },
  "language_info": {
   "codemirror_mode": {
    "name": "ipython",
    "version": 3
   },
   "file_extension": ".py",
   "mimetype": "text/x-python",
   "name": "python",
   "nbconvert_exporter": "python",
   "pygments_lexer": "ipython3",
   "version": "3.11.3"
  }
 },
 "nbformat": 4,
 "nbformat_minor": 4
}
