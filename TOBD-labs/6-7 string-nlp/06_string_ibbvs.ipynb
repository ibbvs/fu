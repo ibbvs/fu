{
 "cells": [
  {
   "cell_type": "markdown",
   "metadata": {},
   "source": [
    "# Работа со строковыми значениями"
   ]
  },
  {
   "cell_type": "markdown",
   "metadata": {},
   "source": [
    "__Автор задач: Блохин Н.В. (NVBlokhin@fa.ru)__\n",
    "\n",
    "Материалы:\n",
    "* Макрушин С.В. Лекция \"Работа со строковыми значениям\"\n",
    "* https://pyformat.info/\n",
    "* https://docs.python.org/3/library/re.html\n",
    "    * https://docs.python.org/3/library/re.html#flags\n",
    "    * https://docs.python.org/3/library/re.html#functions\n",
    "* https://pythonru.com/primery/primery-primeneniya-regulyarnyh-vyrazheniy-v-python\n",
    "* https://kanoki.org/2019/11/12/how-to-use-regex-in-pandas/\n",
    "* https://realpython.com/nltk-nlp-python/"
   ]
  },
  {
   "cell_type": "code",
   "execution_count": 1,
   "metadata": {},
   "outputs": [],
   "source": [
    "import re\n",
    "import pandas as pd"
   ]
  },
  {
   "cell_type": "markdown",
   "metadata": {},
   "source": [
    "## Задачи для совместного разбора"
   ]
  },
  {
   "cell_type": "markdown",
   "metadata": {},
   "source": [
    "1. Вывести на экран данные из словаря `obj` построчно в виде `k = v`, задав формат таким образом, чтобы знак равенства оказался на одной и той же позиции во всех строках. Строковые литералы обернуть в кавычки."
   ]
  },
  {
   "cell_type": "code",
   "execution_count": 2,
   "metadata": {},
   "outputs": [
    {
     "name": "stdout",
     "output_type": "stream",
     "text": [
      " home_page = 'https://github.com/pypa/sampleproject'\n",
      "  keywords = 'sample setuptools development'\n",
      "   license = 'MIT'\n"
     ]
    },
    {
     "data": {
      "text/plain": [
       "[None, None, None]"
      ]
     },
     "execution_count": 2,
     "metadata": {},
     "output_type": "execute_result"
    }
   ],
   "source": [
    "obj = {\n",
    "    \"home_page\": \"https://github.com/pypa/sampleproject\",\n",
    "    \"keywords\": \"sample setuptools development\",\n",
    "    \"license\": \"MIT\",\n",
    "}\n",
    "\n",
    "[print(f\"{k:>10} = '{v}'\") for k, v in obj.items()]"
   ]
  },
  {
   "cell_type": "markdown",
   "metadata": {},
   "source": [
    "2. Написать регулярное выражение,которое позволит найти номера групп студентов."
   ]
  },
  {
   "cell_type": "code",
   "execution_count": 3,
   "metadata": {},
   "outputs": [
    {
     "data": {
      "text/plain": [
       "['19-1', '20-4', '20-3']"
      ]
     },
     "execution_count": 3,
     "metadata": {},
     "output_type": "execute_result"
    }
   ],
   "source": [
    "obj = pd.Series([\"Евгения гр.ПМ19-1\", \"Илья пм 20-4\", \"Анна 20-3\"])\n",
    "sum([re.findall(r\"\\d{2}-\\d{1}\", row) for row in obj], [])"
   ]
  },
  {
   "cell_type": "markdown",
   "metadata": {},
   "source": [
    "3. Разбейте текст формулировки задачи 2 на слова."
   ]
  },
  {
   "cell_type": "code",
   "execution_count": 4,
   "metadata": {},
   "outputs": [
    {
     "data": {
      "text/plain": [
       "['Написать',\n",
       " 'регулярное',\n",
       " 'выражение',\n",
       " 'которое',\n",
       " 'позволит',\n",
       " 'найти',\n",
       " 'номера',\n",
       " 'групп',\n",
       " 'студентов']"
      ]
     },
     "execution_count": 4,
     "metadata": {},
     "output_type": "execute_result"
    }
   ],
   "source": [
    "text = \"2. Написать регулярное выражение,которое позволит найти номера групп студентов.\"\n",
    "#sum([re.findall(r\"\\b[а-яА-ЯёЁ]+\\b\", row.strip()) for row in text.split()], [])\n",
    "\n",
    "#[word for sublist in [re.findall(r\"\\b[а-яА-ЯёЁ]+\\b\", row) for row in text.split()] for word in sublist]\n",
    "\n",
    "bank = [re.findall(r\"\\b[а-яА-ЯёЁ]+\\b\", row) for row in text.split()]\n",
    "[word for sublist in bank for word in sublist]"
   ]
  },
  {
   "cell_type": "markdown",
   "metadata": {},
   "source": [
    "## Лабораторная работа 6"
   ]
  },
  {
   "cell_type": "markdown",
   "metadata": {},
   "source": [
    "### Форматирование строк"
   ]
  },
  {
   "cell_type": "markdown",
   "metadata": {},
   "source": [
    "1\\. Загрузите данные из файла `recipes_sample.csv` (__ЛР2__) в виде `pd.DataFrame` `recipes` При помощи форматирования строк выведите информацию об id рецепта и времени выполнения 5 случайных рецептов в виде таблицы следующего вида:\n",
    "\n",
    "    \n",
    "    |      id      |  minutes  |\n",
    "    |--------------------------|\n",
    "    |    61178     |    65     |\n",
    "    |    202352    |    80     |\n",
    "    |    364322    |    150    |\n",
    "    |    26177     |    20     |\n",
    "    |    224785    |    35     |\n",
    "    \n",
    "Обратите внимание, что ширина столбцов заранее неизвестна и должна рассчитываться динамически, в зависимости от тех данных, которые были выбраны. "
   ]
  },
  {
   "cell_type": "code",
   "execution_count": 6,
   "metadata": {},
   "outputs": [
    {
     "data": {
      "text/html": [
       "<div>\n",
       "<style scoped>\n",
       "    .dataframe tbody tr th:only-of-type {\n",
       "        vertical-align: middle;\n",
       "    }\n",
       "\n",
       "    .dataframe tbody tr th {\n",
       "        vertical-align: top;\n",
       "    }\n",
       "\n",
       "    .dataframe thead th {\n",
       "        text-align: right;\n",
       "    }\n",
       "</style>\n",
       "<table border=\"1\" class=\"dataframe\">\n",
       "  <thead>\n",
       "    <tr style=\"text-align: right;\">\n",
       "      <th></th>\n",
       "      <th>name</th>\n",
       "      <th>id</th>\n",
       "      <th>minutes</th>\n",
       "      <th>contributor_id</th>\n",
       "      <th>submitted</th>\n",
       "      <th>n_steps</th>\n",
       "      <th>description</th>\n",
       "      <th>n_ingredients</th>\n",
       "    </tr>\n",
       "  </thead>\n",
       "  <tbody>\n",
       "    <tr>\n",
       "      <th>0</th>\n",
       "      <td>george s at the cove  black bean soup</td>\n",
       "      <td>44123</td>\n",
       "      <td>90</td>\n",
       "      <td>35193</td>\n",
       "      <td>2002-10-25</td>\n",
       "      <td>NaN</td>\n",
       "      <td>an original recipe created by chef scott meska...</td>\n",
       "      <td>18.0</td>\n",
       "    </tr>\n",
       "    <tr>\n",
       "      <th>1</th>\n",
       "      <td>healthy for them  yogurt popsicles</td>\n",
       "      <td>67664</td>\n",
       "      <td>10</td>\n",
       "      <td>91970</td>\n",
       "      <td>2003-07-26</td>\n",
       "      <td>NaN</td>\n",
       "      <td>my children and their friends ask for my homem...</td>\n",
       "      <td>NaN</td>\n",
       "    </tr>\n",
       "    <tr>\n",
       "      <th>2</th>\n",
       "      <td>i can t believe it s spinach</td>\n",
       "      <td>38798</td>\n",
       "      <td>30</td>\n",
       "      <td>1533</td>\n",
       "      <td>2002-08-29</td>\n",
       "      <td>NaN</td>\n",
       "      <td>these were so go, it surprised even me.</td>\n",
       "      <td>8.0</td>\n",
       "    </tr>\n",
       "    <tr>\n",
       "      <th>3</th>\n",
       "      <td>italian  gut busters</td>\n",
       "      <td>35173</td>\n",
       "      <td>45</td>\n",
       "      <td>22724</td>\n",
       "      <td>2002-07-27</td>\n",
       "      <td>NaN</td>\n",
       "      <td>my sister-in-law made these for us at a family...</td>\n",
       "      <td>NaN</td>\n",
       "    </tr>\n",
       "    <tr>\n",
       "      <th>4</th>\n",
       "      <td>love is in the air  beef fondue   sauces</td>\n",
       "      <td>84797</td>\n",
       "      <td>25</td>\n",
       "      <td>4470</td>\n",
       "      <td>2004-02-23</td>\n",
       "      <td>4.0</td>\n",
       "      <td>i think a fondue is a very romantic casual din...</td>\n",
       "      <td>NaN</td>\n",
       "    </tr>\n",
       "  </tbody>\n",
       "</table>\n",
       "</div>"
      ],
      "text/plain": [
       "                                       name     id  minutes  contributor_id  \\\n",
       "0     george s at the cove  black bean soup  44123       90           35193   \n",
       "1        healthy for them  yogurt popsicles  67664       10           91970   \n",
       "2              i can t believe it s spinach  38798       30            1533   \n",
       "3                      italian  gut busters  35173       45           22724   \n",
       "4  love is in the air  beef fondue   sauces  84797       25            4470   \n",
       "\n",
       "    submitted  n_steps                                        description  \\\n",
       "0  2002-10-25      NaN  an original recipe created by chef scott meska...   \n",
       "1  2003-07-26      NaN  my children and their friends ask for my homem...   \n",
       "2  2002-08-29      NaN            these were so go, it surprised even me.   \n",
       "3  2002-07-27      NaN  my sister-in-law made these for us at a family...   \n",
       "4  2004-02-23      4.0  i think a fondue is a very romantic casual din...   \n",
       "\n",
       "   n_ingredients  \n",
       "0           18.0  \n",
       "1            NaN  \n",
       "2            8.0  \n",
       "3            NaN  \n",
       "4            NaN  "
      ]
     },
     "execution_count": 6,
     "metadata": {},
     "output_type": "execute_result"
    }
   ],
   "source": [
    "recipes = pd.read_csv(\"../data sources/recipes_sample.csv\")\n",
    "recipes.head()"
   ]
  },
  {
   "cell_type": "code",
   "execution_count": 7,
   "metadata": {},
   "outputs": [
    {
     "name": "stdout",
     "output_type": "stream",
     "text": [
      "|   id   | minutes |\n",
      "| 370684 |   30    |\n",
      "| 204642 |   15    |\n",
      "| 29870  |   70    |\n",
      "| 429559 |    5    |\n",
      "| 484315 |  1450   |\n"
     ]
    },
    {
     "data": {
      "text/plain": [
       "[None, None, None, None, None]"
      ]
     },
     "execution_count": 7,
     "metadata": {},
     "output_type": "execute_result"
    }
   ],
   "source": [
    "five_r = recipes.sample(n=5)\n",
    "\n",
    "max_len_id = len(str(max(five_r.id))) + 2\n",
    "max_len_minutes = len(str(max(five_r.minutes))) + 2\n",
    "\n",
    "len_id = [len('id') + 2, max_len_id][len('id') < max_len_id]\n",
    "len_minutes = [len('minutes') + 2, max_len_minutes][max_len_minutes > len('minutes')]\n",
    "\n",
    "\n",
    "print(f\"|{'id':^{len_id}}|{'minutes':^{len_minutes}}|\")\n",
    "[print(f\"|{v1:^{len_id}}|{v2:^{len_minutes}}|\") for v1, v2 in zip(five_r.id, five_r.minutes)]"
   ]
  },
  {
   "cell_type": "markdown",
   "metadata": {},
   "source": [
    "2\\. Напишите функцию `show_info`, которая по данным о рецепте создает строку (в смысле объекта python) с описанием следующего вида:\n",
    "\n",
    "```\n",
    "\"Название Из Нескольких Слов\"\n",
    "\n",
    "1. Шаг 1\n",
    "2. Шаг 2\n",
    "----------\n",
    "Автор: contributor_id\n",
    "Среднее время приготовления: minutes минут\n",
    "```\n",
    "\n",
    "    \n",
    "Данные для создания строки получите из файлов `recipes_sample.csv` (__ЛР2__) и `steps_sample.xml` (__ЛР3__). \n",
    "Вызовите данную функцию для рецепта с id `170895` и выведите (через `print`) полученную строку на экран."
   ]
  },
  {
   "cell_type": "code",
   "execution_count": 8,
   "metadata": {},
   "outputs": [],
   "source": [
    "from bs4 import BeautifulSoup\n",
    "\n",
    "content = open(\"../data sources/steps_sample.xml\",\"r\").read()\n",
    "steps = BeautifulSoup(content,'xml')\n",
    "#steps"
   ]
  },
  {
   "cell_type": "code",
   "execution_count": 9,
   "metadata": {},
   "outputs": [],
   "source": [
    "from collections import defaultdict\n",
    "\n",
    "bank = defaultdict(list)\n",
    "\n",
    "for recipe in steps.find_all('recipe'):\n",
    "    recipe_id = int(recipe.find(\"id\").get_text())\n",
    "    for step in recipe.find_all(\"step\"):\n",
    "        step_text = step.get_text()\n",
    "        bank[recipe_id].append(step_text)\n",
    "\n",
    "#bank"
   ]
  },
  {
   "cell_type": "code",
   "execution_count": 10,
   "metadata": {},
   "outputs": [
    {
     "name": "stdout",
     "output_type": "stream",
     "text": [
      "leeks and parsnips  sauteed or creamed\n",
      "\n",
      "1. clean the leeks and discard the dark green portions\n",
      "2. cut the leeks lengthwise then into one-inch pieces\n",
      "3. melt the butter in a medium skillet , med\n",
      "4. heat\n",
      "5. add the garlic and fry 'til fragrant\n",
      "6. add leeks and fry until the leeks are tender , about 6-minutes\n",
      "7. meanwhile , peel and chunk the parsnips into one-inch pieces\n",
      "8. place in a steaming basket and steam 'til they are as tender as you prefer\n",
      "9. i like them fork-tender\n",
      "10. drain parsnips and add to the skillet with the leeks\n",
      "11. add salt and pepper\n",
      "12. gently sautee together for 5-minutes\n",
      "13. at this point you can serve it , or continue on and cream it:\n",
      "14. in a jar with a screw top , add the half-n-half and arrowroot\n",
      "15. shake 'til blended\n",
      "16. turn heat to low under the leeks and parsnips\n",
      "17. pour in the arrowroot mixture , stirring gently as you pour\n",
      "18. if too thick , gradually add the water\n",
      "19. let simmer for a couple of minutes\n",
      "20. taste to adjust seasoning , probably an additional 1 / 2 teaspoon salt\n",
      "21. serve warm\n",
      "----------\n",
      "Автор: 8377\n",
      "Среднее время приготовления: 27 минут\n"
     ]
    }
   ],
   "source": [
    "def show_info(recipe_id, recipes, bank):\n",
    "    name, rid, minutes, author_id, *other = recipes[recipes.id == recipe_id].values[0]\n",
    "    steps = bank[recipe_id]\n",
    "    print(name, end='\\n\\n')\n",
    "    [print(f\"{k}. {v}\") for k, v in enumerate(steps, 1)]\n",
    "    print(\"----------\")\n",
    "    print(f\"Автор: {author_id}\\nСреднее время приготовления: {minutes} минут\")\n",
    "\n",
    "show_info(170895, recipes, bank)"
   ]
  },
  {
   "cell_type": "code",
   "execution_count": 11,
   "metadata": {},
   "outputs": [
    {
     "name": "stdout",
     "output_type": "stream",
     "text": [
      "george s at the cove  black bean soup\n",
      "\n",
      "1. in 1 / 4 cup butter , saute carrots , onion , celery and broccoli stems for 5 minutes\n",
      "2. add thyme , oregano and basil\n",
      "3. saute 5 minutes more\n",
      "4. add wine and deglaze pan\n",
      "5. add hot chicken stock and reduce by one-third\n",
      "6. add worcestershire sauce , tabasco , smoked chicken , beans and broccoli florets\n",
      "7. simmer 5 minutes\n",
      "8. add cream , simmer 5 minutes more and season to taste\n",
      "9. drop in remaining butter , piece by piece , stirring until melted and serve immediately\n",
      "10. smoked chicken: on a covered grill , slightly smoke boneless chicken , cooking to medium rare\n",
      "11. chef meskan uses applewood chips and does not allow the grill to become too hot\n",
      "----------\n",
      "Автор: 35193\n",
      "Среднее время приготовления: 90 минут\n"
     ]
    }
   ],
   "source": [
    "show_info(44123, recipes, bank)"
   ]
  },
  {
   "cell_type": "code",
   "execution_count": null,
   "metadata": {},
   "outputs": [],
   "source": [
    "\"\"\"\n",
    "assert (\n",
    "    show_info(\n",
    "        name=\"george s at the cove black bean soup\",\n",
    "        steps=[\n",
    "            \"clean the leeks and discard the dark green portions\",\n",
    "            \"cut the leeks lengthwise then into one-inch pieces\",\n",
    "            \"melt the butter in a medium skillet , med\",\n",
    "        ],\n",
    "        minutes=90,\n",
    "        author_id=35193,\n",
    "    )\n",
    "    == '\"George S At The Cove Black Bean Soup\"\\n\\n1. Clean the leeks and discard the dark green portions\\n2. Cut the leeks lengthwise then into one-inch pieces\\n3. Melt the butter in a medium skillet , med\\n----------\\nАвтор: 35193\\nСреднее время приготовления: 90 минут\\n'\n",
    ")\n",
    "\"\"\""
   ]
  },
  {
   "cell_type": "markdown",
   "metadata": {},
   "source": [
    "## Работа с регулярными выражениями"
   ]
  },
  {
   "cell_type": "markdown",
   "metadata": {},
   "source": [
    "3\\. Напишите регулярное выражение, которое ищет следующий паттерн в строке: число (1 цифра или более), затем пробел, затем слова: hour или hours или minute или minutes. Произведите поиск по данному регулярному выражению в каждом шаге рецепта с id 25082. Выведите на экран все непустые результаты, найденные по данному шаблону."
   ]
  },
  {
   "cell_type": "code",
   "execution_count": 12,
   "metadata": {},
   "outputs": [
    {
     "name": "stdout",
     "output_type": "stream",
     "text": [
      "Найдено в шаге 6: ['20 minutes']\n",
      "Найдено в шаге 8: ['10 minutes']\n",
      "Найдено в шаге 10: ['2 hours']\n",
      "Найдено в шаге 14: ['10 minutes']\n",
      "Найдено в шаге 17: ['20 minutes', '20-30 minutes']\n"
     ]
    },
    {
     "data": {
      "text/plain": [
       "[None, None, None, None, None]"
      ]
     },
     "execution_count": 12,
     "metadata": {},
     "output_type": "execute_result"
    }
   ],
   "source": [
    "step25082 = bank[25082]\n",
    "result = [(i, re.findall(r\"[-0-9]+ minute[s]?|[0-9]+ hour[s]?\", row)) for i, row in enumerate(step25082, 1)]\n",
    "\n",
    "[print(f\"Найдено в шаге {row[0]}: {row[1]}\") for row in result if row[1]]"
   ]
  },
  {
   "cell_type": "code",
   "execution_count": 13,
   "metadata": {},
   "outputs": [
    {
     "data": {
      "text/plain": [
       "'turn out onto a lightly floured board and knead for about 20 minutes , adding flour as nescessary to keep the dough from sticking to the board'"
      ]
     },
     "execution_count": 13,
     "metadata": {},
     "output_type": "execute_result"
    }
   ],
   "source": [
    "# Проверка\n",
    "step25082[5] # Найдено в шаге 6: ['20 minutes']"
   ]
  },
  {
   "cell_type": "code",
   "execution_count": 14,
   "metadata": {},
   "outputs": [
    {
     "data": {
      "text/plain": [
       "'bake at 400 for 20 minutes , and then turn the oven down to 350 and bake for 20-30 minutes longer , until the loaf is a lovely brown and sounds hollow when you thump it on the bottom'"
      ]
     },
     "execution_count": 14,
     "metadata": {},
     "output_type": "execute_result"
    }
   ],
   "source": [
    "# Проверка\n",
    "step25082[16]# Найдено в шаге 17: ['20 minutes', '20-30 minutes']"
   ]
  },
  {
   "cell_type": "markdown",
   "metadata": {},
   "source": [
    "4\\. Напишите регулярное выражение, которое ищет шаблон вида \"this..., but\" _в начале строки_ . Между словом \"this\" и частью \", but\" может находиться произвольное число букв, цифр, знаков подчеркивания и пробелов. Никаких других символов вместо многоточия быть не может. Пробел между запятой и словом \"but\" может присутствовать или отсутствовать.\n",
    "\n",
    "Используя строковые методы `pd.Series`, выясните, для каких рецептов данный шаблон содержится в тексте описания. Выведите на экран количество таких рецептов и 3 примера подходящих описаний (текст описания должен быть виден на экране полностью)."
   ]
  },
  {
   "cell_type": "code",
   "execution_count": 15,
   "metadata": {},
   "outputs": [
    {
     "data": {
      "text/plain": [
       "['this really, .&? really cool, but']"
      ]
     },
     "execution_count": 15,
     "metadata": {},
     "output_type": "execute_result"
    }
   ],
   "source": [
    "pattern = re.compile(r\"^this.*,\\s?but\")\n",
    "\n",
    "text ='this really, .&? really cool, but i think'\n",
    "\n",
    "re.findall(pattern, text)"
   ]
  },
  {
   "cell_type": "code",
   "execution_count": 16,
   "metadata": {},
   "outputs": [
    {
     "data": {
      "text/plain": [
       "['this really, i think,but']"
      ]
     },
     "execution_count": 16,
     "metadata": {},
     "output_type": "execute_result"
    }
   ],
   "source": [
    "test ='this really, i think,but really cool '\n",
    "\n",
    "re.findall(pattern, test)"
   ]
  },
  {
   "cell_type": "code",
   "execution_count": 17,
   "metadata": {},
   "outputs": [
    {
     "data": {
      "text/html": [
       "<div>\n",
       "<style scoped>\n",
       "    .dataframe tbody tr th:only-of-type {\n",
       "        vertical-align: middle;\n",
       "    }\n",
       "\n",
       "    .dataframe tbody tr th {\n",
       "        vertical-align: top;\n",
       "    }\n",
       "\n",
       "    .dataframe thead th {\n",
       "        text-align: right;\n",
       "    }\n",
       "</style>\n",
       "<table border=\"1\" class=\"dataframe\">\n",
       "  <thead>\n",
       "    <tr style=\"text-align: right;\">\n",
       "      <th></th>\n",
       "      <th>name</th>\n",
       "      <th>id</th>\n",
       "      <th>minutes</th>\n",
       "      <th>contributor_id</th>\n",
       "      <th>submitted</th>\n",
       "      <th>n_steps</th>\n",
       "      <th>description</th>\n",
       "      <th>n_ingredients</th>\n",
       "    </tr>\n",
       "  </thead>\n",
       "  <tbody>\n",
       "    <tr>\n",
       "      <th>6</th>\n",
       "      <td>open sesame  noodles</td>\n",
       "      <td>107229</td>\n",
       "      <td>28</td>\n",
       "      <td>173674</td>\n",
       "      <td>2004-12-30</td>\n",
       "      <td>8.0</td>\n",
       "      <td>this is a very versatile and widely enjoyed pa...</td>\n",
       "      <td>12.0</td>\n",
       "    </tr>\n",
       "    <tr>\n",
       "      <th>8</th>\n",
       "      <td>1 in canada chocolate chip cookies</td>\n",
       "      <td>453467</td>\n",
       "      <td>45</td>\n",
       "      <td>1848091</td>\n",
       "      <td>2011-04-11</td>\n",
       "      <td>12.0</td>\n",
       "      <td>this is the recipe that we use at my school ca...</td>\n",
       "      <td>11.0</td>\n",
       "    </tr>\n",
       "    <tr>\n",
       "      <th>15</th>\n",
       "      <td>better than tofu  cheesecake</td>\n",
       "      <td>200148</td>\n",
       "      <td>90</td>\n",
       "      <td>261027</td>\n",
       "      <td>2006-12-11</td>\n",
       "      <td>18.0</td>\n",
       "      <td>this is, again, from vegweb.com. this got abso...</td>\n",
       "      <td>13.0</td>\n",
       "    </tr>\n",
       "    <tr>\n",
       "      <th>16</th>\n",
       "      <td>burek  or feta cheese  phyllo pie</td>\n",
       "      <td>310570</td>\n",
       "      <td>65</td>\n",
       "      <td>676820</td>\n",
       "      <td>2008-06-24</td>\n",
       "      <td>38.0</td>\n",
       "      <td>ok, there are different version of burek (some...</td>\n",
       "      <td>6.0</td>\n",
       "    </tr>\n",
       "    <tr>\n",
       "      <th>21</th>\n",
       "      <td>kelly s creamy cheddar pea salad</td>\n",
       "      <td>125195</td>\n",
       "      <td>20</td>\n",
       "      <td>113941</td>\n",
       "      <td>2005-06-09</td>\n",
       "      <td>5.0</td>\n",
       "      <td>i'm not a big fan of peas, but like them in th...</td>\n",
       "      <td>10.0</td>\n",
       "    </tr>\n",
       "  </tbody>\n",
       "</table>\n",
       "</div>"
      ],
      "text/plain": [
       "                                  name      id  minutes  contributor_id  \\\n",
       "6                 open sesame  noodles  107229       28          173674   \n",
       "8   1 in canada chocolate chip cookies  453467       45         1848091   \n",
       "15        better than tofu  cheesecake  200148       90          261027   \n",
       "16   burek  or feta cheese  phyllo pie  310570       65          676820   \n",
       "21    kelly s creamy cheddar pea salad  125195       20          113941   \n",
       "\n",
       "     submitted  n_steps                                        description  \\\n",
       "6   2004-12-30      8.0  this is a very versatile and widely enjoyed pa...   \n",
       "8   2011-04-11     12.0  this is the recipe that we use at my school ca...   \n",
       "15  2006-12-11     18.0  this is, again, from vegweb.com. this got abso...   \n",
       "16  2008-06-24     38.0  ok, there are different version of burek (some...   \n",
       "21  2005-06-09      5.0  i'm not a big fan of peas, but like them in th...   \n",
       "\n",
       "    n_ingredients  \n",
       "6            12.0  \n",
       "8            11.0  \n",
       "15           13.0  \n",
       "16            6.0  \n",
       "21           10.0  "
      ]
     },
     "execution_count": 17,
     "metadata": {},
     "output_type": "execute_result"
    }
   ],
   "source": [
    "clear_recipes = recipes.dropna()\n",
    "clear_recipes.head()"
   ]
  },
  {
   "cell_type": "code",
   "execution_count": 18,
   "metadata": {},
   "outputs": [
    {
     "name": "stdout",
     "output_type": "stream",
     "text": [
      "Количество таких рецептов = 370\n"
     ]
    }
   ],
   "source": [
    "mask = clear_recipes.description.str.match(pattern)\n",
    "print(f\"Количество таких рецептов = {mask.sum()}\")"
   ]
  },
  {
   "cell_type": "code",
   "execution_count": 19,
   "metadata": {},
   "outputs": [
    {
     "data": {
      "text/plain": [
       "202                                                                                                                                                                                                                                                                                                                                                                                                                                                                                                                                 this is the simplest toffee recipe ever.  i love it because it only takes 4 ingredients that i always have around the house.  follow a few easy steps and voila--instant gratification!  this recipe makes great holiday gifts for the neighbors (they'll think you slaved over a hot stove all day, but the truth will be our little secret!).\n",
       "271                                                                                                                                                                                                                                                                                                                                                                                                                                                                                                                                                                    this cookie is made without flour and without sweetened condensed milk.  light and chewy.  i prefer using unsweetened coconut, but sweetened is fine.  this was my grandmother's recipe... probably from better homes and gardens.  they are flat, not the traditional mounded cookie.  perfect for dipping!\n",
       "403    this classic arabian dish is saudi arabian in origin, and is believed to originate from the nomadic bedouin tribes centuries ago. arabic cuisine has its roots in tent cookery. nomadic tribes could use only transportable foods such as rice and dates, or their nomadic stock like sheep and camels in their recipes. as the caravans journeyed throughout the middle east, new seasonings and vegetables were discovered and added to the existing repertoire. each new discovery was incorporated into the diet in quantities palatable to a particular tribe - a fact that many cooks believe is responsible for the anomalies found in some arabic dishes today. you can use lamb (or camel !!) in this dish, but it is more usual to make it with chicken nowadays.\\r\\ni have a recipe posted on zaar for the kabsa spice mix needed in this recipe.  recipe #290159\n",
       "Name: description, dtype: object"
      ]
     },
     "execution_count": 19,
     "metadata": {},
     "output_type": "execute_result"
    }
   ],
   "source": [
    "pd.set_option('display.max_colwidth', None)\n",
    "\n",
    "clear_recipes[mask][:3].description"
   ]
  },
  {
   "cell_type": "markdown",
   "metadata": {},
   "source": [
    "5\\. В текстах шагов рецептов обыкновенные дроби имеют вид \"a / b\". Используя регулярные выражения, уберите в тексте шагов рецепта с id 72367 пробелы до и после символа дроби. Выведите на экран шаги этого рецепта после их изменения."
   ]
  },
  {
   "cell_type": "code",
   "execution_count": 20,
   "metadata": {},
   "outputs": [
    {
     "data": {
      "text/plain": [
       "['mix butter , flour , 1 / 3 c',\n",
       " 'sugar and 1-1 / 4 t',\n",
       " 'vanilla',\n",
       " 'press into greased 9\" springform pan',\n",
       " 'mix cream cheese , 1 / 4 c',\n",
       " 'sugar , eggs and 1 / 2 t',\n",
       " 'vanilla beating until fluffy',\n",
       " 'pour over dough',\n",
       " 'combine apples , 1 / 3 c',\n",
       " 'sugar and cinnamon',\n",
       " 'arrange on top of cream cheese mixture and sprinkle with almonds',\n",
       " 'bake at 350 for 45-55 minutes , or until tester comes out clean']"
      ]
     },
     "execution_count": 20,
     "metadata": {},
     "output_type": "execute_result"
    }
   ],
   "source": [
    "steps72367 = bank[72367]\n",
    "steps72367"
   ]
  },
  {
   "cell_type": "code",
   "execution_count": 21,
   "metadata": {},
   "outputs": [
    {
     "data": {
      "text/plain": [
       "['mix butter , flour , 1/3 c',\n",
       " 'sugar and 1-1/4 t',\n",
       " 'vanilla',\n",
       " 'press into greased 9\" springform pan',\n",
       " 'mix cream cheese , 1/4 c',\n",
       " 'sugar , eggs and 1/2 t',\n",
       " 'vanilla beating until fluffy',\n",
       " 'pour over dough',\n",
       " 'combine apples , 1/3 c',\n",
       " 'sugar and cinnamon',\n",
       " 'arrange on top of cream cheese mixture and sprinkle with almonds',\n",
       " 'bake at 350 for 45-55 minutes , or until tester comes out clean']"
      ]
     },
     "execution_count": 21,
     "metadata": {},
     "output_type": "execute_result"
    }
   ],
   "source": [
    "pattern = r\"\\s/\\s\"\n",
    "repl = r\"/\"\n",
    "result = [re.sub(pattern, repl, row) for row in steps72367]\n",
    "result"
   ]
  },
  {
   "cell_type": "markdown",
   "metadata": {},
   "source": [
    "### Сегментация текста"
   ]
  },
  {
   "cell_type": "markdown",
   "metadata": {},
   "source": [
    "6\\. Разбейте тексты шагов рецептов на слова при помощи пакета `nltk`. Посчитайте и выведите на экран кол-во уникальных слов среди всех рецептов. Словом называется любая последовательность алфавитных символов (для проверки можно воспользоваться `str.isalpha`). При подсчете количества уникальных слов не учитывайте регистр."
   ]
  },
  {
   "cell_type": "code",
   "execution_count": 59,
   "metadata": {},
   "outputs": [
    {
     "name": "stderr",
     "output_type": "stream",
     "text": [
      "[nltk_data] Downloading package punkt to\n",
      "[nltk_data]     C:\\Users\\cvrsd\\AppData\\Roaming\\nltk_data...\n",
      "[nltk_data]   Unzipping tokenizers\\punkt.zip.\n"
     ]
    },
    {
     "data": {
      "text/plain": [
       "True"
      ]
     },
     "execution_count": 59,
     "metadata": {},
     "output_type": "execute_result"
    }
   ],
   "source": [
    "# import nltk\n",
    "# nltk.download('punkt')"
   ]
  },
  {
   "cell_type": "code",
   "execution_count": 22,
   "metadata": {},
   "outputs": [
    {
     "name": "stdout",
     "output_type": "stream",
     "text": [
      "\n",
      "         Количество всех слов: 2734377\n",
      "   Количество уникальных слов: 14926\n"
     ]
    }
   ],
   "source": [
    "from nltk import word_tokenize\n",
    "\n",
    "nltk_words = []\n",
    "    \n",
    "for k, v in bank.items():\n",
    "    raw_words = list(filter(str.isalpha, word_tokenize(' '.join(v).lower())))\n",
    "    nltk_words.extend(raw_words)\n",
    "\n",
    "\n",
    "print(f\"\\n{'Количество всех слов:':>30} {len(nltk_words)}\\n{'Количество уникальных слов:':>30} {len(set(nltk_words))}\")"
   ]
  },
  {
   "cell_type": "markdown",
   "metadata": {},
   "source": [
    "## 2 реализация"
   ]
  },
  {
   "cell_type": "code",
   "execution_count": 23,
   "metadata": {},
   "outputs": [
    {
     "name": "stdout",
     "output_type": "stream",
     "text": [
      "\n",
      "         Количество всех слов: 2765741\n",
      "   Количество уникальных слов: 15114\n"
     ]
    }
   ],
   "source": [
    "all_words = []\n",
    "    \n",
    "for k, v in bank.items():\n",
    "    c_steps = re.findall(r\"\\b[a-zA-Zа-яА-ЯёЁ]+\\b\", ' '.join(v).lower()) #очищенные шаги\n",
    "    all_words.extend(c_steps)\n",
    "\n",
    "print(f\"\\n{'Количество всех слов:':>30} {len(all_words)}\\n{'Количество уникальных слов:':>30} {len(set(all_words))}\")\n",
    "    \n"
   ]
  },
  {
   "cell_type": "markdown",
   "metadata": {},
   "source": [
    "# странно"
   ]
  },
  {
   "cell_type": "code",
   "execution_count": 24,
   "metadata": {},
   "outputs": [
    {
     "name": "stdout",
     "output_type": "stream",
     "text": [
      "{'preparethe', 'mono', 'didn', 'vegans', 'drainbroccoli', 'indo', 'atar', 'orangebutterscotch', 'loup', 'hign', 'ince', 'reflexes', 'tupled', 'lll', 'turf', 'sinus', 'rated', 'wanna', 'hearted', 'ventilated', 'gonna', 'mouthed', 'marchandde', 'afteryou', 'bulls', 'tayavon', 'lemme', 'fourts', 'peasy', 'wasn', 'stic', 'crafts', 'andbread', 'heatdon', 'hasn', 'doh', 'addonion', 'hydrate', 'cgarlic', 'disaronnomaple', 'azur', 'oeuvres', 'sixteenth', 'pooh', 'greedy', 'barb', 'ivory', 'chunless', 'ceam', 'tel', 'equatoriale', 'haves', 'clearing', 'scary', 'straps', 'bill', 'isn', 'removechicken', 'friedonions', 'socket', 'pom', 'haven', 'addthe', 'bemi', 'assem', 'wah', 'borne', 'placecooked', 'butdon', 'nu', 'botomed', 'toprepare', 'pe', 'shocks', 'germain', 'caffeine', 'str', 'framed', 'ey', 'surf', 'gots', 'tic', 'addover', 'cin', 'parmesano', 'cinnamonraisin', 'streaky', 'fijian', 'chocoalte', 'lantern', 'crossed', 'anti', 'sans', 'chi', 'mufa', 'reux', 'wishers', 'fla', 'cum', 'hihgh', 'sunbeam', 'walled', 'liuzza', 'speeded', 'que', 'soupe', 'brain', 'winnie', 'lacto', 'arts', 'za', 'oeuvre', 'insta', 'musn', 'boogie', 'thingy', 'poachedeggs', 'gotta', 'ish', 'brien', 'parker', 'sphere', 'piri', 'clearning', 'risotta', 'ons', 'hued', 'prrof', 'ums', 'kekes', 'shouldn', 'fang', 'goosht', 'couldn', 'flaxen', 'macuto', 'ed', 'formedium', 'conker', 'inscribed', 'constituted', 'accents', 'worms', 'thired', 'petit', 'cannot', 'ful', 'ize', 'epplant', 'addin', 'bacterial', 'wouldn', 'garlicsauce', 'zag', 'purose', 'aren', 'putty', 'href', 'sloan', 'cran', 'pepita', 'heading', 'pani', 'sheraton', 'wud', 'aspartame', 'aab', 'vo', 'wal', 'vol', 'multi', 'mircowave', 'tac', 'stark', 'dandy', 'ers', 'kay', 'hollandaisesauce', 'matte', 'lint', 'hardcooked', 'allergen', 'gooseberry', 'licious', 'dosen', 'disaronnobutter', 'ooey', 'carbonate', 'pronged', 'frankfurter', 'tofuscramble', 'drafty', 'blackwell', 'corrosive', 'weren'}\n"
     ]
    }
   ],
   "source": [
    "print(set(all_words) - set(nltk_words))\n"
   ]
  },
  {
   "cell_type": "code",
   "execution_count": 25,
   "metadata": {},
   "outputs": [
    {
     "name": "stdout",
     "output_type": "stream",
     "text": [
      "{'gon', 'lem', 'wan', 'butdo', 'mus', 'wo', 'heatdo'}\n"
     ]
    }
   ],
   "source": [
    "print(set(nltk_words) - set(all_words))"
   ]
  },
  {
   "cell_type": "markdown",
   "metadata": {},
   "source": [
    "## 3 реализация"
   ]
  },
  {
   "cell_type": "code",
   "execution_count": 26,
   "metadata": {},
   "outputs": [
    {
     "data": {
      "text/plain": [
       "[('and', 147015), ('the', 138058), ('in', 77528), ('a', 75336), ('to', 74875)]"
      ]
     },
     "execution_count": 26,
     "metadata": {},
     "output_type": "execute_result"
    }
   ],
   "source": [
    "import re\n",
    "from collections import Counter\n",
    "\n",
    "#bank.values()\n",
    "row = ' '.join([word.lower() for row in bank.values() for word in row]) #одна огромная строка из всех шагов\n",
    "pattern = r\"\\b[a-zA-Zа-яА-ЯёЁ]+\\b\"\n",
    "cwords = re.findall(pattern, row) #очищенные от лишнего слова\n",
    "unique_words = Counter(cwords) #словарь уникальных слов\n",
    "unique_words.most_common(5)"
   ]
  },
  {
   "cell_type": "code",
   "execution_count": 27,
   "metadata": {},
   "outputs": [
    {
     "name": "stdout",
     "output_type": "stream",
     "text": [
      "Количество уникальных слов: 15114\n",
      "Количество всех слов: 2765741\n"
     ]
    }
   ],
   "source": [
    "print(f\"Количество уникальных слов: {len(unique_words)}\\nКоличество всех слов: {sum(unique_words.values())}\")"
   ]
  },
  {
   "cell_type": "markdown",
   "metadata": {},
   "source": [
    "7\\. Разбейте описания рецептов из `recipes` на предложения при помощи пакета `nltk`. Найдите 5 самых длинных описаний (по количеству _предложений_) рецептов в датасете и выведите строки фрейма, соответствующие этим рецептами, в порядке убывания длины."
   ]
  },
  {
   "cell_type": "code",
   "execution_count": 28,
   "metadata": {},
   "outputs": [
    {
     "data": {
      "text/plain": [
       "(76, 23)"
      ]
     },
     "execution_count": 28,
     "metadata": {},
     "output_type": "execute_result"
    }
   ],
   "source": [
    "from nltk import sent_tokenize\n",
    "\n",
    "description = recipes.description.astype(str)\n",
    "\n",
    "all_sentences = [sent_tokenize(d) for d in description]\n",
    "most_long = sorted(all_sentences, key=lambda x: len(x), reverse=True)[:5]\n",
    "\n",
    "\n",
    "len(most_long[0]), len(most_long[-1])"
   ]
  },
  {
   "cell_type": "code",
   "execution_count": 33,
   "metadata": {},
   "outputs": [
    {
     "data": {
      "text/plain": [
       "[['this wonderful icing is used for icing cakes and cookies as well as for borders and art work on cakes.',\n",
       "  'it makes a delicious filling also between the layers of cakes and under fondant icing.',\n",
       "  'you can make roses but it takes 3 or more days to dry them depending on the humidity.',\n",
       "  'there are many versions of “buttercream” icing.',\n",
       "  'some are made with eggs and all butter.',\n",
       "  'some varieties, you have to cook your sugar to a softball stage.',\n",
       "  'others are 100% shortening or a combination of shortening and butter.',\n",
       "  'each decorator has his or her favorite.',\n",
       "  'i personally think that the best taste and textured recipe is the one that has you cook your sugar, add to whipped eggs and use pounds of butter per batch.',\n",
       "  'but….',\n",
       "  'i live in a state that can easily be a 100 degrees for days on end during the summer and you know what butter does on hot days.',\n",
       "  'it melts!',\n",
       "  'a greasy puddle of melted icing on a cake plate is not something i want to look at or eat.',\n",
       "  'your top notch decorators have a few options we don’t.',\n",
       "  'they have huge refrigerators to store their cakes in, and refrigerated vehicles that they can use to deliver decorated cakes.',\n",
       "  'i even know a few that refuse to deliver at all.',\n",
       "  'if you want their cake, you come and get it and it’s your responsibility if it melts.',\n",
       "  'these decorators don’t even turn on their ovens for a wedding cake for less than $2000.',\n",
       "  'the following recipes for buttercream icing hold up pretty well in the heat and humidity, but if you know that your cake will be out in very high temperatures, then don’t use any butter and use only a high quality shortening.',\n",
       "  'shortening:  \\r\\n\\r\\nsolid shortenings definitely have their place in baking.',\n",
       "  'so i’m going to talk taste tests.',\n",
       "  'crisco is the hands down winner.',\n",
       "  'it has a clean taste with the melting point of 106 degrees.',\n",
       "  'butter melts somewhere between 88 and 98 degrees f. depending on the amount of fat in the brand.',\n",
       "  'you can see that if you need to serve a pure buttercream decorated cake, on a hot august afternoon, you could have melted roses (and i do mean greasy puddles) on the tablecloth.',\n",
       "  'this is when a good quality shortening will be a great blessing.',\n",
       "  'i have been told by decorator friends that some of the warehouse brand shortenings leave a grainy consistency to the icing no matter what you do.',\n",
       "  \"powdered (confectioner's) sugar:  \\r\\n\\r\\nregarding powdered sugar.\",\n",
       "  'please use a cane sugar.',\n",
       "  'i prefer c&h powdered (confectioners) sugar.',\n",
       "  'many of the cheaper brands use sugar beets for their base.',\n",
       "  'i don’t know the chemistry behind it but you definitely get different textures to your icing that can vary from batch to batch.',\n",
       "  'i spent a few months being very frustrated with the quality of my icing until a kind lady did a bit of trouble shooting for me.',\n",
       "  'she recommended the cane sugar and i’ve been blessing her ever since.',\n",
       "  'top-quality brands:  \\r\\n\\r\\nplease be safe, buy a quality brands and then stick with it for the best results.',\n",
       "  'a friend of mine, who is a wonderful cook and baker, travels a lot and she often prepares treats for her hosts.',\n",
       "  'she’s learned to ask the host to have her favorite shortening and flour on hand.',\n",
       "  'she has even made up a little makeup type case that carries her favorite extracts and precious spices.',\n",
       "  'that way she knows what she is working with, how it handles, and what tastes she can expect for the finished product.',\n",
       "  'some surprises are not pleasant.',\n",
       "  'storing buttercream icing: \\r\\n\\r\\nif you are not going to be using the icing right away, place it in a clean, sealable bowl.',\n",
       "  'store it in the refrigerator but please don’t place it next to the marinating salmon, garlic or broccoli.',\n",
       "  'you do not want those flavors in your icing!',\n",
       "  'i like to use my icing within a few days but it will hold in the cold refrigerator for a couple of weeks if necessary.',\n",
       "  'i often make a double batch of icing the night before i have a baking project.',\n",
       "  'that way i know that i have plenty of icing, it’s fresh and i don’t have to make it while i’m in the middle of baking the cakes.',\n",
       "  'the extra can always be used for a batch of cupcakes.',\n",
       "  'when you remove the icing from the refrigerator, you might notice that the icing has taken on a sponge like texture.',\n",
       "  'do yourself a favor and place the icing in a bowl and mix by hand using a back and forth, smashing motion with a spoon or icing spatula.',\n",
       "  'what you want to do is to smash the bubbles out of the icing.',\n",
       "  'this extra step will help to give you the smoothest icing for a pretty top and sides of the cake.',\n",
       "  'i have found that you will get an even better texture of icing if it is at room temperature before you try to do your icing.',\n",
       "  'bad buttercream icing days:  \\r\\n\\r\\none thing that seems very silly but is true.',\n",
       "  'there are bad buttercream days!',\n",
       "  'i’ve asked quite a few decorators about this and every one says “yes, there are lousy days”.',\n",
       "  'i’m not sure what causes the problem.',\n",
       "  'it could be that every human has bad days so they blame the buttercream.',\n",
       "  'it may be the humidity or that there is a low pressure system hanging over your town.',\n",
       "  'i just know why but it is a perceived fact.',\n",
       "  'the way i have handled the problem is that i changed the decoration on the cake.',\n",
       "  'i couldn’t get the smooth top or sides as i originally planned.',\n",
       "  'writing a greeting on a messy top would look awful so i changed the design idea and put flowers everywhere.',\n",
       "  'i could have also done a basket weave technique around the sides.',\n",
       "  'just go with the flow, and don’t get frustrated.',\n",
       "  'aunt martha won’t chuck the cake at you if you don’t write her name on the top this time.',\n",
       "  'remember that you are creating something that is to be eaten so have fun with it.',\n",
       "  'different mixers:\\r\\n\\r\\nif you have a heavy duty counter mixer, you can prepare a whole batch at one time.',\n",
       "  'if you are using a hand mixer, divide the recipe in half.',\n",
       "  'if you notice the mixer getting hot, please stop and let the machine cool off.',\n",
       "  'i also prefer to mix the buttercream on a low setting.',\n",
       "  'it seems that the higher setting do the job faster but you also will get a spongy texture to the icing.',\n",
       "  'i don’t want that quality in my final ice coating or flowers on the cake.',\n",
       "  'using weight scales:\\r\\n\\r\\n1 cup of crisco weighs 6 ounces.',\n",
       "  'i put a piece of wax paper on my scale and start plopping spoons of shortening on until i get the desired weight.',\n",
       "  'it really saves on the cleanup.',\n",
       "  'recipe from peggy at whatscookingamerica.net'],\n",
       " ['a translucent golden-brown crust allows the green of the avocado to be seen.',\n",
       "  'the crispy exterior is a counterpoint to the unctuous interior.',\n",
       "  'these are a signature dish for me, and the one i most often get requests to make (although my seafood and ricotta stuffed buckwheat pancakes run a close second).',\n",
       "  'these fritters came about ten years ago when i was shopping for a dinner i was making for a friend who is a cia-trained chef.',\n",
       "  'i was in a vegetable market and saw these gorgeous avocados that i just knew would be ripe in the next two days.',\n",
       "  'i tried to think of what i could do with them since a) everyone serves cold avocado, and b) i really am not fond of guacamole.',\n",
       "  \"as i tried to think of what i could make with them that was hot, the work 'fritters' jumped into my head.\",\n",
       "  'having never made a fritter before, i was a little surprised to have that thought; but having never known when a vegetable was going to be ripe before i figured i was on a roll and decided to go for it.',\n",
       "  'to serve with my never-before-tried-fritters, i decided to make a crème fraîche-lime-cayenne dipping sauce.',\n",
       "  \"so i made fresh crème fraîche, and used it as a base not only for this dip, but for a tia maria sauce to go with the flourless chocolate cake i made for dessert (another never-before made item, but with the recipe from cook's illustrated it was the only thing i wasn't making up as i went along).\",\n",
       "  'the result of the fritters was that i got to taste the test fritter, then had to dive across the couch before the last one was devoured in order to have a second.',\n",
       "  'the one evolution in the recipe is the change from cayenne to chipotle in the dip.',\n",
       "  'i like the smokiness, and it gives a rough edge to something very smooth - i am all about contrast.',\n",
       "  'feel free to use whatever chile or combination thereof that you like best.',\n",
       "  \"this dip is easy and stands on it's own at a party for anything you want to dip into it.\",\n",
       "  'i have also made it with vegan sour cream with great results.',\n",
       "  'the name alligator claws comes from an alternate name for the avocado: the alligator pear, as well as the fact that the wedges of avocado look like claws.',\n",
       "  \"(for those not familiar with the name alligator pear, it derives from both the tough, textured exterior - reminiscent of an alligator's hide, and the fact that you really can't eat one until it softens - just like a pear.)\",\n",
       "  \"alligator claws are also a great name to call them if you have kids who either won't eat anything that sounds weird and you want to keep them to yourself, or - if you want your kids to eat them - if you have kids who'll only eat things that will gross other people out.\",\n",
       "  'if you are preparing these for kids (and i recommend you do whatever name you choose to call them), protect their palates and tone down the heat of the sauce.',\n",
       "  \"maybe skip the chiles altogether and put in just a hint of finely ground pepper (white pepper won't look like black specks throughout the dip - i'm normally not that fussy, but it's something kids will notice).\",\n",
       "  'allow half an avocado per person.',\n",
       "  'this is so rich that more is too much.',\n",
       "  'note:\\r\\nyou can easily cut the recipe in half, all the batter is is a one-to-one mix of flour & water (someone has suggested trying tempura batter which comes in a mix at many supermarkets - i tend to be a from-scratch kind of guy.',\n",
       "  'or do i just mean itchy?).',\n",
       "  'enjoy.',\n",
       "  '-- text by michael david winter, aka the poker roach'],\n",
       " [\"this is one of the best soups i've ever made and it is even worthy of company.\",\n",
       "  'so simple, yet rich in deep, mushroomy flavor.',\n",
       "  'the inspiration was zaar #26877, a delicious mushroom rice casserole.',\n",
       "  \"i found i couldn't stop eating the liquid before putting the casserole into the oven and that gave me the idea that the base  would make a delicious soup.\",\n",
       "  'and it does!',\n",
       "  'use plenty of fresh mushrooms.',\n",
       "  \"i buy them when they are marked 1/2 price at the grocery, as this is a good way to use your 'shrooms that are starting to get dark.\",\n",
       "  'it is the soy sauce that transforms the broth from ho-hum to yum.',\n",
       "  'i try to use low sodium or home-made no sodium chicken broth so that i can use the soy for the sodium.',\n",
       "  'there is no sense of \"asian\" in this soup at all.',\n",
       "  '( i would not make this without the soy. )',\n",
       "  'just a little bit adds the depth of flavor and even color that transforms the soup.',\n",
       "  'notes:\\r\\n1. if you want to make it into \"cream of\" just add some evaporated milk...delicious.',\n",
       "  '2.  once i broke up a leftover ground sirloin burger into my soup bowl and nuked it...was that ever good.',\n",
       "  '3. i did do this recipe with sinewy beef scraps cut from a roast once.',\n",
       "  'i browned the beef in the bottom of the pan, added the butter and onions and continued as written.',\n",
       "  'the beef added great color and flavor.',\n",
       "  'in this case, i threw the beef piece away, because it had too much sinew, but it was a great addition!',\n",
       "  'i ended up using less soy.',\n",
       "  '4.  i have eye-ball made this soup with amounts i had in the fridge/cupboard and it was great.',\n",
       "  \"so if you don't have that many mushrooms, make it anyway, just keep tasting it until it tastes good to you!\",\n",
       "  \"5.  i've made it without food-processing the onions, and that worked just as well.\",\n",
       "  'lots of flexibility here!',\n",
       "  \"try it, it might be the best barley mushroom soup you've ever had!\"],\n",
       " ['i wrote this because there are an astounding lack of chocolate tea recipes on the internet.',\n",
       "  'the first time i heard about chocolate tea was doing a web search on chocolate.',\n",
       "  'there seem to be a few companies out there who sell chocolate tea.',\n",
       "  'i like to stay up late and had run out of coffee.',\n",
       "  'i was in real need for a good tasting caffene beverage.',\n",
       "  'i first thought chocolate tea would be yucky.',\n",
       "  'we are conditioned to accept chocolate with coffee as a rule but not tea.',\n",
       "  'i was very mistaken!',\n",
       "  'tea and chocolate goes very well with each other and it is also very good for your body.',\n",
       "  'both tea and chocolate are loaded with antioxidents.',\n",
       "  'you may however not want to give this to small children because of the caffene.',\n",
       "  'not having a recipe to follow, i created one.',\n",
       "  '(this one) i used these ingredients because i had them on hand and it was quicker than hunting around for my pepermint extract or messing with my powered cocoa.',\n",
       "  'this being said, if you do want to use powered cocoa or pepermint extract instead of the ovaltine and lifesavers please do so.',\n",
       "  'experiment.',\n",
       "  'this recipe is \"opensource\" :-)\\r\\n\\r\\n you will have to adjust the sugar levels to taste.',\n",
       "  'if you like you can even omit the mints.',\n",
       "  'i used them and i find it gives the beverage that spceial something.',\n",
       "  'this recipe makes one large coffee cup of beverage.',\n",
       "  'if you use regular size coffee cups you may get two servings out of this if serving each person one serving each.',\n",
       "  'to serve 1 serving each to 2 or 3 people using large coffee cups, double or tripple the recipie accodingly\\r\\n\\r\\nenjoy !',\n",
       "  'please let me klnow if you like it!',\n",
       "  ':-)'],\n",
       " ['the first time i made this cake i grated a million pounds of carrots on a knucklebuster.',\n",
       "  'then they invented cuisinarts!',\n",
       "  'now it is much faster to shred the carrots on a fine shredding disk and no bloody knuckles!',\n",
       "  'i have baked it in 8\", 9\", 9x13\" pans so if you want to experiment with pan size it works.',\n",
       "  'one thing i found was baking and stacking the three layers is tricky.',\n",
       "  'my favorite way is two 8\" pans for a nice layer cake and an 8\" square pan to put into the freezer for unexpected company.',\n",
       "  'i hope you try this wonderful cake.',\n",
       "  'update:  in the spirit of carrot cake stories, this cake was invented by a bunny named foo-foo.',\n",
       "  \"he is very famous and even has a hit song which goes like this: sing to the tune of 'down by the station'..........     \\r\\n\\r\\n\\r\\n little bunny foo foo,\\r\\nhopping through the forest,\\r\\nscooping up the field mice,\\r\\nand boppin' 'em on the head.\",\n",
       "  'down came the good fairy and she said - \\r\\n\\r\\n\"little bunny foo foo,\\r\\ni don\\'t want to see you,\\r\\nscooping up the field mice,\\r\\nand boppin\\' \\'em on the head.',\n",
       "  'i\\'ll give you three chances,\\r\\nand if you don\\'t behave ...\\r\\ni\\'ll turn you into a goon!\"',\n",
       "  \"the next day:\\r\\n\\r\\nlittle bunny foo foo,\\r\\nhopping through the forest,\\r\\nscooping up the field mice,\\r\\nand boppin' 'em on the head.\",\n",
       "  'down came the good fairy and she said:\\r\\n\\r\\n\"little bunny foo foo,\\r\\ni don\\'t want to see you.',\n",
       "  'scooping up the field mice.',\n",
       "  \"and boppin' 'em on the head.\",\n",
       "  'i\\'ll give you two more chances,\\r\\nand if you don\\'t behave...\\r\\ni\\'ll turn you into a goon!\"',\n",
       "  \"the next day:\\r\\n\\r\\nlittle bunny foo foo,\\r\\nhopping through the forest,\\r\\nscooping up the field mice,\\r\\nand boppin' 'em on the head.\",\n",
       "  'down came the good fairy and she said:\\r\\n\\r\\n\"little bunny foo foo,\\r\\ni don\\'t want to see you,\\r\\nscooping up the field mice,\\r\\nand boppin\\' \\'em on the head.',\n",
       "  'i\\'ll give you one more chance,\\r\\nand if you don\\'t behave..........\\r\\ni\\'ll turn you into a goon!\"',\n",
       "  'the next day:\\r\\n\\r\\nlittle bunny foo foo,\\r\\nhopping through the forest,\\r\\nscooping up the field mice,\\r\\nand boppin\\' \\'em on the head,\\r\\n\\r\\ndown came the good fairy and she said\\r\\n\\r\\n\"little bunny foo foo,\\r\\ni don\\'t want to see you,\\r\\nscooping up the field mice,\\r\\nand boppin\\' \\'em on the head.',\n",
       "  \"i gave you three chances\\r\\nand you didn't behave\\r\\nnow you're a goon!\",\n",
       "  'poof!!\"',\n",
       "  'the moral of the story is:\\r\\nhare today, goon tomorrow']]"
      ]
     },
     "execution_count": 33,
     "metadata": {},
     "output_type": "execute_result"
    }
   ],
   "source": [
    "most_long"
   ]
  },
  {
   "cell_type": "markdown",
   "metadata": {},
   "source": [
    "8\\. Напишите функцию, которая для заданного предложения выводит информацию о частях речи слов, входящих в предложение, в следующем виде:\n",
    "```\n",
    "PRP   VBD   DT      NNS     CC   VBD      NNS        RB   \n",
    " I  omitted the raspberries and added strawberries instead\n",
    "``` \n",
    "Для определения части речи слова можно воспользоваться `nltk.pos_tag`.\n",
    "\n",
    "Проверьте работоспособность функции на названии рецепта с id 241106.\n",
    "\n",
    "Обратите внимание, что часть речи должна находиться ровно посередине над соотвествующим словом, а между самими словами должен быть ровно один пробел.\n",
    "\n"
   ]
  },
  {
   "cell_type": "code",
   "execution_count": 73,
   "metadata": {},
   "outputs": [
    {
     "name": "stderr",
     "output_type": "stream",
     "text": [
      "[nltk_data] Downloading package averaged_perceptron_tagger to\n",
      "[nltk_data]     C:\\Users\\cvrsd\\AppData\\Roaming\\nltk_data...\n",
      "[nltk_data]   Unzipping taggers\\averaged_perceptron_tagger.zip.\n"
     ]
    },
    {
     "data": {
      "text/plain": [
       "True"
      ]
     },
     "execution_count": 73,
     "metadata": {},
     "output_type": "execute_result"
    }
   ],
   "source": [
    "#nltk.download('averaged_perceptron_tagger')"
   ]
  },
  {
   "cell_type": "code",
   "execution_count": 34,
   "metadata": {},
   "outputs": [
    {
     "name": "stdout",
     "output_type": "stream",
     "text": [
      "       I        - PRP\n",
      "    omitted     - VBD\n",
      "      the       - DT\n",
      "  raspberries   - NNS\n",
      "      and       - CC\n",
      "     added      - VBD\n",
      " strawberries   - NNS\n",
      "    instead     - RB\n"
     ]
    },
    {
     "data": {
      "text/plain": [
       "[None, None, None, None, None, None, None, None]"
      ]
     },
     "execution_count": 34,
     "metadata": {},
     "output_type": "execute_result"
    }
   ],
   "source": [
    "from nltk import pos_tag, word_tokenize\n",
    "\n",
    "check = \"I  omitted the raspberries and added strawberries instead\"\n",
    "\n",
    "words = word_tokenize(check)\n",
    "word_pos = pos_tag(words)\n",
    "[print(f\"{k:^15} - {v}\") for k, v in word_pos]"
   ]
  },
  {
   "cell_type": "code",
   "execution_count": 35,
   "metadata": {},
   "outputs": [
    {
     "name": "stdout",
     "output_type": "stream",
     "text": [
      "   JJ     NNS    IN     NNS    VBP    JJ   CC   JJ    NNS   \n",
      "eggplant steaks with chickpeas feta cheese and black olives \n",
      "\n",
      "  NN   NN IN DT   NN   JJ    NN   NN  \n",
      "george s  at the cove black bean soup \n"
     ]
    }
   ],
   "source": [
    "def get_pos(recept_id, recipes):\n",
    "    words = word_tokenize(recipes[recipes.id == recept_id].name.values[0])\n",
    "    \n",
    "    row_pos = row_word = ''\n",
    "    for word, pos in pos_tag(words):\n",
    "        l = max(len(word), len(pos))\n",
    "        row_pos += f\"{pos:^{l}} \"\n",
    "        row_word += f\"{word:^{l}} \"\n",
    "    \n",
    "    print(row_pos)\n",
    "    print(row_word)\n",
    "    \n",
    "get_pos(241106, recipes)\n",
    "print()\n",
    "get_pos(44123, recipes)"
   ]
  },
  {
   "cell_type": "code",
   "execution_count": 36,
   "metadata": {},
   "outputs": [
    {
     "data": {
      "text/html": [
       "<div>\n",
       "<style scoped>\n",
       "    .dataframe tbody tr th:only-of-type {\n",
       "        vertical-align: middle;\n",
       "    }\n",
       "\n",
       "    .dataframe tbody tr th {\n",
       "        vertical-align: top;\n",
       "    }\n",
       "\n",
       "    .dataframe thead th {\n",
       "        text-align: right;\n",
       "    }\n",
       "</style>\n",
       "<table border=\"1\" class=\"dataframe\">\n",
       "  <thead>\n",
       "    <tr style=\"text-align: right;\">\n",
       "      <th></th>\n",
       "      <th>name</th>\n",
       "      <th>id</th>\n",
       "      <th>minutes</th>\n",
       "      <th>contributor_id</th>\n",
       "      <th>submitted</th>\n",
       "      <th>n_steps</th>\n",
       "      <th>description</th>\n",
       "      <th>n_ingredients</th>\n",
       "    </tr>\n",
       "  </thead>\n",
       "  <tbody>\n",
       "    <tr>\n",
       "      <th>0</th>\n",
       "      <td>george s at the cove  black bean soup</td>\n",
       "      <td>44123</td>\n",
       "      <td>90</td>\n",
       "      <td>35193</td>\n",
       "      <td>2002-10-25</td>\n",
       "      <td>NaN</td>\n",
       "      <td>an original recipe created by chef scott meskan, george's at the cove. we enjoyed this when we visited this restaurant in la jolla, california. this recipe is requested so often, they have it printed and ready at the hostess stand. it's unbeatable at the restaurant, but i do a pretty good job at home, too, if i do say so myself!</td>\n",
       "      <td>18.0</td>\n",
       "    </tr>\n",
       "    <tr>\n",
       "      <th>1</th>\n",
       "      <td>healthy for them  yogurt popsicles</td>\n",
       "      <td>67664</td>\n",
       "      <td>10</td>\n",
       "      <td>91970</td>\n",
       "      <td>2003-07-26</td>\n",
       "      <td>NaN</td>\n",
       "      <td>my children and their friends ask for my homemade popsicles morning, noon and night. i never turn them down; who am i to tell them that they are good for them! for variety i substitute different flavours of frozen juice - grape, fruit punch, tropical etc.</td>\n",
       "      <td>NaN</td>\n",
       "    </tr>\n",
       "    <tr>\n",
       "      <th>2</th>\n",
       "      <td>i can t believe it s spinach</td>\n",
       "      <td>38798</td>\n",
       "      <td>30</td>\n",
       "      <td>1533</td>\n",
       "      <td>2002-08-29</td>\n",
       "      <td>NaN</td>\n",
       "      <td>these were so go, it surprised even me.</td>\n",
       "      <td>8.0</td>\n",
       "    </tr>\n",
       "    <tr>\n",
       "      <th>3</th>\n",
       "      <td>italian  gut busters</td>\n",
       "      <td>35173</td>\n",
       "      <td>45</td>\n",
       "      <td>22724</td>\n",
       "      <td>2002-07-27</td>\n",
       "      <td>NaN</td>\n",
       "      <td>my sister-in-law made these for us at a family get together. they are delicious!! a little messy to make but worth the effort!! have a helper and make an</td>\n",
       "      <td>NaN</td>\n",
       "    </tr>\n",
       "    <tr>\n",
       "      <th>4</th>\n",
       "      <td>love is in the air  beef fondue   sauces</td>\n",
       "      <td>84797</td>\n",
       "      <td>25</td>\n",
       "      <td>4470</td>\n",
       "      <td>2004-02-23</td>\n",
       "      <td>4.0</td>\n",
       "      <td>i think a fondue is a very romantic casual dinner or wonderful for after the theatre snack served with a robust red wine. for dinner serve with rice &amp; a small salad. almond rice pilaf is a great accompaniment (recipe posted separately ) to cook the meat you must first heat your oil - i do this by heating it to almost boiling on the stove and then transfering it to your fondue burner. buy good quality meat i recommend only using a fillet. have at least 3 sauces. if you want to serve 4-6 people just increase the meat to 2 lbs there will be enough sauce.these sauce recipes came from</td>\n",
       "      <td>NaN</td>\n",
       "    </tr>\n",
       "  </tbody>\n",
       "</table>\n",
       "</div>"
      ],
      "text/plain": [
       "                                       name     id  minutes  contributor_id  \\\n",
       "0     george s at the cove  black bean soup  44123       90           35193   \n",
       "1        healthy for them  yogurt popsicles  67664       10           91970   \n",
       "2              i can t believe it s spinach  38798       30            1533   \n",
       "3                      italian  gut busters  35173       45           22724   \n",
       "4  love is in the air  beef fondue   sauces  84797       25            4470   \n",
       "\n",
       "    submitted  n_steps  \\\n",
       "0  2002-10-25      NaN   \n",
       "1  2003-07-26      NaN   \n",
       "2  2002-08-29      NaN   \n",
       "3  2002-07-27      NaN   \n",
       "4  2004-02-23      4.0   \n",
       "\n",
       "                                                                                                                                                                                                                                                                                                                                                                                                                                                                                                                                                                                                   description  \\\n",
       "0                                                                                                                                                                                                                                                                   an original recipe created by chef scott meskan, george's at the cove. we enjoyed this when we visited this restaurant in la jolla, california. this recipe is requested so often, they have it printed and ready at the hostess stand. it's unbeatable at the restaurant, but i do a pretty good job at home, too, if i do say so myself!   \n",
       "1                                                                                                                                                                                                                                                                                                                                              my children and their friends ask for my homemade popsicles morning, noon and night. i never turn them down; who am i to tell them that they are good for them! for variety i substitute different flavours of frozen juice - grape, fruit punch, tropical etc.   \n",
       "2                                                                                                                                                                                                                                                                                                                                                                                                                                                                                                                                                                      these were so go, it surprised even me.   \n",
       "3                                                                                                                                                                                                                                                                                                                                                                                                                                                   my sister-in-law made these for us at a family get together. they are delicious!! a little messy to make but worth the effort!! have a helper and make an    \n",
       "4  i think a fondue is a very romantic casual dinner or wonderful for after the theatre snack served with a robust red wine. for dinner serve with rice & a small salad. almond rice pilaf is a great accompaniment (recipe posted separately ) to cook the meat you must first heat your oil - i do this by heating it to almost boiling on the stove and then transfering it to your fondue burner. buy good quality meat i recommend only using a fillet. have at least 3 sauces. if you want to serve 4-6 people just increase the meat to 2 lbs there will be enough sauce.these sauce recipes came from    \n",
       "\n",
       "   n_ingredients  \n",
       "0           18.0  \n",
       "1            NaN  \n",
       "2            8.0  \n",
       "3            NaN  \n",
       "4            NaN  "
      ]
     },
     "execution_count": 36,
     "metadata": {},
     "output_type": "execute_result"
    }
   ],
   "source": [
    "recipes.head()"
   ]
  }
 ],
 "metadata": {
  "kernelspec": {
   "display_name": "Python 3 (ipykernel)",
   "language": "python",
   "name": "python3"
  },
  "language_info": {
   "codemirror_mode": {
    "name": "ipython",
    "version": 3
   },
   "file_extension": ".py",
   "mimetype": "text/x-python",
   "name": "python",
   "nbconvert_exporter": "python",
   "pygments_lexer": "ipython3",
   "version": "3.11.3"
  }
 },
 "nbformat": 4,
 "nbformat_minor": 4
}
