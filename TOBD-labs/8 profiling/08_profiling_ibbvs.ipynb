{
 "cells": [
  {
   "cell_type": "markdown",
   "metadata": {},
   "source": [
    "## Оптимизация выполнения кода, векторизация, Numba"
   ]
  },
  {
   "cell_type": "markdown",
   "metadata": {},
   "source": [
    "Материалы:\n",
    "* Макрушин С.В. Лекция 3: Оптимизация выполнения кода, векторизация, Numba\n",
    "* IPython Cookbook, Second Edition (2018), глава 4\n",
    "* https://numba.pydata.org/numba-doc/latest/user/5minguide.html"
   ]
  },
  {
   "cell_type": "code",
   "execution_count": 5,
   "metadata": {},
   "outputs": [],
   "source": [
    "import numpy as np\n",
    "import pandas as pd\n",
    "from string import ascii_uppercase"
   ]
  },
  {
   "cell_type": "markdown",
   "metadata": {},
   "source": [
    "## Задачи для совместного разбора"
   ]
  },
  {
   "cell_type": "markdown",
   "metadata": {},
   "source": [
    "1. Сгенерируйте массив `A` из `N=1млн` случайных целых чисел на отрезке от 0 до 1000. Пусть `B[i] = A[i] + 100`. Посчитайте среднее значение массива `B`."
   ]
  },
  {
   "cell_type": "code",
   "execution_count": 18,
   "metadata": {},
   "outputs": [
    {
     "name": "stdout",
     "output_type": "stream",
     "text": [
      "A[0] = 374  | B[0] = 474\n",
      "\n",
      "A.mean() = 499.498606\n",
      "B.mean() = 599.498606\n",
      "\n",
      "CPU times: total: 453 ms\n",
      "Wall time: 505 ms\n"
     ]
    }
   ],
   "source": [
    "%%time\n",
    "\n",
    "A = np.random.randint(0, 1000, size=1_000_000)\n",
    "f = lambda x: x + 100\n",
    "vectorize = np.vectorize(f)\n",
    "B = vectorize(A)\n",
    "print(f\"{A[0] = }  | {B[0] = }\")\n",
    "print(f\"\\n{A.mean() = }\\n{B.mean() = }\\n\")"
   ]
  },
  {
   "cell_type": "markdown",
   "metadata": {},
   "source": [
    "2. Создайте таблицу 2млн строк и с 4 столбцами, заполненными случайными числами. Добавьте столбец `key`, которые содержит элементы из множества английских букв. Выберите из таблицы подмножество строк, для которых в столбце `key` указаны первые 5 английских букв."
   ]
  },
  {
   "cell_type": "code",
   "execution_count": 19,
   "metadata": {},
   "outputs": [
    {
     "name": "stdout",
     "output_type": "stream",
     "text": [
      "['Q' 'T' 'E' 'A' 'W']\n",
      "CPU times: total: 4.17 s\n",
      "Wall time: 4.34 s\n"
     ]
    }
   ],
   "source": [
    "%%time\n",
    "X = np.random.randint(0, 5000, size=2_000_000)\n",
    "df = pd.DataFrame({\n",
    "    'col1': X,\n",
    "    'col2': np.vectorize(lambda x: x // 2)(X),\n",
    "    'col3': np.vectorize(lambda x: x * 1.5)(X),\n",
    "    'col4': np.vectorize(lambda x: x - 100)(X)\n",
    "})\n",
    "\n",
    "alphabet = ascii_uppercase\n",
    "lindex = np.random.randint(0, len(alphabet), size=2_000_000)\n",
    "key = np.vectorize(lambda x: alphabet[x])(lindex)\n",
    "\n",
    "df[\"key\"] = key\n",
    "print(key[:5])\n",
    "result = key[:5]"
   ]
  },
  {
   "cell_type": "code",
   "execution_count": 23,
   "metadata": {},
   "outputs": [
    {
     "data": {
      "text/html": [
       "<div>\n",
       "<style scoped>\n",
       "    .dataframe tbody tr th:only-of-type {\n",
       "        vertical-align: middle;\n",
       "    }\n",
       "\n",
       "    .dataframe tbody tr th {\n",
       "        vertical-align: top;\n",
       "    }\n",
       "\n",
       "    .dataframe thead th {\n",
       "        text-align: right;\n",
       "    }\n",
       "</style>\n",
       "<table border=\"1\" class=\"dataframe\">\n",
       "  <thead>\n",
       "    <tr style=\"text-align: right;\">\n",
       "      <th></th>\n",
       "      <th>col1</th>\n",
       "      <th>col2</th>\n",
       "      <th>col3</th>\n",
       "      <th>col4</th>\n",
       "      <th>key</th>\n",
       "    </tr>\n",
       "  </thead>\n",
       "  <tbody>\n",
       "    <tr>\n",
       "      <th>0</th>\n",
       "      <td>2712</td>\n",
       "      <td>1356</td>\n",
       "      <td>4068.0</td>\n",
       "      <td>2612</td>\n",
       "      <td>Q</td>\n",
       "    </tr>\n",
       "    <tr>\n",
       "      <th>1</th>\n",
       "      <td>1856</td>\n",
       "      <td>928</td>\n",
       "      <td>2784.0</td>\n",
       "      <td>1756</td>\n",
       "      <td>T</td>\n",
       "    </tr>\n",
       "    <tr>\n",
       "      <th>2</th>\n",
       "      <td>3754</td>\n",
       "      <td>1877</td>\n",
       "      <td>5631.0</td>\n",
       "      <td>3654</td>\n",
       "      <td>E</td>\n",
       "    </tr>\n",
       "    <tr>\n",
       "      <th>3</th>\n",
       "      <td>1498</td>\n",
       "      <td>749</td>\n",
       "      <td>2247.0</td>\n",
       "      <td>1398</td>\n",
       "      <td>A</td>\n",
       "    </tr>\n",
       "    <tr>\n",
       "      <th>4</th>\n",
       "      <td>1682</td>\n",
       "      <td>841</td>\n",
       "      <td>2523.0</td>\n",
       "      <td>1582</td>\n",
       "      <td>W</td>\n",
       "    </tr>\n",
       "    <tr>\n",
       "      <th>...</th>\n",
       "      <td>...</td>\n",
       "      <td>...</td>\n",
       "      <td>...</td>\n",
       "      <td>...</td>\n",
       "      <td>...</td>\n",
       "    </tr>\n",
       "    <tr>\n",
       "      <th>1999946</th>\n",
       "      <td>1632</td>\n",
       "      <td>816</td>\n",
       "      <td>2448.0</td>\n",
       "      <td>1532</td>\n",
       "      <td>A</td>\n",
       "    </tr>\n",
       "    <tr>\n",
       "      <th>1999967</th>\n",
       "      <td>4851</td>\n",
       "      <td>2425</td>\n",
       "      <td>7276.5</td>\n",
       "      <td>4751</td>\n",
       "      <td>E</td>\n",
       "    </tr>\n",
       "    <tr>\n",
       "      <th>1999971</th>\n",
       "      <td>4128</td>\n",
       "      <td>2064</td>\n",
       "      <td>6192.0</td>\n",
       "      <td>4028</td>\n",
       "      <td>W</td>\n",
       "    </tr>\n",
       "    <tr>\n",
       "      <th>1999982</th>\n",
       "      <td>2666</td>\n",
       "      <td>1333</td>\n",
       "      <td>3999.0</td>\n",
       "      <td>2566</td>\n",
       "      <td>T</td>\n",
       "    </tr>\n",
       "    <tr>\n",
       "      <th>1999998</th>\n",
       "      <td>4548</td>\n",
       "      <td>2274</td>\n",
       "      <td>6822.0</td>\n",
       "      <td>4448</td>\n",
       "      <td>E</td>\n",
       "    </tr>\n",
       "  </tbody>\n",
       "</table>\n",
       "<p>384402 rows × 5 columns</p>\n",
       "</div>"
      ],
      "text/plain": [
       "         col1  col2    col3  col4 key\n",
       "0        2712  1356  4068.0  2612   Q\n",
       "1        1856   928  2784.0  1756   T\n",
       "2        3754  1877  5631.0  3654   E\n",
       "3        1498   749  2247.0  1398   A\n",
       "4        1682   841  2523.0  1582   W\n",
       "...       ...   ...     ...   ...  ..\n",
       "1999946  1632   816  2448.0  1532   A\n",
       "1999967  4851  2425  7276.5  4751   E\n",
       "1999971  4128  2064  6192.0  4028   W\n",
       "1999982  2666  1333  3999.0  2566   T\n",
       "1999998  4548  2274  6822.0  4448   E\n",
       "\n",
       "[384402 rows x 5 columns]"
      ]
     },
     "execution_count": 23,
     "metadata": {},
     "output_type": "execute_result"
    }
   ],
   "source": [
    "df.loc[df[\"key\"].isin(result)]"
   ]
  },
  {
   "cell_type": "markdown",
   "metadata": {},
   "source": [
    "## Лабораторная работа 3"
   ]
  },
  {
   "cell_type": "code",
   "execution_count": 24,
   "metadata": {},
   "outputs": [
    {
     "name": "stdout",
     "output_type": "stream",
     "text": [
      "Collecting line_profiler\n",
      "  Downloading line_profiler-4.0.3-cp311-cp311-win_amd64.whl (84 kB)\n",
      "                                              0.0/84.7 kB ? eta -:--:--\n",
      "     ------------------                     41.0/84.7 kB 991.0 kB/s eta 0:00:01\n",
      "     --------------------------------------   81.9/84.7 kB 1.5 MB/s eta 0:00:01\n",
      "     -------------------------------------- 84.7/84.7 kB 792.3 kB/s eta 0:00:00\n",
      "Installing collected packages: line_profiler\n",
      "Successfully installed line_profiler-4.0.3\n"
     ]
    }
   ],
   "source": [
    "#!pip install line_profiler"
   ]
  },
  {
   "cell_type": "markdown",
   "metadata": {},
   "source": [
    "1. В файлах `recipes_sample.csv` и `reviews_sample.csv` (__ЛР 2__) находится информация об рецептах блюд и отзывах на эти рецепты соответственно. Загрузите данные из файлов в виде `pd.DataFrame` с названиями `recipes` и `reviews`. Обратите внимание на корректное считывание столбца(ов) с индексами. Приведите столбцы к нужным типам.\n",
    "\n",
    "Реализуйте несколько вариантов функции подсчета среднего значения столбца `rating` из таблицы `reviews` для отзывов, оставленных в 2010 году.\n",
    "\n",
    "A. С использованием метода `DataFrame.iterrows` исходной таблицы;\n",
    "\n",
    "Б. С использованием метода `DataFrame.iterrows` таблицы, в которой сохранены только отзывы за 2010 год;\n",
    "\n",
    "В. С использованием метода `Series.mean`.\n",
    "\n",
    "Проверьте, что результаты работы всех написанных функций корректны и совпадают. Измерьте выполнения всех написанных функций.\n"
   ]
  },
  {
   "cell_type": "code",
   "execution_count": 2,
   "metadata": {},
   "outputs": [
    {
     "data": {
      "text/html": [
       "<div>\n",
       "<style scoped>\n",
       "    .dataframe tbody tr th:only-of-type {\n",
       "        vertical-align: middle;\n",
       "    }\n",
       "\n",
       "    .dataframe tbody tr th {\n",
       "        vertical-align: top;\n",
       "    }\n",
       "\n",
       "    .dataframe thead th {\n",
       "        text-align: right;\n",
       "    }\n",
       "</style>\n",
       "<table border=\"1\" class=\"dataframe\">\n",
       "  <thead>\n",
       "    <tr style=\"text-align: right;\">\n",
       "      <th></th>\n",
       "      <th>name</th>\n",
       "      <th>minutes</th>\n",
       "      <th>contributor_id</th>\n",
       "      <th>submitted</th>\n",
       "      <th>n_steps</th>\n",
       "      <th>description</th>\n",
       "      <th>n_ingredients</th>\n",
       "    </tr>\n",
       "    <tr>\n",
       "      <th>id</th>\n",
       "      <th></th>\n",
       "      <th></th>\n",
       "      <th></th>\n",
       "      <th></th>\n",
       "      <th></th>\n",
       "      <th></th>\n",
       "      <th></th>\n",
       "    </tr>\n",
       "  </thead>\n",
       "  <tbody>\n",
       "    <tr>\n",
       "      <th>44123</th>\n",
       "      <td>george s at the cove  black bean soup</td>\n",
       "      <td>90</td>\n",
       "      <td>35193</td>\n",
       "      <td>2002-10-25</td>\n",
       "      <td>NaN</td>\n",
       "      <td>an original recipe created by chef scott meska...</td>\n",
       "      <td>18.0</td>\n",
       "    </tr>\n",
       "    <tr>\n",
       "      <th>67664</th>\n",
       "      <td>healthy for them  yogurt popsicles</td>\n",
       "      <td>10</td>\n",
       "      <td>91970</td>\n",
       "      <td>2003-07-26</td>\n",
       "      <td>NaN</td>\n",
       "      <td>my children and their friends ask for my homem...</td>\n",
       "      <td>NaN</td>\n",
       "    </tr>\n",
       "    <tr>\n",
       "      <th>38798</th>\n",
       "      <td>i can t believe it s spinach</td>\n",
       "      <td>30</td>\n",
       "      <td>1533</td>\n",
       "      <td>2002-08-29</td>\n",
       "      <td>NaN</td>\n",
       "      <td>these were so go, it surprised even me.</td>\n",
       "      <td>8.0</td>\n",
       "    </tr>\n",
       "    <tr>\n",
       "      <th>35173</th>\n",
       "      <td>italian  gut busters</td>\n",
       "      <td>45</td>\n",
       "      <td>22724</td>\n",
       "      <td>2002-07-27</td>\n",
       "      <td>NaN</td>\n",
       "      <td>my sister-in-law made these for us at a family...</td>\n",
       "      <td>NaN</td>\n",
       "    </tr>\n",
       "    <tr>\n",
       "      <th>84797</th>\n",
       "      <td>love is in the air  beef fondue   sauces</td>\n",
       "      <td>25</td>\n",
       "      <td>4470</td>\n",
       "      <td>2004-02-23</td>\n",
       "      <td>4.0</td>\n",
       "      <td>i think a fondue is a very romantic casual din...</td>\n",
       "      <td>NaN</td>\n",
       "    </tr>\n",
       "  </tbody>\n",
       "</table>\n",
       "</div>"
      ],
      "text/plain": [
       "                                           name  minutes  contributor_id  \\\n",
       "id                                                                         \n",
       "44123     george s at the cove  black bean soup       90           35193   \n",
       "67664        healthy for them  yogurt popsicles       10           91970   \n",
       "38798              i can t believe it s spinach       30            1533   \n",
       "35173                      italian  gut busters       45           22724   \n",
       "84797  love is in the air  beef fondue   sauces       25            4470   \n",
       "\n",
       "       submitted  n_steps                                        description  \\\n",
       "id                                                                             \n",
       "44123 2002-10-25      NaN  an original recipe created by chef scott meska...   \n",
       "67664 2003-07-26      NaN  my children and their friends ask for my homem...   \n",
       "38798 2002-08-29      NaN            these were so go, it surprised even me.   \n",
       "35173 2002-07-27      NaN  my sister-in-law made these for us at a family...   \n",
       "84797 2004-02-23      4.0  i think a fondue is a very romantic casual din...   \n",
       "\n",
       "       n_ingredients  \n",
       "id                    \n",
       "44123           18.0  \n",
       "67664            NaN  \n",
       "38798            8.0  \n",
       "35173            NaN  \n",
       "84797            NaN  "
      ]
     },
     "execution_count": 2,
     "metadata": {},
     "output_type": "execute_result"
    }
   ],
   "source": [
    "recipes = pd.read_csv(\"../data sources/recipes_sample.csv\", sep=\",\", parse_dates=['submitted'])\n",
    "recipes = recipes.set_index('id')\n",
    "recipes.head()"
   ]
  },
  {
   "cell_type": "code",
   "execution_count": 8,
   "metadata": {},
   "outputs": [
    {
     "data": {
      "text/html": [
       "<div>\n",
       "<style scoped>\n",
       "    .dataframe tbody tr th:only-of-type {\n",
       "        vertical-align: middle;\n",
       "    }\n",
       "\n",
       "    .dataframe tbody tr th {\n",
       "        vertical-align: top;\n",
       "    }\n",
       "\n",
       "    .dataframe thead th {\n",
       "        text-align: right;\n",
       "    }\n",
       "</style>\n",
       "<table border=\"1\" class=\"dataframe\">\n",
       "  <thead>\n",
       "    <tr style=\"text-align: right;\">\n",
       "      <th></th>\n",
       "      <th>user_id</th>\n",
       "      <th>recipe_id</th>\n",
       "      <th>date</th>\n",
       "      <th>rating</th>\n",
       "      <th>review</th>\n",
       "    </tr>\n",
       "    <tr>\n",
       "      <th>id</th>\n",
       "      <th></th>\n",
       "      <th></th>\n",
       "      <th></th>\n",
       "      <th></th>\n",
       "      <th></th>\n",
       "    </tr>\n",
       "  </thead>\n",
       "  <tbody>\n",
       "    <tr>\n",
       "      <th>370476</th>\n",
       "      <td>21752</td>\n",
       "      <td>57993</td>\n",
       "      <td>2003-05-01</td>\n",
       "      <td>5</td>\n",
       "      <td>Last week whole sides of frozen salmon fillet ...</td>\n",
       "    </tr>\n",
       "    <tr>\n",
       "      <th>624300</th>\n",
       "      <td>431813</td>\n",
       "      <td>142201</td>\n",
       "      <td>2007-09-16</td>\n",
       "      <td>5</td>\n",
       "      <td>So simple and so tasty!  I used a yellow capsi...</td>\n",
       "    </tr>\n",
       "    <tr>\n",
       "      <th>187037</th>\n",
       "      <td>400708</td>\n",
       "      <td>252013</td>\n",
       "      <td>2008-01-10</td>\n",
       "      <td>4</td>\n",
       "      <td>Very nice breakfast HH, easy to make and yummy...</td>\n",
       "    </tr>\n",
       "    <tr>\n",
       "      <th>706134</th>\n",
       "      <td>2001852463</td>\n",
       "      <td>404716</td>\n",
       "      <td>2017-12-11</td>\n",
       "      <td>5</td>\n",
       "      <td>These are a favorite for the holidays and so e...</td>\n",
       "    </tr>\n",
       "    <tr>\n",
       "      <th>312179</th>\n",
       "      <td>95810</td>\n",
       "      <td>129396</td>\n",
       "      <td>2008-03-14</td>\n",
       "      <td>5</td>\n",
       "      <td>Excellent soup!  The tomato flavor is just gre...</td>\n",
       "    </tr>\n",
       "  </tbody>\n",
       "</table>\n",
       "</div>"
      ],
      "text/plain": [
       "           user_id  recipe_id       date  rating  \\\n",
       "id                                                 \n",
       "370476       21752      57993 2003-05-01       5   \n",
       "624300      431813     142201 2007-09-16       5   \n",
       "187037      400708     252013 2008-01-10       4   \n",
       "706134  2001852463     404716 2017-12-11       5   \n",
       "312179       95810     129396 2008-03-14       5   \n",
       "\n",
       "                                                   review  \n",
       "id                                                         \n",
       "370476  Last week whole sides of frozen salmon fillet ...  \n",
       "624300  So simple and so tasty!  I used a yellow capsi...  \n",
       "187037  Very nice breakfast HH, easy to make and yummy...  \n",
       "706134  These are a favorite for the holidays and so e...  \n",
       "312179  Excellent soup!  The tomato flavor is just gre...  "
      ]
     },
     "execution_count": 8,
     "metadata": {},
     "output_type": "execute_result"
    }
   ],
   "source": [
    "reviews = pd.read_csv(\"../data sources/reviews_sample.csv\", sep=\",\", parse_dates=['date'])\n",
    "reviews.rename(columns={'Unnamed: 0': 'id'}, inplace=True)\n",
    "reviews = reviews.set_index('id')\n",
    "\n",
    "reviews.head()"
   ]
  },
  {
   "cell_type": "markdown",
   "metadata": {},
   "source": [
    "# A. С использованием метода `DataFrame.iterrows` исходной таблицы;"
   ]
  },
  {
   "cell_type": "code",
   "execution_count": 65,
   "metadata": {},
   "outputs": [],
   "source": [
    "def get_average_for_iter(reviews):\n",
    "    total = count = 0\n",
    "\n",
    "    for index, row in reviews.iterrows():\n",
    "        total += row[\"rating\"]\n",
    "        count += 1\n",
    "\n",
    "    return total / count\n",
    "\n",
    "average_iter = get_average_for_iter(reviews)"
   ]
  },
  {
   "cell_type": "code",
   "execution_count": 66,
   "metadata": {},
   "outputs": [
    {
     "name": "stdout",
     "output_type": "stream",
     "text": [
      "14.2 s ± 1.81 s per loop (mean ± std. dev. of 7 runs, 1 loop each)\n"
     ]
    }
   ],
   "source": [
    "%%timeit\n",
    "get_average_for_iter(reviews)"
   ]
  },
  {
   "cell_type": "markdown",
   "metadata": {},
   "source": [
    "Реализуйте несколько вариантов функции подсчета среднего значения столбца `rating` из таблицы `reviews` для отзывов, оставленных в 2010 году.\n",
    "\n",
    "# Б. С использованием метода `DataFrame.iterrows` таблицы, в которой сохранены только отзывы за 2010 год;"
   ]
  },
  {
   "cell_type": "code",
   "execution_count": 68,
   "metadata": {},
   "outputs": [],
   "source": [
    "reviews_for_2010 = reviews.loc[reviews[\"date\"].dt.year == 2010]"
   ]
  },
  {
   "cell_type": "code",
   "execution_count": 77,
   "metadata": {},
   "outputs": [],
   "source": [
    "def get_average_for_2010_iter(reviews):\n",
    "    total = count = 0\n",
    "\n",
    "    for index, row in reviews.iterrows():\n",
    "        total += row[\"rating\"]\n",
    "        count += 1\n",
    "\n",
    "    return total / count   \n",
    "\n",
    "average_iter_2010 = get_average_for_2010_iter(reviews_for_2010)"
   ]
  },
  {
   "cell_type": "code",
   "execution_count": 70,
   "metadata": {},
   "outputs": [
    {
     "name": "stdout",
     "output_type": "stream",
     "text": [
      "1.67 s ± 37.9 ms per loop (mean ± std. dev. of 7 runs, 1 loop each)\n"
     ]
    }
   ],
   "source": [
    "%%timeit\n",
    "get_average_for_2010_iter(reviews_for_2010)"
   ]
  },
  {
   "cell_type": "markdown",
   "metadata": {},
   "source": [
    "# В. С использованием метода `Series.mean`.\n"
   ]
  },
  {
   "cell_type": "code",
   "execution_count": 71,
   "metadata": {},
   "outputs": [
    {
     "name": "stdout",
     "output_type": "stream",
     "text": [
      "350 µs ± 46.8 µs per loop (mean ± std. dev. of 7 runs, 1,000 loops each)\n"
     ]
    }
   ],
   "source": [
    "%%timeit \n",
    "\n",
    "reviews.rating.mean()"
   ]
  },
  {
   "cell_type": "code",
   "execution_count": 78,
   "metadata": {},
   "outputs": [
    {
     "data": {
      "text/plain": [
       "(True, True)"
      ]
     },
     "execution_count": 78,
     "metadata": {},
     "output_type": "execute_result"
    }
   ],
   "source": [
    "# Проверка\n",
    "\n",
    "average_iter == reviews.rating.mean(), average_iter_2010 == reviews.loc[reviews[\"date\"].dt.year == 2010][\"rating\"].mean()"
   ]
  },
  {
   "cell_type": "markdown",
   "metadata": {},
   "source": [
    "2. Какая из созданных функций выполняется медленнее? Что наиболее сильно влияет на скорость выполнения? Для ответа использовать профайлер `line_profiler`. Сохраните результаты работы профайлера в отдельную текстовую ячейку и прокомментируйте результаты его работы.\n",
    "\n",
    "(*). Сможете ли вы ускорить работу функции 1Б, отказавшись от использования метода `iterrows`, но не используя метод `mean`?"
   ]
  },
  {
   "cell_type": "code",
   "execution_count": 79,
   "metadata": {},
   "outputs": [
    {
     "name": "stdout",
     "output_type": "stream",
     "text": [
      "The line_profiler extension is already loaded. To reload it, use:\n",
      "  %reload_ext line_profiler\n"
     ]
    }
   ],
   "source": [
    "#%load_ext line_profiler"
   ]
  },
  {
   "cell_type": "code",
   "execution_count": 87,
   "metadata": {},
   "outputs": [],
   "source": [
    "%lprun -f get_average_for_iter get_average_for_iter(reviews)"
   ]
  },
  {
   "cell_type": "markdown",
   "metadata": {},
   "source": [
    "Timer unit: 1e-07 s\n",
    "\n",
    "Total time: 54.7848 s\n",
    "File: C:\\Users\\cvrsd\\AppData\\Local\\Temp\\ipykernel_9628\\746794879.py\n",
    "Function: get_average_for_iter at line 1\n",
    "\n",
    "Line #      Hits         Time  Per Hit   % Time  Line Contents\n",
    "==============================================================\n",
    "     1                                           def get_average_for_iter(reviews):\n",
    "     2         1         18.0     18.0      0.0      total = count = 0\n",
    "     3                                           \n",
    "     4    126696  474930481.0   3748.6     86.7      for index, row in reviews.iterrows():\n",
    "     5    126696   71334028.0    563.0     13.0          total += row[\"rating\"]\n",
    "     6    126696    1583866.0     12.5      0.3          count += 1\n",
    "     7                                           \n",
    "     8         1         24.0     24.0      0.0      return total / count"
   ]
  },
  {
   "cell_type": "code",
   "execution_count": 89,
   "metadata": {},
   "outputs": [],
   "source": [
    "%lprun -f get_average_for_2010_iter get_average_for_2010_iter(reviews_for_2010)"
   ]
  },
  {
   "cell_type": "markdown",
   "metadata": {},
   "source": [
    "Timer unit: 1e-07 s\n",
    "\n",
    "Total time: 5.04593 s\n",
    "File: C:\\Users\\cvrsd\\AppData\\Local\\Temp\\ipykernel_9628\\1764220426.py\n",
    "Function: get_average_for_2010_iter at line 1\n",
    "\n",
    "Line #      Hits         Time  Per Hit   % Time  Line Contents\n",
    "==============================================================\n",
    "     1                                           def get_average_for_2010_iter(reviews):\n",
    "     2         1         30.0     30.0      0.0      total = count = 0\n",
    "     3                                           \n",
    "     4     12094   43788691.0   3620.7     86.8      for index, row in reviews_for_2010.iterrows():\n",
    "     5     12094    6525443.0    539.6     12.9          total += row[\"rating\"]\n",
    "     6     12094     145157.0     12.0      0.3          count += 1\n",
    "     7                                           \n",
    "     8         1         20.0     20.0      0.0      return total / count"
   ]
  },
  {
   "cell_type": "code",
   "execution_count": 90,
   "metadata": {},
   "outputs": [],
   "source": [
    "def get_average(reviews):\n",
    "    return reviews.rating.mean()"
   ]
  },
  {
   "cell_type": "code",
   "execution_count": 91,
   "metadata": {},
   "outputs": [],
   "source": [
    "%lprun -f get_average get_average(reviews)"
   ]
  },
  {
   "cell_type": "markdown",
   "metadata": {},
   "source": [
    "Timer unit: 1e-07 s\n",
    "\n",
    "Total time: 0.0012072 s\n",
    "File: C:\\Users\\cvrsd\\AppData\\Local\\Temp\\ipykernel_9628\\3641444888.py\n",
    "Function: get_average at line 1\n",
    "\n",
    "Line #      Hits         Time  Per Hit   % Time  Line Contents\n",
    "==============================================================\n",
    "     1                                           def get_average(reviews):\n",
    "     2         1      12072.0  12072.0    100.0      return reviews.rating.mean()"
   ]
  },
  {
   "cell_type": "markdown",
   "metadata": {},
   "source": [
    "3. Вам предлагается воспользоваться функцией, которая собирает статистику о том, сколько отзывов содержат то или иное слово. Измерьте время выполнения этой функции. Сможете ли вы найти узкие места в коде, используя профайлер? Выпишите (словами), что в имеющемся коде реализовано неоптимально. Оптимизируйте функцию и добейтесь значительного (как минимум, на один порядок) прироста в скорости выполнения."
   ]
  },
  {
   "cell_type": "code",
   "execution_count": 34,
   "metadata": {},
   "outputs": [],
   "source": [
    "def get_word_reviews_count(df):\n",
    "    word_reviews = {}\n",
    "    for _, row in df.dropna(subset=['review']).iterrows():\n",
    "        recipe_id, review = row['recipe_id'], row['review']\n",
    "        words = review.split(' ')\n",
    "        for word in words:\n",
    "            if word not in word_reviews:\n",
    "                word_reviews[word] = []\n",
    "            word_reviews[word].append(recipe_id)\n",
    "    \n",
    "    word_reviews_count = {}\n",
    "    for _, row in df.dropna(subset=['review']).iterrows():\n",
    "        review = row['review']\n",
    "        words = review.split(' ')\n",
    "        for word in words:\n",
    "            word_reviews_count[word] = len(word_reviews[word])\n",
    "    return word_reviews_count"
   ]
  },
  {
   "cell_type": "code",
   "execution_count": 36,
   "metadata": {},
   "outputs": [
    {
     "name": "stdout",
     "output_type": "stream",
     "text": [
      "8.24 s ± 20.1 ms per loop (mean ± std. dev. of 7 runs, 1 loop each)\n"
     ]
    }
   ],
   "source": [
    "%timeit get_word_reviews_count(reviews)"
   ]
  },
  {
   "cell_type": "code",
   "execution_count": 38,
   "metadata": {},
   "outputs": [],
   "source": [
    "%lprun -f get_word_reviews_count get_word_reviews_count(reviews)"
   ]
  },
  {
   "cell_type": "markdown",
   "metadata": {},
   "source": [
    "Timer unit: 1e-09 s\n",
    "\n",
    "Total time: 20.423 s\n",
    "File: /var/folders/8q/wkt9c6yd5mb6ddqdsbdz0c5h0000gn/T/ipykernel_15419/2826575548.py\n",
    "Function: get_word_reviews_count at line 1\n",
    "\n",
    "Line #      Hits         Time  Per Hit   % Time  Line Contents\n",
    "==============================================================\n",
    "     1                                           def get_word_reviews_count(df):\n",
    "     2         1       3000.0   3000.0      0.0      word_reviews = {}\n",
    "     3    126679 5231373000.0  41296.3     25.6      for _, row in df.dropna(subset=['review']).iterrows():\n",
    "     4    126679 1213175000.0   9576.8      5.9          recipe_id, review = row['recipe_id'], row['review']\n",
    "     5    126679  325181000.0   2567.0      1.6          words = review.split(' ')\n",
    "     6   6792010  819126000.0    120.6      4.0          for word in words:\n",
    "     7   6617066 1383331000.0    209.1      6.8              if word not in word_reviews:\n",
    "     8    174944   42027000.0    240.2      0.2                  word_reviews[word] = []\n",
    "     9   6792010 1926351000.0    283.6      9.4              word_reviews[word].append(recipe_id)\n",
    "    10                                               \n",
    "    11         1       1000.0   1000.0      0.0      word_reviews_count = {}\n",
    "    12    126679 5026525000.0  39679.2     24.6      for _, row in df.dropna(subset=['review']).iterrows():\n",
    "    13    126679  719650000.0   5680.9      3.5          review = row['review']\n",
    "    14    126679  322284000.0   2544.1      1.6          words = review.split(' ')\n",
    "    15   6792010  878885000.0    129.4      4.3          for word in words:\n",
    "    16   6792010 2535064000.0    373.2     12.4              word_reviews_count[word] = len(word_reviews[word])\n",
    "    17         1       1000.0   1000.0      0.0      return word_reviews_count"
   ]
  },
  {
   "cell_type": "code",
   "execution_count": 39,
   "metadata": {},
   "outputs": [],
   "source": [
    "def get_word_reviews_count_optimized(df):\n",
    "    \n",
    "    word_reviews = {}\n",
    "\n",
    "    for _, row in df.dropna(subset=['review']).iterrows():\n",
    "\n",
    "        for word in row['review'].split(' '):\n",
    "            if word not in word_reviews:\n",
    "                word_reviews[word] = 0\n",
    "            word_reviews[word] += 1\n",
    "    \n",
    "    return word_reviews"
   ]
  },
  {
   "cell_type": "code",
   "execution_count": 40,
   "metadata": {},
   "outputs": [
    {
     "name": "stdout",
     "output_type": "stream",
     "text": [
      "3.83 s ± 43.1 ms per loop (mean ± std. dev. of 7 runs, 1 loop each)\n"
     ]
    }
   ],
   "source": [
    "%timeit get_word_reviews_count_optimized(reviews)"
   ]
  },
  {
   "cell_type": "code",
   "execution_count": 41,
   "metadata": {},
   "outputs": [],
   "source": [
    "%lprun -f get_word_reviews_count_optimized get_word_reviews_count_optimized(reviews)"
   ]
  },
  {
   "cell_type": "markdown",
   "metadata": {},
   "source": [
    "Timer unit: 1e-09 s\n",
    "\n",
    "Total time: 10.1141 s\n",
    "File: /var/folders/8q/wkt9c6yd5mb6ddqdsbdz0c5h0000gn/T/ipykernel_15419/1720791363.py\n",
    "Function: get_word_reviews_count_optimized at line 1\n",
    "\n",
    "Line #      Hits         Time  Per Hit   % Time  Line Contents\n",
    "==============================================================\n",
    "     1                                           def get_word_reviews_count_optimized(df):\n",
    "     2                                               \n",
    "     3         1       3000.0   3000.0      0.0      word_reviews = {}\n",
    "     4                                           \n",
    "     5    126679 5023973000.0  39659.1     49.7      for _, row in df.dropna(subset=['review']).iterrows():\n",
    "     6                                           \n",
    "     7   6792010 1781923000.0    262.4     17.6          for word in row['review'].split(' '):\n",
    "     8   6617066 1326627000.0    200.5     13.1              if word not in word_reviews:\n",
    "     9    174944   37842000.0    216.3      0.4                  word_reviews[word] = 0\n",
    "    10   6792010 1943722000.0    286.2     19.2              word_reviews[word] += 1\n",
    "    11                                               \n",
    "    12         1          0.0      0.0      0.0      return word_reviews"
   ]
  },
  {
   "cell_type": "markdown",
   "metadata": {},
   "source": [
    "4. Напишите несколько версий функции `MAPE` (см. [MAPE](https://en.wikipedia.org/wiki/Mean_absolute_percentage_error)) для расчета среднего абсолютного процентного отклонения значения рейтинга отзыва на рецепт от среднего значения рейтинга по всем отзывам для этого рецепта. \n",
    "    1. Без использования векторизованных операций и методов массивов `numpy` и без использования `numba`\n",
    "    2. Без использования векторизованных операций и методов массивов `numpy`, но с использованием `numba`\n",
    "    3. С использованием векторизованных операций и методов массивов `numpy`, но без использования `numba`\n",
    "    4. C использованием векторизованных операций и методов массивов `numpy` и `numba`\n",
    "    \n",
    "Измерьте время выполнения каждой из реализаций.\n",
    "\n",
    "Замечание: удалите из выборки отзывы с нулевым рейтингом.\n"
   ]
  },
  {
   "cell_type": "code",
   "execution_count": 9,
   "metadata": {},
   "outputs": [
    {
     "data": {
      "text/html": [
       "<div>\n",
       "<style scoped>\n",
       "    .dataframe tbody tr th:only-of-type {\n",
       "        vertical-align: middle;\n",
       "    }\n",
       "\n",
       "    .dataframe tbody tr th {\n",
       "        vertical-align: top;\n",
       "    }\n",
       "\n",
       "    .dataframe thead th {\n",
       "        text-align: right;\n",
       "    }\n",
       "</style>\n",
       "<table border=\"1\" class=\"dataframe\">\n",
       "  <thead>\n",
       "    <tr style=\"text-align: right;\">\n",
       "      <th></th>\n",
       "      <th>user_id</th>\n",
       "      <th>recipe_id</th>\n",
       "      <th>date</th>\n",
       "      <th>rating</th>\n",
       "      <th>review</th>\n",
       "    </tr>\n",
       "    <tr>\n",
       "      <th>id</th>\n",
       "      <th></th>\n",
       "      <th></th>\n",
       "      <th></th>\n",
       "      <th></th>\n",
       "      <th></th>\n",
       "    </tr>\n",
       "  </thead>\n",
       "  <tbody>\n",
       "    <tr>\n",
       "      <th>208189</th>\n",
       "      <td>2000045537</td>\n",
       "      <td>488899</td>\n",
       "      <td>2015-03-23</td>\n",
       "      <td>5</td>\n",
       "      <td>This is so good we love this :) thank you :)</td>\n",
       "    </tr>\n",
       "    <tr>\n",
       "      <th>676963</th>\n",
       "      <td>32772</td>\n",
       "      <td>5018</td>\n",
       "      <td>2003-06-05</td>\n",
       "      <td>5</td>\n",
       "      <td>My in-laws are up from Florida and I was calle...</td>\n",
       "    </tr>\n",
       "    <tr>\n",
       "      <th>520424</th>\n",
       "      <td>2710455</td>\n",
       "      <td>495291</td>\n",
       "      <td>2013-02-24</td>\n",
       "      <td>5</td>\n",
       "      <td>I Love and Cheese. Add ranch dressing seasonin...</td>\n",
       "    </tr>\n",
       "    <tr>\n",
       "      <th>1093932</th>\n",
       "      <td>1316222</td>\n",
       "      <td>319219</td>\n",
       "      <td>2009-07-06</td>\n",
       "      <td>5</td>\n",
       "      <td>Just made this for dinner and the whole family...</td>\n",
       "    </tr>\n",
       "    <tr>\n",
       "      <th>376099</th>\n",
       "      <td>154287</td>\n",
       "      <td>60238</td>\n",
       "      <td>2008-07-01</td>\n",
       "      <td>3</td>\n",
       "      <td>It was just Ok for us.   I used garlic flavore...</td>\n",
       "    </tr>\n",
       "    <tr>\n",
       "      <th>1102708</th>\n",
       "      <td>938649</td>\n",
       "      <td>234344</td>\n",
       "      <td>2010-09-14</td>\n",
       "      <td>5</td>\n",
       "      <td>Made this for my mother as a more appealing al...</td>\n",
       "    </tr>\n",
       "    <tr>\n",
       "      <th>246551</th>\n",
       "      <td>270514</td>\n",
       "      <td>115110</td>\n",
       "      <td>2007-03-29</td>\n",
       "      <td>4</td>\n",
       "      <td>I agree that there was a little bit too much s...</td>\n",
       "    </tr>\n",
       "    <tr>\n",
       "      <th>626586</th>\n",
       "      <td>207668</td>\n",
       "      <td>58367</td>\n",
       "      <td>2007-04-03</td>\n",
       "      <td>5</td>\n",
       "      <td>I was brave and took this torte to our Seder. ...</td>\n",
       "    </tr>\n",
       "    <tr>\n",
       "      <th>1074204</th>\n",
       "      <td>303162</td>\n",
       "      <td>135350</td>\n",
       "      <td>2007-03-08</td>\n",
       "      <td>4</td>\n",
       "      <td>Yes, total comfort food... my family loves it ...</td>\n",
       "    </tr>\n",
       "    <tr>\n",
       "      <th>1074578</th>\n",
       "      <td>1534664</td>\n",
       "      <td>135350</td>\n",
       "      <td>2010-12-18</td>\n",
       "      <td>5</td>\n",
       "      <td>Mmmmm! Absolutely the best macaroni and cheese...</td>\n",
       "    </tr>\n",
       "  </tbody>\n",
       "</table>\n",
       "</div>"
      ],
      "text/plain": [
       "            user_id  recipe_id       date  rating  \\\n",
       "id                                                  \n",
       "208189   2000045537     488899 2015-03-23       5   \n",
       "676963        32772       5018 2003-06-05       5   \n",
       "520424      2710455     495291 2013-02-24       5   \n",
       "1093932     1316222     319219 2009-07-06       5   \n",
       "376099       154287      60238 2008-07-01       3   \n",
       "1102708      938649     234344 2010-09-14       5   \n",
       "246551       270514     115110 2007-03-29       4   \n",
       "626586       207668      58367 2007-04-03       5   \n",
       "1074204      303162     135350 2007-03-08       4   \n",
       "1074578     1534664     135350 2010-12-18       5   \n",
       "\n",
       "                                                    review  \n",
       "id                                                          \n",
       "208189        This is so good we love this :) thank you :)  \n",
       "676963   My in-laws are up from Florida and I was calle...  \n",
       "520424   I Love and Cheese. Add ranch dressing seasonin...  \n",
       "1093932  Just made this for dinner and the whole family...  \n",
       "376099   It was just Ok for us.   I used garlic flavore...  \n",
       "1102708  Made this for my mother as a more appealing al...  \n",
       "246551   I agree that there was a little bit too much s...  \n",
       "626586   I was brave and took this torte to our Seder. ...  \n",
       "1074204  Yes, total comfort food... my family loves it ...  \n",
       "1074578  Mmmmm! Absolutely the best macaroni and cheese...  "
      ]
     },
     "execution_count": 9,
     "metadata": {},
     "output_type": "execute_result"
    }
   ],
   "source": [
    "sample_recipe_id_from_reviews = reviews.sample(10) # Выберем 10 строк из reviews, по ним будем считать MAPE\n",
    "sample_recipe_id_from_reviews"
   ]
  },
  {
   "cell_type": "markdown",
   "metadata": {},
   "source": [
    "#    1. Без использования векторизованных операций и методов массивов `numpy` и без использования `numba`\n"
   ]
  },
  {
   "cell_type": "code",
   "execution_count": 10,
   "metadata": {},
   "outputs": [
    {
     "name": "stdout",
     "output_type": "stream",
     "text": [
      "MAPE для рецепта с id=488899:   0.0%\n",
      "MAPE для рецепта с id=5018  : 15.24%\n",
      "MAPE для рецепта с id=495291: 10.77%\n",
      "MAPE для рецепта с id=319219: 13.33%\n",
      "MAPE для рецепта с id=60238 : 11.66%\n",
      "MAPE для рецепта с id=234344: 47.88%\n",
      "MAPE для рецепта с id=115110: 23.95%\n",
      "MAPE для рецепта с id=58367 :   0.0%\n",
      "MAPE для рецепта с id=135350: 23.97%\n",
      "MAPE для рецепта с id=135350: 23.97%\n"
     ]
    },
    {
     "data": {
      "text/plain": [
       "[None, None, None, None, None, None, None, None, None, None]"
      ]
     },
     "execution_count": 10,
     "metadata": {},
     "output_type": "execute_result"
    }
   ],
   "source": [
    "def mape_noNumpy_noNumba(df, recipe_id):\n",
    "    ratings = df[df['recipe_id'] == recipe_id]['rating']\n",
    "    mean_rating = ratings.mean()\n",
    "    mape = 0\n",
    "    for rating in ratings:\n",
    "        mape += abs(rating - mean_rating) / mean_rating\n",
    "    mape /= len(ratings)\n",
    "    return mape * 100\n",
    "\n",
    "[print(f\"{'MAPE для рецепта с id=':>20}{recipe_id:<6}: {round(mape_noNumpy_noNumba(reviews, recipe_id), 2):>5}%\") for recipe_id in sample_recipe_id_from_reviews[\"recipe_id\"].values]"
   ]
  },
  {
   "cell_type": "code",
   "execution_count": 11,
   "metadata": {},
   "outputs": [
    {
     "data": {
      "text/plain": [
       "id\n",
       "208189    5\n",
       "Name: rating, dtype: int64"
      ]
     },
     "execution_count": 11,
     "metadata": {},
     "output_type": "execute_result"
    }
   ],
   "source": [
    "# Проверка\n",
    "reviews[reviews['recipe_id'] == 488899]['rating'] # MAPE рецепта 488899 равен 0, т.к. имеется всего лишь одна оценка, разброса нет."
   ]
  },
  {
   "cell_type": "code",
   "execution_count": 12,
   "metadata": {},
   "outputs": [
    {
     "data": {
      "text/plain": [
       "id\n",
       "1102713    5\n",
       "1102715    1\n",
       "1102740    5\n",
       "1102726    4\n",
       "1102742    5\n",
       "          ..\n",
       "1102743    2\n",
       "1102759    0\n",
       "1102731    3\n",
       "1102708    5\n",
       "1102738    5\n",
       "Name: rating, Length: 71, dtype: int64"
      ]
     },
     "execution_count": 12,
     "metadata": {},
     "output_type": "execute_result"
    }
   ],
   "source": [
    "# Проверка\n",
    "reviews[reviews['recipe_id'] == 234344]['rating'] # MAPE рецепта 42603 имеет намного больше оценок с разными значениями, поэтому MAPE > 0"
   ]
  },
  {
   "cell_type": "code",
   "execution_count": 13,
   "metadata": {},
   "outputs": [
    {
     "data": {
      "text/plain": [
       "id\n",
       "626586    5\n",
       "626585    5\n",
       "Name: rating, dtype: int64"
      ]
     },
     "execution_count": 13,
     "metadata": {},
     "output_type": "execute_result"
    }
   ],
   "source": [
    "# Проверка\n",
    "reviews[reviews['recipe_id'] == 58367]['rating'] # MAPE так же равен 0, разброса по оценкам нет"
   ]
  },
  {
   "cell_type": "code",
   "execution_count": 38,
   "metadata": {},
   "outputs": [
    {
     "name": "stdout",
     "output_type": "stream",
     "text": [
      "602 µs ± 187 µs per loop (mean ± std. dev. of 7 runs, 1,000 loops each)\n"
     ]
    }
   ],
   "source": [
    "%%timeit\n",
    "\n",
    "mape_noNumpy_noNumba(reviews, 234344)"
   ]
  },
  {
   "cell_type": "markdown",
   "metadata": {},
   "source": [
    "#        2. Без использования векторизованных операций и методов массивов `numpy`, но с использованием `numba`\n",
    "\n"
   ]
  },
  {
   "cell_type": "code",
   "execution_count": 17,
   "metadata": {
    "scrolled": true
   },
   "outputs": [
    {
     "name": "stdout",
     "output_type": "stream",
     "text": [
      "<class 'pandas.core.frame.DataFrame'>\n",
      "Int64Index: 10 entries, 208189 to 1074578\n",
      "Data columns (total 5 columns):\n",
      " #   Column     Non-Null Count  Dtype         \n",
      "---  ------     --------------  -----         \n",
      " 0   user_id    10 non-null     int64         \n",
      " 1   recipe_id  10 non-null     int64         \n",
      " 2   date       10 non-null     datetime64[ns]\n",
      " 3   rating     10 non-null     int64         \n",
      " 4   review     10 non-null     object        \n",
      "dtypes: datetime64[ns](1), int64(3), object(1)\n",
      "memory usage: 480.0+ bytes\n"
     ]
    }
   ],
   "source": [
    "sample_recipe_id_from_reviews.info()"
   ]
  },
  {
   "cell_type": "code",
   "execution_count": 34,
   "metadata": {},
   "outputs": [
    {
     "name": "stdout",
     "output_type": "stream",
     "text": [
      "MAPE для рецепта с id=488899:   0.0%\n",
      "MAPE для рецепта с id=5018  : 15.24%\n",
      "MAPE для рецепта с id=495291: 10.77%\n",
      "MAPE для рецепта с id=319219: 13.33%\n",
      "MAPE для рецепта с id=60238 : 11.66%\n",
      "MAPE для рецепта с id=234344: 47.88%\n",
      "MAPE для рецепта с id=115110: 23.95%\n",
      "MAPE для рецепта с id=58367 :   0.0%\n",
      "MAPE для рецепта с id=135350: 23.97%\n",
      "MAPE для рецепта с id=135350: 23.97%\n"
     ]
    }
   ],
   "source": [
    "import numba as nb\n",
    "\n",
    "\n",
    "@nb.njit\n",
    "def mape_noNumpy_withNumba(ratings, recipe_id):\n",
    "    \n",
    "    mean_rating = ratings.mean()\n",
    "    mape = 0\n",
    "    \n",
    "    for rating in ratings:\n",
    "        mape += abs(rating - mean_rating) / mean_rating\n",
    "        \n",
    "    mape /= len(ratings)\n",
    "    return mape * 100\n",
    "\n",
    "\n",
    "\n",
    "for recipe_id in sample_recipe_id_from_reviews[\"recipe_id\"].values:\n",
    "    ratings = reviews[reviews['recipe_id'] == recipe_id]['rating'].values\n",
    "    \n",
    "    print(f\"{'MAPE для рецепта с id=':>20}{recipe_id:<6}: {round(mape_noNumpy_withNumba(ratings, recipe_id), 2):>5}%\")\n",
    "\n",
    "# Вроде как совпадают"
   ]
  },
  {
   "cell_type": "code",
   "execution_count": 36,
   "metadata": {},
   "outputs": [
    {
     "data": {
      "text/plain": [
       "array([5, 1, 5, 4, 5, 3, 5, 0, 0, 5, 5, 5, 5, 5, 5, 2, 0, 5, 5, 5, 5, 5,\n",
       "       5, 5, 5, 5, 0, 0, 5, 5, 5, 0, 5, 5, 0, 5, 5, 0, 4, 5, 5, 4, 5, 5,\n",
       "       5, 0, 5, 5, 5, 5, 5, 4, 0, 4, 5, 5, 5, 5, 5, 0, 5, 0, 5, 0, 0, 4,\n",
       "       2, 0, 3, 5, 5], dtype=int64)"
      ]
     },
     "execution_count": 36,
     "metadata": {},
     "output_type": "execute_result"
    }
   ],
   "source": [
    "ratings = reviews[reviews['recipe_id'] == 234344]['rating'].values\n",
    "\n",
    "ratings"
   ]
  },
  {
   "cell_type": "code",
   "execution_count": 37,
   "metadata": {},
   "outputs": [
    {
     "name": "stdout",
     "output_type": "stream",
     "text": [
      "620 ns ± 123 ns per loop (mean ± std. dev. of 7 runs, 1,000,000 loops each)\n"
     ]
    }
   ],
   "source": [
    "%%timeit\n",
    "\n",
    "mape_noNumpy_withNumba(ratings, 234344)"
   ]
  },
  {
   "cell_type": "markdown",
   "metadata": {},
   "source": [
    "#    3. С использованием векторизованных операций и методов массивов `numpy`, но без использования `numba`\n"
   ]
  },
  {
   "cell_type": "code",
   "execution_count": 49,
   "metadata": {},
   "outputs": [
    {
     "name": "stdout",
     "output_type": "stream",
     "text": [
      "MAPE для рецепта с id=488899:   0.0%\n",
      "MAPE для рецепта с id=5018  : 15.24%\n",
      "MAPE для рецепта с id=495291: 10.77%\n",
      "MAPE для рецепта с id=319219: 13.33%\n",
      "MAPE для рецепта с id=60238 : 11.66%\n",
      "MAPE для рецепта с id=234344: 47.88%\n",
      "MAPE для рецепта с id=115110: 23.95%\n",
      "MAPE для рецепта с id=58367 :   0.0%\n",
      "MAPE для рецепта с id=135350: 23.97%\n",
      "MAPE для рецепта с id=135350: 23.97%\n"
     ]
    },
    {
     "data": {
      "text/plain": [
       "[None, None, None, None, None, None, None, None, None, None]"
      ]
     },
     "execution_count": 49,
     "metadata": {},
     "output_type": "execute_result"
    }
   ],
   "source": [
    "def mape_withNumpy_noNumba(df, recipe_id):\n",
    "    ratings = df[df['recipe_id'] == recipe_id]\n",
    "    \n",
    "    mean_rating = np.mean(ratings['rating'])\n",
    "    \n",
    "    val_rating = np.abs(ratings['rating'] - mean_rating) / mean_rating\n",
    "\n",
    "    if val_rating.any():\n",
    "        return np.sum(val_rating) / val_rating.shape[0] * 100\n",
    "        \n",
    "    return 0\n",
    "\n",
    "[print(f\"{'MAPE для рецепта с id=':>20}{recipe_id:<6}: {round(mape_noNumpy_noNumba(reviews, recipe_id), 2):>5}%\") for recipe_id in sample_recipe_id_from_reviews[\"recipe_id\"].values]\n",
    "\n",
    "# Вроде как совпадают"
   ]
  },
  {
   "cell_type": "code",
   "execution_count": 50,
   "metadata": {},
   "outputs": [
    {
     "name": "stdout",
     "output_type": "stream",
     "text": [
      "1.7 ms ± 487 µs per loop (mean ± std. dev. of 7 runs, 100 loops each)\n"
     ]
    }
   ],
   "source": [
    "%%timeit\n",
    "\n",
    "mape_withNumpy_noNumba(reviews, 234344)"
   ]
  },
  {
   "cell_type": "markdown",
   "metadata": {},
   "source": [
    "#    4. C использованием векторизованных операций и методов массивов `numpy` и `numba`\n"
   ]
  },
  {
   "cell_type": "code",
   "execution_count": 30,
   "metadata": {},
   "outputs": [
    {
     "name": "stdout",
     "output_type": "stream",
     "text": [
      "MAPE для рецепта с id=488899:   0.0%\n",
      "MAPE для рецепта с id=5018  : 15.24%\n",
      "MAPE для рецепта с id=495291: 10.77%\n",
      "MAPE для рецепта с id=319219: 13.33%\n",
      "MAPE для рецепта с id=60238 : 11.66%\n",
      "MAPE для рецепта с id=234344: 47.88%\n",
      "MAPE для рецепта с id=115110: 23.95%\n",
      "MAPE для рецепта с id=58367 :   0.0%\n",
      "MAPE для рецепта с id=135350: 23.97%\n",
      "MAPE для рецепта с id=135350: 23.97%\n"
     ]
    }
   ],
   "source": [
    "@nb.njit\n",
    "def mape_withNumpy_withNumba(ratings, recipe_id):\n",
    "    \n",
    "    mean_rating = ratings.mean()\n",
    "    \n",
    "    val_rating = np.abs(ratings - mean_rating) / mean_rating\n",
    "            \n",
    "    if val_rating.any():\n",
    "        return np.sum(val_rating) / val_rating.shape[0] * 100\n",
    "        \n",
    "    return 0\n",
    "\n",
    "\n",
    "\n",
    "for recipe_id in sample_recipe_id_from_reviews[\"recipe_id\"].values:\n",
    "    ratings = reviews[reviews['recipe_id'] == recipe_id]['rating'].values\n",
    "    \n",
    "    print(f\"{'MAPE для рецепта с id=':>20}{recipe_id:<6}: {round(mape_withNumpy_withNumba(ratings, recipe_id), 2):>5}%\")\n"
   ]
  },
  {
   "cell_type": "code",
   "execution_count": 51,
   "metadata": {},
   "outputs": [],
   "source": [
    "ratings = reviews[reviews['recipe_id'] == 234344]['rating'].values"
   ]
  },
  {
   "cell_type": "code",
   "execution_count": 52,
   "metadata": {},
   "outputs": [
    {
     "name": "stdout",
     "output_type": "stream",
     "text": [
      "1.23 µs ± 259 ns per loop (mean ± std. dev. of 7 runs, 1,000,000 loops each)\n"
     ]
    }
   ],
   "source": [
    "%%timeit\n",
    "\n",
    "mape_withNumpy_withNumba(ratings, 234344)"
   ]
  }
 ],
 "metadata": {
  "kernelspec": {
   "display_name": "Python 3 (ipykernel)",
   "language": "python",
   "name": "python3"
  },
  "language_info": {
   "codemirror_mode": {
    "name": "ipython",
    "version": 3
   },
   "file_extension": ".py",
   "mimetype": "text/x-python",
   "name": "python",
   "nbconvert_exporter": "python",
   "pygments_lexer": "ipython3",
   "version": "3.11.3"
  }
 },
 "nbformat": 4,
 "nbformat_minor": 4
}
