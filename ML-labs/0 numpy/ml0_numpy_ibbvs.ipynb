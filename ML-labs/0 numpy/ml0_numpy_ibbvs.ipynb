{
 "cells": [
  {
   "cell_type": "markdown",
   "metadata": {
    "id": "tk5jr4B_rCW3"
   },
   "source": [
    "<h1 align='center'>Numpy - многомерные массивы данных</h1>"
   ]
  },
  {
   "cell_type": "markdown",
   "metadata": {
    "id": "cCK17OLBNm5x"
   },
   "source": [
    "                                                                                                       группа ПИ21-1В\n",
    "                                                                                                       студент Сабиров А.А."
   ]
  },
  {
   "cell_type": "markdown",
   "metadata": {
    "id": "ySndQrqGrCW5"
   },
   "source": [
    "[Cсылка](https://disk.yandex.ru/d/IE8K3D5e7q4fEw) на файлы лабораторной"
   ]
  },
  {
   "cell_type": "code",
   "execution_count": null,
   "metadata": {
    "id": "N8Id94iYrCW5"
   },
   "outputs": [],
   "source": [
    "# комменарий\n",
    "%matplotlib inline\n",
    "#команда об интерактивном использовании matplotlib\n",
    "import matplotlib.pyplot as plt #импорт функций подмодуля pyplot об интерактивном\n",
    "#использовании matplotlib"
   ]
  },
  {
   "cell_type": "markdown",
   "metadata": {
    "id": "LKSBWBHYrCW6"
   },
   "source": [
    "## Введение"
   ]
  },
  {
   "cell_type": "markdown",
   "metadata": {
    "id": "KGx9rqf3rCW6"
   },
   "source": [
    "Пакет `numpy` (модуль) используется почти во всех численных вычислениях с использованием Python. Это пакет, который обеспечивает высокопроизводительные векторные, матричные и многомерные структуры данных для Python. Он реализован на C и Fortran, поэтому, когда вычисления векторизуются (формулируются векторами и матрицами), производительность очень хорошая.\n",
    "Чтобы использовать `numpy`, вам нужно импортировать модуль, используя, например,:"
   ]
  },
  {
   "cell_type": "code",
   "execution_count": 1,
   "metadata": {
    "id": "K5kaY3ASrCW6"
   },
   "outputs": [],
   "source": [
    "from numpy import * #при этом отсутсвует необходимость использования numpy.array\n",
    "#import nympy as np - позволяет сократить имя объекта используя np.array"
   ]
  },
  {
   "cell_type": "markdown",
   "metadata": {
    "id": "AVofJIIerCW6"
   },
   "source": [
    "В пакете `numpy` терминологией, используемой для векторов, матриц и многомерных наборов данных, является *array*.\n"
   ]
  },
  {
   "cell_type": "markdown",
   "metadata": {
    "id": "AwOjVV68rCW7"
   },
   "source": [
    "## Создание `numpy` *arrays*"
   ]
  },
  {
   "cell_type": "markdown",
   "metadata": {
    "id": "1HT3i3S4rCW7"
   },
   "source": [
    "Существует несколько способов инициализации новых массивов numpy, например из\n",
    "\n",
    "* список Python или кортежи\n",
    "* использование функций, предназначенных для генерации массивов numpy, таких как `arange`, `linspace` и т. д.\n",
    "* чтение данных из файлов"
   ]
  },
  {
   "cell_type": "markdown",
   "metadata": {
    "id": "aIrmsCGTrCW7"
   },
   "source": [
    "### Создание из списка (*list*)"
   ]
  },
  {
   "cell_type": "markdown",
   "metadata": {
    "id": "iOdvAXyZrCW7"
   },
   "source": [
    "Например, для создания новых векторных и матричных массивов из списков Python мы можем использовать `numpy.array`."
   ]
  },
  {
   "cell_type": "code",
   "execution_count": null,
   "metadata": {
    "id": "Zcslsi6XrCW8",
    "outputId": "fdb7156b-0b97-456a-b758-a6ea0bb13709"
   },
   "outputs": [
    {
     "data": {
      "text/plain": [
       "array([1, 2, 3, 4])"
      ]
     },
     "execution_count": 3,
     "metadata": {},
     "output_type": "execute_result"
    }
   ],
   "source": [
    "# вектор: аргумент функции array список (list) Python\n",
    "v = array([1,2,3,4])\n",
    "\n",
    "v"
   ]
  },
  {
   "cell_type": "code",
   "execution_count": null,
   "metadata": {
    "id": "bwUcu4OSrCW8",
    "outputId": "68571fa3-2930-437d-a309-228ae6367472"
   },
   "outputs": [
    {
     "data": {
      "text/plain": [
       "array([[1, 2],\n",
       "       [3, 4]])"
      ]
     },
     "execution_count": 4,
     "metadata": {},
     "output_type": "execute_result"
    }
   ],
   "source": [
    "# матрица: аргумент функции array вложенный список (nestled list) Python\n",
    "M = array([[1, 2], [3, 4]])\n",
    "M"
   ]
  },
  {
   "cell_type": "markdown",
   "metadata": {
    "id": "LihxwwJ5rCW9"
   },
   "source": [
    " `v` и `M` -- объекты общего типа `ndarray`, который создает модуль `numpy`."
   ]
  },
  {
   "cell_type": "code",
   "execution_count": null,
   "metadata": {
    "id": "W6GUgivFrCW9",
    "outputId": "abda1601-65c8-4af4-9e09-7687d8b1474b"
   },
   "outputs": [
    {
     "data": {
      "text/plain": [
       "(numpy.ndarray, numpy.ndarray)"
      ]
     },
     "execution_count": 5,
     "metadata": {},
     "output_type": "execute_result"
    }
   ],
   "source": [
    "type(v), type(M)"
   ]
  },
  {
   "cell_type": "markdown",
   "metadata": {
    "id": "pXjyzbhorCW9"
   },
   "source": [
    "Разница между `v` и `M` заключается только в их форме. Мы можем получить информацию о форме массива с помощью `ndarray.shape` свойства."
   ]
  },
  {
   "cell_type": "code",
   "execution_count": null,
   "metadata": {
    "id": "k4NbB8fXrCW9",
    "outputId": "549fbf57-fa1d-49ab-e164-bef1b8215926"
   },
   "outputs": [
    {
     "data": {
      "text/plain": [
       "(4,)"
      ]
     },
     "execution_count": 6,
     "metadata": {},
     "output_type": "execute_result"
    }
   ],
   "source": [
    "v.shape"
   ]
  },
  {
   "cell_type": "code",
   "execution_count": null,
   "metadata": {
    "id": "snLItNrPrCW9",
    "outputId": "f2bcc34f-3046-4774-a863-ccd58227e733"
   },
   "outputs": [
    {
     "data": {
      "text/plain": [
       "(2, 2)"
      ]
     },
     "execution_count": 7,
     "metadata": {},
     "output_type": "execute_result"
    }
   ],
   "source": [
    "M.shape"
   ]
  },
  {
   "cell_type": "markdown",
   "metadata": {
    "id": "FV-BTt9ZrCW-"
   },
   "source": [
    "Количество элементов в массиве доступно через свойство `ndarray.size`:"
   ]
  },
  {
   "cell_type": "code",
   "execution_count": null,
   "metadata": {
    "id": "dGWFcCqkrCW-",
    "outputId": "6ed58f0d-7bad-4881-f844-0403df0d7118"
   },
   "outputs": [
    {
     "data": {
      "text/plain": [
       "4"
      ]
     },
     "execution_count": 8,
     "metadata": {},
     "output_type": "execute_result"
    }
   ],
   "source": [
    "M.size"
   ]
  },
  {
   "cell_type": "markdown",
   "metadata": {
    "id": "r0dRWgl6rCW-"
   },
   "source": [
    "Так же можно использовать функции `numpy.shape` и `numpy.size`. Использование дублирующих методы функций характерно для Python как языка поддерживающего как объектно-ориентированную так и функциональную парадигмы программирования."
   ]
  },
  {
   "cell_type": "code",
   "execution_count": null,
   "metadata": {
    "id": "FCAW3kW7rCW-",
    "outputId": "28913291-bd84-4666-9fa2-7c52b2c0eb70"
   },
   "outputs": [
    {
     "data": {
      "text/plain": [
       "(2, 2)"
      ]
     },
     "execution_count": 9,
     "metadata": {},
     "output_type": "execute_result"
    }
   ],
   "source": [
    "shape(M)"
   ]
  },
  {
   "cell_type": "code",
   "execution_count": null,
   "metadata": {
    "id": "kO8KMiMcrCW-",
    "outputId": "c902b7e2-93df-42b3-fcc9-e12dd16e2006"
   },
   "outputs": [
    {
     "data": {
      "text/plain": [
       "4"
      ]
     },
     "execution_count": 10,
     "metadata": {},
     "output_type": "execute_result"
    }
   ],
   "source": [
    "size(M)"
   ]
  },
  {
   "cell_type": "markdown",
   "metadata": {
    "id": "_37uAUZ9rCW_"
   },
   "source": [
    "До сих пор `numpy.ndarray` ужасно похож на список Python (или вложенный список). Почему бы просто не использовать списки Python для вычислений вместо создания нового типа массива?\n",
    "\n",
    "Есть несколько причин:\n",
    "\n",
    "* Списки Python очень общие. Они могут содержать любой вид объекта. Они динамически типизируются. Они не поддерживают математические функции, такие как матричное и точечное умножение и т. д. Реализация таких функций для списков Python была бы не очень эффективной из-за динамической типизации.\n",
    "* Массивы Numpy **статически типизированы** и **однородны**. Тип элементов определяется при создании массива.\n",
    "* Массивы Numpy эффективны для работы с памятью.\n",
    "* Из-за статической типизации быстро реализуются математические функции, такие как умножение и сложение массивов `numpy`, функции могут быть реализованы на компилируемом языке (используется C и Fortran).\n",
    "\n",
    "Используя свойство `dtype` (тип данных) `ndarray`, мы можем увидеть, какой тип имеют данные массива:"
   ]
  },
  {
   "cell_type": "code",
   "execution_count": null,
   "metadata": {
    "id": "N6wYeqtPrCW_",
    "outputId": "8e905993-18af-490d-9326-8ffcfbec2072"
   },
   "outputs": [
    {
     "data": {
      "text/plain": [
       "dtype('int32')"
      ]
     },
     "execution_count": 11,
     "metadata": {},
     "output_type": "execute_result"
    }
   ],
   "source": [
    "M.dtype"
   ]
  },
  {
   "cell_type": "markdown",
   "metadata": {
    "id": "TOGady6VrCW_"
   },
   "source": [
    "Обратите внимание, что при не совпадении типов при присвоении будет выдана ошибка, что есть следствие статической типизации `ndarray`:"
   ]
  },
  {
   "cell_type": "code",
   "execution_count": null,
   "metadata": {
    "id": "WHuUORyjrCW_",
    "outputId": "3aacdf1d-e002-4b76-debe-fb64affe70a0"
   },
   "outputs": [
    {
     "ename": "ValueError",
     "evalue": "invalid literal for int() with base 10: 'hello'",
     "output_type": "error",
     "traceback": [
      "\u001b[1;31m---------------------------------------------------------------------------\u001b[0m",
      "\u001b[1;31mValueError\u001b[0m                                Traceback (most recent call last)",
      "Cell \u001b[1;32mIn[12], line 1\u001b[0m\n\u001b[1;32m----> 1\u001b[0m M[\u001b[38;5;241m0\u001b[39m,\u001b[38;5;241m0\u001b[39m] \u001b[38;5;241m=\u001b[39m \u001b[38;5;124m\"\u001b[39m\u001b[38;5;124mhello\u001b[39m\u001b[38;5;124m\"\u001b[39m\n",
      "\u001b[1;31mValueError\u001b[0m: invalid literal for int() with base 10: 'hello'"
     ]
    }
   ],
   "source": [
    "M[0,0] = \"hello\""
   ]
  },
  {
   "cell_type": "markdown",
   "metadata": {
    "id": "xePmXoeYrCW_"
   },
   "source": [
    "Если мы хотим, мы можем явно определить тип данных массива при его создании, используя аргумент ключевого слова `dtype`:"
   ]
  },
  {
   "cell_type": "code",
   "execution_count": null,
   "metadata": {
    "id": "AwUV6MBGrCXA"
   },
   "outputs": [],
   "source": [
    "M = array([[1, 2], [3, 4]], dtype=complex)\n",
    "\n",
    "M"
   ]
  },
  {
   "cell_type": "markdown",
   "metadata": {
    "id": "XS63LpkDrCXA"
   },
   "source": [
    "Общие типы данных, которые можно использовать с `dtype`: `int`, `float`, `complex`, `bool`, `object` и т. д.\n",
    "\n",
    "Мы также можем явно определить битовый размер типов данных, например: `int64`, `int16`, `float128`, `complex128`."
   ]
  },
  {
   "cell_type": "markdown",
   "metadata": {
    "id": "D9oBCpEYrCXA"
   },
   "source": [
    "# Задание 1\n",
    "## Создайте матрицу таблицы умножения с использованием списков"
   ]
  },
  {
   "cell_type": "code",
   "execution_count": 49,
   "metadata": {
    "colab": {
     "base_uri": "https://localhost:8080/"
    },
    "id": "TFwKYaPHrVSC",
    "outputId": "8b733b68-afad-46bb-be26-7eb617e69387"
   },
   "outputs": [
    {
     "data": {
      "text/plain": [
       "array([[  1,   2,   3,   4,   5,   6,   7,   8,   9,  10],\n",
       "       [  2,   4,   6,   8,  10,  12,  14,  16,  18,  20],\n",
       "       [  3,   6,   9,  12,  15,  18,  21,  24,  27,  30],\n",
       "       [  4,   8,  12,  16,  20,  24,  28,  32,  36,  40],\n",
       "       [  5,  10,  15,  20,  25,  30,  35,  40,  45,  50],\n",
       "       [  6,  12,  18,  24,  30,  36,  42,  48,  54,  60],\n",
       "       [  7,  14,  21,  28,  35,  42,  49,  56,  63,  70],\n",
       "       [  8,  16,  24,  32,  40,  48,  56,  64,  72,  80],\n",
       "       [  9,  18,  27,  36,  45,  54,  63,  72,  81,  90],\n",
       "       [ 10,  20,  30,  40,  50,  60,  70,  80,  90, 100]])"
      ]
     },
     "execution_count": 49,
     "metadata": {},
     "output_type": "execute_result"
    }
   ],
   "source": [
    "arr = array([[i*j for j in range(1, 11)] for i in range(1, 11)])\n",
    "arr"
   ]
  },
  {
   "cell_type": "code",
   "execution_count": 7,
   "metadata": {},
   "outputs": [
    {
     "data": {
      "text/plain": [
       "array([[  1,   2,   3,   4,   5,   6,   7,   8,   9,  10],\n",
       "       [  2,   4,   6,   8,  10,  12,  14,  16,  18,  20],\n",
       "       [  3,   6,   9,  12,  15,  18,  21,  24,  27,  30],\n",
       "       [  4,   8,  12,  16,  20,  24,  28,  32,  36,  40],\n",
       "       [  5,  10,  15,  20,  25,  30,  35,  40,  45,  50],\n",
       "       [  6,  12,  18,  24,  30,  36,  42,  48,  54,  60],\n",
       "       [  7,  14,  21,  28,  35,  42,  49,  56,  63,  70],\n",
       "       [  8,  16,  24,  32,  40,  48,  56,  64,  72,  80],\n",
       "       [  9,  18,  27,  36,  45,  54,  63,  72,  81,  90],\n",
       "       [ 10,  20,  30,  40,  50,  60,  70,  80,  90, 100]])"
      ]
     },
     "execution_count": 7,
     "metadata": {},
     "output_type": "execute_result"
    }
   ],
   "source": [
    "mask = array(arange(1, 11))\n",
    "np_array = outer(mask, mask)\n",
    "\n",
    "np_array"
   ]
  },
  {
   "cell_type": "code",
   "execution_count": 12,
   "metadata": {},
   "outputs": [
    {
     "data": {
      "text/plain": [
       "array([[ 1,  2],\n",
       "       [ 2,  4],\n",
       "       [ 3,  6],\n",
       "       [ 4,  8],\n",
       "       [ 5, 10]])"
      ]
     },
     "execution_count": 12,
     "metadata": {},
     "output_type": "execute_result"
    }
   ],
   "source": [
    "outer(arange(1, 6), arange(1, 3))"
   ]
  },
  {
   "cell_type": "markdown",
   "metadata": {
    "id": "MX5axG8XrCXA"
   },
   "source": [
    "### Функции генерирующие массивы."
   ]
  },
  {
   "cell_type": "markdown",
   "metadata": {
    "id": "_fcMfXikrCXA"
   },
   "source": [
    "Для больших массивов нецелесообразно инициализировать данные вручную, используя явные списки Python. Вместо этого мы можем использовать одну из многих функций в `numpy`, которые генерируют массивы различных форм. Некоторые из наиболее распространенных являются:"
   ]
  },
  {
   "cell_type": "markdown",
   "metadata": {
    "id": "mQFNqU0xrCXA"
   },
   "source": [
    "#### Функция arange"
   ]
  },
  {
   "cell_type": "code",
   "execution_count": null,
   "metadata": {
    "colab": {
     "base_uri": "https://localhost:8080/"
    },
    "id": "e3LyiIbCrCXA",
    "outputId": "0b9514b6-5baa-4d58-9441-07b8af874c90"
   },
   "outputs": [
    {
     "data": {
      "text/plain": [
       "array([10,  9,  8,  7,  6])"
      ]
     },
     "execution_count": 14,
     "metadata": {},
     "output_type": "execute_result"
    }
   ],
   "source": [
    "# массив целых от 0 до 10\n",
    "\n",
    "x = arange(10, 5, -1) # аргументы: начало, конец, шаг\n",
    "x"
   ]
  },
  {
   "cell_type": "code",
   "execution_count": null,
   "metadata": {
    "colab": {
     "base_uri": "https://localhost:8080/"
    },
    "id": "MFqcsf-nrCXB",
    "outputId": "ebebe089-9a0d-442c-f8dc-d7e0c80c80c2"
   },
   "outputs": [
    {
     "data": {
      "text/plain": [
       "array([-1.00000000e+00, -9.00000000e-01, -8.00000000e-01, -7.00000000e-01,\n",
       "       -6.00000000e-01, -5.00000000e-01, -4.00000000e-01, -3.00000000e-01,\n",
       "       -2.00000000e-01, -1.00000000e-01, -2.22044605e-16,  1.00000000e-01,\n",
       "        2.00000000e-01,  3.00000000e-01,  4.00000000e-01,  5.00000000e-01,\n",
       "        6.00000000e-01,  7.00000000e-01,  8.00000000e-01,  9.00000000e-01])"
      ]
     },
     "execution_count": 15,
     "metadata": {},
     "output_type": "execute_result"
    }
   ],
   "source": [
    "x = arange(-1, 1, 0.1)\n",
    "\n",
    "x"
   ]
  },
  {
   "cell_type": "markdown",
   "metadata": {
    "id": "oeMHZbKwrCXB"
   },
   "source": [
    "#### Функции linspace и logspace"
   ]
  },
  {
   "cell_type": "code",
   "execution_count": null,
   "metadata": {
    "id": "bgZ02v3VrCXB",
    "outputId": "2c1fe48b-51e1-4ae7-a58c-22d28c53da82"
   },
   "outputs": [
    {
     "data": {
      "text/plain": [
       "array([ 5. ,  5.5,  6. ,  6.5,  7. ,  7.5,  8. ,  8.5,  9. ,  9.5, 10. ])"
      ]
     },
     "execution_count": 16,
     "metadata": {},
     "output_type": "execute_result"
    }
   ],
   "source": [
    "# использование linspace, оба конечных значения включены\n",
    "linspace(5, 10, 11)"
   ]
  },
  {
   "cell_type": "code",
   "execution_count": null,
   "metadata": {
    "id": "LxPFtUfOrCXB",
    "outputId": "1b05d79e-828d-4851-dbbe-d891df731d41"
   },
   "outputs": [
    {
     "data": {
      "text/plain": [
       "array([1.e+00, 1.e+01, 1.e+02, 1.e+03, 1.e+04, 1.e+05, 1.e+06, 1.e+07,\n",
       "       1.e+08, 1.e+09, 1.e+10])"
      ]
     },
     "execution_count": 17,
     "metadata": {},
     "output_type": "execute_result"
    }
   ],
   "source": [
    "logspace(0, 10, 11, base=10) # создание равномерной последовальности в логарифмической шкале"
   ]
  },
  {
   "cell_type": "markdown",
   "metadata": {
    "id": "s1P1fmtHrCXC"
   },
   "source": [
    "#### Функция mgrid"
   ]
  },
  {
   "cell_type": "code",
   "execution_count": null,
   "metadata": {
    "id": "k452brbsrCXC"
   },
   "outputs": [],
   "source": [
    "x, y = mgrid[0:5, 0:5] #создает сетку равномерно расположенных значений подобно meshgrid в MATLAB"
   ]
  },
  {
   "cell_type": "code",
   "execution_count": null,
   "metadata": {
    "id": "QJR_4EeBrCXD",
    "outputId": "f69ababd-864b-4498-b5a8-09bfff934f4d"
   },
   "outputs": [
    {
     "data": {
      "text/plain": [
       "array([[0, 0, 0, 0, 0],\n",
       "       [1, 1, 1, 1, 1],\n",
       "       [2, 2, 2, 2, 2],\n",
       "       [3, 3, 3, 3, 3],\n",
       "       [4, 4, 4, 4, 4]])"
      ]
     },
     "execution_count": 19,
     "metadata": {},
     "output_type": "execute_result"
    }
   ],
   "source": [
    "x"
   ]
  },
  {
   "cell_type": "code",
   "execution_count": null,
   "metadata": {
    "id": "GzV575QGrCXD",
    "outputId": "2714a7c6-7c73-4a8c-d40f-5d129c5d315c"
   },
   "outputs": [
    {
     "data": {
      "text/plain": [
       "array([[0, 1, 2, 3, 4],\n",
       "       [0, 1, 2, 3, 4],\n",
       "       [0, 1, 2, 3, 4],\n",
       "       [0, 1, 2, 3, 4],\n",
       "       [0, 1, 2, 3, 4]])"
      ]
     },
     "execution_count": 20,
     "metadata": {},
     "output_type": "execute_result"
    }
   ],
   "source": [
    "y"
   ]
  },
  {
   "cell_type": "markdown",
   "metadata": {
    "id": "YPaCmRdPrCXD"
   },
   "source": [
    "#### Создание случайных данных средствами random"
   ]
  },
  {
   "cell_type": "code",
   "execution_count": null,
   "metadata": {
    "id": "PBvnoyhRrCXD"
   },
   "outputs": [],
   "source": [
    "from numpy import random"
   ]
  },
  {
   "cell_type": "code",
   "execution_count": null,
   "metadata": {
    "id": "xl472PUCrCXE",
    "outputId": "96274c4b-20db-4b0b-ff1c-af0855d63468"
   },
   "outputs": [
    {
     "data": {
      "text/plain": [
       "array([[0.79627033, 0.99787884, 0.91431877, 0.82451545, 0.14396063],\n",
       "       [0.98833414, 0.48580972, 0.12399822, 0.29672986, 0.06922937],\n",
       "       [0.78555055, 0.08061232, 0.46379301, 0.44063985, 0.83584335],\n",
       "       [0.97091875, 0.18001315, 0.97907648, 0.91136698, 0.43438704],\n",
       "       [0.42846791, 0.64448317, 0.67883568, 0.95254311, 0.23644409]])"
      ]
     },
     "execution_count": 22,
     "metadata": {},
     "output_type": "execute_result"
    }
   ],
   "source": [
    "# случайные данные с равномерным распределением в отрезке [0,1]\n",
    "random.rand(5,5)"
   ]
  },
  {
   "cell_type": "code",
   "execution_count": null,
   "metadata": {
    "id": "Z00onhmcrCXE",
    "outputId": "b0d90007-66df-42ba-8cca-35dd57b96921"
   },
   "outputs": [
    {
     "data": {
      "text/plain": [
       "array([[ 2.06406746, -0.3951008 ,  0.96476531, -0.48080525, -0.87921244],\n",
       "       [ 1.00330708,  0.91668855,  0.20386131, -0.60936748, -0.37064176],\n",
       "       [-0.61792145, -0.13845879, -0.94194924, -0.26855813,  1.06610693],\n",
       "       [-0.1174443 ,  0.89348805, -0.63303693, -0.73382286,  0.34177774],\n",
       "       [ 0.27468861, -0.16850482,  0.87202311,  1.12031791,  1.7909439 ]])"
      ]
     },
     "execution_count": 23,
     "metadata": {},
     "output_type": "execute_result"
    }
   ],
   "source": [
    "# случайные данные с нормальным распределением\n",
    "random.randn(5,5)"
   ]
  },
  {
   "cell_type": "markdown",
   "metadata": {
    "id": "qThXjZwrrCXE"
   },
   "source": [
    "#### Создание квадратных матриц функцией diag"
   ]
  },
  {
   "cell_type": "code",
   "execution_count": null,
   "metadata": {
    "id": "jt6hyONyrCXE",
    "outputId": "31efb32a-3601-4483-86bd-9547465d812a"
   },
   "outputs": [
    {
     "data": {
      "text/plain": [
       "array([[1, 0, 0],\n",
       "       [0, 2, 0],\n",
       "       [0, 0, 3]])"
      ]
     },
     "execution_count": 24,
     "metadata": {},
     "output_type": "execute_result"
    }
   ],
   "source": [
    "# матрица с диагональю\n",
    "diag([1,2,3])"
   ]
  },
  {
   "cell_type": "code",
   "execution_count": null,
   "metadata": {
    "id": "E75RoMairCXE",
    "outputId": "a9f11fdf-0068-4986-cc27-ccc220a4fa6c"
   },
   "outputs": [
    {
     "data": {
      "text/plain": [
       "array([[0, 1, 0, 0],\n",
       "       [0, 0, 2, 0],\n",
       "       [0, 0, 0, 3],\n",
       "       [0, 0, 0, 0]])"
      ]
     },
     "execution_count": 25,
     "metadata": {},
     "output_type": "execute_result"
    }
   ],
   "source": [
    "# матрица со сдвинутой диагональю\n",
    "diag([1,2,3], k=1)"
   ]
  },
  {
   "cell_type": "markdown",
   "metadata": {
    "id": "gmdxgRjgrCXF"
   },
   "source": [
    "#### Матрицы или спецмассивы zeros и ones"
   ]
  },
  {
   "cell_type": "code",
   "execution_count": null,
   "metadata": {
    "id": "hLr4YP3rrCXF",
    "outputId": "ae9a5e2a-55f5-452c-8db7-6b722c327dae"
   },
   "outputs": [
    {
     "data": {
      "text/plain": [
       "array([[0., 0., 0.],\n",
       "       [0., 0., 0.],\n",
       "       [0., 0., 0.]])"
      ]
     },
     "execution_count": 26,
     "metadata": {},
     "output_type": "execute_result"
    }
   ],
   "source": [
    "zeros((3,3))"
   ]
  },
  {
   "cell_type": "code",
   "execution_count": null,
   "metadata": {
    "id": "8_WCV6AirCXF",
    "outputId": "36429f75-c9c3-47df-cb58-d4f3d2d14cd8"
   },
   "outputs": [
    {
     "data": {
      "text/plain": [
       "array([[1., 1., 1.],\n",
       "       [1., 1., 1.],\n",
       "       [1., 1., 1.]])"
      ]
     },
     "execution_count": 27,
     "metadata": {},
     "output_type": "execute_result"
    }
   ],
   "source": [
    "ones((3,3))"
   ]
  },
  {
   "cell_type": "markdown",
   "metadata": {
    "id": "m26QAn-0rCXF"
   },
   "source": [
    "# Задание 2\n",
    "## Создайте функцию, которая принимает как аргументы целое число N и первый элемент (вещественное число el1), и разность (вещественное число d) и создает матрицу по диагонали, которой распологаются первые N членов арифметической прогрессии."
   ]
  },
  {
   "cell_type": "code",
   "execution_count": 14,
   "metadata": {
    "colab": {
     "base_uri": "https://localhost:8080/"
    },
    "id": "7f5wiyZ_ttTw",
    "outputId": "fa02f2fb-e21f-4e32-dbeb-1f4bf494dfbb"
   },
   "outputs": [
    {
     "data": {
      "text/plain": [
       "array([[15. ,  0. ,  0. ,  0. ,  0. ],\n",
       "       [ 0. , 15.5,  0. ,  0. ,  0. ],\n",
       "       [ 0. ,  0. , 16. ,  0. ,  0. ],\n",
       "       [ 0. ,  0. ,  0. , 16.5,  0. ],\n",
       "       [ 0. ,  0. ,  0. ,  0. , 17. ]])"
      ]
     },
     "execution_count": 14,
     "metadata": {},
     "output_type": "execute_result"
    }
   ],
   "source": [
    "def func(N, el1, d):\n",
    "    matrix = zeros((N, N))\n",
    "    for i in range(N):\n",
    "        matrix[i][i] = el1 + i * d\n",
    "    return matrix\n",
    "\n",
    "func(5, 15, 0.5)"
   ]
  },
  {
   "cell_type": "code",
   "execution_count": 31,
   "metadata": {},
   "outputs": [
    {
     "data": {
      "text/plain": [
       "array([[15. ,  0. ,  0. ,  0. ,  0. ],\n",
       "       [ 0. , 15.5,  0. ,  0. ,  0. ],\n",
       "       [ 0. ,  0. , 16. ,  0. ,  0. ],\n",
       "       [ 0. ,  0. ,  0. , 16.5,  0. ],\n",
       "       [ 0. ,  0. ,  0. ,  0. , 17. ]])"
      ]
     },
     "execution_count": 31,
     "metadata": {},
     "output_type": "execute_result"
    }
   ],
   "source": [
    "def func(N, el1, d):\n",
    "    mask = arange(el1, el1 + N*d, d)\n",
    "    \n",
    "    return diag(mask)\n",
    "\n",
    "func(5, 15, 0.5)"
   ]
  },
  {
   "cell_type": "markdown",
   "metadata": {
    "id": "vie4WQywrCXF"
   },
   "source": [
    "## Запись и чтение в файл"
   ]
  },
  {
   "cell_type": "markdown",
   "metadata": {
    "id": "XOpLnusJrCXG"
   },
   "source": [
    "### Файлы данных Comma-separated values (CSV)"
   ]
  },
  {
   "cell_type": "markdown",
   "metadata": {
    "id": "aDWMjYserCXG"
   },
   "source": [
    "Очень распространенным форматом файлов данных являются значения, разделенные запятыми (CSV), или связанные с ними форматы, такие как TSV (значения, разделенные табуляциями). Для чтения данных из таких файлов в массивы Numpy мы можем использовать функцию `numpy.genfromtxt`. Например:"
   ]
  },
  {
   "cell_type": "code",
   "execution_count": null,
   "metadata": {
    "id": "GKD4YP-5rCXG"
   },
   "outputs": [],
   "source": [
    "data = genfromtxt('stockholm_td_adj.dat')"
   ]
  },
  {
   "cell_type": "code",
   "execution_count": null,
   "metadata": {
    "id": "G4tJ65mKrCXG",
    "outputId": "266bff17-0ddd-442c-b8b6-09302c6efa43"
   },
   "outputs": [
    {
     "data": {
      "text/plain": [
       "(77431, 7)"
      ]
     },
     "execution_count": 31,
     "metadata": {},
     "output_type": "execute_result"
    }
   ],
   "source": [
    "data.shape"
   ]
  },
  {
   "cell_type": "code",
   "execution_count": null,
   "metadata": {
    "id": "2EhKHqY9rCXG",
    "outputId": "518eec72-af81-44f0-8fe8-b12d71f8e087"
   },
   "outputs": [
    {
     "data": {
      "image/png": "[encoded data removed]",
      "text/plain": [
       "<Figure size 1400x400 with 1 Axes>"
      ]
     },
     "metadata": {},
     "output_type": "display_data"
    }
   ],
   "source": [
    "fig, ax = plt.subplots(figsize=(14,4))\n",
    "x=linspace(1,32,31)\n",
    "y=array([data[i,5] for i in range(data.shape[0]) if (data[i,0]==1950)*(data[i,1]==5)])\n",
    "ax.plot(x,y)\n",
    "ax.axis('tight')\n",
    "ax.set_title('tempeatures in Stockholm')\n",
    "ax.set_xlabel('year')\n",
    "ax.set_ylabel('temperature (C)');\n"
   ]
  },
  {
   "cell_type": "markdown",
   "metadata": {
    "id": "5lnl1sM7rCXH"
   },
   "source": [
    "Используя `numpy.savetxt` можно записать Numpy массив в файл CSV формате:"
   ]
  },
  {
   "cell_type": "code",
   "execution_count": null,
   "metadata": {
    "id": "Ir7NujubrCXH",
    "outputId": "e3bc097b-f3b8-41fa-8aa8-8b84b5490001"
   },
   "outputs": [
    {
     "data": {
      "text/plain": [
       "array([[0.07557299, 0.45885316, 0.24366434],\n",
       "       [0.12945455, 0.30936093, 0.54868535],\n",
       "       [0.58635101, 0.31159457, 0.18391795]])"
      ]
     },
     "execution_count": 33,
     "metadata": {},
     "output_type": "execute_result"
    }
   ],
   "source": [
    "M = random.rand(3,3)\n",
    "\n",
    "M"
   ]
  },
  {
   "cell_type": "code",
   "execution_count": null,
   "metadata": {
    "id": "-lytcpu5rCXH"
   },
   "outputs": [],
   "source": [
    "savetxt(\"random-matrix.csv\", M)"
   ]
  },
  {
   "cell_type": "code",
   "execution_count": null,
   "metadata": {
    "id": "5wmSv-P-rCXH",
    "outputId": "f5f7cee1-d36d-46e4-afea-ff720c9cebe3"
   },
   "outputs": [
    {
     "data": {
      "text/plain": [
       "array([[0.07557, 0.45885, 0.24366],\n",
       "       [0.12945, 0.30936, 0.54869],\n",
       "       [0.58635, 0.31159, 0.18392]])"
      ]
     },
     "execution_count": 35,
     "metadata": {},
     "output_type": "execute_result"
    }
   ],
   "source": [
    "savetxt(\"random-matrix.csv\", M, fmt='%.5f') # fmt определяет формат данных\n",
    "rand_data = genfromtxt('random-matrix.csv')\n",
    "rand_data"
   ]
  },
  {
   "cell_type": "markdown",
   "metadata": {
    "id": "eL58Twx9rCXI"
   },
   "source": [
    "### Формат файлов Numpy"
   ]
  },
  {
   "cell_type": "markdown",
   "metadata": {
    "id": "G7rImZSyrCXI"
   },
   "source": [
    "Полезно при хранении и считывании данных массива numpy. Используйте функции `numpy.save` и `numpy.load`:"
   ]
  },
  {
   "cell_type": "code",
   "execution_count": null,
   "metadata": {
    "id": "1hHFexPirCXI"
   },
   "outputs": [],
   "source": [
    "save(\"random-matrix.npy\", M)"
   ]
  },
  {
   "cell_type": "code",
   "execution_count": null,
   "metadata": {
    "id": "8kI5j28_rCXI",
    "outputId": "156e2b75-10d7-49e1-ddbe-851cffbe0cff"
   },
   "outputs": [
    {
     "data": {
      "text/plain": [
       "array([[0.07557299, 0.45885316, 0.24366434],\n",
       "       [0.12945455, 0.30936093, 0.54868535],\n",
       "       [0.58635101, 0.31159457, 0.18391795]])"
      ]
     },
     "execution_count": 37,
     "metadata": {},
     "output_type": "execute_result"
    }
   ],
   "source": [
    "load(\"random-matrix.npy\")"
   ]
  },
  {
   "cell_type": "markdown",
   "metadata": {
    "id": "gpyxbscarCXI"
   },
   "source": [
    "# Задание 3\n",
    "## Из данных по температуре в Стокгольме выбрать данные относящиеся к октябрю 1970 года и записать их в бинарный и текстовый файлы oct70.bin и oct70.txt. Затем прочитайте их импортировав в тетрадь ноутбука и сравните."
   ]
  },
  {
   "cell_type": "code",
   "execution_count": 33,
   "metadata": {
    "colab": {
     "base_uri": "https://localhost:8080/",
     "height": 338
    },
    "id": "_hniztiM5Ll9",
    "outputId": "4dc21349-d04d-422b-854d-5c6b3e90e1eb"
   },
   "outputs": [
    {
     "name": "stdout",
     "output_type": "stream",
     "text": [
      "Столбцы из файла:\n",
      "[1800. 1800. 1800. ... 2011. 2011. 2011.]\n",
      "[ 1.  1.  1. ... 12. 12. 12.]\n",
      "[ 1.  2.  3. ... 29. 30. 31.]\n",
      "[ -6.1 -15.4 -15.  ...   4.9   0.6  -2.6]\n",
      "[ -6.1 -15.4 -15.  ...   4.2  -0.1  -3.3]\n",
      "[ -6.1 -15.4 -15.  ...   4.2  -0.1  -3.3]\n",
      "[1. 1. 1. ... 1. 1. 1.]\n"
     ]
    },
    {
     "data": {
      "text/plain": [
       "[None, None, None, None, None, None, None]"
      ]
     },
     "execution_count": 33,
     "metadata": {},
     "output_type": "execute_result"
    }
   ],
   "source": [
    "answer = genfromtxt('stockholm_td_adj.dat')\n",
    "print(\"Столбцы из файла:\")\n",
    "[print(f\"{answer[:, _]}\") for _ in range(answer.shape[1])]"
   ]
  },
  {
   "cell_type": "code",
   "execution_count": 34,
   "metadata": {
    "id": "Cl5aQXX9t9SN",
    "outputId": "d8e20594-03dc-4937-9837-eec74e97dcfd"
   },
   "outputs": [
    {
     "name": "stdout",
     "output_type": "stream",
     "text": [
      "Столбцы из файла с названиями:\n",
      "         год: [1800. 1800. 1800. ... 2011. 2011. 2011.]\n",
      "       месяц: [ 1.  1.  1. ... 12. 12. 12.]\n",
      "        день: [ 1.  2.  3. ... 29. 30. 31.]\n",
      " температура: [ -6.1 -15.4 -15.  ...   4.9   0.6  -2.6]\n"
     ]
    },
    {
     "data": {
      "text/plain": [
       "[None, None, None, None]"
      ]
     },
     "execution_count": 34,
     "metadata": {},
     "output_type": "execute_result"
    }
   ],
   "source": [
    "columns = ['год', 'месяц', 'день', 'температура']\n",
    "print(\"Столбцы из файла с названиями:\")\n",
    "[print(f\"{columns[_]:>12}: {answer[:, _]}\") for _ in range(len(columns))]"
   ]
  },
  {
   "cell_type": "code",
   "execution_count": 36,
   "metadata": {
    "id": "_MmxpXPBNm6d",
    "outputId": "e3da8630-6157-48a1-ae34-b02d5be9acd0"
   },
   "outputs": [
    {
     "name": "stdout",
     "output_type": "stream",
     "text": [
      "Данные относящиеся к октябрю 1970 года:\n",
      "         год:\n",
      "[1970. 1970. 1970. 1970. 1970. 1970. 1970. 1970. 1970. 1970. 1970. 1970.\n",
      " 1970. 1970. 1970. 1970. 1970. 1970. 1970. 1970. 1970. 1970. 1970. 1970.\n",
      " 1970. 1970. 1970. 1970. 1970. 1970. 1970.]\n",
      "\n",
      "       месяц:\n",
      "[10. 10. 10. 10. 10. 10. 10. 10. 10. 10. 10. 10. 10. 10. 10. 10. 10. 10.\n",
      " 10. 10. 10. 10. 10. 10. 10. 10. 10. 10. 10. 10. 10.]\n",
      "\n",
      "        день:\n",
      "[ 1.  2.  3.  4.  5.  6.  7.  8.  9. 10. 11. 12. 13. 14. 15. 16. 17. 18.\n",
      " 19. 20. 21. 22. 23. 24. 25. 26. 27. 28. 29. 30. 31.]\n",
      "\n",
      " температура:\n",
      "[10.7  9.3  8.1  6.9  8.2 11.  12.5 12.5 10.5 11.1  9.9  9.2  6.9  5.\n",
      "  8.4 10.1 10.1  8.9  9.1  7.6  6.5  3.3  0.8  4.8  6.6  3.6  1.9  2.\n",
      "  2.6  2.2  1.5]\n",
      "\n"
     ]
    },
    {
     "data": {
      "text/plain": [
       "[None, None, None, None]"
      ]
     },
     "execution_count": 36,
     "metadata": {},
     "output_type": "execute_result"
    }
   ],
   "source": [
    "oct1970 = answer[(answer[:, 0] == 1970) & (answer[:, 1] == 10)]\n",
    "print(\"Данные относящиеся к октябрю 1970 года:\")\n",
    "[print(f\"{columns[_]:>12}:\\n{oct1970[:, _]}\\n\") for _ in range(len(columns))]"
   ]
  },
  {
   "cell_type": "code",
   "execution_count": 38,
   "metadata": {
    "id": "yGN1YfJ6Nm6e"
   },
   "outputs": [],
   "source": [
    "savetxt(\"oct70.bin\", oct1970)\n",
    "savetxt(\"oct70.txt\", oct1970)"
   ]
  },
  {
   "cell_type": "code",
   "execution_count": 39,
   "metadata": {
    "id": "p6qpXybtNm6f",
    "outputId": "2201848c-1411-490b-99e4-b245166eec0c"
   },
   "outputs": [
    {
     "name": "stdout",
     "output_type": "stream",
     "text": [
      "[1970. 1970. 1970. 1970. 1970. 1970. 1970. 1970. 1970. 1970. 1970. 1970.\n",
      " 1970. 1970. 1970. 1970. 1970. 1970. 1970. 1970. 1970. 1970. 1970. 1970.\n",
      " 1970. 1970. 1970. 1970. 1970. 1970. 1970.]\n",
      "[10. 10. 10. 10. 10. 10. 10. 10. 10. 10. 10. 10. 10. 10. 10. 10. 10. 10.\n",
      " 10. 10. 10. 10. 10. 10. 10. 10. 10. 10. 10. 10. 10.]\n",
      "[ 1.  2.  3.  4.  5.  6.  7.  8.  9. 10. 11. 12. 13. 14. 15. 16. 17. 18.\n",
      " 19. 20. 21. 22. 23. 24. 25. 26. 27. 28. 29. 30. 31.]\n",
      "[10.7  9.3  8.1  6.9  8.2 11.  12.5 12.5 10.5 11.1  9.9  9.2  6.9  5.\n",
      "  8.4 10.1 10.1  8.9  9.1  7.6  6.5  3.3  0.8  4.8  6.6  3.6  1.9  2.\n",
      "  2.6  2.2  1.5]\n",
      "[10.4  9.   7.8  6.6  7.9 10.7 12.2 12.2 10.2 10.9  9.7  9.   6.7  4.8\n",
      "  8.2  9.9  9.8  8.6  8.8  7.3  6.2  3.   0.5  4.5  6.3  3.3  1.6  1.7\n",
      "  2.3  1.8  1.1]\n",
      "[10.4  9.   7.8  6.6  7.9 10.7 12.2 12.2 10.2 10.9  9.7  9.   6.7  4.8\n",
      "  8.2  9.9  9.8  8.6  8.8  7.3  6.2  3.   0.5  4.5  6.3  3.3  1.6  1.7\n",
      "  2.3  1.8  1.1]\n",
      "[1. 1. 1. 1. 1. 1. 1. 1. 1. 1. 1. 1. 1. 1. 1. 1. 1. 1. 1. 1. 1. 1. 1. 1.\n",
      " 1. 1. 1. 1. 1. 1. 1.]\n"
     ]
    },
    {
     "data": {
      "text/plain": [
       "[None, None, None, None, None, None, None]"
      ]
     },
     "execution_count": 39,
     "metadata": {},
     "output_type": "execute_result"
    }
   ],
   "source": [
    "oct1970txt = genfromtxt('oct70.txt')\n",
    "oct1970bin = genfromtxt('oct70.bin')\n",
    "\n",
    "\n",
    "[print(f\"{oct1970txt[:, _]}\") for _ in range(oct1970txt.shape[1])]"
   ]
  },
  {
   "cell_type": "code",
   "execution_count": 40,
   "metadata": {
    "id": "0Ty0zB6GNm6f",
    "outputId": "9ef85400-b4f5-41fb-f0d9-5cebb8162916"
   },
   "outputs": [
    {
     "name": "stdout",
     "output_type": "stream",
     "text": [
      "[1970. 1970. 1970. 1970. 1970. 1970. 1970. 1970. 1970. 1970. 1970. 1970.\n",
      " 1970. 1970. 1970. 1970. 1970. 1970. 1970. 1970. 1970. 1970. 1970. 1970.\n",
      " 1970. 1970. 1970. 1970. 1970. 1970. 1970.]\n",
      "[10. 10. 10. 10. 10. 10. 10. 10. 10. 10. 10. 10. 10. 10. 10. 10. 10. 10.\n",
      " 10. 10. 10. 10. 10. 10. 10. 10. 10. 10. 10. 10. 10.]\n",
      "[ 1.  2.  3.  4.  5.  6.  7.  8.  9. 10. 11. 12. 13. 14. 15. 16. 17. 18.\n",
      " 19. 20. 21. 22. 23. 24. 25. 26. 27. 28. 29. 30. 31.]\n",
      "[10.7  9.3  8.1  6.9  8.2 11.  12.5 12.5 10.5 11.1  9.9  9.2  6.9  5.\n",
      "  8.4 10.1 10.1  8.9  9.1  7.6  6.5  3.3  0.8  4.8  6.6  3.6  1.9  2.\n",
      "  2.6  2.2  1.5]\n",
      "[10.4  9.   7.8  6.6  7.9 10.7 12.2 12.2 10.2 10.9  9.7  9.   6.7  4.8\n",
      "  8.2  9.9  9.8  8.6  8.8  7.3  6.2  3.   0.5  4.5  6.3  3.3  1.6  1.7\n",
      "  2.3  1.8  1.1]\n",
      "[10.4  9.   7.8  6.6  7.9 10.7 12.2 12.2 10.2 10.9  9.7  9.   6.7  4.8\n",
      "  8.2  9.9  9.8  8.6  8.8  7.3  6.2  3.   0.5  4.5  6.3  3.3  1.6  1.7\n",
      "  2.3  1.8  1.1]\n",
      "[1. 1. 1. 1. 1. 1. 1. 1. 1. 1. 1. 1. 1. 1. 1. 1. 1. 1. 1. 1. 1. 1. 1. 1.\n",
      " 1. 1. 1. 1. 1. 1. 1.]\n"
     ]
    },
    {
     "data": {
      "text/plain": [
       "[None, None, None, None, None, None, None]"
      ]
     },
     "execution_count": 40,
     "metadata": {},
     "output_type": "execute_result"
    }
   ],
   "source": [
    "[print(f\"{oct1970bin[:, _]}\") for _ in range(oct1970bin.shape[1])]"
   ]
  },
  {
   "cell_type": "code",
   "execution_count": 43,
   "metadata": {},
   "outputs": [
    {
     "data": {
      "text/plain": [
       "'бинарный и текстовый файлы oct70.bin и oct70.txt равны'"
      ]
     },
     "execution_count": 43,
     "metadata": {},
     "output_type": "execute_result"
    }
   ],
   "source": [
    "\"бинарный и текстовый файлы oct70.bin и oct70.txt равны\" if all(equal(oct1970txt, oct1970bin)) else \"бинарный и текстовый файлы oct70.bin и oct70.txt не равны\""
   ]
  },
  {
   "cell_type": "markdown",
   "metadata": {
    "id": "-dVOJC8SrCXJ"
   },
   "source": [
    "## Дополнительные свойства `numpy` *arrays*"
   ]
  },
  {
   "cell_type": "code",
   "execution_count": null,
   "metadata": {
    "id": "sFmq4XKOrCXJ",
    "outputId": "dfdc10ce-ad95-4bb6-d54a-485481c4866f"
   },
   "outputs": [
    {
     "data": {
      "text/plain": [
       "8"
      ]
     },
     "execution_count": 66,
     "metadata": {},
     "output_type": "execute_result"
    }
   ],
   "source": [
    "M.itemsize # размер элемента в байтах"
   ]
  },
  {
   "cell_type": "code",
   "execution_count": null,
   "metadata": {
    "id": "XFyj8CpWrCXJ",
    "outputId": "58550172-fe0c-460e-cd2e-1172597838f6"
   },
   "outputs": [
    {
     "data": {
      "text/plain": [
       "72"
      ]
     },
     "execution_count": 67,
     "metadata": {},
     "output_type": "execute_result"
    }
   ],
   "source": [
    "M.nbytes # кол-во байт"
   ]
  },
  {
   "cell_type": "code",
   "execution_count": null,
   "metadata": {
    "id": "Vfqk_8rIrCXJ",
    "outputId": "a758c08b-7043-479d-fe7a-a0ebd8c08c6e"
   },
   "outputs": [
    {
     "data": {
      "text/plain": [
       "2"
      ]
     },
     "execution_count": 68,
     "metadata": {},
     "output_type": "execute_result"
    }
   ],
   "source": [
    "M.ndim # размерность"
   ]
  },
  {
   "cell_type": "markdown",
   "metadata": {
    "id": "PqR-Ae_MrCXJ"
   },
   "source": [
    "## Преобразование массивов"
   ]
  },
  {
   "cell_type": "markdown",
   "metadata": {
    "id": "fuveHDDXrCXJ"
   },
   "source": [
    "### Использование индексов"
   ]
  },
  {
   "cell_type": "markdown",
   "metadata": {
    "id": "difZ84WyrCXK"
   },
   "source": [
    "Доступ к элементам через индекс:"
   ]
  },
  {
   "cell_type": "code",
   "execution_count": null,
   "metadata": {
    "id": "pVHgcYcurCXK",
    "outputId": "9c0ad927-dd9d-44d8-d753-dc0cdb6238e9"
   },
   "outputs": [
    {
     "data": {
      "text/plain": [
       "1"
      ]
     },
     "execution_count": 69,
     "metadata": {},
     "output_type": "execute_result"
    }
   ],
   "source": [
    "# v -- вектор, размерность 1, испльзуем 1 индекс\n",
    "v[0]"
   ]
  },
  {
   "cell_type": "code",
   "execution_count": null,
   "metadata": {
    "id": "uEPQfTzsrCXK",
    "outputId": "8ab9e188-aeec-453c-ebb5-b6738dbf4bd7"
   },
   "outputs": [
    {
     "data": {
      "text/plain": [
       "0.3093609316585878"
      ]
     },
     "execution_count": 70,
     "metadata": {},
     "output_type": "execute_result"
    }
   ],
   "source": [
    "# M -- матрица, 2-х мерный объект, используем 2 индекса\n",
    "M[1,1]"
   ]
  },
  {
   "cell_type": "markdown",
   "metadata": {
    "id": "kD8MbbQ3rCXK"
   },
   "source": [
    "Если мы опустим один из индексов, то получим объект пониженной размерности. В случае двумерной матрицы, получим вектор."
   ]
  },
  {
   "cell_type": "code",
   "execution_count": null,
   "metadata": {
    "id": "e841ve7FrCXL",
    "outputId": "b029786f-e668-4424-e472-54a4d1847175"
   },
   "outputs": [
    {
     "data": {
      "text/plain": [
       "array([[0.07557299, 0.45885316, 0.24366434],\n",
       "       [0.12945455, 0.30936093, 0.54868535],\n",
       "       [0.58635101, 0.31159457, 0.18391795]])"
      ]
     },
     "execution_count": 71,
     "metadata": {},
     "output_type": "execute_result"
    }
   ],
   "source": [
    "M"
   ]
  },
  {
   "cell_type": "code",
   "execution_count": null,
   "metadata": {
    "id": "YzmMMD_IrCXL",
    "outputId": "f9216de0-c9c1-4a5f-94ad-8200514a8a08"
   },
   "outputs": [
    {
     "data": {
      "text/plain": [
       "array([0.12945455, 0.30936093, 0.54868535])"
      ]
     },
     "execution_count": 72,
     "metadata": {},
     "output_type": "execute_result"
    }
   ],
   "source": [
    "M[1]"
   ]
  },
  {
   "cell_type": "markdown",
   "metadata": {
    "id": "ntLC9WLjrCXL"
   },
   "source": [
    "Такой же эффект получится при использовании `:` на месте индекса:"
   ]
  },
  {
   "cell_type": "code",
   "execution_count": null,
   "metadata": {
    "id": "UKyMD00UrCXL",
    "outputId": "c423f136-1a89-4430-ef86-3f9f8b61dc6d"
   },
   "outputs": [
    {
     "data": {
      "text/plain": [
       "array([0.12945455, 0.30936093, 0.54868535])"
      ]
     },
     "execution_count": 73,
     "metadata": {},
     "output_type": "execute_result"
    }
   ],
   "source": [
    "M[1,:] # строка (row) 1"
   ]
  },
  {
   "cell_type": "code",
   "execution_count": null,
   "metadata": {
    "id": "fY2g9QYIrCXL",
    "outputId": "e4431805-7f30-49d5-d21e-1cdb83bfefe4"
   },
   "outputs": [
    {
     "data": {
      "text/plain": [
       "array([0.45885316, 0.30936093, 0.31159457])"
      ]
     },
     "execution_count": 74,
     "metadata": {},
     "output_type": "execute_result"
    }
   ],
   "source": [
    "M[:,1] # столбец (column) 1"
   ]
  },
  {
   "cell_type": "markdown",
   "metadata": {
    "id": "bb5pzvmgrCXM"
   },
   "source": [
    "Мы можем присваивать новые значения элементам массива с помощью индексации:"
   ]
  },
  {
   "cell_type": "code",
   "execution_count": null,
   "metadata": {
    "id": "lO2RhLBwrCXM"
   },
   "outputs": [],
   "source": [
    "M[0,0] = 1"
   ]
  },
  {
   "cell_type": "code",
   "execution_count": null,
   "metadata": {
    "id": "gJBf7EsVrCXM",
    "outputId": "6a0504ce-ca2d-47f5-be28-e634393ac7c6"
   },
   "outputs": [
    {
     "data": {
      "text/plain": [
       "array([[1.        , 0.45885316, 0.24366434],\n",
       "       [0.12945455, 0.30936093, 0.54868535],\n",
       "       [0.58635101, 0.31159457, 0.18391795]])"
      ]
     },
     "execution_count": 76,
     "metadata": {},
     "output_type": "execute_result"
    }
   ],
   "source": [
    "M"
   ]
  },
  {
   "cell_type": "code",
   "execution_count": null,
   "metadata": {
    "id": "zeAFqnAorCXM"
   },
   "outputs": [],
   "source": [
    "# также работает для строк и столбцов\n",
    "M[1,:] = 0\n",
    "M[:,2] = -1"
   ]
  },
  {
   "cell_type": "code",
   "execution_count": null,
   "metadata": {
    "id": "bBV4-hs5rCXM",
    "outputId": "7eea299d-fc71-42c7-80c6-1edff007d61b"
   },
   "outputs": [
    {
     "data": {
      "text/plain": [
       "array([[ 1.        ,  0.45885316, -1.        ],\n",
       "       [ 0.        ,  0.        , -1.        ],\n",
       "       [ 0.58635101,  0.31159457, -1.        ]])"
      ]
     },
     "execution_count": 78,
     "metadata": {},
     "output_type": "execute_result"
    }
   ],
   "source": [
    "M"
   ]
  },
  {
   "cell_type": "markdown",
   "metadata": {
    "id": "VQMiJHwerCXM"
   },
   "source": [
    "### Срезы (*slice*) по индексам"
   ]
  },
  {
   "cell_type": "markdown",
   "metadata": {
    "id": "RdOjnDL_rCXN"
   },
   "source": [
    "Срезы по индексам техническое название `M[нижний индекс:верхний индекс:шаг]` предназначенные для извлечения части массива:"
   ]
  },
  {
   "cell_type": "code",
   "execution_count": null,
   "metadata": {
    "colab": {
     "base_uri": "https://localhost:8080/"
    },
    "id": "1qhWst0prCXN",
    "outputId": "db9187f5-7480-455c-b5f9-4abb73c3ffed"
   },
   "outputs": [
    {
     "data": {
      "text/plain": [
       "array([1, 2, 3, 4, 5])"
      ]
     },
     "execution_count": 79,
     "metadata": {},
     "output_type": "execute_result"
    }
   ],
   "source": [
    "A = array([1,2,3,4,5])\n",
    "A"
   ]
  },
  {
   "cell_type": "code",
   "execution_count": null,
   "metadata": {
    "colab": {
     "base_uri": "https://localhost:8080/"
    },
    "id": "sH-RXw9DrCXN",
    "outputId": "60367e5c-80b0-49fb-9cb9-ff0c3bf0a46c"
   },
   "outputs": [
    {
     "data": {
      "text/plain": [
       "array([2, 3])"
      ]
     },
     "execution_count": 80,
     "metadata": {},
     "output_type": "execute_result"
    }
   ],
   "source": [
    "A[1:3]"
   ]
  },
  {
   "cell_type": "markdown",
   "metadata": {
    "id": "Jd-2tOo6rCXN"
   },
   "source": [
    "Срезы массива являются *изменяемыми (mutable)*: если им присвоено новое значение, то исходный массив, из которого был извлечен срез, изменяется:"
   ]
  },
  {
   "cell_type": "code",
   "execution_count": null,
   "metadata": {
    "colab": {
     "base_uri": "https://localhost:8080/"
    },
    "id": "ikVQfP6rrCXN",
    "outputId": "a5f212fd-3878-4d0f-e32c-e46eed2a96ca"
   },
   "outputs": [
    {
     "data": {
      "text/plain": [
       "array([ 1, -2, -3,  4,  5])"
      ]
     },
     "execution_count": 81,
     "metadata": {},
     "output_type": "execute_result"
    }
   ],
   "source": [
    "A[1:3] = [-2,-3]\n",
    "\n",
    "A"
   ]
  },
  {
   "cell_type": "markdown",
   "metadata": {
    "id": "SKZfiv7QrCXO"
   },
   "source": [
    "Можно не указывать любой из трех параметров среза`M[нижний индекс:верхний индекс:шаг]`:"
   ]
  },
  {
   "cell_type": "code",
   "execution_count": null,
   "metadata": {
    "colab": {
     "base_uri": "https://localhost:8080/"
    },
    "id": "ZMyiLPQOrCXO",
    "outputId": "e994d19a-4738-4b22-e4bc-543db8f22f25"
   },
   "outputs": [
    {
     "data": {
      "text/plain": [
       "array([ 1, -2, -3,  4,  5])"
      ]
     },
     "execution_count": 82,
     "metadata": {},
     "output_type": "execute_result"
    }
   ],
   "source": [
    "A[::] # нижний, верхний индексы и шаг (=1) принимают значения по умолчанию"
   ]
  },
  {
   "cell_type": "code",
   "execution_count": null,
   "metadata": {
    "id": "tbgXng83rCXO",
    "outputId": "3c218949-52f1-4263-f72d-1f3317ed6949"
   },
   "outputs": [
    {
     "data": {
      "text/plain": [
       "array([ 1, -3,  5])"
      ]
     },
     "execution_count": 83,
     "metadata": {},
     "output_type": "execute_result"
    }
   ],
   "source": [
    "A[::2] # шаг равен 2, нижний и верхний индексы принимают значения начала и конца массива"
   ]
  },
  {
   "cell_type": "code",
   "execution_count": null,
   "metadata": {
    "id": "z6yHfrmbrCXO",
    "outputId": "c32e33b9-463b-4ed7-95e2-410bc34330f1"
   },
   "outputs": [
    {
     "data": {
      "text/plain": [
       "array([ 1, -2, -3])"
      ]
     },
     "execution_count": 84,
     "metadata": {},
     "output_type": "execute_result"
    }
   ],
   "source": [
    "A[:3] # первые три элемента"
   ]
  },
  {
   "cell_type": "code",
   "execution_count": null,
   "metadata": {
    "id": "GNOZKENdrCXO",
    "outputId": "2ae137e5-91af-4bc1-e3f7-f83401d7f035"
   },
   "outputs": [
    {
     "data": {
      "text/plain": [
       "array([4, 5])"
      ]
     },
     "execution_count": 85,
     "metadata": {},
     "output_type": "execute_result"
    }
   ],
   "source": [
    "A[3:] # элементы с индекса 3"
   ]
  },
  {
   "cell_type": "markdown",
   "metadata": {
    "id": "5SSG2LoWrCXP"
   },
   "source": [
    "Отрицательные индексы отсчитываются с конца массива (положительные - с начала):"
   ]
  },
  {
   "cell_type": "code",
   "execution_count": null,
   "metadata": {
    "id": "b29-fAUfrCXP"
   },
   "outputs": [],
   "source": [
    "A = array([1,2,3,4,5])"
   ]
  },
  {
   "cell_type": "code",
   "execution_count": null,
   "metadata": {
    "id": "6ra1Ti74rCXP",
    "outputId": "617d1cb8-f617-422f-d0ce-6ce554779843"
   },
   "outputs": [
    {
     "data": {
      "text/plain": [
       "5"
      ]
     },
     "execution_count": 87,
     "metadata": {},
     "output_type": "execute_result"
    }
   ],
   "source": [
    "A[-1] # последний элемент массива"
   ]
  },
  {
   "cell_type": "code",
   "execution_count": null,
   "metadata": {
    "id": "ksdg35z1rCXP",
    "outputId": "4a6a7d4f-c757-4fcf-c91a-c185cf130acf"
   },
   "outputs": [
    {
     "data": {
      "text/plain": [
       "array([3, 4, 5])"
      ]
     },
     "execution_count": 88,
     "metadata": {},
     "output_type": "execute_result"
    }
   ],
   "source": [
    "A[-3:] # последние 3 элемента"
   ]
  },
  {
   "cell_type": "markdown",
   "metadata": {
    "id": "qYFFVz3hrCXP"
   },
   "source": [
    "Индексный срез работает точно так же для многомерных массивов:"
   ]
  },
  {
   "cell_type": "code",
   "execution_count": 45,
   "metadata": {
    "colab": {
     "base_uri": "https://localhost:8080/"
    },
    "id": "-NE0Q_aVrCXP",
    "outputId": "40927391-af8a-4fd2-b347-92f9e7bc41c1"
   },
   "outputs": [
    {
     "data": {
      "text/plain": [
       "array([[ 0,  1,  2,  3,  4],\n",
       "       [10, 11, 12, 13, 14],\n",
       "       [20, 21, 22, 23, 24],\n",
       "       [30, 31, 32, 33, 34],\n",
       "       [40, 41, 42, 43, 44]])"
      ]
     },
     "execution_count": 45,
     "metadata": {},
     "output_type": "execute_result"
    }
   ],
   "source": [
    "A = array([[n+m*10 for n in range(5)] for m in range(5)])\n",
    "\n",
    "A"
   ]
  },
  {
   "cell_type": "code",
   "execution_count": null,
   "metadata": {
    "colab": {
     "base_uri": "https://localhost:8080/"
    },
    "id": "GgrEvP7OrCXQ",
    "outputId": "0d6bee43-6255-476b-bfa2-d89a57c5d3cf"
   },
   "outputs": [
    {
     "data": {
      "text/plain": [
       "array([[11, 12, 13],\n",
       "       [21, 22, 23],\n",
       "       [31, 32, 33]])"
      ]
     },
     "execution_count": 90,
     "metadata": {},
     "output_type": "execute_result"
    }
   ],
   "source": [
    "# часть массива\n",
    "A[1:4, 1:4]"
   ]
  },
  {
   "cell_type": "code",
   "execution_count": null,
   "metadata": {
    "colab": {
     "base_uri": "https://localhost:8080/"
    },
    "id": "P3xOc4-9rCXQ",
    "outputId": "fc5eb5bf-60ac-4553-a75e-21cfd81601a7"
   },
   "outputs": [
    {
     "data": {
      "text/plain": [
       "array([[ 0,  2,  4],\n",
       "       [20, 22, 24],\n",
       "       [40, 42, 44]])"
      ]
     },
     "execution_count": 91,
     "metadata": {},
     "output_type": "execute_result"
    }
   ],
   "source": [
    "# пошаговое извлечение\n",
    "A[::2, ::2]"
   ]
  },
  {
   "cell_type": "markdown",
   "metadata": {
    "id": "KT85k_n9rCXQ"
   },
   "source": [
    "# Задание 4\n",
    "## Используя срезы извлеките нечетные элементы матрицы А."
   ]
  },
  {
   "cell_type": "code",
   "execution_count": 46,
   "metadata": {},
   "outputs": [
    {
     "data": {
      "text/plain": [
       "array([[ 0,  1,  2,  3,  4],\n",
       "       [10, 11, 12, 13, 14],\n",
       "       [20, 21, 22, 23, 24],\n",
       "       [30, 31, 32, 33, 34],\n",
       "       [40, 41, 42, 43, 44]])"
      ]
     },
     "execution_count": 46,
     "metadata": {},
     "output_type": "execute_result"
    }
   ],
   "source": [
    "A"
   ]
  },
  {
   "cell_type": "code",
   "execution_count": 47,
   "metadata": {
    "colab": {
     "base_uri": "https://localhost:8080/"
    },
    "id": "Fg1ISCQUubVf",
    "outputId": "3fdef207-e8fa-407f-8a58-c47f7a425248"
   },
   "outputs": [
    {
     "data": {
      "text/plain": [
       "array([[ 1,  3],\n",
       "       [11, 13],\n",
       "       [21, 23],\n",
       "       [31, 33],\n",
       "       [41, 43]])"
      ]
     },
     "execution_count": 47,
     "metadata": {},
     "output_type": "execute_result"
    }
   ],
   "source": [
    "answer = A[::, 1::2]\n",
    "answer"
   ]
  },
  {
   "cell_type": "markdown",
   "metadata": {
    "id": "5AyoM14UrCXQ"
   },
   "source": [
    "### Необычное индексирование"
   ]
  },
  {
   "cell_type": "markdown",
   "metadata": {
    "id": "g9BZn0DgrCXQ"
   },
   "source": [
    "О необычном индексировании говорят, когда массив или список используется в качестве индекса:"
   ]
  },
  {
   "cell_type": "code",
   "execution_count": null,
   "metadata": {
    "id": "xtvWixGyrCXR",
    "outputId": "508b4633-8375-4bad-e21a-0e453b59f588"
   },
   "outputs": [
    {
     "data": {
      "text/plain": [
       "array([[10, 11, 12, 13, 14],\n",
       "       [20, 21, 22, 23, 24],\n",
       "       [30, 31, 32, 33, 34]])"
      ]
     },
     "execution_count": 93,
     "metadata": {},
     "output_type": "execute_result"
    }
   ],
   "source": [
    "row_indices = [1, 2, 3]\n",
    "A[row_indices]"
   ]
  },
  {
   "cell_type": "code",
   "execution_count": null,
   "metadata": {
    "id": "-pFPsRp_rCXR",
    "outputId": "830fb224-16f2-4f8f-df1c-c6cd44bbc8ad"
   },
   "outputs": [
    {
     "data": {
      "text/plain": [
       "array([[ 1,  2,  4],\n",
       "       [11, 12, 14],\n",
       "       [21, 22, 24],\n",
       "       [31, 32, 34],\n",
       "       [41, 42, 44]])"
      ]
     },
     "execution_count": 94,
     "metadata": {},
     "output_type": "execute_result"
    }
   ],
   "source": [
    "col_indices = [1, 2, -1] # вспомним, что -1 это последний элемент\n",
    "A[:,col_indices]"
   ]
  },
  {
   "cell_type": "markdown",
   "metadata": {
    "id": "6ZM39bjarCXR"
   },
   "source": [
    "Можно также использовать индексные маски: Если индексная маска представляет собой массив Numpy типа данных `bool`, то элемент выбирается (True) или нет (False) в зависимости от значения индексной маски в позиции каждого элемента:"
   ]
  },
  {
   "cell_type": "code",
   "execution_count": null,
   "metadata": {
    "id": "CUYSefEgrCXR",
    "outputId": "cb4c71d1-b264-43b6-d9c1-9e7b2e2dba9e"
   },
   "outputs": [
    {
     "data": {
      "text/plain": [
       "array([0, 1, 2, 3, 4])"
      ]
     },
     "execution_count": 95,
     "metadata": {},
     "output_type": "execute_result"
    }
   ],
   "source": [
    "B = array([n for n in range(5)])\n",
    "B"
   ]
  },
  {
   "cell_type": "code",
   "execution_count": null,
   "metadata": {
    "id": "pWc2TWXdrCXR",
    "outputId": "bdca5d84-c0ac-439f-e9d9-7e22bef59134"
   },
   "outputs": [
    {
     "data": {
      "text/plain": [
       "array([0, 2])"
      ]
     },
     "execution_count": 96,
     "metadata": {},
     "output_type": "execute_result"
    }
   ],
   "source": [
    "row_mask = array([True, False, True, False, False])\n",
    "B[row_mask]"
   ]
  },
  {
   "cell_type": "code",
   "execution_count": null,
   "metadata": {
    "id": "NQU-HcWqrCXR",
    "outputId": "f62785f1-4d92-4975-bacf-3d2a1c4c6af5"
   },
   "outputs": [
    {
     "data": {
      "text/plain": [
       "array([0, 2])"
      ]
     },
     "execution_count": 97,
     "metadata": {},
     "output_type": "execute_result"
    }
   ],
   "source": [
    "# тот же результат\n",
    "row_mask = array([1,0,1,0,0], dtype=bool)\n",
    "B[row_mask]"
   ]
  },
  {
   "cell_type": "markdown",
   "metadata": {
    "id": "H0cqYbOurCXS"
   },
   "source": [
    "Эта функция очень полезна для условного выбора элементов из массива, используя, например, операторы сравнения:"
   ]
  },
  {
   "cell_type": "code",
   "execution_count": null,
   "metadata": {
    "id": "K4PzSYKErCXS",
    "outputId": "1fad15a3-35ef-4b91-83e4-7fb7e6a80b64"
   },
   "outputs": [
    {
     "data": {
      "text/plain": [
       "array([0. , 0.5, 1. , 1.5, 2. , 2.5, 3. , 3.5, 4. , 4.5, 5. , 5.5, 6. ,\n",
       "       6.5, 7. , 7.5, 8. , 8.5, 9. , 9.5])"
      ]
     },
     "execution_count": 98,
     "metadata": {},
     "output_type": "execute_result"
    }
   ],
   "source": [
    "x = arange(0, 10, 0.5)\n",
    "x"
   ]
  },
  {
   "cell_type": "code",
   "execution_count": null,
   "metadata": {
    "id": "2gPQf743rCXS",
    "outputId": "66c3bc10-49ca-4731-fe31-080172cdd19a"
   },
   "outputs": [
    {
     "data": {
      "text/plain": [
       "array([False, False, False, False, False, False, False, False, False,\n",
       "       False, False,  True,  True,  True,  True, False, False, False,\n",
       "       False, False])"
      ]
     },
     "execution_count": 99,
     "metadata": {},
     "output_type": "execute_result"
    }
   ],
   "source": [
    "mask = (5 < x) * (x < 7.5)\n",
    "\n",
    "mask"
   ]
  },
  {
   "cell_type": "code",
   "execution_count": null,
   "metadata": {
    "id": "jMslPqMyrCXS",
    "outputId": "f7abbd82-0aec-42b1-f803-8f1336201505"
   },
   "outputs": [
    {
     "data": {
      "text/plain": [
       "array([5.5, 6. , 6.5, 7. ])"
      ]
     },
     "execution_count": 100,
     "metadata": {},
     "output_type": "execute_result"
    }
   ],
   "source": [
    "x[mask]"
   ]
  },
  {
   "cell_type": "markdown",
   "metadata": {
    "id": "s7sJzLijrCXT"
   },
   "source": [
    "# Задание 5\n",
    "## Используйте массив из задания 1 (таблицу умножения) извлеките из него при помощи маски все числа кратные 3."
   ]
  },
  {
   "cell_type": "code",
   "execution_count": 50,
   "metadata": {
    "colab": {
     "base_uri": "https://localhost:8080/"
    },
    "id": "C0xYCx-LusQF",
    "outputId": "fed9108e-7c1e-4754-cedf-47d23a0ac29e"
   },
   "outputs": [
    {
     "data": {
      "text/plain": [
       "array([ 3,  6,  9,  6, 12, 18,  3,  6,  9, 12, 15, 18, 21, 24, 27, 30, 12,\n",
       "       24, 36, 15, 30, 45,  6, 12, 18, 24, 30, 36, 42, 48, 54, 60, 21, 42,\n",
       "       63, 24, 48, 72,  9, 18, 27, 36, 45, 54, 63, 72, 81, 90, 30, 60, 90])"
      ]
     },
     "execution_count": 50,
     "metadata": {},
     "output_type": "execute_result"
    }
   ],
   "source": [
    "answer = arr[arr%3==0]\n",
    "answer"
   ]
  },
  {
   "cell_type": "markdown",
   "metadata": {
    "id": "kQyGRRvArCXT"
   },
   "source": [
    "## Функции для извлечения данных из массивов и создания массивов"
   ]
  },
  {
   "cell_type": "markdown",
   "metadata": {
    "id": "JcahdC5nrCXT"
   },
   "source": [
    "### Функция where"
   ]
  },
  {
   "cell_type": "markdown",
   "metadata": {
    "id": "Fz9UheWmrCXT"
   },
   "source": [
    "Индексную маску можно превратить в список индексов, используя `where`:"
   ]
  },
  {
   "cell_type": "code",
   "execution_count": null,
   "metadata": {
    "id": "EEYuPC-wrCXT",
    "outputId": "41e1d2ec-d5e8-428d-cbb9-2fc734770146"
   },
   "outputs": [
    {
     "data": {
      "text/plain": [
       "(array([11, 12, 13, 14], dtype=int64),)"
      ]
     },
     "execution_count": 102,
     "metadata": {},
     "output_type": "execute_result"
    }
   ],
   "source": [
    "indices = where(mask)\n",
    "\n",
    "indices"
   ]
  },
  {
   "cell_type": "code",
   "execution_count": null,
   "metadata": {
    "id": "ESo3nTG3rCXT",
    "outputId": "73b02a40-cf80-49ec-9afd-037353944fbf"
   },
   "outputs": [
    {
     "data": {
      "text/plain": [
       "array([5.5, 6. , 6.5, 7. ])"
      ]
     },
     "execution_count": 103,
     "metadata": {},
     "output_type": "execute_result"
    }
   ],
   "source": [
    "x[indices] # действие этого списка эквивалентно маске, т.е. x[mask]"
   ]
  },
  {
   "cell_type": "markdown",
   "metadata": {
    "id": "Lnm4evxxrCXT"
   },
   "source": [
    "### Функция diag"
   ]
  },
  {
   "cell_type": "markdown",
   "metadata": {
    "id": "kRJWim5prCXU"
   },
   "source": [
    "При помощи функции diag можно извлекать диагональные элементы с главной и смещенных диагоналей:"
   ]
  },
  {
   "cell_type": "code",
   "execution_count": null,
   "metadata": {
    "id": "pFVHgQ08rCXU",
    "outputId": "da87855f-4762-4c1d-9c40-c846bea2b234"
   },
   "outputs": [
    {
     "data": {
      "text/plain": [
       "array([ 0, 11, 22, 33, 44])"
      ]
     },
     "execution_count": 104,
     "metadata": {},
     "output_type": "execute_result"
    }
   ],
   "source": [
    "diag(A)"
   ]
  },
  {
   "cell_type": "code",
   "execution_count": null,
   "metadata": {
    "id": "Iz643nlFrCXU",
    "outputId": "6dde9b9c-2b65-429a-84bd-4a1cf7bacdbd"
   },
   "outputs": [
    {
     "data": {
      "text/plain": [
       "array([10, 21, 32, 43])"
      ]
     },
     "execution_count": 105,
     "metadata": {},
     "output_type": "execute_result"
    }
   ],
   "source": [
    "diag(A, -1)"
   ]
  },
  {
   "cell_type": "markdown",
   "metadata": {
    "id": "Fz5zahIErCXU"
   },
   "source": [
    "### Функция take"
   ]
  },
  {
   "cell_type": "markdown",
   "metadata": {
    "id": "LrSmQEFprCXU"
   },
   "source": [
    "Функция `take` подобна описанной выше необычной индексации:"
   ]
  },
  {
   "cell_type": "code",
   "execution_count": null,
   "metadata": {
    "id": "kpxGsPMhrCXU",
    "outputId": "5ec3336d-c538-48c3-e76e-295517b990ad"
   },
   "outputs": [
    {
     "data": {
      "text/plain": [
       "array([-3, -2, -1,  0,  1,  2])"
      ]
     },
     "execution_count": 106,
     "metadata": {},
     "output_type": "execute_result"
    }
   ],
   "source": [
    "v2 = arange(-3,3)\n",
    "v2"
   ]
  },
  {
   "cell_type": "code",
   "execution_count": null,
   "metadata": {
    "id": "ptmJaw_QrCXV",
    "outputId": "473cbc94-1b16-49f1-92da-d34072b4f96c"
   },
   "outputs": [
    {
     "data": {
      "text/plain": [
       "array([-2,  0,  2])"
      ]
     },
     "execution_count": 107,
     "metadata": {},
     "output_type": "execute_result"
    }
   ],
   "source": [
    "row_indices = [1, 3, 5]\n",
    "v2[row_indices] # необычная индексация"
   ]
  },
  {
   "cell_type": "code",
   "execution_count": null,
   "metadata": {
    "id": "pnyHO3yYrCXV",
    "outputId": "f1f756d9-20ba-4d7a-b4e0-5dffa3b0a5a3"
   },
   "outputs": [
    {
     "data": {
      "text/plain": [
       "array([-2,  0,  2])"
      ]
     },
     "execution_count": 108,
     "metadata": {},
     "output_type": "execute_result"
    }
   ],
   "source": [
    "v2.take(row_indices)"
   ]
  },
  {
   "cell_type": "markdown",
   "metadata": {
    "id": "PB9OuinOrCXV"
   },
   "source": [
    "Но функция `take` так же работает на списках и других объектах:"
   ]
  },
  {
   "cell_type": "code",
   "execution_count": null,
   "metadata": {
    "id": "g8G_RUb1rCXV",
    "outputId": "1186538f-f537-42e0-c747-925a12df4100"
   },
   "outputs": [
    {
     "data": {
      "text/plain": [
       "array([-2,  0,  2])"
      ]
     },
     "execution_count": 109,
     "metadata": {},
     "output_type": "execute_result"
    }
   ],
   "source": [
    "take([-3, -2, -1,  0,  1,  2], row_indices)"
   ]
  },
  {
   "cell_type": "markdown",
   "metadata": {
    "id": "gw4svl4OrCXV"
   },
   "source": [
    "### Функция choose"
   ]
  },
  {
   "cell_type": "markdown",
   "metadata": {
    "id": "14rkeErrrCXW"
   },
   "source": [
    "Создает массив собирая элементы из нескольких массивов:"
   ]
  },
  {
   "cell_type": "code",
   "execution_count": null,
   "metadata": {
    "colab": {
     "base_uri": "https://localhost:8080/"
    },
    "id": "8Fi0F3SZrCXW",
    "outputId": "5003724b-71eb-4b62-bab7-e152694fb05c"
   },
   "outputs": [
    {
     "data": {
      "text/plain": [
       "array([ 5, -2,  5, -2])"
      ]
     },
     "execution_count": 148,
     "metadata": {},
     "output_type": "execute_result"
    }
   ],
   "source": [
    "which = [1, 0, 1, 0]\n",
    "choices = [[-2,-2,-2,-2], [5,5,5,5]]\n",
    "\n",
    "choose(which, choices)"
   ]
  },
  {
   "cell_type": "markdown",
   "metadata": {
    "id": "HXmZhbzJrCXW"
   },
   "source": [
    "# Задание 6\n",
    "## Разбить массив таблицы умножения из задания 1 на два массива содержащие четные и нечетные значения, а затем собрать его в исходное состояние используя choose()"
   ]
  },
  {
   "cell_type": "code",
   "execution_count": 51,
   "metadata": {
    "colab": {
     "base_uri": "https://localhost:8080/"
    },
    "id": "_UPz9v94230x",
    "outputId": "42060ef9-9367-41b0-b050-c22754aaee0e"
   },
   "outputs": [
    {
     "data": {
      "text/plain": [
       "array([[  1,   2,   3,   4,   5,   6,   7,   8,   9,  10],\n",
       "       [  2,   4,   6,   8,  10,  12,  14,  16,  18,  20],\n",
       "       [  3,   6,   9,  12,  15,  18,  21,  24,  27,  30],\n",
       "       [  4,   8,  12,  16,  20,  24,  28,  32,  36,  40],\n",
       "       [  5,  10,  15,  20,  25,  30,  35,  40,  45,  50],\n",
       "       [  6,  12,  18,  24,  30,  36,  42,  48,  54,  60],\n",
       "       [  7,  14,  21,  28,  35,  42,  49,  56,  63,  70],\n",
       "       [  8,  16,  24,  32,  40,  48,  56,  64,  72,  80],\n",
       "       [  9,  18,  27,  36,  45,  54,  63,  72,  81,  90],\n",
       "       [ 10,  20,  30,  40,  50,  60,  70,  80,  90, 100]])"
      ]
     },
     "execution_count": 51,
     "metadata": {},
     "output_type": "execute_result"
    }
   ],
   "source": [
    "arr"
   ]
  },
  {
   "cell_type": "code",
   "execution_count": 62,
   "metadata": {
    "colab": {
     "base_uri": "https://localhost:8080/"
    },
    "id": "L-4ypsGWvS-l",
    "outputId": "9d105b87-74d6-4680-bccd-e9f2dbb289f5"
   },
   "outputs": [
    {
     "data": {
      "text/plain": [
       "[[2, 4, 6, 8, 10],\n",
       " [2, 4, 6, 8, 10, 12, 14, 16, 18, 20],\n",
       " [6, 12, 18, 24, 30],\n",
       " [4, 8, 12, 16, 20, 24, 28, 32, 36, 40],\n",
       " [10, 20, 30, 40, 50],\n",
       " [6, 12, 18, 24, 30, 36, 42, 48, 54, 60],\n",
       " [14, 28, 42, 56, 70],\n",
       " [8, 16, 24, 32, 40, 48, 56, 64, 72, 80],\n",
       " [18, 36, 54, 72, 90],\n",
       " [10, 20, 30, 40, 50, 60, 70, 80, 90, 100]]"
      ]
     },
     "execution_count": 62,
     "metadata": {},
     "output_type": "execute_result"
    }
   ],
   "source": [
    "even = [[n for n in row if n%2==0] for row in arr]\n",
    "odd = [[n for n in row if n%2==1] for row in arr]\n",
    "\n",
    "\n",
    "even"
   ]
  },
  {
   "cell_type": "code",
   "execution_count": 63,
   "metadata": {
    "colab": {
     "base_uri": "https://localhost:8080/"
    },
    "id": "hyQGcSQx3so_",
    "outputId": "4e8a78f7-839c-40f1-d7f4-1f5ed0d1a400"
   },
   "outputs": [
    {
     "data": {
      "text/plain": [
       "[[1, 3, 5, 7, 9],\n",
       " [],\n",
       " [3, 9, 15, 21, 27],\n",
       " [],\n",
       " [5, 15, 25, 35, 45],\n",
       " [],\n",
       " [7, 21, 35, 49, 63],\n",
       " [],\n",
       " [9, 27, 45, 63, 81],\n",
       " []]"
      ]
     },
     "execution_count": 63,
     "metadata": {},
     "output_type": "execute_result"
    }
   ],
   "source": [
    "odd"
   ]
  },
  {
   "cell_type": "code",
   "execution_count": 68,
   "metadata": {
    "colab": {
     "base_uri": "https://localhost:8080/"
    },
    "id": "9xK2qSyr1GGs",
    "outputId": "701c23e5-d7ac-47ba-bb13-ceee10d9beb2"
   },
   "outputs": [
    {
     "data": {
      "text/plain": [
       "array([[  1.,   2.,   3.,   4.,   5.,   6.,   7.,   8.,   9.,  10.],\n",
       "       [  2.,   4.,   6.,   8.,  10.,  12.,  14.,  16.,  18.,  20.],\n",
       "       [  3.,   6.,   9.,  12.,  15.,  18.,  21.,  24.,  27.,  30.],\n",
       "       [  4.,   8.,  12.,  16.,  20.,  24.,  28.,  32.,  36.,  40.],\n",
       "       [  5.,  10.,  15.,  20.,  25.,  30.,  35.,  40.,  45.,  50.],\n",
       "       [  6.,  12.,  18.,  24.,  30.,  36.,  42.,  48.,  54.,  60.],\n",
       "       [  7.,  14.,  21.,  28.,  35.,  42.,  49.,  56.,  63.,  70.],\n",
       "       [  8.,  16.,  24.,  32.,  40.,  48.,  56.,  64.,  72.,  80.],\n",
       "       [  9.,  18.,  27.,  36.,  45.,  54.,  63.,  72.,  81.,  90.],\n",
       "       [ 10.,  20.,  30.,  40.,  50.,  60.,  70.,  80.,  90., 100.]])"
      ]
     },
     "execution_count": 68,
     "metadata": {},
     "output_type": "execute_result"
    }
   ],
   "source": [
    "answer = zeros((10, 10))\n",
    "\n",
    "for i in range(answer.shape[0]):\n",
    "    \n",
    "    answer[i] = choose([0, 1]*5, [sorted(b[i]*2), sorted(a[i]*2)]) if b[i] else a[i]\n",
    "\n",
    "    # if i%2:\n",
    "    #     answer[i] = a[i]\n",
    "    # else:\n",
    "    #     answer[i] = choose([0, 1] * 5, [sorted(b[i]*2), sorted(a[i]*2)])\n",
    "\n",
    "answer"
   ]
  },
  {
   "cell_type": "markdown",
   "metadata": {
    "id": "ukND1Q98rCXW"
   },
   "source": [
    "## Линейная алгебра"
   ]
  },
  {
   "cell_type": "markdown",
   "metadata": {
    "id": "Jqi6BBYLrCXW"
   },
   "source": [
    "Векторизация кода-это ключ к написанию эффективных численных вычислений с помощью Python / Numpy. Это означает, что максимально возможная часть программы должна быть сформулирована в терминах матричных и векторных операций, таких как матричного умножения."
   ]
  },
  {
   "cell_type": "markdown",
   "metadata": {
    "id": "cPB_ISevrCXW"
   },
   "source": [
    "### Операции между числами и векторами"
   ]
  },
  {
   "cell_type": "markdown",
   "metadata": {
    "id": "-OAI6QRvrCXW"
   },
   "source": [
    "Мы можем использовать обычные арифметические операторы для умножения, сложения, вычитания и деления массивов со скалярами или обычными числами."
   ]
  },
  {
   "cell_type": "code",
   "execution_count": null,
   "metadata": {
    "id": "se57_TAKrCXX"
   },
   "outputs": [],
   "source": [
    "v1 = arange(0, 5)"
   ]
  },
  {
   "cell_type": "code",
   "execution_count": null,
   "metadata": {
    "id": "cASF8t5arCXX",
    "outputId": "a36ccc20-ad83-46d5-e053-17fedc347912"
   },
   "outputs": [
    {
     "data": {
      "text/plain": [
       "array([0, 2, 4, 6, 8])"
      ]
     },
     "execution_count": 157,
     "metadata": {},
     "output_type": "execute_result"
    }
   ],
   "source": [
    "v1 * 2"
   ]
  },
  {
   "cell_type": "code",
   "execution_count": null,
   "metadata": {
    "id": "9d9f4LvprCXX",
    "outputId": "fef28922-6e64-40a5-8fbb-5842cd2161c6"
   },
   "outputs": [
    {
     "data": {
      "text/plain": [
       "array([2, 3, 4, 5, 6])"
      ]
     },
     "execution_count": 158,
     "metadata": {},
     "output_type": "execute_result"
    }
   ],
   "source": [
    "v1 + 2"
   ]
  },
  {
   "cell_type": "code",
   "execution_count": null,
   "metadata": {
    "id": "jlJo8KC6rCXX",
    "outputId": "6e800586-9c4e-4e73-edeb-9afab0270218"
   },
   "outputs": [
    {
     "data": {
      "text/plain": [
       "(array([[ 0,  2,  4,  6,  8],\n",
       "        [20, 22, 24, 26, 28],\n",
       "        [40, 42, 44, 46, 48],\n",
       "        [60, 62, 64, 66, 68],\n",
       "        [80, 82, 84, 86, 88]]),\n",
       " array([[ 2,  3,  4,  5,  6],\n",
       "        [12, 13, 14, 15, 16],\n",
       "        [22, 23, 24, 25, 26],\n",
       "        [32, 33, 34, 35, 36],\n",
       "        [42, 43, 44, 45, 46]]))"
      ]
     },
     "execution_count": 159,
     "metadata": {},
     "output_type": "execute_result"
    }
   ],
   "source": [
    "A * 2, A + 2"
   ]
  },
  {
   "cell_type": "markdown",
   "metadata": {
    "id": "S9HO6ky-rCXY"
   },
   "source": [
    "### Поэлементные операции между массивами"
   ]
  },
  {
   "cell_type": "markdown",
   "metadata": {
    "id": "zhJV82OTrCXY"
   },
   "source": [
    "Когда мы складываем, вычитаем, умножаем и делим массивы друг с другом, поведение по умолчанию-это операции **по элементам**, т.е. между элементами с совпадающими индексами:"
   ]
  },
  {
   "cell_type": "code",
   "execution_count": null,
   "metadata": {
    "id": "7x1zviDVrCXY",
    "outputId": "9eb1c264-b250-4d28-8e1f-68054fa757e1"
   },
   "outputs": [
    {
     "data": {
      "text/plain": [
       "array([[   0,    1,    4,    9,   16],\n",
       "       [ 100,  121,  144,  169,  196],\n",
       "       [ 400,  441,  484,  529,  576],\n",
       "       [ 900,  961, 1024, 1089, 1156],\n",
       "       [1600, 1681, 1764, 1849, 1936]])"
      ]
     },
     "execution_count": 160,
     "metadata": {},
     "output_type": "execute_result"
    }
   ],
   "source": [
    "A * A # поэлементное умножение"
   ]
  },
  {
   "cell_type": "code",
   "execution_count": null,
   "metadata": {
    "id": "7plyly3erCXY",
    "outputId": "f54905d9-26a0-4d45-e791-ff2d520580c1"
   },
   "outputs": [
    {
     "data": {
      "text/plain": [
       "array([ 0,  1,  4,  9, 16])"
      ]
     },
     "execution_count": 161,
     "metadata": {},
     "output_type": "execute_result"
    }
   ],
   "source": [
    "v1 * v1"
   ]
  },
  {
   "cell_type": "markdown",
   "metadata": {
    "id": "OgXlOt6XrCXY"
   },
   "source": [
    "Если мы умножим массивы с совместимыми размерами, то получим элементарное умножение каждой строки:"
   ]
  },
  {
   "cell_type": "code",
   "execution_count": null,
   "metadata": {
    "id": "Bg975YdHrCXY",
    "outputId": "e063b35a-1358-419d-b64b-527745baf3ca"
   },
   "outputs": [
    {
     "data": {
      "text/plain": [
       "((5, 5), (5,))"
      ]
     },
     "execution_count": 162,
     "metadata": {},
     "output_type": "execute_result"
    }
   ],
   "source": [
    "A.shape, v1.shape"
   ]
  },
  {
   "cell_type": "code",
   "execution_count": null,
   "metadata": {
    "id": "46CJZRczrCXZ",
    "outputId": "2ea8a7c1-0427-4758-eac8-e1d67dc703ab"
   },
   "outputs": [
    {
     "data": {
      "text/plain": [
       "array([[  0,   1,   4,   9,  16],\n",
       "       [  0,  11,  24,  39,  56],\n",
       "       [  0,  21,  44,  69,  96],\n",
       "       [  0,  31,  64,  99, 136],\n",
       "       [  0,  41,  84, 129, 176]])"
      ]
     },
     "execution_count": 163,
     "metadata": {},
     "output_type": "execute_result"
    }
   ],
   "source": [
    "A * v1"
   ]
  },
  {
   "cell_type": "markdown",
   "metadata": {
    "id": "bymYpoerrCXZ"
   },
   "source": [
    "### Алгебра матриц"
   ]
  },
  {
   "cell_type": "markdown",
   "metadata": {
    "id": "x2GfDcZbrCXZ"
   },
   "source": [
    "А как насчет умножения матриц? Есть два пути. Мы можем либо использовать функцию `dot`, которая применяет умножение матрица-матрица, матрица-вектор или скалярное векторное к своим двум аргументам:"
   ]
  },
  {
   "cell_type": "code",
   "execution_count": null,
   "metadata": {
    "id": "g4Y90pdlrCXZ",
    "outputId": "0430dd25-7114-4ed8-b909-c405a94c4d99"
   },
   "outputs": [
    {
     "data": {
      "text/plain": [
       "array([[ 300,  310,  320,  330,  340],\n",
       "       [1300, 1360, 1420, 1480, 1540],\n",
       "       [2300, 2410, 2520, 2630, 2740],\n",
       "       [3300, 3460, 3620, 3780, 3940],\n",
       "       [4300, 4510, 4720, 4930, 5140]])"
      ]
     },
     "execution_count": 164,
     "metadata": {},
     "output_type": "execute_result"
    }
   ],
   "source": [
    "dot(A, A)"
   ]
  },
  {
   "cell_type": "code",
   "execution_count": null,
   "metadata": {
    "id": "IOtgtdb7rCXZ",
    "outputId": "73b53f1f-1ae3-4790-c8d4-5c75422996bf"
   },
   "outputs": [
    {
     "data": {
      "text/plain": [
       "array([ 30, 130, 230, 330, 430])"
      ]
     },
     "execution_count": 165,
     "metadata": {},
     "output_type": "execute_result"
    }
   ],
   "source": [
    "dot(A, v1)"
   ]
  },
  {
   "cell_type": "code",
   "execution_count": null,
   "metadata": {
    "id": "gLCICtiPrCXa",
    "outputId": "d4825c65-cd09-4bf3-f837-87d08ebc8e37"
   },
   "outputs": [
    {
     "data": {
      "text/plain": [
       "30"
      ]
     },
     "execution_count": 166,
     "metadata": {},
     "output_type": "execute_result"
    }
   ],
   "source": [
    "dot(v1, v1)"
   ]
  },
  {
   "cell_type": "markdown",
   "metadata": {
    "id": "YAzE-QOIrCXa"
   },
   "source": [
    "В качестве альтернативы мы можем привести объекты типа массива к типу `matrix`. Это изменяет поведение стандартных арифметических операторов `+, -, *` для использования алгебры матриц."
   ]
  },
  {
   "cell_type": "code",
   "execution_count": null,
   "metadata": {
    "id": "qNF5q6YorCXa"
   },
   "outputs": [],
   "source": [
    "M = matrix(A)\n",
    "v = matrix(v1).T # транспонирует массив в вектор столбец"
   ]
  },
  {
   "cell_type": "code",
   "execution_count": null,
   "metadata": {
    "id": "tzX6YnUirCXa",
    "outputId": "24b1f422-6889-4bb0-cd96-63df1b339610"
   },
   "outputs": [
    {
     "data": {
      "text/plain": [
       "matrix([[0],\n",
       "        [1],\n",
       "        [2],\n",
       "        [3],\n",
       "        [4]])"
      ]
     },
     "execution_count": 168,
     "metadata": {},
     "output_type": "execute_result"
    }
   ],
   "source": [
    "v"
   ]
  },
  {
   "cell_type": "code",
   "execution_count": null,
   "metadata": {
    "id": "yEmrlW_9rCXa",
    "outputId": "d2668b7e-210b-4c8c-dabb-0aa171b0004e"
   },
   "outputs": [
    {
     "data": {
      "text/plain": [
       "matrix([[ 300,  310,  320,  330,  340],\n",
       "        [1300, 1360, 1420, 1480, 1540],\n",
       "        [2300, 2410, 2520, 2630, 2740],\n",
       "        [3300, 3460, 3620, 3780, 3940],\n",
       "        [4300, 4510, 4720, 4930, 5140]])"
      ]
     },
     "execution_count": 169,
     "metadata": {},
     "output_type": "execute_result"
    }
   ],
   "source": [
    "M * M"
   ]
  },
  {
   "cell_type": "code",
   "execution_count": null,
   "metadata": {
    "id": "GyU3DcZ3rCXb",
    "outputId": "40004240-4506-47be-a197-e46430114c49"
   },
   "outputs": [
    {
     "data": {
      "text/plain": [
       "matrix([[ 30],\n",
       "        [130],\n",
       "        [230],\n",
       "        [330],\n",
       "        [430]])"
      ]
     },
     "execution_count": 170,
     "metadata": {},
     "output_type": "execute_result"
    }
   ],
   "source": [
    "M * v"
   ]
  },
  {
   "cell_type": "code",
   "execution_count": null,
   "metadata": {
    "id": "BBC1Uqp2rCXb",
    "outputId": "1cdb9b4c-add8-49cf-e184-52411b269857"
   },
   "outputs": [
    {
     "data": {
      "text/plain": [
       "matrix([[30]])"
      ]
     },
     "execution_count": 171,
     "metadata": {},
     "output_type": "execute_result"
    }
   ],
   "source": [
    "# скалярное произведение\n",
    "v.T * v"
   ]
  },
  {
   "cell_type": "code",
   "execution_count": null,
   "metadata": {
    "id": "n_5LPUz6rCXb",
    "outputId": "c223a152-96e2-4f67-df6e-404677a57f4a"
   },
   "outputs": [
    {
     "data": {
      "text/plain": [
       "matrix([[ 30],\n",
       "        [131],\n",
       "        [232],\n",
       "        [333],\n",
       "        [434]])"
      ]
     },
     "execution_count": 172,
     "metadata": {},
     "output_type": "execute_result"
    }
   ],
   "source": [
    "# с объектами типа matrix работают все операции\n",
    "v + M*v"
   ]
  },
  {
   "cell_type": "markdown",
   "metadata": {
    "id": "K3A8-c5drCXb"
   },
   "source": [
    "Если использовать операции `+, -, *` с несовместимыми объектами будет выброс исключения или ошибки"
   ]
  },
  {
   "cell_type": "code",
   "execution_count": null,
   "metadata": {
    "id": "pCmYxc8TrCXb"
   },
   "outputs": [],
   "source": [
    "v = matrix([1,2,3,4,5]).T"
   ]
  },
  {
   "cell_type": "code",
   "execution_count": null,
   "metadata": {
    "id": "PqvWWGzqrCXb",
    "outputId": "83cd056b-52ce-4d69-b668-6bdd8faeacd3"
   },
   "outputs": [
    {
     "data": {
      "text/plain": [
       "((5, 5), (5, 1))"
      ]
     },
     "execution_count": 174,
     "metadata": {},
     "output_type": "execute_result"
    }
   ],
   "source": [
    "shape(M), shape(v)"
   ]
  },
  {
   "cell_type": "code",
   "execution_count": null,
   "metadata": {
    "id": "Y6tTLqTurCXc",
    "outputId": "4076adf7-4dbf-452f-e1c2-613bf848b539"
   },
   "outputs": [
    {
     "data": {
      "text/plain": [
       "matrix([[ 40],\n",
       "        [190],\n",
       "        [340],\n",
       "        [490],\n",
       "        [640]])"
      ]
     },
     "execution_count": 175,
     "metadata": {},
     "output_type": "execute_result"
    }
   ],
   "source": [
    "M * v"
   ]
  },
  {
   "cell_type": "markdown",
   "metadata": {
    "id": "p0sY-t4urCXc"
   },
   "source": [
    "Посмотрите также другие подобные функции: `inner`, `outer`, `cross`, `kron`, `tensordot`. Попробуйте набрать `help(kron)`."
   ]
  },
  {
   "cell_type": "markdown",
   "metadata": {
    "id": "MoCS0kkZrCXc"
   },
   "source": [
    "### Преобразования массив/матрица"
   ]
  },
  {
   "cell_type": "markdown",
   "metadata": {
    "id": "ng1CQV1erCXc"
   },
   "source": [
    "Выше мы уже использовали `.T` для транспонирования матричного объекта `v`. Мы также могли бы использовать функцию `transpose` для выполнения того же самого.\n",
    "\n",
    "Другими математическими функциями, преобразующими матричные объекты, являются:"
   ]
  },
  {
   "cell_type": "code",
   "execution_count": null,
   "metadata": {
    "id": "UFkspyM3rCXc",
    "outputId": "afe11170-4162-4333-8132-2c54bb268603"
   },
   "outputs": [
    {
     "data": {
      "text/plain": [
       "matrix([[0.+1.j, 0.+2.j],\n",
       "        [0.+3.j, 0.+4.j]])"
      ]
     },
     "execution_count": 176,
     "metadata": {},
     "output_type": "execute_result"
    }
   ],
   "source": [
    "C = matrix([[1j, 2j], [3j, 4j]])\n",
    "C"
   ]
  },
  {
   "cell_type": "code",
   "execution_count": null,
   "metadata": {
    "id": "yYXsiEpDrCXc",
    "outputId": "6935697d-eab4-4ceb-a548-ed83e4cdab3b"
   },
   "outputs": [
    {
     "data": {
      "text/plain": [
       "matrix([[0.-1.j, 0.-2.j],\n",
       "        [0.-3.j, 0.-4.j]])"
      ]
     },
     "execution_count": 177,
     "metadata": {},
     "output_type": "execute_result"
    }
   ],
   "source": [
    "conjugate(C)"
   ]
  },
  {
   "cell_type": "markdown",
   "metadata": {
    "id": "-D2KST5lrCXd"
   },
   "source": [
    "Эрмитово сопряжение: `transpose + conjugate`"
   ]
  },
  {
   "cell_type": "code",
   "execution_count": null,
   "metadata": {
    "id": "weosm_QlrCXd",
    "outputId": "e34cb691-f0b5-45fb-9c5d-89d8ff857d44"
   },
   "outputs": [
    {
     "data": {
      "text/plain": [
       "matrix([[0.-1.j, 0.-3.j],\n",
       "        [0.-2.j, 0.-4.j]])"
      ]
     },
     "execution_count": 178,
     "metadata": {},
     "output_type": "execute_result"
    }
   ],
   "source": [
    "C.H"
   ]
  },
  {
   "cell_type": "markdown",
   "metadata": {
    "id": "rEzIUq2YrCXd"
   },
   "source": [
    "Можно извлекать действительную и мнимую часть комплексного объекта, используя `real` и `imag`:"
   ]
  },
  {
   "cell_type": "code",
   "execution_count": null,
   "metadata": {
    "id": "-ZcxxiyprCXd",
    "outputId": "7d63c135-bb07-4b7a-c54d-86f01ad16f86"
   },
   "outputs": [
    {
     "data": {
      "text/plain": [
       "matrix([[0., 0.],\n",
       "        [0., 0.]])"
      ]
     },
     "execution_count": 179,
     "metadata": {},
     "output_type": "execute_result"
    }
   ],
   "source": [
    "real(C) # то же, что и: C.real"
   ]
  },
  {
   "cell_type": "code",
   "execution_count": null,
   "metadata": {
    "id": "twM36tWkrCXd",
    "outputId": "11f74fb9-a5a6-4416-efb5-519815892ad6"
   },
   "outputs": [
    {
     "data": {
      "text/plain": [
       "matrix([[1., 2.],\n",
       "        [3., 4.]])"
      ]
     },
     "execution_count": 180,
     "metadata": {},
     "output_type": "execute_result"
    }
   ],
   "source": [
    "imag(C) # то же, что и: C.imag"
   ]
  },
  {
   "cell_type": "markdown",
   "metadata": {
    "id": "3fos5LV3rCXe"
   },
   "source": [
    "Или комплексный аргумент(угол) и модуль"
   ]
  },
  {
   "cell_type": "code",
   "execution_count": null,
   "metadata": {
    "id": "InAEyM8erCXe",
    "outputId": "67b3054d-9034-46ea-8d66-e870d47f5b1c"
   },
   "outputs": [
    {
     "data": {
      "text/plain": [
       "matrix([[0.78539816, 1.10714872],\n",
       "        [1.24904577, 1.32581766]])"
      ]
     },
     "execution_count": 181,
     "metadata": {},
     "output_type": "execute_result"
    }
   ],
   "source": [
    "angle(C+1) # для пользователей MATLAB, angle используется вместо arg"
   ]
  },
  {
   "cell_type": "code",
   "execution_count": null,
   "metadata": {
    "id": "j4bBUc30rCXe",
    "outputId": "e3f9f63c-95eb-41c7-e1a2-18195ad6a772"
   },
   "outputs": [
    {
     "data": {
      "text/plain": [
       "matrix([[1., 2.],\n",
       "        [3., 4.]])"
      ]
     },
     "execution_count": 182,
     "metadata": {},
     "output_type": "execute_result"
    }
   ],
   "source": [
    "abs(C)"
   ]
  },
  {
   "cell_type": "markdown",
   "metadata": {
    "id": "1zdQFJP-rCXe"
   },
   "source": [
    "# Задание 7\n",
    "## Даны вектора v1(0,1,2,3,4) v2(5,6,7,8,9) найти угол между ними, учитывая что косинус угла между векторами можно найти как отношения их скалярного произведения к их длинам."
   ]
  },
  {
   "cell_type": "code",
   "execution_count": 70,
   "metadata": {
    "colab": {
     "base_uri": "https://localhost:8080/"
    },
    "id": "c7Oez6JLwJHn",
    "outputId": "10b33905-186e-42f6-d4b7-b4f34a18f479"
   },
   "outputs": [
    {
     "name": "stdout",
     "output_type": "stream",
     "text": [
      "Угол между векторами: 0.9146591207600472\n"
     ]
    }
   ],
   "source": [
    "v1 = array([0, 1, 2, 3, 4])\n",
    "v2 = array([5, 6, 7, 8, 9])\n",
    "\n",
    "dot_product = dot(v1, v2)\n",
    "\n",
    "length_v1 = linalg.norm(v1)\n",
    "length_v2 = linalg.norm(v2)\n",
    "\n",
    "answer = dot_product / (length_v1 * length_v2)\n",
    "print(\"Угол между векторами:\", answer)"
   ]
  },
  {
   "cell_type": "markdown",
   "metadata": {
    "id": "JKDJnuozrCXe"
   },
   "source": [
    "### Вычисления над матрицами"
   ]
  },
  {
   "cell_type": "markdown",
   "metadata": {
    "id": "dZzIGnhIrCXe"
   },
   "source": [
    "#### Функция Inv - инверсия"
   ]
  },
  {
   "cell_type": "code",
   "execution_count": null,
   "metadata": {
    "id": "kYTtoQAnrCXf",
    "outputId": "b722df8d-062a-4acf-8b44-acc95a37d9cd"
   },
   "outputs": [
    {
     "data": {
      "text/plain": [
       "matrix([[0.+2.j , 0.-1.j ],\n",
       "        [0.-1.5j, 0.+0.5j]])"
      ]
     },
     "execution_count": 184,
     "metadata": {},
     "output_type": "execute_result"
    }
   ],
   "source": [
    "linalg.inv(C) # эквивалентно C.I"
   ]
  },
  {
   "cell_type": "code",
   "execution_count": null,
   "metadata": {
    "id": "i73gb-IRrCXf",
    "outputId": "d2124964-6fa9-43a1-c9e4-0a218f89cd85"
   },
   "outputs": [
    {
     "data": {
      "text/plain": [
       "matrix([[1.0000000e+00+0.j, 8.8817842e-16+0.j],\n",
       "        [0.0000000e+00+0.j, 1.0000000e+00+0.j]])"
      ]
     },
     "execution_count": 185,
     "metadata": {},
     "output_type": "execute_result"
    }
   ],
   "source": [
    "C.I * C"
   ]
  },
  {
   "cell_type": "markdown",
   "metadata": {
    "id": "DpYiq9x3rCXf"
   },
   "source": [
    "#### Функция det - детерминант"
   ]
  },
  {
   "cell_type": "code",
   "execution_count": null,
   "metadata": {
    "id": "Q170yf_UrCXf",
    "outputId": "302ad2be-3448-428a-c7eb-845db4aa6b35"
   },
   "outputs": [
    {
     "data": {
      "text/plain": [
       "(2.0000000000000004+0j)"
      ]
     },
     "execution_count": 186,
     "metadata": {},
     "output_type": "execute_result"
    }
   ],
   "source": [
    "linalg.det(C)"
   ]
  },
  {
   "cell_type": "code",
   "execution_count": null,
   "metadata": {
    "id": "umAERtTHrCXf",
    "outputId": "c9d79c8a-57d6-48ea-e92d-1e35e19648b6"
   },
   "outputs": [
    {
     "data": {
      "text/plain": [
       "(0.5+0j)"
      ]
     },
     "execution_count": 187,
     "metadata": {},
     "output_type": "execute_result"
    }
   ],
   "source": [
    "linalg.det(C.I)"
   ]
  },
  {
   "cell_type": "markdown",
   "metadata": {
    "id": "iYxbRJGDrCXf"
   },
   "source": [
    "# Задача 8\n",
    "## Создайте две матрицы размером (5,5). Одна матрица содержит 5 в шахматном порядке как в задаче домашнего задания, другая имеет треугольную форму содержающую 5 на основной диагонали и в позициях выше ее, а ниже все 0. Посчитайте их детерминант и найдите обратные матрицы. Если для матрицы не у дается найти обратную, видимо этому мешает нулевое значение детерминанта."
   ]
  },
  {
   "cell_type": "code",
   "execution_count": 82,
   "metadata": {
    "colab": {
     "base_uri": "https://localhost:8080/"
    },
    "id": "I8F3OW_jwroP",
    "outputId": "42240fea-a7f0-4608-9a52-126c1c869500"
   },
   "outputs": [
    {
     "data": {
      "text/plain": [
       "(array([[0, 5, 0, 5, 0],\n",
       "        [5, 0, 5, 0, 5],\n",
       "        [0, 5, 0, 5, 0],\n",
       "        [5, 0, 5, 0, 5],\n",
       "        [0, 5, 0, 5, 0]]),\n",
       " array([[5, 5, 5, 5, 5],\n",
       "        [0, 5, 5, 5, 5],\n",
       "        [0, 0, 5, 5, 5],\n",
       "        [0, 0, 0, 5, 5],\n",
       "        [0, 0, 0, 0, 5]]))"
      ]
     },
     "execution_count": 82,
     "metadata": {},
     "output_type": "execute_result"
    }
   ],
   "source": [
    "m1 = zeros((5, 5)).astype(int32)\n",
    "\n",
    "m1[::2,1::2]=5\n",
    "m1[1::2,::2]=5\n",
    "\n",
    "\n",
    "m2 = triu(full((5, 5), 5))\n",
    "\n",
    "\n",
    "m1, m2"
   ]
  },
  {
   "cell_type": "code",
   "execution_count": 83,
   "metadata": {
    "colab": {
     "base_uri": "https://localhost:8080/"
    },
    "id": "E6TV-3wFxxU9",
    "outputId": "917c730a-f469-4556-9b5d-93e705e16fc5"
   },
   "outputs": [
    {
     "name": "stdout",
     "output_type": "stream",
     "text": [
      "детерминант первой матрицы:\n",
      "[[0 5 0 5 0]\n",
      " [5 0 5 0 5]\n",
      " [0 5 0 5 0]\n",
      " [5 0 5 0 5]\n",
      " [0 5 0 5 0]]\n",
      " равен 0.0\n"
     ]
    }
   ],
   "source": [
    "det1 = linalg.det(m1)\n",
    "det2 = linalg.det(m2)\n",
    "print(f\"детерминант первой матрицы:\\n{m1}\\n равен {det1}\")"
   ]
  },
  {
   "cell_type": "code",
   "execution_count": 84,
   "metadata": {
    "colab": {
     "base_uri": "https://localhost:8080/"
    },
    "id": "6MjkclMuNm7i",
    "outputId": "1d24fa41-c3e3-4516-a19c-8f8c98737cce"
   },
   "outputs": [
    {
     "name": "stdout",
     "output_type": "stream",
     "text": [
      "Невозможно посчитать обратную матрицу для матрицы:\n",
      "[[0 5 0 5 0]\n",
      " [5 0 5 0 5]\n",
      " [0 5 0 5 0]\n",
      " [5 0 5 0 5]\n",
      " [0 5 0 5 0]]\n"
     ]
    }
   ],
   "source": [
    "try:\n",
    "  inv1 = linalg.inv(m1)\n",
    "  inv1\n",
    "except:\n",
    "  print(f\"Невозможно посчитать обратную матрицу для матрицы:\\n{m1}\")"
   ]
  },
  {
   "cell_type": "code",
   "execution_count": 85,
   "metadata": {
    "colab": {
     "base_uri": "https://localhost:8080/"
    },
    "id": "9ObPq_iXNm7j",
    "outputId": "50f455dc-c00b-4f27-cc67-3761809da039"
   },
   "outputs": [
    {
     "name": "stdout",
     "output_type": "stream",
     "text": [
      "детерминант второй матрицы:\n",
      "[[5 5 5 5 5]\n",
      " [0 5 5 5 5]\n",
      " [0 0 5 5 5]\n",
      " [0 0 0 5 5]\n",
      " [0 0 0 0 5]]\n",
      " равен 3124.999999999999\n"
     ]
    }
   ],
   "source": [
    "print(f\"детерминант второй матрицы:\\n{m2}\\n равен {det2}\")"
   ]
  },
  {
   "cell_type": "code",
   "execution_count": 86,
   "metadata": {
    "colab": {
     "base_uri": "https://localhost:8080/"
    },
    "id": "2a5SeCdcx_2-",
    "outputId": "b4d94010-d512-43de-853c-b70651015798"
   },
   "outputs": [
    {
     "name": "stdout",
     "output_type": "stream",
     "text": [
      "Обратная матрица для матрицы:\n",
      "[[5 5 5 5 5]\n",
      " [0 5 5 5 5]\n",
      " [0 0 5 5 5]\n",
      " [0 0 0 5 5]\n",
      " [0 0 0 0 5]]\n",
      "\n",
      "равна:\n",
      "[[ 0.2 -0.2  0.   0.   0. ]\n",
      " [ 0.   0.2 -0.2  0.   0. ]\n",
      " [ 0.   0.   0.2 -0.2  0. ]\n",
      " [ 0.   0.   0.   0.2 -0.2]\n",
      " [ 0.   0.   0.   0.   0.2]]\n"
     ]
    }
   ],
   "source": [
    "inv2 = linalg.inv(m2)\n",
    "print(f\"Обратная матрица для матрицы:\\n{m2}\\n\\nравна:\\n{inv2}\")"
   ]
  },
  {
   "cell_type": "markdown",
   "metadata": {
    "id": "3d9sN9-OrCXg"
   },
   "source": [
    "### Обработка данных"
   ]
  },
  {
   "cell_type": "markdown",
   "metadata": {
    "id": "j5bwVT82rCXg"
   },
   "source": [
    "Часто бывает полезно хранить наборы данных в массивах Numpy. Numpy предоставляет ряд функций для вычисления статистики наборов данных в массивах.\n",
    "\n",
    "Например, давайте рассчитаем некоторые свойства из набора данных температуры Стокгольма, использованного выше."
   ]
  },
  {
   "cell_type": "code",
   "execution_count": null,
   "metadata": {
    "id": "OoiBdW0yrCXg",
    "outputId": "03c65665-2ac2-4904-e641-6deedf21389c"
   },
   "outputs": [
    {
     "data": {
      "text/plain": [
       "(77431, 7)"
      ]
     },
     "execution_count": 200,
     "metadata": {},
     "output_type": "execute_result"
    }
   ],
   "source": [
    "# напоминаем в переменной data храняться данные температуры в Стокгольме\n",
    "data.shape"
   ]
  },
  {
   "cell_type": "markdown",
   "metadata": {
    "id": "cAk7P3mPrCXg"
   },
   "source": [
    "#### Функция mean"
   ]
  },
  {
   "cell_type": "code",
   "execution_count": null,
   "metadata": {
    "id": "_poItCl6rCXh",
    "outputId": "4c06326f-0b30-4dcc-b6c5-cdce831294a2"
   },
   "outputs": [
    {
     "data": {
      "text/plain": [
       "6.197109684751585"
      ]
     },
     "execution_count": 201,
     "metadata": {},
     "output_type": "execute_result"
    }
   ],
   "source": [
    "# the temperature data is in column 3\n",
    "mean(data[:,3])"
   ]
  },
  {
   "cell_type": "markdown",
   "metadata": {
    "id": "OQjpsXKDrCXh"
   },
   "source": [
    "Средняя дневная температура в Стокгольме за последние 200 лет 6.2 C."
   ]
  },
  {
   "cell_type": "markdown",
   "metadata": {
    "id": "urswzSuprCXh"
   },
   "source": [
    "#### Функции стандартного отклонения и дисперсии"
   ]
  },
  {
   "cell_type": "code",
   "execution_count": null,
   "metadata": {
    "id": "jVLpioHSrCXh",
    "outputId": "883309a6-317d-4acb-c7f8-c88654d5c7ea"
   },
   "outputs": [
    {
     "data": {
      "text/plain": [
       "(8.282271621340573, 68.59602320966341)"
      ]
     },
     "execution_count": 202,
     "metadata": {},
     "output_type": "execute_result"
    }
   ],
   "source": [
    "std(data[:,3]), var(data[:,3])"
   ]
  },
  {
   "cell_type": "code",
   "execution_count": null,
   "metadata": {
    "id": "PawNe-zjrCXh"
   },
   "outputs": [],
   "source": []
  },
  {
   "cell_type": "markdown",
   "metadata": {
    "id": "ivn_VixUrCXh"
   },
   "source": [
    "#### Функции min и max"
   ]
  },
  {
   "cell_type": "code",
   "execution_count": null,
   "metadata": {
    "id": "JqDxAdVQrCXi",
    "outputId": "b6462917-0d04-4139-f86c-8ad07e5d9be9"
   },
   "outputs": [
    {
     "data": {
      "text/plain": [
       "-25.8"
      ]
     },
     "execution_count": 203,
     "metadata": {},
     "output_type": "execute_result"
    }
   ],
   "source": [
    "# минимальная температура\n",
    "data[:,3].min()"
   ]
  },
  {
   "cell_type": "code",
   "execution_count": null,
   "metadata": {
    "id": "3BoJ0XHbrCXi",
    "outputId": "3f2c9b09-5c3b-42e2-f267-f61624f847c8"
   },
   "outputs": [
    {
     "data": {
      "text/plain": [
       "28.3"
      ]
     },
     "execution_count": 204,
     "metadata": {},
     "output_type": "execute_result"
    }
   ],
   "source": [
    "# максимальная температура\n",
    "data[:,3].max()"
   ]
  },
  {
   "cell_type": "markdown",
   "metadata": {
    "id": "rMQfKbmTrCXi"
   },
   "source": [
    "#### Функции sum, prod и trace"
   ]
  },
  {
   "cell_type": "code",
   "execution_count": null,
   "metadata": {
    "id": "1TFNvVFVrCXi",
    "outputId": "a3745971-55b3-4c43-f3b4-d68e987216c0"
   },
   "outputs": [
    {
     "data": {
      "text/plain": [
       "array([0, 1, 2, 3, 4, 5, 6, 7, 8, 9])"
      ]
     },
     "execution_count": 205,
     "metadata": {},
     "output_type": "execute_result"
    }
   ],
   "source": [
    "d = arange(0, 10)\n",
    "d"
   ]
  },
  {
   "cell_type": "code",
   "execution_count": null,
   "metadata": {
    "id": "5pZFBog4rCXi",
    "outputId": "b853b59f-e761-481c-d4d0-b01ae698d9b2"
   },
   "outputs": [
    {
     "data": {
      "text/plain": [
       "45"
      ]
     },
     "execution_count": 206,
     "metadata": {},
     "output_type": "execute_result"
    }
   ],
   "source": [
    "# сумма всех элементов\n",
    "sum(d)"
   ]
  },
  {
   "cell_type": "code",
   "execution_count": null,
   "metadata": {
    "id": "SK4qJgVjrCXj",
    "outputId": "c924e1ea-854a-47d0-9cd0-e3d563b5a04e"
   },
   "outputs": [
    {
     "data": {
      "text/plain": [
       "3628800"
      ]
     },
     "execution_count": 207,
     "metadata": {},
     "output_type": "execute_result"
    }
   ],
   "source": [
    "# произведение всех элементов\n",
    "prod(d+1)"
   ]
  },
  {
   "cell_type": "code",
   "execution_count": null,
   "metadata": {
    "id": "EOURfFcZrCXj",
    "outputId": "c7a909e3-4d9d-4cb5-effa-093c0cfae893"
   },
   "outputs": [
    {
     "data": {
      "text/plain": [
       "array([ 0,  1,  3,  6, 10, 15, 21, 28, 36, 45])"
      ]
     },
     "execution_count": 208,
     "metadata": {},
     "output_type": "execute_result"
    }
   ],
   "source": [
    "# совокупная сумма\n",
    "cumsum(d)"
   ]
  },
  {
   "cell_type": "code",
   "execution_count": null,
   "metadata": {
    "id": "0n3jt1SOrCXj",
    "outputId": "d79b4168-df2f-4547-b65e-6abae19ebc9d"
   },
   "outputs": [
    {
     "data": {
      "text/plain": [
       "array([      1,       2,       6,      24,     120,     720,    5040,\n",
       "         40320,  362880, 3628800])"
      ]
     },
     "execution_count": 209,
     "metadata": {},
     "output_type": "execute_result"
    }
   ],
   "source": [
    "# совокупное произведение\n",
    "cumprod(d+1)"
   ]
  },
  {
   "cell_type": "code",
   "execution_count": null,
   "metadata": {
    "id": "0I_i3XTxrCXj",
    "outputId": "9cbed8b1-0214-4cc8-e499-8af18591d4d4"
   },
   "outputs": [
    {
     "data": {
      "text/plain": [
       "110"
      ]
     },
     "execution_count": 210,
     "metadata": {},
     "output_type": "execute_result"
    }
   ],
   "source": [
    "# тоже что и: diag(A).sum()\n",
    "trace(A)"
   ]
  },
  {
   "cell_type": "markdown",
   "metadata": {
    "id": "fXD6-cPcrCXj"
   },
   "source": [
    "### Вычисления на подмножествах массива"
   ]
  },
  {
   "cell_type": "markdown",
   "metadata": {
    "id": "O7PXYurLrCXj"
   },
   "source": [
    "Можно выполнять вычисления на подмножествах используя индексирование, необычное индексирование и другие методы извлечения данных из массива.\n",
    "\n",
    "Рассмотрим данные массива температур в Стокгольме:"
   ]
  },
  {
   "cell_type": "markdown",
   "metadata": {
    "id": "KnKbTTXNrCXk"
   },
   "source": [
    "Формат данных: год, месяц, день, дневная средняя температура, самая низкая, самая высокая, местность.\n",
    "\n",
    "Если необходимо извлечь среднюю температуру в какой-то конкретный месяц, например февраль, тогда нужно создать маску индексов и использовать ее для извлечения данных только за этот месяц:"
   ]
  },
  {
   "cell_type": "code",
   "execution_count": null,
   "metadata": {
    "id": "4_utecuGrCXk",
    "outputId": "b5fd3894-5b4b-4ea6-fc99-c0c5320fd675"
   },
   "outputs": [
    {
     "data": {
      "text/plain": [
       "array([ 1.,  2.,  3.,  4.,  5.,  6.,  7.,  8.,  9., 10., 11., 12.])"
      ]
     },
     "execution_count": 211,
     "metadata": {},
     "output_type": "execute_result"
    }
   ],
   "source": [
    "unique(data[:,1]) # столбик месяцев от 1 до 12"
   ]
  },
  {
   "cell_type": "code",
   "execution_count": null,
   "metadata": {
    "id": "m-dRI3ArrCXk"
   },
   "outputs": [],
   "source": [
    "mask_feb = data[:,1] == 2"
   ]
  },
  {
   "cell_type": "code",
   "execution_count": null,
   "metadata": {
    "id": "8yCdTByGrCXk",
    "outputId": "fa8bcc0e-dc93-4e2c-8329-8bb121087376"
   },
   "outputs": [
    {
     "data": {
      "text/plain": [
       "-3.212109570736596"
      ]
     },
     "execution_count": 213,
     "metadata": {},
     "output_type": "execute_result"
    }
   ],
   "source": [
    "# температурные данные в столбике 3\n",
    "mean(data[mask_feb,3])"
   ]
  },
  {
   "cell_type": "markdown",
   "metadata": {
    "id": "W06a87TwrCXk"
   },
   "source": [
    "С этими интструментами открываются широкие возможности для обработки данных. Например, чтобы извлечь среднюю температуру за месяц по всем месяцам достаточно несколько строк кода:"
   ]
  },
  {
   "cell_type": "code",
   "execution_count": null,
   "metadata": {
    "id": "GWdWY7qKrCXl",
    "outputId": "19d922dc-1aee-467b-aef2-3224ac7c9529"
   },
   "outputs": [
    {
     "data": {
      "image/png": "[encoded data removed]",
      "text/plain": [
       "<Figure size 640x480 with 1 Axes>"
      ]
     },
     "metadata": {},
     "output_type": "display_data"
    }
   ],
   "source": [
    "months = arange(1,13)\n",
    "monthly_mean = [mean(data[data[:,1] == month, 3]) for month in months]\n",
    "\n",
    "fig, ax = plt.subplots()\n",
    "ax.bar(months, monthly_mean)\n",
    "ax.set_xlabel(\"Month\")\n",
    "ax.set_ylabel(\"Monthly avg. temp.\");"
   ]
  },
  {
   "cell_type": "markdown",
   "metadata": {
    "id": "9M1KABbHrCXl"
   },
   "source": [
    "### Вычисления с данными высокой размерности"
   ]
  },
  {
   "cell_type": "markdown",
   "metadata": {
    "id": "Ne186yzZrCXl"
   },
   "source": [
    "Когда функции, такие как `min`, `max` и т. д. применяются к многомерным массивам, иногда полезно применять расчет ко всему массиву, а иногда только на основе строки или столбца. Используя аргумент `axis`, мы можем указать, как должны вести себя эти функции:"
   ]
  },
  {
   "cell_type": "code",
   "execution_count": null,
   "metadata": {
    "id": "KbDDO1YIrCXl",
    "outputId": "5ee02649-daff-406e-a451-ab8be72e2c62"
   },
   "outputs": [
    {
     "data": {
      "text/plain": [
       "array([[0.73949377, 0.09275941, 0.03574214],\n",
       "       [0.03350165, 0.35047745, 0.82717591],\n",
       "       [0.58454704, 0.94082865, 0.8794392 ]])"
      ]
     },
     "execution_count": 215,
     "metadata": {},
     "output_type": "execute_result"
    }
   ],
   "source": [
    "m = random.rand(3,3)\n",
    "m"
   ]
  },
  {
   "cell_type": "code",
   "execution_count": null,
   "metadata": {
    "id": "og-0lhVFrCXl",
    "outputId": "8fff3148-a1b9-464a-fa79-5c1a3b925a92"
   },
   "outputs": [
    {
     "data": {
      "text/plain": [
       "0.9408286461754912"
      ]
     },
     "execution_count": 216,
     "metadata": {},
     "output_type": "execute_result"
    }
   ],
   "source": [
    "# максимум по массиву\n",
    "m.max()"
   ]
  },
  {
   "cell_type": "code",
   "execution_count": null,
   "metadata": {
    "id": "GdfbVzVGrCXl",
    "outputId": "63d6120c-5215-4983-e2ca-3dff62f8c2c4"
   },
   "outputs": [
    {
     "data": {
      "text/plain": [
       "array([0.73949377, 0.94082865, 0.8794392 ])"
      ]
     },
     "execution_count": 217,
     "metadata": {},
     "output_type": "execute_result"
    }
   ],
   "source": [
    "# максимумы по каждому столбцу\n",
    "m.max(axis=0)"
   ]
  },
  {
   "cell_type": "code",
   "execution_count": null,
   "metadata": {
    "id": "Mp73_lu5rCXm",
    "outputId": "7f16dc66-c82c-4440-96cd-ebc75cdc930c"
   },
   "outputs": [
    {
     "data": {
      "text/plain": [
       "array([0.73949377, 0.82717591, 0.94082865])"
      ]
     },
     "execution_count": 218,
     "metadata": {},
     "output_type": "execute_result"
    }
   ],
   "source": [
    "# максимумы по каждой строке\n",
    "m.max(axis=1)"
   ]
  },
  {
   "cell_type": "markdown",
   "metadata": {
    "id": "yNAgFRSbrCXm"
   },
   "source": [
    "Многие другие функции и методы в классах `array` и `matrix` принимают один и тот же (необязательный) аргумент ключевого слова `axis`."
   ]
  },
  {
   "cell_type": "markdown",
   "metadata": {
    "id": "xm1yVuDUrCXm"
   },
   "source": [
    "## Преобразования формы, размера и соединение массивов"
   ]
  },
  {
   "cell_type": "markdown",
   "metadata": {
    "id": "pfrLR5xOrCXm"
   },
   "source": [
    "Форма массива Numpy может быть изменена без копирования базовых данных, что делает его быстрой операцией даже для больших массивов."
   ]
  },
  {
   "cell_type": "code",
   "execution_count": null,
   "metadata": {
    "id": "1HXt5KbCrCXm",
    "outputId": "eb2f9ec8-7fbc-4ae2-8201-18b3c8ba191f"
   },
   "outputs": [
    {
     "data": {
      "text/plain": [
       "array([[ 0,  1,  2,  3,  4],\n",
       "       [10, 11, 12, 13, 14],\n",
       "       [20, 21, 22, 23, 24],\n",
       "       [30, 31, 32, 33, 34],\n",
       "       [40, 41, 42, 43, 44]])"
      ]
     },
     "execution_count": 219,
     "metadata": {},
     "output_type": "execute_result"
    }
   ],
   "source": [
    "A"
   ]
  },
  {
   "cell_type": "code",
   "execution_count": null,
   "metadata": {
    "id": "5K7CLcrwrCXm"
   },
   "outputs": [],
   "source": [
    "n, m = A.shape"
   ]
  },
  {
   "cell_type": "code",
   "execution_count": null,
   "metadata": {
    "id": "EF7BUEu9rCXn",
    "outputId": "82655b30-615a-4acf-ea4d-35f56d150071"
   },
   "outputs": [
    {
     "data": {
      "text/plain": [
       "array([[ 0,  1,  2,  3,  4, 10, 11, 12, 13, 14, 20, 21, 22, 23, 24, 30,\n",
       "        31, 32, 33, 34, 40, 41, 42, 43, 44]])"
      ]
     },
     "execution_count": 221,
     "metadata": {},
     "output_type": "execute_result"
    }
   ],
   "source": [
    "B = A.reshape((1,n*m))\n",
    "B"
   ]
  },
  {
   "cell_type": "code",
   "execution_count": null,
   "metadata": {
    "id": "ip1izWC_rCXn",
    "outputId": "dc2e037d-d43d-49f0-f9e2-0d4a6c69998b"
   },
   "outputs": [
    {
     "data": {
      "text/plain": [
       "array([[ 5,  5,  5,  5,  5, 10, 11, 12, 13, 14, 20, 21, 22, 23, 24, 30,\n",
       "        31, 32, 33, 34, 40, 41, 42, 43, 44]])"
      ]
     },
     "execution_count": 222,
     "metadata": {},
     "output_type": "execute_result"
    }
   ],
   "source": [
    "B[0,0:5] = 5 # изменим массив\n",
    "\n",
    "B"
   ]
  },
  {
   "cell_type": "code",
   "execution_count": null,
   "metadata": {
    "id": "9StwdHbMrCXn",
    "outputId": "3c84d156-3c66-4a8c-ad79-aad2dd9b8a73"
   },
   "outputs": [
    {
     "data": {
      "text/plain": [
       "array([[ 5,  5,  5,  5,  5],\n",
       "       [10, 11, 12, 13, 14],\n",
       "       [20, 21, 22, 23, 24],\n",
       "       [30, 31, 32, 33, 34],\n",
       "       [40, 41, 42, 43, 44]])"
      ]
     },
     "execution_count": 223,
     "metadata": {},
     "output_type": "execute_result"
    }
   ],
   "source": [
    "A # и оригинальные данные тоже изменятся. A и B это ссылки на одни и теже данные"
   ]
  },
  {
   "cell_type": "markdown",
   "metadata": {
    "id": "632QaVCtrCXn"
   },
   "source": [
    "Мы также можем использовать функцию `flatten`, чтобы превратить массив более высоких измерений в вектор. Но эта функция создает копию данных."
   ]
  },
  {
   "cell_type": "code",
   "execution_count": null,
   "metadata": {
    "id": "PM0milDlrCXo",
    "outputId": "7c4d760f-fc7c-4ffe-f336-10a3077fef00"
   },
   "outputs": [
    {
     "data": {
      "text/plain": [
       "array([ 5,  5,  5,  5,  5, 10, 11, 12, 13, 14, 20, 21, 22, 23, 24, 30, 31,\n",
       "       32, 33, 34, 40, 41, 42, 43, 44])"
      ]
     },
     "execution_count": 224,
     "metadata": {},
     "output_type": "execute_result"
    }
   ],
   "source": [
    "B = A.flatten()\n",
    "\n",
    "B"
   ]
  },
  {
   "cell_type": "code",
   "execution_count": null,
   "metadata": {
    "id": "viCKF3CTrCXo",
    "outputId": "832cb980-418d-41cf-99e6-6a20d408549e"
   },
   "outputs": [
    {
     "data": {
      "text/plain": [
       "array([10, 10, 10, 10, 10, 10, 11, 12, 13, 14, 20, 21, 22, 23, 24, 30, 31,\n",
       "       32, 33, 34, 40, 41, 42, 43, 44])"
      ]
     },
     "execution_count": 225,
     "metadata": {},
     "output_type": "execute_result"
    }
   ],
   "source": [
    "B[0:5] = 10\n",
    "\n",
    "B"
   ]
  },
  {
   "cell_type": "code",
   "execution_count": null,
   "metadata": {
    "id": "BFKptFWNrCXo",
    "outputId": "981373bf-c9db-4cc8-9c78-0a16820fef66"
   },
   "outputs": [
    {
     "data": {
      "text/plain": [
       "array([[ 5,  5,  5,  5,  5],\n",
       "       [10, 11, 12, 13, 14],\n",
       "       [20, 21, 22, 23, 24],\n",
       "       [30, 31, 32, 33, 34],\n",
       "       [40, 41, 42, 43, 44]])"
      ]
     },
     "execution_count": 226,
     "metadata": {},
     "output_type": "execute_result"
    }
   ],
   "source": [
    "A # теперь A неизменилась, поскольку данные B это копия A, теперь B не ссылается на те же данные."
   ]
  },
  {
   "cell_type": "markdown",
   "metadata": {
    "id": "KZS0aqY7rCXo"
   },
   "source": [
    "## Дополнение новых размерностей: newaxis"
   ]
  },
  {
   "cell_type": "markdown",
   "metadata": {
    "id": "4cADZsZErCXo"
   },
   "source": [
    "С `newaxis`, можно добавить новые размерности в массив. Например, превратить вектор в матрицу:"
   ]
  },
  {
   "cell_type": "code",
   "execution_count": null,
   "metadata": {
    "id": "BsKBZ28irCXp"
   },
   "outputs": [],
   "source": [
    "v = array([1,2,3])"
   ]
  },
  {
   "cell_type": "code",
   "execution_count": null,
   "metadata": {
    "id": "X6nIjabtrCXp",
    "outputId": "ac865daa-5564-4c66-a77f-9bc78d5d8df7"
   },
   "outputs": [
    {
     "data": {
      "text/plain": [
       "(3,)"
      ]
     },
     "execution_count": 228,
     "metadata": {},
     "output_type": "execute_result"
    }
   ],
   "source": [
    "shape(v)"
   ]
  },
  {
   "cell_type": "code",
   "execution_count": null,
   "metadata": {
    "id": "DCFSyx-krCXp",
    "outputId": "46b7a226-29f0-4269-88c5-c019487a643f"
   },
   "outputs": [
    {
     "data": {
      "text/plain": [
       "array([[1],\n",
       "       [2],\n",
       "       [3]])"
      ]
     },
     "execution_count": 229,
     "metadata": {},
     "output_type": "execute_result"
    }
   ],
   "source": [
    "# создание столбца матрицы из вектора v\n",
    "v[:, newaxis]"
   ]
  },
  {
   "cell_type": "code",
   "execution_count": null,
   "metadata": {
    "id": "Dj4tv9LUrCXp",
    "outputId": "f8dad8b8-2146-46a9-fa2b-b6e5c6f6b5d5"
   },
   "outputs": [
    {
     "data": {
      "text/plain": [
       "(3, 1)"
      ]
     },
     "execution_count": 230,
     "metadata": {},
     "output_type": "execute_result"
    }
   ],
   "source": [
    "# столбец матрицы\n",
    "v[:,newaxis].shape"
   ]
  },
  {
   "cell_type": "code",
   "execution_count": null,
   "metadata": {
    "id": "2n-U10mHrCXp",
    "outputId": "5a3867cd-8aa3-49da-a0b9-f555400db9f0"
   },
   "outputs": [
    {
     "data": {
      "text/plain": [
       "(1, 3)"
      ]
     },
     "execution_count": 231,
     "metadata": {},
     "output_type": "execute_result"
    }
   ],
   "source": [
    "# строка матрицы\n",
    "v[newaxis,:].shape"
   ]
  },
  {
   "cell_type": "markdown",
   "metadata": {
    "id": "ig8ACqBCrCXp"
   },
   "source": [
    "## Соединение и повторение массивов"
   ]
  },
  {
   "cell_type": "markdown",
   "metadata": {
    "id": "4mVA6aq_rCXq"
   },
   "source": [
    "Используя функции `repeat`, `tile`, `vstack`, `hstack` и `concatenate` мы можем создать больше векторов и матриц из более мелких:"
   ]
  },
  {
   "cell_type": "markdown",
   "metadata": {
    "id": "tBtXhZBRrCXq"
   },
   "source": [
    "### `tile` и `repeat`"
   ]
  },
  {
   "cell_type": "code",
   "execution_count": null,
   "metadata": {
    "id": "9L-6cKAKrCXq"
   },
   "outputs": [],
   "source": [
    "a = array([[1, 2], [3, 4]])"
   ]
  },
  {
   "cell_type": "code",
   "execution_count": null,
   "metadata": {
    "id": "VGQNnIa0rCXq",
    "outputId": "3aaac05e-799e-4e75-b869-d2a9f0aadcc9"
   },
   "outputs": [
    {
     "data": {
      "text/plain": [
       "array([1, 1, 1, 2, 2, 2, 3, 3, 3, 4, 4, 4])"
      ]
     },
     "execution_count": 233,
     "metadata": {},
     "output_type": "execute_result"
    }
   ],
   "source": [
    "# повторить каждый элемент 3 раза\n",
    "repeat(a, 3)"
   ]
  },
  {
   "cell_type": "code",
   "execution_count": null,
   "metadata": {
    "id": "nfT4_ceBrCXq",
    "outputId": "8f45ade7-5d29-41cb-d4ff-4f8a8c9c5078"
   },
   "outputs": [
    {
     "data": {
      "text/plain": [
       "array([[1, 2, 1, 2, 1, 2],\n",
       "       [3, 4, 3, 4, 3, 4]])"
      ]
     },
     "execution_count": 234,
     "metadata": {},
     "output_type": "execute_result"
    }
   ],
   "source": [
    "# повторить матрицу 3 раза\n",
    "tile(a, 3)"
   ]
  },
  {
   "cell_type": "markdown",
   "metadata": {
    "id": "NggYPrCKrCXq"
   },
   "source": [
    "### `concatenate`"
   ]
  },
  {
   "cell_type": "code",
   "execution_count": null,
   "metadata": {
    "id": "1Ndmy0oNrCXr"
   },
   "outputs": [],
   "source": [
    "b = array([[5, 6]])"
   ]
  },
  {
   "cell_type": "code",
   "execution_count": null,
   "metadata": {
    "id": "lsAKKdJgrCXr",
    "outputId": "577bd1fa-6af5-4475-ecc5-83015d5518a4"
   },
   "outputs": [
    {
     "data": {
      "text/plain": [
       "array([[1, 2],\n",
       "       [3, 4],\n",
       "       [5, 6]])"
      ]
     },
     "execution_count": 236,
     "metadata": {},
     "output_type": "execute_result"
    }
   ],
   "source": [
    "concatenate((a, b), axis=0)"
   ]
  },
  {
   "cell_type": "code",
   "execution_count": null,
   "metadata": {
    "id": "CpMQF3tKrCXr",
    "outputId": "09d73e27-2232-42d4-daf3-d38fa60b8078"
   },
   "outputs": [
    {
     "data": {
      "text/plain": [
       "array([[1, 2, 5],\n",
       "       [3, 4, 6]])"
      ]
     },
     "execution_count": 237,
     "metadata": {},
     "output_type": "execute_result"
    }
   ],
   "source": [
    "concatenate((a, b.T), axis=1)"
   ]
  },
  {
   "cell_type": "markdown",
   "metadata": {
    "id": "WJmxwxTQrCXr"
   },
   "source": [
    "### `hstack` и `vstack`"
   ]
  },
  {
   "cell_type": "code",
   "execution_count": null,
   "metadata": {
    "id": "xFjPZeecrCXr",
    "outputId": "996cbe4c-96d5-40c9-c9fa-0dea858d5484"
   },
   "outputs": [
    {
     "data": {
      "text/plain": [
       "array([[1, 2],\n",
       "       [3, 4],\n",
       "       [5, 6]])"
      ]
     },
     "execution_count": 238,
     "metadata": {},
     "output_type": "execute_result"
    }
   ],
   "source": [
    "vstack((a,b))"
   ]
  },
  {
   "cell_type": "code",
   "execution_count": null,
   "metadata": {
    "id": "Ku1mCXROrCXr",
    "outputId": "1b23f59f-3a86-4f2b-8122-a99a5a9b827e"
   },
   "outputs": [
    {
     "data": {
      "text/plain": [
       "array([[1, 2, 5],\n",
       "       [3, 4, 6]])"
      ]
     },
     "execution_count": 239,
     "metadata": {},
     "output_type": "execute_result"
    }
   ],
   "source": [
    "hstack((a,b.T))"
   ]
  },
  {
   "cell_type": "markdown",
   "metadata": {
    "id": "TUEQ1nkVrCXs"
   },
   "source": [
    "## Копия и \"глубокая копия\""
   ]
  },
  {
   "cell_type": "markdown",
   "metadata": {
    "id": "f3t0RjQDrCXs"
   },
   "source": [
    "Для достижения высокой производительности назначения в Python обычно не копируют базовые объекты. Это важно, например, когда объекты передаются между функциями, чтобы избежать чрезмерного объема копирования памяти, когда это не является необходимым (технический термин: пропуск по ссылке)."
   ]
  },
  {
   "cell_type": "code",
   "execution_count": null,
   "metadata": {
    "id": "4HpgGao7rCXs",
    "outputId": "a1328e27-7563-407c-96e6-5684cdec860b"
   },
   "outputs": [
    {
     "data": {
      "text/plain": [
       "array([[1, 2],\n",
       "       [3, 4]])"
      ]
     },
     "execution_count": 240,
     "metadata": {},
     "output_type": "execute_result"
    }
   ],
   "source": [
    "A = array([[1, 2], [3, 4]])\n",
    "\n",
    "A"
   ]
  },
  {
   "cell_type": "code",
   "execution_count": null,
   "metadata": {
    "id": "gMZpLJZzrCXs"
   },
   "outputs": [],
   "source": [
    "# теперь В ссылается натеже данные, что и А\n",
    "B = A"
   ]
  },
  {
   "cell_type": "code",
   "execution_count": null,
   "metadata": {
    "id": "0x1xtPkurCXs",
    "outputId": "c200c771-0fed-456e-81eb-ac46926fce07"
   },
   "outputs": [
    {
     "data": {
      "text/plain": [
       "array([[10,  2],\n",
       "       [ 3,  4]])"
      ]
     },
     "execution_count": 242,
     "metadata": {},
     "output_type": "execute_result"
    }
   ],
   "source": [
    "# изменения B отражаются в A\n",
    "B[0,0] = 10\n",
    "\n",
    "B"
   ]
  },
  {
   "cell_type": "code",
   "execution_count": null,
   "metadata": {
    "id": "4VkA7Yy8rCXt",
    "outputId": "30592fd7-92f2-4f66-b1d8-7570e059ba05"
   },
   "outputs": [
    {
     "data": {
      "text/plain": [
       "array([[10,  2],\n",
       "       [ 3,  4]])"
      ]
     },
     "execution_count": 243,
     "metadata": {},
     "output_type": "execute_result"
    }
   ],
   "source": [
    "A"
   ]
  },
  {
   "cell_type": "markdown",
   "metadata": {
    "id": "_dN1Zw41rCXt"
   },
   "source": [
    "Если мы хотим избежать такого поведения, чтобы при получении нового полностью независимого объекта `B`, скопированного из `A`, нам нужно было сделать так называемое \"глубокое копирование\" с помощью функции `copy`:"
   ]
  },
  {
   "cell_type": "code",
   "execution_count": null,
   "metadata": {
    "id": "wG-ULMZUrCXt"
   },
   "outputs": [],
   "source": [
    "B = copy(A)"
   ]
  },
  {
   "cell_type": "code",
   "execution_count": null,
   "metadata": {
    "id": "SWplP9_crCXt",
    "outputId": "90b18126-321f-4762-b76e-ac1d13067c9c"
   },
   "outputs": [
    {
     "data": {
      "text/plain": [
       "array([[10,  2],\n",
       "       [ 3,  4]])"
      ]
     },
     "execution_count": 225,
     "metadata": {},
     "output_type": "execute_result"
    }
   ],
   "source": [
    "# теперь при изменении В, А не меняется\n",
    "\n",
    "B"
   ]
  },
  {
   "cell_type": "code",
   "execution_count": null,
   "metadata": {
    "id": "S_5hu6V3rCXt",
    "outputId": "4e3f0161-0265-4d7b-f827-2fb8aa1f90f8"
   },
   "outputs": [
    {
     "data": {
      "text/plain": [
       "array([[10,  2],\n",
       "       [ 3,  4]])"
      ]
     },
     "execution_count": 226,
     "metadata": {},
     "output_type": "execute_result"
    }
   ],
   "source": [
    "A"
   ]
  },
  {
   "cell_type": "markdown",
   "metadata": {
    "id": "bmDrvRz-rCXt"
   },
   "source": [
    "## Иттерация на элементах массива"
   ]
  },
  {
   "cell_type": "markdown",
   "metadata": {
    "id": "7TnZBo4erCXu"
   },
   "source": [
    "Как правило, мы хотим избежать повторения элементов массивов всякий раз, когда это возможно (любой ценой). Причина в том, что в интерпретируемом языке, таком как Python (или MATLAB), итерации действительно медленны по сравнению с векторизованными операциями.\n",
    "\n",
    "Однако, иногда итерации неизбежны. Для таких случаев цикл Python `for` является наиболее удобным способом перебора массива:"
   ]
  },
  {
   "cell_type": "code",
   "execution_count": null,
   "metadata": {
    "id": "EQ3EO7qPrCXu",
    "outputId": "6d8e6391-8077-4ddf-9ed5-33602f5bface"
   },
   "outputs": [
    {
     "name": "stdout",
     "output_type": "stream",
     "text": [
      "1\n",
      "2\n",
      "3\n",
      "4\n"
     ]
    }
   ],
   "source": [
    "v = array([1,2,3,4])\n",
    "\n",
    "for element in v:\n",
    "    print(element)"
   ]
  },
  {
   "cell_type": "code",
   "execution_count": null,
   "metadata": {
    "id": "O1uZoPNqrCXu",
    "outputId": "5e559a96-da0e-4500-a904-080809b8dbe3"
   },
   "outputs": [
    {
     "name": "stdout",
     "output_type": "stream",
     "text": [
      "row [1 2]\n",
      "1\n",
      "2\n",
      "row [3 4]\n",
      "3\n",
      "4\n"
     ]
    }
   ],
   "source": [
    "M = array([[1,2], [3,4]])\n",
    "\n",
    "for row in M:\n",
    "    print(\"row\", row)\n",
    "\n",
    "    for element in row:\n",
    "        print(element)"
   ]
  },
  {
   "cell_type": "markdown",
   "metadata": {
    "id": "4dbU8sqprCXu"
   },
   "source": [
    "Когда нам нужно перебирать каждый элемент массива и изменять его элементы, удобно использовать функцию `enumerate` для получения как элемента, так и его индекса в цикле `for` :"
   ]
  },
  {
   "cell_type": "code",
   "execution_count": null,
   "metadata": {
    "id": "q2kyGzX4rCXu",
    "outputId": "45a511b3-8d58-4d51-8fb7-09ff6e43ccda"
   },
   "outputs": [
    {
     "name": "stdout",
     "output_type": "stream",
     "text": [
      "row_idx 0 row [1 2]\n",
      "col_idx 0 element 1\n",
      "col_idx 1 element 2\n",
      "row_idx 1 row [3 4]\n",
      "col_idx 0 element 3\n",
      "col_idx 1 element 4\n"
     ]
    }
   ],
   "source": [
    "for row_idx, row in enumerate(M):\n",
    "    print(\"row_idx\", row_idx, \"row\", row)\n",
    "\n",
    "    for col_idx, element in enumerate(row):\n",
    "        print(\"col_idx\", col_idx, \"element\", element)\n",
    "\n",
    "        # обновляет матрицу M: возводя ее элементы в квадрат\n",
    "        M[row_idx, col_idx] = element ** 2"
   ]
  },
  {
   "cell_type": "code",
   "execution_count": null,
   "metadata": {
    "id": "GeNQTrxkrCXv",
    "outputId": "b3a8623a-9fd1-4c1e-b259-0915f6e40e73"
   },
   "outputs": [
    {
     "data": {
      "text/plain": [
       "array([[ 1,  4],\n",
       "       [ 9, 16]])"
      ]
     },
     "execution_count": 230,
     "metadata": {},
     "output_type": "execute_result"
    }
   ],
   "source": [
    "# каждый элемент в M возведен в квадрат\n",
    "M"
   ]
  },
  {
   "cell_type": "markdown",
   "metadata": {
    "id": "5w1NMw31rCXv"
   },
   "source": [
    "## Векторные функции"
   ]
  },
  {
   "cell_type": "markdown",
   "metadata": {
    "id": "J9yM67hFrCXv"
   },
   "source": [
    "Как уже упоминалось несколько раз, чтобы получить хорошую производительность, мы должны стараться избегать циклического перебора элементов в наших векторах и матрицах, а вместо этого использовать векторизованные алгоритмы. Первый шаг в преобразовании скалярного алгоритма в векторизованный алгоритм заключается в том, чтобы убедиться, что функции, которые мы пишем, работают с векторными входными данными."
   ]
  },
  {
   "cell_type": "code",
   "execution_count": null,
   "metadata": {
    "id": "w71HJ189rCXv"
   },
   "outputs": [],
   "source": [
    "def Theta(x):\n",
    "    \"\"\"\n",
    "    Скалярная реализация функции порога Хевисайда.\n",
    "    \"\"\"\n",
    "    if x >= 0:\n",
    "        return 1\n",
    "    else:\n",
    "        return 0"
   ]
  },
  {
   "cell_type": "code",
   "execution_count": null,
   "metadata": {
    "id": "qvzJMWw9rCX0",
    "outputId": "258a667c-aeee-4373-80ad-3d5d16ba3a86"
   },
   "outputs": [
    {
     "ename": "ValueError",
     "evalue": "The truth value of an array with more than one element is ambiguous. Use a.any() or a.all()",
     "output_type": "error",
     "traceback": [
      "\u001b[1;31m---------------------------------------------------------------------------\u001b[0m",
      "\u001b[1;31mValueError\u001b[0m                                Traceback (most recent call last)",
      "\u001b[1;32m<ipython-input-232-2cb2062a7e18>\u001b[0m in \u001b[0;36m<module>\u001b[1;34m\u001b[0m\n\u001b[1;32m----> 1\u001b[1;33m \u001b[0mTheta\u001b[0m\u001b[1;33m(\u001b[0m\u001b[0marray\u001b[0m\u001b[1;33m(\u001b[0m\u001b[1;33m[\u001b[0m\u001b[1;33m-\u001b[0m\u001b[1;36m3\u001b[0m\u001b[1;33m,\u001b[0m\u001b[1;33m-\u001b[0m\u001b[1;36m2\u001b[0m\u001b[1;33m,\u001b[0m\u001b[1;33m-\u001b[0m\u001b[1;36m1\u001b[0m\u001b[1;33m,\u001b[0m\u001b[1;36m0\u001b[0m\u001b[1;33m,\u001b[0m\u001b[1;36m1\u001b[0m\u001b[1;33m,\u001b[0m\u001b[1;36m2\u001b[0m\u001b[1;33m,\u001b[0m\u001b[1;36m3\u001b[0m\u001b[1;33m]\u001b[0m\u001b[1;33m)\u001b[0m\u001b[1;33m)\u001b[0m\u001b[1;33m\u001b[0m\u001b[1;33m\u001b[0m\u001b[0m\n\u001b[0m",
      "\u001b[1;32m<ipython-input-231-c9c3b027fcc6>\u001b[0m in \u001b[0;36mTheta\u001b[1;34m(x)\u001b[0m\n\u001b[0;32m      3\u001b[0m     \u001b[0mСкалярная\u001b[0m \u001b[0mреализация\u001b[0m \u001b[0mфункции\u001b[0m \u001b[0mпорога\u001b[0m \u001b[0mХевисайда\u001b[0m\u001b[1;33m.\u001b[0m\u001b[1;33m\u001b[0m\u001b[1;33m\u001b[0m\u001b[0m\n\u001b[0;32m      4\u001b[0m     \"\"\"\n\u001b[1;32m----> 5\u001b[1;33m     \u001b[1;32mif\u001b[0m \u001b[0mx\u001b[0m \u001b[1;33m>=\u001b[0m \u001b[1;36m0\u001b[0m\u001b[1;33m:\u001b[0m\u001b[1;33m\u001b[0m\u001b[1;33m\u001b[0m\u001b[0m\n\u001b[0m\u001b[0;32m      6\u001b[0m         \u001b[1;32mreturn\u001b[0m \u001b[1;36m1\u001b[0m\u001b[1;33m\u001b[0m\u001b[1;33m\u001b[0m\u001b[0m\n\u001b[0;32m      7\u001b[0m     \u001b[1;32melse\u001b[0m\u001b[1;33m:\u001b[0m\u001b[1;33m\u001b[0m\u001b[1;33m\u001b[0m\u001b[0m\n",
      "\u001b[1;31mValueError\u001b[0m: The truth value of an array with more than one element is ambiguous. Use a.any() or a.all()"
     ]
    }
   ],
   "source": [
    "Theta(array([-3,-2,-1,0,1,2,3]))"
   ]
  },
  {
   "cell_type": "markdown",
   "metadata": {
    "id": "ze5GEcBxrCX0"
   },
   "source": [
    "Хорошо, это не сработало, потому что мы не написали функцию `Theta`, чтобы она могла обрабатывать векторный ввод...\n",
    "\n",
    "Чтобы получить векторизованную версию теты, мы можем использовать функцию Numpy `vectorize`. Во многих случаях он может автоматически векторизовать функцию:"
   ]
  },
  {
   "cell_type": "code",
   "execution_count": null,
   "metadata": {
    "id": "t9sac3ECrCX0"
   },
   "outputs": [],
   "source": [
    "Theta_vec = vectorize(Theta)"
   ]
  },
  {
   "cell_type": "code",
   "execution_count": null,
   "metadata": {
    "id": "0NYGzAwHrCX0",
    "outputId": "792a6476-6a1c-4fa8-e0e9-b40cf554354f"
   },
   "outputs": [
    {
     "data": {
      "text/plain": [
       "array([0, 0, 0, 1, 1, 1, 1])"
      ]
     },
     "execution_count": 234,
     "metadata": {},
     "output_type": "execute_result"
    }
   ],
   "source": [
    "Theta_vec(array([-3,-2,-1,0,1,2,3]))"
   ]
  },
  {
   "cell_type": "markdown",
   "metadata": {
    "id": "JFHKxq9krCX0"
   },
   "source": [
    "Мы также можем реализовать функцию для приема векторного ввода с самого начала (требует больше усилий, но может дать лучшую производительность):"
   ]
  },
  {
   "cell_type": "code",
   "execution_count": null,
   "metadata": {
    "id": "j9hiFjzCrCX0"
   },
   "outputs": [],
   "source": [
    "def Theta(x):\n",
    "    \"\"\"\n",
    "    Vector-aware implemenation of the Heaviside step function.\n",
    "    \"\"\"\n",
    "    return 1 * (x >= 0)"
   ]
  },
  {
   "cell_type": "code",
   "execution_count": null,
   "metadata": {
    "id": "YLgHXs76rCX1",
    "outputId": "bc8acfbe-dbeb-4b70-ae01-289de58d6432"
   },
   "outputs": [
    {
     "data": {
      "text/plain": [
       "array([0, 0, 0, 1, 1, 1, 1])"
      ]
     },
     "execution_count": 236,
     "metadata": {},
     "output_type": "execute_result"
    }
   ],
   "source": [
    "Theta(array([-3,-2,-1,0,1,2,3]))"
   ]
  },
  {
   "cell_type": "code",
   "execution_count": null,
   "metadata": {
    "id": "ao6UfbJprCX1",
    "outputId": "96fd5b86-f732-4fef-a3c4-cfea76fef5c9"
   },
   "outputs": [
    {
     "data": {
      "text/plain": [
       "(0, 1)"
      ]
     },
     "execution_count": 237,
     "metadata": {},
     "output_type": "execute_result"
    }
   ],
   "source": [
    "# still works for scalars as well\n",
    "Theta(-1.2), Theta(2.6)"
   ]
  },
  {
   "cell_type": "markdown",
   "metadata": {
    "id": "EtXkQkHKrCX1"
   },
   "source": [
    "## Использование массива в условии"
   ]
  },
  {
   "cell_type": "markdown",
   "metadata": {
    "id": "GcBNVL2JrCX1"
   },
   "source": [
    "При использовании массивов в условиях, например, `if` операторы и другие логические выражения, нужно использовать `any` или `all`, что требует, чтобы любой или все элементы в массиве равнялись `True`:"
   ]
  },
  {
   "cell_type": "code",
   "execution_count": null,
   "metadata": {
    "id": "7qHGti4UrCX1",
    "outputId": "67adfa11-c628-41cd-dea7-078e5d958e56"
   },
   "outputs": [
    {
     "data": {
      "text/plain": [
       "array([[ 1,  4],\n",
       "       [ 9, 16]])"
      ]
     },
     "execution_count": 238,
     "metadata": {},
     "output_type": "execute_result"
    }
   ],
   "source": [
    "M"
   ]
  },
  {
   "cell_type": "code",
   "execution_count": null,
   "metadata": {
    "id": "NQCY6KfcrCX1",
    "outputId": "87f9df22-15db-40d9-8bfa-b0325cc7f6e8"
   },
   "outputs": [
    {
     "name": "stdout",
     "output_type": "stream",
     "text": [
      "at least one element in M is larger than 5\n"
     ]
    }
   ],
   "source": [
    "if (M > 5).any():\n",
    "    print(\"at least one element in M is larger than 5\")\n",
    "else:\n",
    "    print(\"no element in M is larger than 5\")"
   ]
  },
  {
   "cell_type": "code",
   "execution_count": null,
   "metadata": {
    "id": "9mfUj9B-rCX2",
    "outputId": "db650bb4-fd47-45a0-d18b-72bfcaf989e3"
   },
   "outputs": [
    {
     "name": "stdout",
     "output_type": "stream",
     "text": [
      "all elements in M are not larger than 5\n"
     ]
    }
   ],
   "source": [
    "if (M > 5).all():\n",
    "    print(\"all elements in M are larger than 5\")\n",
    "else:\n",
    "    print(\"all elements in M are not larger than 5\")"
   ]
  },
  {
   "cell_type": "markdown",
   "metadata": {
    "id": "YhJrwcsdrCX2"
   },
   "source": [
    "## Подбор типа"
   ]
  },
  {
   "cell_type": "markdown",
   "metadata": {
    "id": "S6UsZoFdrCX2"
   },
   "source": [
    "Поскольку массивы Numpy статически типизированы, тип массива не изменяется после его создания. Но мы можем явно привести массив некоторого типа к другому, используя функции `astype` (см. также аналогичную функцию `asarray`). Это всегда создает новый массив нового типа:"
   ]
  },
  {
   "cell_type": "code",
   "execution_count": null,
   "metadata": {
    "id": "-M26VPAfrCX2",
    "outputId": "e1b446c6-8c60-434f-be0c-1c328dcf5dcb"
   },
   "outputs": [
    {
     "data": {
      "text/plain": [
       "dtype('int32')"
      ]
     },
     "execution_count": 241,
     "metadata": {},
     "output_type": "execute_result"
    }
   ],
   "source": [
    "M.dtype"
   ]
  },
  {
   "cell_type": "code",
   "execution_count": null,
   "metadata": {
    "id": "s-xdIZ9irCX2",
    "outputId": "99f1ebaa-b6e9-49f4-a194-a65e5b9fadfb"
   },
   "outputs": [
    {
     "data": {
      "text/plain": [
       "array([[ 1.,  4.],\n",
       "       [ 9., 16.]])"
      ]
     },
     "execution_count": 242,
     "metadata": {},
     "output_type": "execute_result"
    }
   ],
   "source": [
    "M2 = M.astype(float)\n",
    "\n",
    "M2"
   ]
  },
  {
   "cell_type": "code",
   "execution_count": null,
   "metadata": {
    "id": "G8QsGDVVrCX3",
    "outputId": "189ab076-ef18-431f-922b-6ac81b8cb7f2"
   },
   "outputs": [
    {
     "data": {
      "text/plain": [
       "dtype('float64')"
      ]
     },
     "execution_count": 243,
     "metadata": {},
     "output_type": "execute_result"
    }
   ],
   "source": [
    "M2.dtype"
   ]
  },
  {
   "cell_type": "code",
   "execution_count": null,
   "metadata": {
    "id": "XkqvrUG3rCX3",
    "outputId": "de5a86c3-2ccf-4ab3-d4bb-a6fa65e2e52f"
   },
   "outputs": [
    {
     "data": {
      "text/plain": [
       "array([[ True,  True],\n",
       "       [ True,  True]])"
      ]
     },
     "execution_count": 244,
     "metadata": {},
     "output_type": "execute_result"
    }
   ],
   "source": [
    "M3 = M.astype(bool)\n",
    "\n",
    "M3"
   ]
  },
  {
   "cell_type": "markdown",
   "metadata": {
    "id": "h_3Ec-59rCX3"
   },
   "source": [
    "## Дальнейшее изучение"
   ]
  },
  {
   "cell_type": "markdown",
   "metadata": {
    "id": "y7DbpuLJrCX3"
   },
   "source": [
    "* http://numpy.scipy.org\n",
    "* [Tentative NumPy Tutorial](http://scipy.org/Tentative_NumPy_Tutorial)\n",
    "* [A Numpy guide for MATLAB users](http://scipy.org/NumPy_for_Matlab_Users).\n",
    "* Этот [материал](http://github.com/jrjohansson/scientific-python-lectures) создан на основе книг [J.R. Johansson](http://jrjohansson.github.io)."
   ]
  },
  {
   "cell_type": "code",
   "execution_count": null,
   "metadata": {
    "id": "yyyepwN0rCX3"
   },
   "outputs": [],
   "source": []
  }
 ],
 "metadata": {
  "colab": {
   "provenance": [],
   "toc_visible": true
  },
  "kernelspec": {
   "display_name": "Python 3 (ipykernel)",
   "language": "python",
   "name": "python3"
  },
  "language_info": {
   "codemirror_mode": {
    "name": "ipython",
    "version": 3
   },
   "file_extension": ".py",
   "mimetype": "text/x-python",
   "name": "python",
   "nbconvert_exporter": "python",
   "pygments_lexer": "ipython3",
   "version": "3.11.3"
  },
  "nbTranslate": {
   "displayLangs": [
    "*"
   ],
   "hotkey": "alt-t",
   "langInMainMenu": true,
   "sourceLang": "en",
   "targetLang": "fr",
   "useGoogleTranslate": true
  }
 },
 "nbformat": 4,
 "nbformat_minor": 1
}
